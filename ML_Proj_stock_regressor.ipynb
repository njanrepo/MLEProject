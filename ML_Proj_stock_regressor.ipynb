{
  "nbformat": 4,
  "nbformat_minor": 0,
  "metadata": {
    "colab": {
      "name": "ML_Proj_stock_regressor.ipynb",
      "provenance": [],
      "collapsed_sections": [
        "rX8mhOLljYeM"
      ],
      "toc_visible": true,
      "include_colab_link": true
    },
    "kernelspec": {
      "display_name": "Python 3",
      "name": "python3"
    }
  },
  "cells": [
    {
      "cell_type": "markdown",
      "metadata": {
        "id": "view-in-github",
        "colab_type": "text"
      },
      "source": [
        "<a href=\"https://colab.research.google.com/github/njanrepo/MLEProject/blob/main/ML_Proj_stock_regressor.ipynb\" target=\"_parent\"><img src=\"https://colab.research.google.com/assets/colab-badge.svg\" alt=\"Open In Colab\"/></a>"
      ]
    },
    {
      "cell_type": "markdown",
      "metadata": {
        "id": "rX8mhOLljYeM"
      },
      "source": [
        "##### Copyright 2019 The TensorFlow Authors."
      ]
    },
    {
      "cell_type": "code",
      "metadata": {
        "cellView": "form",
        "id": "BZSlp3DAjdYf"
      },
      "source": [
        "#@title Licensed under the Apache License, Version 2.0 (the \"License\");\n",
        "# you may not use this file except in compliance with the License.\n",
        "# You may obtain a copy of the License at\n",
        "#\n",
        "# https://www.apache.org/licenses/LICENSE-2.0\n",
        "#\n",
        "# Unless required by applicable law or agreed to in writing, software\n",
        "# distributed under the License is distributed on an \"AS IS\" BASIS,\n",
        "# WITHOUT WARRANTIES OR CONDITIONS OF ANY KIND, either express or implied.\n",
        "# See the License for the specific language governing permissions and\n",
        "# limitations under the License."
      ],
      "execution_count": 22,
      "outputs": []
    },
    {
      "cell_type": "markdown",
      "metadata": {
        "id": "h5bFyYyuJQS1"
      },
      "source": [
        "# New Section"
      ]
    },
    {
      "cell_type": "code",
      "metadata": {
        "id": "aD4UwXrcJRhY"
      },
      "source": [
        "import pandas as pd\n",
        "import numpy as np\n",
        "import matplotlib.pyplot as plt\n",
        "import seaborn as sns\n",
        "\n",
        "from datetime import datetime"
      ],
      "execution_count": 23,
      "outputs": []
    },
    {
      "cell_type": "code",
      "metadata": {
        "id": "vNE8HXM2Jo7J",
        "colab": {
          "base_uri": "https://localhost:8080/"
        },
        "outputId": "dca17b59-f9cc-467b-80a0-6ec7b2db315c"
      },
      "source": [
        "!pip install yfinance scikit-learn statsmodels seaborn"
      ],
      "execution_count": 24,
      "outputs": [
        {
          "output_type": "stream",
          "name": "stdout",
          "text": [
            "Requirement already satisfied: yfinance in /usr/local/lib/python3.7/dist-packages (0.1.66)\n",
            "Requirement already satisfied: scikit-learn in /usr/local/lib/python3.7/dist-packages (1.0.1)\n",
            "Requirement already satisfied: statsmodels in /usr/local/lib/python3.7/dist-packages (0.10.2)\n",
            "Requirement already satisfied: seaborn in /usr/local/lib/python3.7/dist-packages (0.11.2)\n",
            "Requirement already satisfied: numpy>=1.15 in /usr/local/lib/python3.7/dist-packages (from yfinance) (1.19.5)\n",
            "Requirement already satisfied: multitasking>=0.0.7 in /usr/local/lib/python3.7/dist-packages (from yfinance) (0.0.9)\n",
            "Requirement already satisfied: lxml>=4.5.1 in /usr/local/lib/python3.7/dist-packages (from yfinance) (4.6.4)\n",
            "Requirement already satisfied: requests>=2.20 in /usr/local/lib/python3.7/dist-packages (from yfinance) (2.23.0)\n",
            "Requirement already satisfied: pandas>=0.24 in /usr/local/lib/python3.7/dist-packages (from yfinance) (1.1.5)\n",
            "Requirement already satisfied: pytz>=2017.2 in /usr/local/lib/python3.7/dist-packages (from pandas>=0.24->yfinance) (2018.9)\n",
            "Requirement already satisfied: python-dateutil>=2.7.3 in /usr/local/lib/python3.7/dist-packages (from pandas>=0.24->yfinance) (2.8.2)\n",
            "Requirement already satisfied: six>=1.5 in /usr/local/lib/python3.7/dist-packages (from python-dateutil>=2.7.3->pandas>=0.24->yfinance) (1.15.0)\n",
            "Requirement already satisfied: idna<3,>=2.5 in /usr/local/lib/python3.7/dist-packages (from requests>=2.20->yfinance) (2.10)\n",
            "Requirement already satisfied: certifi>=2017.4.17 in /usr/local/lib/python3.7/dist-packages (from requests>=2.20->yfinance) (2021.10.8)\n",
            "Requirement already satisfied: urllib3!=1.25.0,!=1.25.1,<1.26,>=1.21.1 in /usr/local/lib/python3.7/dist-packages (from requests>=2.20->yfinance) (1.24.3)\n",
            "Requirement already satisfied: chardet<4,>=3.0.2 in /usr/local/lib/python3.7/dist-packages (from requests>=2.20->yfinance) (3.0.4)\n",
            "Requirement already satisfied: scipy>=1.1.0 in /usr/local/lib/python3.7/dist-packages (from scikit-learn) (1.4.1)\n",
            "Requirement already satisfied: joblib>=0.11 in /usr/local/lib/python3.7/dist-packages (from scikit-learn) (1.1.0)\n",
            "Requirement already satisfied: threadpoolctl>=2.0.0 in /usr/local/lib/python3.7/dist-packages (from scikit-learn) (3.0.0)\n",
            "Requirement already satisfied: patsy>=0.4.0 in /usr/local/lib/python3.7/dist-packages (from statsmodels) (0.5.2)\n",
            "Requirement already satisfied: matplotlib>=2.2 in /usr/local/lib/python3.7/dist-packages (from seaborn) (3.2.2)\n",
            "Requirement already satisfied: cycler>=0.10 in /usr/local/lib/python3.7/dist-packages (from matplotlib>=2.2->seaborn) (0.11.0)\n",
            "Requirement already satisfied: pyparsing!=2.0.4,!=2.1.2,!=2.1.6,>=2.0.1 in /usr/local/lib/python3.7/dist-packages (from matplotlib>=2.2->seaborn) (2.4.7)\n",
            "Requirement already satisfied: kiwisolver>=1.0.1 in /usr/local/lib/python3.7/dist-packages (from matplotlib>=2.2->seaborn) (1.3.2)\n"
          ]
        }
      ]
    },
    {
      "cell_type": "code",
      "metadata": {
        "id": "KeqEZVdXKCF_"
      },
      "source": [
        "import yfinance as yf"
      ],
      "execution_count": 25,
      "outputs": []
    },
    {
      "cell_type": "code",
      "metadata": {
        "id": "yPYHuV5072sb"
      },
      "source": [
        "def get_sp500_list():\n",
        "  payload=pd.read_html('https://en.wikipedia.org/wiki/List_of_S%26P_500_companies')\n",
        "  first_table = payload[0]\n",
        "  sp500df = first_table\n",
        "  sp500_list = sp500df.Symbol.values.tolist()\n",
        "  return sp500_list"
      ],
      "execution_count": 26,
      "outputs": []
    },
    {
      "cell_type": "code",
      "metadata": {
        "colab": {
          "base_uri": "https://localhost:8080/"
        },
        "id": "t-snKIaV752L",
        "outputId": "8b8ba190-23a3-4526-e681-6a6699b70c5e"
      },
      "source": [
        "df=yf.download(tickers=get_sp500_list(), period='1d')"
      ],
      "execution_count": 27,
      "outputs": [
        {
          "output_type": "stream",
          "name": "stdout",
          "text": [
            "[*********************100%***********************]  505 of 505 completed\n",
            "\n",
            "2 Failed downloads:\n",
            "- BRK.B: No data found, symbol may be delisted\n",
            "- BF.B: No data found for this date range, symbol may be delisted\n"
          ]
        }
      ]
    },
    {
      "cell_type": "code",
      "metadata": {
        "id": "QX9tOYNWKrgz",
        "colab": {
          "base_uri": "https://localhost:8080/"
        },
        "outputId": "831fd3e7-7482-4100-e282-06d65c9f5779"
      },
      "source": [
        "symbol='TSLA'\n",
        "df= yf.download(symbol, period='12mo', )"
      ],
      "execution_count": 28,
      "outputs": [
        {
          "output_type": "stream",
          "name": "stdout",
          "text": [
            "\r[*********************100%***********************]  1 of 1 completed\n"
          ]
        }
      ]
    },
    {
      "cell_type": "code",
      "metadata": {
        "id": "ZtCQglYkK4i8",
        "colab": {
          "base_uri": "https://localhost:8080/"
        },
        "outputId": "f51341f2-4a0b-4e41-dc96-4dc2e3d8858f"
      },
      "source": [
        "df.shape"
      ],
      "execution_count": 29,
      "outputs": [
        {
          "output_type": "execute_result",
          "data": {
            "text/plain": [
              "(252, 6)"
            ]
          },
          "metadata": {},
          "execution_count": 29
        }
      ]
    },
    {
      "cell_type": "code",
      "metadata": {
        "id": "oQsznwwoK5rt",
        "colab": {
          "base_uri": "https://localhost:8080/",
          "height": 235
        },
        "outputId": "9ec09f7f-7b8a-47a0-cef3-196a49f58201"
      },
      "source": [
        "pd.set_option('display.float_format', '{:20,.2f}'.format)\n",
        "\n",
        "df.describe().T"
      ],
      "execution_count": 30,
      "outputs": [
        {
          "output_type": "execute_result",
          "data": {
            "text/html": [
              "<div>\n",
              "<style scoped>\n",
              "    .dataframe tbody tr th:only-of-type {\n",
              "        vertical-align: middle;\n",
              "    }\n",
              "\n",
              "    .dataframe tbody tr th {\n",
              "        vertical-align: top;\n",
              "    }\n",
              "\n",
              "    .dataframe thead th {\n",
              "        text-align: right;\n",
              "    }\n",
              "</style>\n",
              "<table border=\"1\" class=\"dataframe\">\n",
              "  <thead>\n",
              "    <tr style=\"text-align: right;\">\n",
              "      <th></th>\n",
              "      <th>count</th>\n",
              "      <th>mean</th>\n",
              "      <th>std</th>\n",
              "      <th>min</th>\n",
              "      <th>25%</th>\n",
              "      <th>50%</th>\n",
              "      <th>75%</th>\n",
              "      <th>max</th>\n",
              "    </tr>\n",
              "  </thead>\n",
              "  <tbody>\n",
              "    <tr>\n",
              "      <th>Open</th>\n",
              "      <td>252.00</td>\n",
              "      <td>729.32</td>\n",
              "      <td>134.13</td>\n",
              "      <td>492.00</td>\n",
              "      <td>646.61</td>\n",
              "      <td>699.99</td>\n",
              "      <td>780.07</td>\n",
              "      <td>1,234.41</td>\n",
              "    </tr>\n",
              "    <tr>\n",
              "      <th>High</th>\n",
              "      <td>252.00</td>\n",
              "      <td>744.43</td>\n",
              "      <td>138.20</td>\n",
              "      <td>502.50</td>\n",
              "      <td>657.22</td>\n",
              "      <td>712.65</td>\n",
              "      <td>795.83</td>\n",
              "      <td>1,243.49</td>\n",
              "    </tr>\n",
              "    <tr>\n",
              "      <th>Low</th>\n",
              "      <td>252.00</td>\n",
              "      <td>714.04</td>\n",
              "      <td>131.72</td>\n",
              "      <td>487.57</td>\n",
              "      <td>624.41</td>\n",
              "      <td>681.06</td>\n",
              "      <td>773.46</td>\n",
              "      <td>1,217.00</td>\n",
              "    </tr>\n",
              "    <tr>\n",
              "      <th>Close</th>\n",
              "      <td>252.00</td>\n",
              "      <td>730.59</td>\n",
              "      <td>135.40</td>\n",
              "      <td>489.61</td>\n",
              "      <td>646.16</td>\n",
              "      <td>698.97</td>\n",
              "      <td>781.37</td>\n",
              "      <td>1,229.91</td>\n",
              "    </tr>\n",
              "    <tr>\n",
              "      <th>Adj Close</th>\n",
              "      <td>252.00</td>\n",
              "      <td>730.59</td>\n",
              "      <td>135.40</td>\n",
              "      <td>489.61</td>\n",
              "      <td>646.16</td>\n",
              "      <td>698.97</td>\n",
              "      <td>781.37</td>\n",
              "      <td>1,229.91</td>\n",
              "    </tr>\n",
              "    <tr>\n",
              "      <th>Volume</th>\n",
              "      <td>252.00</td>\n",
              "      <td>30,813,277.38</td>\n",
              "      <td>18,491,195.77</td>\n",
              "      <td>9,800,600.00</td>\n",
              "      <td>20,059,825.00</td>\n",
              "      <td>26,792,750.00</td>\n",
              "      <td>36,382,175.00</td>\n",
              "      <td>222,126,200.00</td>\n",
              "    </tr>\n",
              "  </tbody>\n",
              "</table>\n",
              "</div>"
            ],
            "text/plain": [
              "                         count  ...                  max\n",
              "Open                    252.00  ...             1,234.41\n",
              "High                    252.00  ...             1,243.49\n",
              "Low                     252.00  ...             1,217.00\n",
              "Close                   252.00  ...             1,229.91\n",
              "Adj Close               252.00  ...             1,229.91\n",
              "Volume                  252.00  ...       222,126,200.00\n",
              "\n",
              "[6 rows x 8 columns]"
            ]
          },
          "metadata": {},
          "execution_count": 30
        }
      ]
    },
    {
      "cell_type": "code",
      "metadata": {
        "id": "1WKGF_PsPdV2",
        "colab": {
          "base_uri": "https://localhost:8080/"
        },
        "outputId": "d1126354-ae2b-479e-888b-8816dc2d3673"
      },
      "source": [
        "df.nunique()"
      ],
      "execution_count": 31,
      "outputs": [
        {
          "output_type": "execute_result",
          "data": {
            "text/plain": [
              "Open         248\n",
              "High         251\n",
              "Low          251\n",
              "Close        251\n",
              "Adj Close    251\n",
              "Volume       252\n",
              "dtype: int64"
            ]
          },
          "metadata": {},
          "execution_count": 31
        }
      ]
    },
    {
      "cell_type": "code",
      "metadata": {
        "id": "a5ZXZTDUpRWn",
        "colab": {
          "base_uri": "https://localhost:8080/"
        },
        "outputId": "f403345b-40d2-4f71-8364-82365b748e40"
      },
      "source": [
        "df.isna().sum()"
      ],
      "execution_count": 32,
      "outputs": [
        {
          "output_type": "execute_result",
          "data": {
            "text/plain": [
              "Open         0\n",
              "High         0\n",
              "Low          0\n",
              "Close        0\n",
              "Adj Close    0\n",
              "Volume       0\n",
              "dtype: int64"
            ]
          },
          "metadata": {},
          "execution_count": 32
        }
      ]
    },
    {
      "cell_type": "code",
      "metadata": {
        "colab": {
          "base_uri": "https://localhost:8080/"
        },
        "id": "f2DAXLAiSQN6",
        "outputId": "8c71569b-0c0f-49de-dcad-e12d7ab8ed80"
      },
      "source": [
        "df.dtypes"
      ],
      "execution_count": 33,
      "outputs": [
        {
          "output_type": "execute_result",
          "data": {
            "text/plain": [
              "Open         float64\n",
              "High         float64\n",
              "Low          float64\n",
              "Close        float64\n",
              "Adj Close    float64\n",
              "Volume         int64\n",
              "dtype: object"
            ]
          },
          "metadata": {},
          "execution_count": 33
        }
      ]
    },
    {
      "cell_type": "code",
      "metadata": {
        "id": "oDBA_HruPiHf"
      },
      "source": [
        "df.columns = df.columns.str.lower().str.replace(' ', '_')\n",
        "string_columns = list(df.dtypes[df.dtypes == 'object'].index)\n",
        "for col in string_columns:\n",
        "  df[col] = df[col].str.lower().str.replace(' ', '_')"
      ],
      "execution_count": 34,
      "outputs": []
    },
    {
      "cell_type": "code",
      "metadata": {
        "id": "y2-j7OruPjJe",
        "colab": {
          "base_uri": "https://localhost:8080/",
          "height": 390
        },
        "outputId": "d2eb7525-a044-4dfd-f4ba-b74b0f6019fd"
      },
      "source": [
        "df.head(10)"
      ],
      "execution_count": 35,
      "outputs": [
        {
          "output_type": "execute_result",
          "data": {
            "text/html": [
              "<div>\n",
              "<style scoped>\n",
              "    .dataframe tbody tr th:only-of-type {\n",
              "        vertical-align: middle;\n",
              "    }\n",
              "\n",
              "    .dataframe tbody tr th {\n",
              "        vertical-align: top;\n",
              "    }\n",
              "\n",
              "    .dataframe thead th {\n",
              "        text-align: right;\n",
              "    }\n",
              "</style>\n",
              "<table border=\"1\" class=\"dataframe\">\n",
              "  <thead>\n",
              "    <tr style=\"text-align: right;\">\n",
              "      <th></th>\n",
              "      <th>open</th>\n",
              "      <th>high</th>\n",
              "      <th>low</th>\n",
              "      <th>close</th>\n",
              "      <th>adj_close</th>\n",
              "      <th>volume</th>\n",
              "    </tr>\n",
              "    <tr>\n",
              "      <th>Date</th>\n",
              "      <th></th>\n",
              "      <th></th>\n",
              "      <th></th>\n",
              "      <th></th>\n",
              "      <th></th>\n",
              "      <th></th>\n",
              "    </tr>\n",
              "  </thead>\n",
              "  <tbody>\n",
              "    <tr>\n",
              "      <th>2020-11-19</th>\n",
              "      <td>492.00</td>\n",
              "      <td>508.61</td>\n",
              "      <td>487.57</td>\n",
              "      <td>499.27</td>\n",
              "      <td>499.27</td>\n",
              "      <td>62475300</td>\n",
              "    </tr>\n",
              "    <tr>\n",
              "      <th>2020-11-20</th>\n",
              "      <td>497.99</td>\n",
              "      <td>502.50</td>\n",
              "      <td>489.06</td>\n",
              "      <td>489.61</td>\n",
              "      <td>489.61</td>\n",
              "      <td>32911900</td>\n",
              "    </tr>\n",
              "    <tr>\n",
              "      <th>2020-11-23</th>\n",
              "      <td>503.50</td>\n",
              "      <td>526.00</td>\n",
              "      <td>501.79</td>\n",
              "      <td>521.85</td>\n",
              "      <td>521.85</td>\n",
              "      <td>50260300</td>\n",
              "    </tr>\n",
              "    <tr>\n",
              "      <th>2020-11-24</th>\n",
              "      <td>540.40</td>\n",
              "      <td>559.99</td>\n",
              "      <td>526.20</td>\n",
              "      <td>555.38</td>\n",
              "      <td>555.38</td>\n",
              "      <td>53648500</td>\n",
              "    </tr>\n",
              "    <tr>\n",
              "      <th>2020-11-25</th>\n",
              "      <td>550.06</td>\n",
              "      <td>574.00</td>\n",
              "      <td>545.37</td>\n",
              "      <td>574.00</td>\n",
              "      <td>574.00</td>\n",
              "      <td>48930200</td>\n",
              "    </tr>\n",
              "    <tr>\n",
              "      <th>2020-11-27</th>\n",
              "      <td>581.16</td>\n",
              "      <td>598.78</td>\n",
              "      <td>578.45</td>\n",
              "      <td>585.76</td>\n",
              "      <td>585.76</td>\n",
              "      <td>37561100</td>\n",
              "    </tr>\n",
              "    <tr>\n",
              "      <th>2020-11-30</th>\n",
              "      <td>602.21</td>\n",
              "      <td>607.80</td>\n",
              "      <td>554.51</td>\n",
              "      <td>567.60</td>\n",
              "      <td>567.60</td>\n",
              "      <td>63003100</td>\n",
              "    </tr>\n",
              "    <tr>\n",
              "      <th>2020-12-01</th>\n",
              "      <td>597.59</td>\n",
              "      <td>597.85</td>\n",
              "      <td>572.05</td>\n",
              "      <td>584.76</td>\n",
              "      <td>584.76</td>\n",
              "      <td>40103500</td>\n",
              "    </tr>\n",
              "    <tr>\n",
              "      <th>2020-12-02</th>\n",
              "      <td>556.44</td>\n",
              "      <td>571.54</td>\n",
              "      <td>541.21</td>\n",
              "      <td>568.82</td>\n",
              "      <td>568.82</td>\n",
              "      <td>47775700</td>\n",
              "    </tr>\n",
              "    <tr>\n",
              "      <th>2020-12-03</th>\n",
              "      <td>590.02</td>\n",
              "      <td>598.97</td>\n",
              "      <td>582.43</td>\n",
              "      <td>593.38</td>\n",
              "      <td>593.38</td>\n",
              "      <td>42552000</td>\n",
              "    </tr>\n",
              "  </tbody>\n",
              "</table>\n",
              "</div>"
            ],
            "text/plain": [
              "                           open  ...    volume\n",
              "Date                             ...          \n",
              "2020-11-19               492.00  ...  62475300\n",
              "2020-11-20               497.99  ...  32911900\n",
              "2020-11-23               503.50  ...  50260300\n",
              "2020-11-24               540.40  ...  53648500\n",
              "2020-11-25               550.06  ...  48930200\n",
              "2020-11-27               581.16  ...  37561100\n",
              "2020-11-30               602.21  ...  63003100\n",
              "2020-12-01               597.59  ...  40103500\n",
              "2020-12-02               556.44  ...  47775700\n",
              "2020-12-03               590.02  ...  42552000\n",
              "\n",
              "[10 rows x 6 columns]"
            ]
          },
          "metadata": {},
          "execution_count": 35
        }
      ]
    },
    {
      "cell_type": "code",
      "metadata": {
        "colab": {
          "base_uri": "https://localhost:8080/",
          "height": 295
        },
        "id": "Ac7gfNY1SZ9u",
        "outputId": "8ee1a370-7650-470a-c837-71f665fbc0fb"
      },
      "source": [
        "plt.figure(figsize=(6,4))\n",
        "sns.histplot(df.close, bins=40, color='red', alpha=1)\n",
        "plt.ylabel(\"Frequency\")\n",
        "plt.xlabel('close price')\n",
        "plt.title('Dist hist')\n",
        "plt.show()"
      ],
      "execution_count": 36,
      "outputs": [
        {
          "output_type": "display_data",
          "data": {
            "image/png": "[encoded data removed]",
            "text/plain": [
              "<Figure size 432x288 with 1 Axes>"
            ]
          },
          "metadata": {
            "needs_background": "light"
          }
        }
      ]
    },
    {
      "cell_type": "code",
      "metadata": {
        "id": "R8xquJR3op0k"
      },
      "source": [
        "def make_X_and_Y(close_prices, period=6):\n",
        "  X = []\n",
        "  y = []\n",
        "  for i in range(len(close_prices)- period):\n",
        "    X.append(close_prices[i:i+period])\n",
        "    y.append(close_prices[i+period])\n",
        "  return X,y"
      ],
      "execution_count": 37,
      "outputs": []
    },
    {
      "cell_type": "code",
      "metadata": {
        "colab": {
          "base_uri": "https://localhost:8080/",
          "height": 295
        },
        "id": "fp9iIcp3Esty",
        "outputId": "fe3d5e55-dfaf-45c4-edc9-d94154205deb"
      },
      "source": [
        "log_price = np.log1p(df.close)\n",
        "\n",
        "plt.figure(figsize=(6, 4))\n",
        "\n",
        "sns.histplot(log_price, bins=40, color='black', alpha=1)\n",
        "plt.ylabel('Frequency')\n",
        "plt.xlabel('Log(Price + 1)')\n",
        "plt.title('Distribution of prices after log tranformation')\n",
        "\n",
        "plt.show()"
      ],
      "execution_count": 38,
      "outputs": [
        {
          "output_type": "display_data",
          "data": {
            "image/png": "[encoded data removed]",
            "text/plain": [
              "<Figure size 432x288 with 1 Axes>"
            ]
          },
          "metadata": {
            "needs_background": "light"
          }
        }
      ]
    },
    {
      "cell_type": "code",
      "metadata": {
        "id": "SGv1d0EXM7-6",
        "colab": {
          "base_uri": "https://localhost:8080/"
        },
        "outputId": "5e5b15ff-bb23-4e42-dcec-b358208c8a5f"
      },
      "source": [
        "from sklearn.model_selection import train_test_split\n",
        "X,y=make_X_and_Y(list(df.close))\n",
        "dfr = pd.DataFrame({'actual': X, 'predicted': y})\n",
        "\n",
        "train, test= train_test_split(dfr,test_size=0.15 , shuffle=False,random_state = 0)\n",
        "train_x = train['actual'].to_list()\n",
        "train_y = train['predicted'].to_list()\n",
        "test_x = train['actual'].to_list()\n",
        "test_y = train['predicted'].to_list()\n",
        "\n",
        "print(train.shape)\n",
        "print(test.shape)"
      ],
      "execution_count": 39,
      "outputs": [
        {
          "output_type": "stream",
          "name": "stdout",
          "text": [
            "(209, 2)\n",
            "(37, 2)\n"
          ]
        }
      ]
    },
    {
      "cell_type": "code",
      "metadata": {
        "colab": {
          "base_uri": "https://localhost:8080/"
        },
        "id": "rS01Jpj8NFxp",
        "outputId": "685b5151-4243-4bce-cfd6-fabeb00d60e4"
      },
      "source": [
        "print((train_x))\n",
        "print((test_x))\n",
        "print((train_y))\n",
        "print((test_y))"
      ],
      "execution_count": 40,
      "outputs": [
        {
          "output_type": "stream",
          "name": "stdout",
          "text": [
            "[[499.2699890136719, 489.6099853515625, 521.8499755859375, 555.3800048828125, 574.0, 585.760009765625], [489.6099853515625, 521.8499755859375, 555.3800048828125, 574.0, 585.760009765625, 567.5999755859375], [521.8499755859375, 555.3800048828125, 574.0, 585.760009765625, 567.5999755859375, 584.760009765625], [555.3800048828125, 574.0, 585.760009765625, 567.5999755859375, 584.760009765625, 568.8200073242188], [574.0, 585.760009765625, 567.5999755859375, 584.760009765625, 568.8200073242188, 593.3800048828125], [585.760009765625, 567.5999755859375, 584.760009765625, 568.8200073242188, 593.3800048828125, 599.0399780273438], [567.5999755859375, 584.760009765625, 568.8200073242188, 593.3800048828125, 599.0399780273438, 641.760009765625], [584.760009765625, 568.8200073242188, 593.3800048828125, 599.0399780273438, 641.760009765625, 649.8800048828125], [568.8200073242188, 593.3800048828125, 599.0399780273438, 641.760009765625, 649.8800048828125, 604.47998046875], [593.3800048828125, 599.0399780273438, 641.760009765625, 649.8800048828125, 604.47998046875, 627.0700073242188], [599.0399780273438, 641.760009765625, 649.8800048828125, 604.47998046875, 627.0700073242188, 609.989990234375], [641.760009765625, 649.8800048828125, 604.47998046875, 627.0700073242188, 609.989990234375, 639.8300170898438], [649.8800048828125, 604.47998046875, 627.0700073242188, 609.989990234375, 639.8300170898438, 633.25], [604.47998046875, 627.0700073242188, 609.989990234375, 639.8300170898438, 633.25, 622.77001953125], [627.0700073242188, 609.989990234375, 639.8300170898438, 633.25, 622.77001953125, 655.9000244140625], [609.989990234375, 639.8300170898438, 633.25, 622.77001953125, 655.9000244140625, 695.0], [639.8300170898438, 633.25, 622.77001953125, 655.9000244140625, 695.0, 649.8599853515625], [633.25, 622.77001953125, 655.9000244140625, 695.0, 649.8599853515625, 640.3400268554688], [622.77001953125, 655.9000244140625, 695.0, 649.8599853515625, 640.3400268554688, 645.97998046875], [655.9000244140625, 695.0, 649.8599853515625, 640.3400268554688, 645.97998046875, 661.77001953125], [695.0, 649.8599853515625, 640.3400268554688, 645.97998046875, 661.77001953125, 663.6900024414062], [649.8599853515625, 640.3400268554688, 645.97998046875, 661.77001953125, 663.6900024414062, 665.989990234375], [640.3400268554688, 645.97998046875, 661.77001953125, 663.6900024414062, 665.989990234375, 694.780029296875], [645.97998046875, 661.77001953125, 663.6900024414062, 665.989990234375, 694.780029296875, 705.6699829101562], [661.77001953125, 663.6900024414062, 665.989990234375, 694.780029296875, 705.6699829101562, 729.77001953125], [663.6900024414062, 665.989990234375, 694.780029296875, 705.6699829101562, 729.77001953125, 735.1099853515625], [665.989990234375, 694.780029296875, 705.6699829101562, 729.77001953125, 735.1099853515625, 755.97998046875], [694.780029296875, 705.6699829101562, 729.77001953125, 735.1099853515625, 755.97998046875, 816.0399780273438], [705.6699829101562, 729.77001953125, 735.1099853515625, 755.97998046875, 816.0399780273438, 880.02001953125], [729.77001953125, 735.1099853515625, 755.97998046875, 816.0399780273438, 880.02001953125, 811.1900024414062], [735.1099853515625, 755.97998046875, 816.0399780273438, 880.02001953125, 811.1900024414062, 849.4400024414062], [755.97998046875, 816.0399780273438, 880.02001953125, 811.1900024414062, 849.4400024414062, 854.4099731445312], [816.0399780273438, 880.02001953125, 811.1900024414062, 849.4400024414062, 854.4099731445312, 845.0], [880.02001953125, 811.1900024414062, 849.4400024414062, 854.4099731445312, 845.0, 826.1599731445312], [811.1900024414062, 849.4400024414062, 854.4099731445312, 845.0, 826.1599731445312, 844.5499877929688], [849.4400024414062, 854.4099731445312, 845.0, 826.1599731445312, 844.5499877929688, 850.4500122070312], [854.4099731445312, 845.0, 826.1599731445312, 844.5499877929688, 850.4500122070312, 844.989990234375], [845.0, 826.1599731445312, 844.5499877929688, 850.4500122070312, 844.989990234375, 846.6400146484375], [826.1599731445312, 844.5499877929688, 850.4500122070312, 844.989990234375, 846.6400146484375, 880.7999877929688], [844.5499877929688, 850.4500122070312, 844.989990234375, 846.6400146484375, 880.7999877929688, 883.0900268554688], [850.4500122070312, 844.989990234375, 846.6400146484375, 880.7999877929688, 883.0900268554688, 864.1599731445312], [844.989990234375, 846.6400146484375, 880.7999877929688, 883.0900268554688, 864.1599731445312, 835.4299926757812], [846.6400146484375, 880.7999877929688, 883.0900268554688, 864.1599731445312, 835.4299926757812, 793.530029296875], [880.7999877929688, 883.0900268554688, 864.1599731445312, 835.4299926757812, 793.530029296875, 839.8099975585938], [883.0900268554688, 864.1599731445312, 835.4299926757812, 793.530029296875, 839.8099975585938, 872.7899780273438], [864.1599731445312, 835.4299926757812, 793.530029296875, 839.8099975585938, 872.7899780273438, 854.6900024414062], [835.4299926757812, 793.530029296875, 839.8099975585938, 872.7899780273438, 854.6900024414062, 849.989990234375], [793.530029296875, 839.8099975585938, 872.7899780273438, 854.6900024414062, 849.989990234375, 852.22998046875], [839.8099975585938, 872.7899780273438, 854.6900024414062, 849.989990234375, 852.22998046875, 863.4199829101562], [872.7899780273438, 854.6900024414062, 849.989990234375, 852.22998046875, 863.4199829101562, 849.4600219726562], [854.6900024414062, 849.989990234375, 852.22998046875, 863.4199829101562, 849.4600219726562, 804.8200073242188], [849.989990234375, 852.22998046875, 863.4199829101562, 849.4600219726562, 804.8200073242188, 811.6599731445312], [852.22998046875, 863.4199829101562, 849.4600219726562, 804.8200073242188, 811.6599731445312, 816.1199951171875], [863.4199829101562, 849.4600219726562, 804.8200073242188, 811.6599731445312, 816.1199951171875, 796.219970703125], [849.4600219726562, 804.8200073242188, 811.6599731445312, 816.1199951171875, 796.219970703125, 798.1500244140625], [804.8200073242188, 811.6599731445312, 816.1199951171875, 796.219970703125, 798.1500244140625, 787.3800048828125], [811.6599731445312, 816.1199951171875, 796.219970703125, 798.1500244140625, 787.3800048828125, 781.2999877929688], [816.1199951171875, 796.219970703125, 798.1500244140625, 787.3800048828125, 781.2999877929688, 714.5], [796.219970703125, 798.1500244140625, 787.3800048828125, 781.2999877929688, 714.5, 698.8400268554688], [798.1500244140625, 787.3800048828125, 781.2999877929688, 714.5, 698.8400268554688, 742.02001953125], [787.3800048828125, 781.2999877929688, 714.5, 698.8400268554688, 742.02001953125, 682.219970703125], [781.2999877929688, 714.5, 698.8400268554688, 742.02001953125, 682.219970703125, 675.5], [714.5, 698.8400268554688, 742.02001953125, 682.219970703125, 675.5, 718.4299926757812], [698.8400268554688, 742.02001953125, 682.219970703125, 675.5, 718.4299926757812, 686.4400024414062], [742.02001953125, 682.219970703125, 675.5, 718.4299926757812, 686.4400024414062, 653.2000122070312], [682.219970703125, 675.5, 718.4299926757812, 686.4400024414062, 653.2000122070312, 621.4400024414062], [675.5, 718.4299926757812, 686.4400024414062, 653.2000122070312, 621.4400024414062, 597.9500122070312], [718.4299926757812, 686.4400024414062, 653.2000122070312, 621.4400024414062, 597.9500122070312, 563.0], [686.4400024414062, 653.2000122070312, 621.4400024414062, 597.9500122070312, 563.0, 673.5800170898438], [653.2000122070312, 621.4400024414062, 597.9500122070312, 563.0, 673.5800170898438, 668.0599975585938], [621.4400024414062, 597.9500122070312, 563.0, 673.5800170898438, 668.0599975585938, 699.5999755859375], [597.9500122070312, 563.0, 673.5800170898438, 668.0599975585938, 699.5999755859375, 693.72998046875], [563.0, 673.5800170898438, 668.0599975585938, 699.5999755859375, 693.72998046875, 707.9400024414062], [673.5800170898438, 668.0599975585938, 699.5999755859375, 693.72998046875, 707.9400024414062, 676.8800048828125], [668.0599975585938, 699.5999755859375, 693.72998046875, 707.9400024414062, 676.8800048828125, 701.8099975585938], [699.5999755859375, 693.72998046875, 707.9400024414062, 676.8800048828125, 701.8099975585938, 653.1599731445312], [693.72998046875, 707.9400024414062, 676.8800048828125, 701.8099975585938, 653.1599731445312, 654.8699951171875], [707.9400024414062, 676.8800048828125, 701.8099975585938, 653.1599731445312, 654.8699951171875, 670.0], [676.8800048828125, 701.8099975585938, 653.1599731445312, 654.8699951171875, 670.0, 662.1599731445312], [701.8099975585938, 653.1599731445312, 654.8699951171875, 670.0, 662.1599731445312, 630.27001953125], [653.1599731445312, 654.8699951171875, 670.0, 662.1599731445312, 630.27001953125, 640.3900146484375], [654.8699951171875, 670.0, 662.1599731445312, 630.27001953125, 640.3900146484375, 618.7100219726562], [670.0, 662.1599731445312, 630.27001953125, 640.3900146484375, 618.7100219726562, 611.2899780273438], [662.1599731445312, 630.27001953125, 640.3900146484375, 618.7100219726562, 611.2899780273438, 635.6199951171875], [630.27001953125, 640.3900146484375, 618.7100219726562, 611.2899780273438, 635.6199951171875, 667.9299926757812], [640.3900146484375, 618.7100219726562, 611.2899780273438, 635.6199951171875, 667.9299926757812, 661.75], [618.7100219726562, 611.2899780273438, 635.6199951171875, 667.9299926757812, 661.75, 691.0499877929688], [611.2899780273438, 635.6199951171875, 667.9299926757812, 661.75, 691.0499877929688, 691.6199951171875], [635.6199951171875, 667.9299926757812, 661.75, 691.0499877929688, 691.6199951171875, 670.969970703125], [667.9299926757812, 661.75, 691.0499877929688, 691.6199951171875, 670.969970703125, 683.7999877929688], [661.75, 691.0499877929688, 691.6199951171875, 670.969970703125, 683.7999877929688, 677.02001953125], [691.0499877929688, 691.6199951171875, 670.969970703125, 683.7999877929688, 677.02001953125, 701.97998046875], [691.6199951171875, 670.969970703125, 683.7999877929688, 677.02001953125, 701.97998046875, 762.3200073242188], [670.969970703125, 683.7999877929688, 677.02001953125, 701.97998046875, 762.3200073242188, 732.22998046875], [683.7999877929688, 677.02001953125, 701.97998046875, 762.3200073242188, 732.22998046875, 738.8499755859375], [677.02001953125, 701.97998046875, 762.3200073242188, 732.22998046875, 738.8499755859375, 739.780029296875], [701.97998046875, 762.3200073242188, 732.22998046875, 738.8499755859375, 739.780029296875, 714.6300048828125], [762.3200073242188, 732.22998046875, 738.8499755859375, 739.780029296875, 714.6300048828125, 718.989990234375], [732.22998046875, 738.8499755859375, 739.780029296875, 714.6300048828125, 718.989990234375, 744.1199951171875], [738.8499755859375, 739.780029296875, 714.6300048828125, 718.989990234375, 744.1199951171875, 719.6900024414062], [739.780029296875, 714.6300048828125, 718.989990234375, 744.1199951171875, 719.6900024414062, 729.4000244140625], [714.6300048828125, 718.989990234375, 744.1199951171875, 719.6900024414062, 729.4000244140625, 738.2000122070312], [718.989990234375, 744.1199951171875, 719.6900024414062, 729.4000244140625, 738.2000122070312, 704.739990234375], [744.1199951171875, 719.6900024414062, 729.4000244140625, 738.2000122070312, 704.739990234375, 694.4000244140625], [719.6900024414062, 729.4000244140625, 738.2000122070312, 704.739990234375, 694.4000244140625, 677.0], [729.4000244140625, 738.2000122070312, 704.739990234375, 694.4000244140625, 677.0, 709.4400024414062], [738.2000122070312, 704.739990234375, 694.4000244140625, 677.0, 709.4400024414062, 684.9000244140625], [704.739990234375, 694.4000244140625, 677.0, 709.4400024414062, 684.9000244140625, 673.5999755859375], [694.4000244140625, 677.0, 709.4400024414062, 684.9000244140625, 673.5999755859375, 670.9400024414062], [677.0, 709.4400024414062, 684.9000244140625, 673.5999755859375, 670.9400024414062, 663.5399780273438], [709.4400024414062, 684.9000244140625, 673.5999755859375, 670.9400024414062, 663.5399780273438, 672.3699951171875], [684.9000244140625, 673.5999755859375, 670.9400024414062, 663.5399780273438, 672.3699951171875, 629.0399780273438], [673.5999755859375, 670.9400024414062, 663.5399780273438, 672.3699951171875, 629.0399780273438, 617.2000122070312], [670.9400024414062, 663.5399780273438, 672.3699951171875, 629.0399780273438, 617.2000122070312, 589.8900146484375], [663.5399780273438, 672.3699951171875, 629.0399780273438, 617.2000122070312, 589.8900146484375, 571.6900024414062], [672.3699951171875, 629.0399780273438, 617.2000122070312, 589.8900146484375, 571.6900024414062, 589.739990234375], [629.0399780273438, 617.2000122070312, 589.8900146484375, 571.6900024414062, 589.739990234375, 576.8300170898438], [617.2000122070312, 589.8900146484375, 571.6900024414062, 589.739990234375, 576.8300170898438, 577.8699951171875], [589.8900146484375, 571.6900024414062, 589.739990234375, 576.8300170898438, 577.8699951171875, 563.4600219726562], [571.6900024414062, 589.739990234375, 576.8300170898438, 577.8699951171875, 563.4600219726562, 586.780029296875], [589.739990234375, 576.8300170898438, 577.8699951171875, 563.4600219726562, 586.780029296875, 580.8800048828125], [576.8300170898438, 577.8699951171875, 563.4600219726562, 586.780029296875, 580.8800048828125, 606.4400024414062], [577.8699951171875, 563.4600219726562, 586.780029296875, 580.8800048828125, 606.4400024414062, 604.6900024414062], [563.4600219726562, 586.780029296875, 580.8800048828125, 606.4400024414062, 604.6900024414062, 619.1300048828125], [586.780029296875, 580.8800048828125, 606.4400024414062, 604.6900024414062, 619.1300048828125, 630.8499755859375], [580.8800048828125, 606.4400024414062, 604.6900024414062, 619.1300048828125, 630.8499755859375, 625.219970703125], [606.4400024414062, 604.6900024414062, 619.1300048828125, 630.8499755859375, 625.219970703125, 623.9000244140625], [604.6900024414062, 619.1300048828125, 630.8499755859375, 625.219970703125, 623.9000244140625, 605.1199951171875], [619.1300048828125, 630.8499755859375, 625.219970703125, 623.9000244140625, 605.1199951171875, 572.8400268554688], [630.8499755859375, 625.219970703125, 623.9000244140625, 605.1199951171875, 572.8400268554688, 599.0499877929688], [625.219970703125, 623.9000244140625, 605.1199951171875, 572.8400268554688, 599.0499877929688, 605.1300048828125], [623.9000244140625, 605.1199951171875, 572.8400268554688, 599.0499877929688, 605.1300048828125, 603.5900268554688], [605.1199951171875, 572.8400268554688, 599.0499877929688, 605.1300048828125, 603.5900268554688, 598.780029296875], [572.8400268554688, 599.0499877929688, 605.1300048828125, 603.5900268554688, 598.780029296875, 610.1199951171875], [599.0499877929688, 605.1300048828125, 603.5900268554688, 598.780029296875, 610.1199951171875, 609.8900146484375], [605.1300048828125, 603.5900268554688, 598.780029296875, 610.1199951171875, 609.8900146484375, 617.6900024414062], [603.5900268554688, 598.780029296875, 610.1199951171875, 609.8900146484375, 617.6900024414062, 599.3599853515625], [598.780029296875, 610.1199951171875, 609.8900146484375, 617.6900024414062, 599.3599853515625, 604.8699951171875], [610.1199951171875, 609.8900146484375, 617.6900024414062, 599.3599853515625, 604.8699951171875, 616.5999755859375], [609.8900146484375, 617.6900024414062, 599.3599853515625, 604.8699951171875, 616.5999755859375, 623.3099975585938], [617.6900024414062, 599.3599853515625, 604.8699951171875, 616.5999755859375, 623.3099975585938, 620.8300170898438], [599.3599853515625, 604.8699951171875, 616.5999755859375, 623.3099975585938, 620.8300170898438, 623.7100219726562], [604.8699951171875, 616.5999755859375, 623.3099975585938, 620.8300170898438, 623.7100219726562, 656.5700073242188], [616.5999755859375, 623.3099975585938, 620.8300170898438, 623.7100219726562, 656.5700073242188, 679.8200073242188], [623.3099975585938, 620.8300170898438, 623.7100219726562, 656.5700073242188, 679.8200073242188, 671.8699951171875], [620.8300170898438, 623.7100219726562, 656.5700073242188, 679.8200073242188, 671.8699951171875, 688.719970703125], [623.7100219726562, 656.5700073242188, 679.8200073242188, 671.8699951171875, 688.719970703125, 680.760009765625], [656.5700073242188, 679.8200073242188, 671.8699951171875, 688.719970703125, 680.760009765625, 679.7000122070312], [679.8200073242188, 671.8699951171875, 688.719970703125, 680.760009765625, 679.7000122070312, 677.9199829101562], [671.8699951171875, 688.719970703125, 680.760009765625, 679.7000122070312, 677.9199829101562, 678.9000244140625], [688.719970703125, 680.760009765625, 679.7000122070312, 677.9199829101562, 678.9000244140625, 659.5800170898438], [680.760009765625, 679.7000122070312, 677.9199829101562, 678.9000244140625, 659.5800170898438, 644.6500244140625], [679.7000122070312, 677.9199829101562, 678.9000244140625, 659.5800170898438, 644.6500244140625, 652.8099975585938], [677.9199829101562, 678.9000244140625, 659.5800170898438, 644.6500244140625, 652.8099975585938, 656.9500122070312], [678.9000244140625, 659.5800170898438, 644.6500244140625, 652.8099975585938, 656.9500122070312, 685.7000122070312], [659.5800170898438, 644.6500244140625, 652.8099975585938, 656.9500122070312, 685.7000122070312, 668.5399780273438], [644.6500244140625, 652.8099975585938, 656.9500122070312, 685.7000122070312, 668.5399780273438, 653.3800048828125], [652.8099975585938, 656.9500122070312, 685.7000122070312, 668.5399780273438, 653.3800048828125, 650.5999755859375], [656.9500122070312, 685.7000122070312, 668.5399780273438, 653.3800048828125, 650.5999755859375, 644.219970703125], [685.7000122070312, 668.5399780273438, 653.3800048828125, 650.5999755859375, 644.219970703125, 646.219970703125], [668.5399780273438, 653.3800048828125, 650.5999755859375, 644.219970703125, 646.219970703125, 660.5], [653.3800048828125, 650.5999755859375, 644.219970703125, 646.219970703125, 660.5, 655.2899780273438], [650.5999755859375, 644.219970703125, 646.219970703125, 660.5, 655.2899780273438, 649.260009765625], [644.219970703125, 646.219970703125, 660.5, 655.2899780273438, 649.260009765625, 643.3800048828125], [646.219970703125, 660.5, 655.2899780273438, 649.260009765625, 643.3800048828125, 657.6199951171875], [660.5, 655.2899780273438, 649.260009765625, 643.3800048828125, 657.6199951171875, 644.780029296875], [655.2899780273438, 649.260009765625, 643.3800048828125, 657.6199951171875, 644.780029296875, 646.97998046875], [649.260009765625, 643.3800048828125, 657.6199951171875, 644.780029296875, 646.97998046875, 677.3499755859375], [643.3800048828125, 657.6199951171875, 644.780029296875, 646.97998046875, 677.3499755859375, 687.2000122070312], [657.6199951171875, 644.780029296875, 646.97998046875, 677.3499755859375, 687.2000122070312, 709.6699829101562], [644.780029296875, 646.97998046875, 677.3499755859375, 687.2000122070312, 709.6699829101562, 709.739990234375], [646.97998046875, 677.3499755859375, 687.2000122070312, 709.6699829101562, 709.739990234375, 710.9199829101562], [677.3499755859375, 687.2000122070312, 709.6699829101562, 709.739990234375, 710.9199829101562, 714.6300048828125], [687.2000122070312, 709.6699829101562, 709.739990234375, 710.9199829101562, 714.6300048828125, 699.0999755859375], [709.6699829101562, 709.739990234375, 710.9199829101562, 714.6300048828125, 699.0999755859375, 713.760009765625], [709.739990234375, 710.9199829101562, 714.6300048828125, 699.0999755859375, 713.760009765625, 709.989990234375], [710.9199829101562, 714.6300048828125, 699.0999755859375, 713.760009765625, 709.989990234375, 707.8200073242188], [714.6300048828125, 699.0999755859375, 713.760009765625, 709.989990234375, 707.8200073242188, 722.25], [699.0999755859375, 713.760009765625, 709.989990234375, 707.8200073242188, 722.25, 717.1699829101562], [713.760009765625, 709.989990234375, 707.8200073242188, 722.25, 717.1699829101562, 686.1699829101562], [709.989990234375, 707.8200073242188, 722.25, 717.1699829101562, 686.1699829101562, 665.7100219726562], [707.8200073242188, 722.25, 717.1699829101562, 686.1699829101562, 665.7100219726562, 688.989990234375], [722.25, 717.1699829101562, 686.1699829101562, 665.7100219726562, 688.989990234375, 673.469970703125], [717.1699829101562, 686.1699829101562, 665.7100219726562, 688.989990234375, 673.469970703125, 680.260009765625], [686.1699829101562, 665.7100219726562, 688.989990234375, 673.469970703125, 680.260009765625, 706.2999877929688], [665.7100219726562, 688.989990234375, 673.469970703125, 680.260009765625, 706.2999877929688, 708.489990234375], [688.989990234375, 673.469970703125, 680.260009765625, 706.2999877929688, 708.489990234375, 711.2000122070312], [673.469970703125, 680.260009765625, 706.2999877929688, 708.489990234375, 711.2000122070312, 701.1599731445312], [680.260009765625, 706.2999877929688, 708.489990234375, 711.2000122070312, 701.1599731445312, 711.9199829101562], [706.2999877929688, 708.489990234375, 711.2000122070312, 701.1599731445312, 711.9199829101562, 730.9099731445312], [708.489990234375, 711.2000122070312, 701.1599731445312, 711.9199829101562, 730.9099731445312, 735.719970703125], [711.2000122070312, 701.1599731445312, 711.9199829101562, 730.9099731445312, 735.719970703125, 734.0900268554688], [701.1599731445312, 711.9199829101562, 730.9099731445312, 735.719970703125, 734.0900268554688, 732.3900146484375], [711.9199829101562, 730.9099731445312, 735.719970703125, 734.0900268554688, 732.3900146484375, 733.5700073242188], [730.9099731445312, 735.719970703125, 734.0900268554688, 732.3900146484375, 733.5700073242188, 752.9199829101562], [735.719970703125, 734.0900268554688, 732.3900146484375, 733.5700073242188, 752.9199829101562, 753.8699951171875], [734.0900268554688, 732.3900146484375, 733.5700073242188, 752.9199829101562, 753.8699951171875, 754.8599853515625], [732.3900146484375, 733.5700073242188, 752.9199829101562, 753.8699951171875, 754.8599853515625, 736.27001953125], [733.5700073242188, 752.9199829101562, 753.8699951171875, 754.8599853515625, 736.27001953125, 743.0], [752.9199829101562, 753.8699951171875, 754.8599853515625, 736.27001953125, 743.0, 744.489990234375], [753.8699951171875, 754.8599853515625, 736.27001953125, 743.0, 744.489990234375, 755.8300170898438], [754.8599853515625, 736.27001953125, 743.0, 744.489990234375, 755.8300170898438, 756.989990234375], [736.27001953125, 743.0, 744.489990234375, 755.8300170898438, 756.989990234375, 759.489990234375], [743.0, 744.489990234375, 755.8300170898438, 756.989990234375, 759.489990234375, 730.1699829101562], [744.489990234375, 755.8300170898438, 756.989990234375, 759.489990234375, 730.1699829101562, 739.3800048828125], [755.8300170898438, 756.989990234375, 759.489990234375, 730.1699829101562, 739.3800048828125, 751.9400024414062], [756.989990234375, 759.489990234375, 730.1699829101562, 739.3800048828125, 751.9400024414062, 753.6400146484375], [759.489990234375, 730.1699829101562, 739.3800048828125, 751.9400024414062, 753.6400146484375, 774.3900146484375], [730.1699829101562, 739.3800048828125, 751.9400024414062, 753.6400146484375, 774.3900146484375, 791.3599853515625]]\n",
            "[[499.2699890136719, 489.6099853515625, 521.8499755859375, 555.3800048828125, 574.0, 585.760009765625], [489.6099853515625, 521.8499755859375, 555.3800048828125, 574.0, 585.760009765625, 567.5999755859375], [521.8499755859375, 555.3800048828125, 574.0, 585.760009765625, 567.5999755859375, 584.760009765625], [555.3800048828125, 574.0, 585.760009765625, 567.5999755859375, 584.760009765625, 568.8200073242188], [574.0, 585.760009765625, 567.5999755859375, 584.760009765625, 568.8200073242188, 593.3800048828125], [585.760009765625, 567.5999755859375, 584.760009765625, 568.8200073242188, 593.3800048828125, 599.0399780273438], [567.5999755859375, 584.760009765625, 568.8200073242188, 593.3800048828125, 599.0399780273438, 641.760009765625], [584.760009765625, 568.8200073242188, 593.3800048828125, 599.0399780273438, 641.760009765625, 649.8800048828125], [568.8200073242188, 593.3800048828125, 599.0399780273438, 641.760009765625, 649.8800048828125, 604.47998046875], [593.3800048828125, 599.0399780273438, 641.760009765625, 649.8800048828125, 604.47998046875, 627.0700073242188], [599.0399780273438, 641.760009765625, 649.8800048828125, 604.47998046875, 627.0700073242188, 609.989990234375], [641.760009765625, 649.8800048828125, 604.47998046875, 627.0700073242188, 609.989990234375, 639.8300170898438], [649.8800048828125, 604.47998046875, 627.0700073242188, 609.989990234375, 639.8300170898438, 633.25], [604.47998046875, 627.0700073242188, 609.989990234375, 639.8300170898438, 633.25, 622.77001953125], [627.0700073242188, 609.989990234375, 639.8300170898438, 633.25, 622.77001953125, 655.9000244140625], [609.989990234375, 639.8300170898438, 633.25, 622.77001953125, 655.9000244140625, 695.0], [639.8300170898438, 633.25, 622.77001953125, 655.9000244140625, 695.0, 649.8599853515625], [633.25, 622.77001953125, 655.9000244140625, 695.0, 649.8599853515625, 640.3400268554688], [622.77001953125, 655.9000244140625, 695.0, 649.8599853515625, 640.3400268554688, 645.97998046875], [655.9000244140625, 695.0, 649.8599853515625, 640.3400268554688, 645.97998046875, 661.77001953125], [695.0, 649.8599853515625, 640.3400268554688, 645.97998046875, 661.77001953125, 663.6900024414062], [649.8599853515625, 640.3400268554688, 645.97998046875, 661.77001953125, 663.6900024414062, 665.989990234375], [640.3400268554688, 645.97998046875, 661.77001953125, 663.6900024414062, 665.989990234375, 694.780029296875], [645.97998046875, 661.77001953125, 663.6900024414062, 665.989990234375, 694.780029296875, 705.6699829101562], [661.77001953125, 663.6900024414062, 665.989990234375, 694.780029296875, 705.6699829101562, 729.77001953125], [663.6900024414062, 665.989990234375, 694.780029296875, 705.6699829101562, 729.77001953125, 735.1099853515625], [665.989990234375, 694.780029296875, 705.6699829101562, 729.77001953125, 735.1099853515625, 755.97998046875], [694.780029296875, 705.6699829101562, 729.77001953125, 735.1099853515625, 755.97998046875, 816.0399780273438], [705.6699829101562, 729.77001953125, 735.1099853515625, 755.97998046875, 816.0399780273438, 880.02001953125], [729.77001953125, 735.1099853515625, 755.97998046875, 816.0399780273438, 880.02001953125, 811.1900024414062], [735.1099853515625, 755.97998046875, 816.0399780273438, 880.02001953125, 811.1900024414062, 849.4400024414062], [755.97998046875, 816.0399780273438, 880.02001953125, 811.1900024414062, 849.4400024414062, 854.4099731445312], [816.0399780273438, 880.02001953125, 811.1900024414062, 849.4400024414062, 854.4099731445312, 845.0], [880.02001953125, 811.1900024414062, 849.4400024414062, 854.4099731445312, 845.0, 826.1599731445312], [811.1900024414062, 849.4400024414062, 854.4099731445312, 845.0, 826.1599731445312, 844.5499877929688], [849.4400024414062, 854.4099731445312, 845.0, 826.1599731445312, 844.5499877929688, 850.4500122070312], [854.4099731445312, 845.0, 826.1599731445312, 844.5499877929688, 850.4500122070312, 844.989990234375], [845.0, 826.1599731445312, 844.5499877929688, 850.4500122070312, 844.989990234375, 846.6400146484375], [826.1599731445312, 844.5499877929688, 850.4500122070312, 844.989990234375, 846.6400146484375, 880.7999877929688], [844.5499877929688, 850.4500122070312, 844.989990234375, 846.6400146484375, 880.7999877929688, 883.0900268554688], [850.4500122070312, 844.989990234375, 846.6400146484375, 880.7999877929688, 883.0900268554688, 864.1599731445312], [844.989990234375, 846.6400146484375, 880.7999877929688, 883.0900268554688, 864.1599731445312, 835.4299926757812], [846.6400146484375, 880.7999877929688, 883.0900268554688, 864.1599731445312, 835.4299926757812, 793.530029296875], [880.7999877929688, 883.0900268554688, 864.1599731445312, 835.4299926757812, 793.530029296875, 839.8099975585938], [883.0900268554688, 864.1599731445312, 835.4299926757812, 793.530029296875, 839.8099975585938, 872.7899780273438], [864.1599731445312, 835.4299926757812, 793.530029296875, 839.8099975585938, 872.7899780273438, 854.6900024414062], [835.4299926757812, 793.530029296875, 839.8099975585938, 872.7899780273438, 854.6900024414062, 849.989990234375], [793.530029296875, 839.8099975585938, 872.7899780273438, 854.6900024414062, 849.989990234375, 852.22998046875], [839.8099975585938, 872.7899780273438, 854.6900024414062, 849.989990234375, 852.22998046875, 863.4199829101562], [872.7899780273438, 854.6900024414062, 849.989990234375, 852.22998046875, 863.4199829101562, 849.4600219726562], [854.6900024414062, 849.989990234375, 852.22998046875, 863.4199829101562, 849.4600219726562, 804.8200073242188], [849.989990234375, 852.22998046875, 863.4199829101562, 849.4600219726562, 804.8200073242188, 811.6599731445312], [852.22998046875, 863.4199829101562, 849.4600219726562, 804.8200073242188, 811.6599731445312, 816.1199951171875], [863.4199829101562, 849.4600219726562, 804.8200073242188, 811.6599731445312, 816.1199951171875, 796.219970703125], [849.4600219726562, 804.8200073242188, 811.6599731445312, 816.1199951171875, 796.219970703125, 798.1500244140625], [804.8200073242188, 811.6599731445312, 816.1199951171875, 796.219970703125, 798.1500244140625, 787.3800048828125], [811.6599731445312, 816.1199951171875, 796.219970703125, 798.1500244140625, 787.3800048828125, 781.2999877929688], [816.1199951171875, 796.219970703125, 798.1500244140625, 787.3800048828125, 781.2999877929688, 714.5], [796.219970703125, 798.1500244140625, 787.3800048828125, 781.2999877929688, 714.5, 698.8400268554688], [798.1500244140625, 787.3800048828125, 781.2999877929688, 714.5, 698.8400268554688, 742.02001953125], [787.3800048828125, 781.2999877929688, 714.5, 698.8400268554688, 742.02001953125, 682.219970703125], [781.2999877929688, 714.5, 698.8400268554688, 742.02001953125, 682.219970703125, 675.5], [714.5, 698.8400268554688, 742.02001953125, 682.219970703125, 675.5, 718.4299926757812], [698.8400268554688, 742.02001953125, 682.219970703125, 675.5, 718.4299926757812, 686.4400024414062], [742.02001953125, 682.219970703125, 675.5, 718.4299926757812, 686.4400024414062, 653.2000122070312], [682.219970703125, 675.5, 718.4299926757812, 686.4400024414062, 653.2000122070312, 621.4400024414062], [675.5, 718.4299926757812, 686.4400024414062, 653.2000122070312, 621.4400024414062, 597.9500122070312], [718.4299926757812, 686.4400024414062, 653.2000122070312, 621.4400024414062, 597.9500122070312, 563.0], [686.4400024414062, 653.2000122070312, 621.4400024414062, 597.9500122070312, 563.0, 673.5800170898438], [653.2000122070312, 621.4400024414062, 597.9500122070312, 563.0, 673.5800170898438, 668.0599975585938], [621.4400024414062, 597.9500122070312, 563.0, 673.5800170898438, 668.0599975585938, 699.5999755859375], [597.9500122070312, 563.0, 673.5800170898438, 668.0599975585938, 699.5999755859375, 693.72998046875], [563.0, 673.5800170898438, 668.0599975585938, 699.5999755859375, 693.72998046875, 707.9400024414062], [673.5800170898438, 668.0599975585938, 699.5999755859375, 693.72998046875, 707.9400024414062, 676.8800048828125], [668.0599975585938, 699.5999755859375, 693.72998046875, 707.9400024414062, 676.8800048828125, 701.8099975585938], [699.5999755859375, 693.72998046875, 707.9400024414062, 676.8800048828125, 701.8099975585938, 653.1599731445312], [693.72998046875, 707.9400024414062, 676.8800048828125, 701.8099975585938, 653.1599731445312, 654.8699951171875], [707.9400024414062, 676.8800048828125, 701.8099975585938, 653.1599731445312, 654.8699951171875, 670.0], [676.8800048828125, 701.8099975585938, 653.1599731445312, 654.8699951171875, 670.0, 662.1599731445312], [701.8099975585938, 653.1599731445312, 654.8699951171875, 670.0, 662.1599731445312, 630.27001953125], [653.1599731445312, 654.8699951171875, 670.0, 662.1599731445312, 630.27001953125, 640.3900146484375], [654.8699951171875, 670.0, 662.1599731445312, 630.27001953125, 640.3900146484375, 618.7100219726562], [670.0, 662.1599731445312, 630.27001953125, 640.3900146484375, 618.7100219726562, 611.2899780273438], [662.1599731445312, 630.27001953125, 640.3900146484375, 618.7100219726562, 611.2899780273438, 635.6199951171875], [630.27001953125, 640.3900146484375, 618.7100219726562, 611.2899780273438, 635.6199951171875, 667.9299926757812], [640.3900146484375, 618.7100219726562, 611.2899780273438, 635.6199951171875, 667.9299926757812, 661.75], [618.7100219726562, 611.2899780273438, 635.6199951171875, 667.9299926757812, 661.75, 691.0499877929688], [611.2899780273438, 635.6199951171875, 667.9299926757812, 661.75, 691.0499877929688, 691.6199951171875], [635.6199951171875, 667.9299926757812, 661.75, 691.0499877929688, 691.6199951171875, 670.969970703125], [667.9299926757812, 661.75, 691.0499877929688, 691.6199951171875, 670.969970703125, 683.7999877929688], [661.75, 691.0499877929688, 691.6199951171875, 670.969970703125, 683.7999877929688, 677.02001953125], [691.0499877929688, 691.6199951171875, 670.969970703125, 683.7999877929688, 677.02001953125, 701.97998046875], [691.6199951171875, 670.969970703125, 683.7999877929688, 677.02001953125, 701.97998046875, 762.3200073242188], [670.969970703125, 683.7999877929688, 677.02001953125, 701.97998046875, 762.3200073242188, 732.22998046875], [683.7999877929688, 677.02001953125, 701.97998046875, 762.3200073242188, 732.22998046875, 738.8499755859375], [677.02001953125, 701.97998046875, 762.3200073242188, 732.22998046875, 738.8499755859375, 739.780029296875], [701.97998046875, 762.3200073242188, 732.22998046875, 738.8499755859375, 739.780029296875, 714.6300048828125], [762.3200073242188, 732.22998046875, 738.8499755859375, 739.780029296875, 714.6300048828125, 718.989990234375], [732.22998046875, 738.8499755859375, 739.780029296875, 714.6300048828125, 718.989990234375, 744.1199951171875], [738.8499755859375, 739.780029296875, 714.6300048828125, 718.989990234375, 744.1199951171875, 719.6900024414062], [739.780029296875, 714.6300048828125, 718.989990234375, 744.1199951171875, 719.6900024414062, 729.4000244140625], [714.6300048828125, 718.989990234375, 744.1199951171875, 719.6900024414062, 729.4000244140625, 738.2000122070312], [718.989990234375, 744.1199951171875, 719.6900024414062, 729.4000244140625, 738.2000122070312, 704.739990234375], [744.1199951171875, 719.6900024414062, 729.4000244140625, 738.2000122070312, 704.739990234375, 694.4000244140625], [719.6900024414062, 729.4000244140625, 738.2000122070312, 704.739990234375, 694.4000244140625, 677.0], [729.4000244140625, 738.2000122070312, 704.739990234375, 694.4000244140625, 677.0, 709.4400024414062], [738.2000122070312, 704.739990234375, 694.4000244140625, 677.0, 709.4400024414062, 684.9000244140625], [704.739990234375, 694.4000244140625, 677.0, 709.4400024414062, 684.9000244140625, 673.5999755859375], [694.4000244140625, 677.0, 709.4400024414062, 684.9000244140625, 673.5999755859375, 670.9400024414062], [677.0, 709.4400024414062, 684.9000244140625, 673.5999755859375, 670.9400024414062, 663.5399780273438], [709.4400024414062, 684.9000244140625, 673.5999755859375, 670.9400024414062, 663.5399780273438, 672.3699951171875], [684.9000244140625, 673.5999755859375, 670.9400024414062, 663.5399780273438, 672.3699951171875, 629.0399780273438], [673.5999755859375, 670.9400024414062, 663.5399780273438, 672.3699951171875, 629.0399780273438, 617.2000122070312], [670.9400024414062, 663.5399780273438, 672.3699951171875, 629.0399780273438, 617.2000122070312, 589.8900146484375], [663.5399780273438, 672.3699951171875, 629.0399780273438, 617.2000122070312, 589.8900146484375, 571.6900024414062], [672.3699951171875, 629.0399780273438, 617.2000122070312, 589.8900146484375, 571.6900024414062, 589.739990234375], [629.0399780273438, 617.2000122070312, 589.8900146484375, 571.6900024414062, 589.739990234375, 576.8300170898438], [617.2000122070312, 589.8900146484375, 571.6900024414062, 589.739990234375, 576.8300170898438, 577.8699951171875], [589.8900146484375, 571.6900024414062, 589.739990234375, 576.8300170898438, 577.8699951171875, 563.4600219726562], [571.6900024414062, 589.739990234375, 576.8300170898438, 577.8699951171875, 563.4600219726562, 586.780029296875], [589.739990234375, 576.8300170898438, 577.8699951171875, 563.4600219726562, 586.780029296875, 580.8800048828125], [576.8300170898438, 577.8699951171875, 563.4600219726562, 586.780029296875, 580.8800048828125, 606.4400024414062], [577.8699951171875, 563.4600219726562, 586.780029296875, 580.8800048828125, 606.4400024414062, 604.6900024414062], [563.4600219726562, 586.780029296875, 580.8800048828125, 606.4400024414062, 604.6900024414062, 619.1300048828125], [586.780029296875, 580.8800048828125, 606.4400024414062, 604.6900024414062, 619.1300048828125, 630.8499755859375], [580.8800048828125, 606.4400024414062, 604.6900024414062, 619.1300048828125, 630.8499755859375, 625.219970703125], [606.4400024414062, 604.6900024414062, 619.1300048828125, 630.8499755859375, 625.219970703125, 623.9000244140625], [604.6900024414062, 619.1300048828125, 630.8499755859375, 625.219970703125, 623.9000244140625, 605.1199951171875], [619.1300048828125, 630.8499755859375, 625.219970703125, 623.9000244140625, 605.1199951171875, 572.8400268554688], [630.8499755859375, 625.219970703125, 623.9000244140625, 605.1199951171875, 572.8400268554688, 599.0499877929688], [625.219970703125, 623.9000244140625, 605.1199951171875, 572.8400268554688, 599.0499877929688, 605.1300048828125], [623.9000244140625, 605.1199951171875, 572.8400268554688, 599.0499877929688, 605.1300048828125, 603.5900268554688], [605.1199951171875, 572.8400268554688, 599.0499877929688, 605.1300048828125, 603.5900268554688, 598.780029296875], [572.8400268554688, 599.0499877929688, 605.1300048828125, 603.5900268554688, 598.780029296875, 610.1199951171875], [599.0499877929688, 605.1300048828125, 603.5900268554688, 598.780029296875, 610.1199951171875, 609.8900146484375], [605.1300048828125, 603.5900268554688, 598.780029296875, 610.1199951171875, 609.8900146484375, 617.6900024414062], [603.5900268554688, 598.780029296875, 610.1199951171875, 609.8900146484375, 617.6900024414062, 599.3599853515625], [598.780029296875, 610.1199951171875, 609.8900146484375, 617.6900024414062, 599.3599853515625, 604.8699951171875], [610.1199951171875, 609.8900146484375, 617.6900024414062, 599.3599853515625, 604.8699951171875, 616.5999755859375], [609.8900146484375, 617.6900024414062, 599.3599853515625, 604.8699951171875, 616.5999755859375, 623.3099975585938], [617.6900024414062, 599.3599853515625, 604.8699951171875, 616.5999755859375, 623.3099975585938, 620.8300170898438], [599.3599853515625, 604.8699951171875, 616.5999755859375, 623.3099975585938, 620.8300170898438, 623.7100219726562], [604.8699951171875, 616.5999755859375, 623.3099975585938, 620.8300170898438, 623.7100219726562, 656.5700073242188], [616.5999755859375, 623.3099975585938, 620.8300170898438, 623.7100219726562, 656.5700073242188, 679.8200073242188], [623.3099975585938, 620.8300170898438, 623.7100219726562, 656.5700073242188, 679.8200073242188, 671.8699951171875], [620.8300170898438, 623.7100219726562, 656.5700073242188, 679.8200073242188, 671.8699951171875, 688.719970703125], [623.7100219726562, 656.5700073242188, 679.8200073242188, 671.8699951171875, 688.719970703125, 680.760009765625], [656.5700073242188, 679.8200073242188, 671.8699951171875, 688.719970703125, 680.760009765625, 679.7000122070312], [679.8200073242188, 671.8699951171875, 688.719970703125, 680.760009765625, 679.7000122070312, 677.9199829101562], [671.8699951171875, 688.719970703125, 680.760009765625, 679.7000122070312, 677.9199829101562, 678.9000244140625], [688.719970703125, 680.760009765625, 679.7000122070312, 677.9199829101562, 678.9000244140625, 659.5800170898438], [680.760009765625, 679.7000122070312, 677.9199829101562, 678.9000244140625, 659.5800170898438, 644.6500244140625], [679.7000122070312, 677.9199829101562, 678.9000244140625, 659.5800170898438, 644.6500244140625, 652.8099975585938], [677.9199829101562, 678.9000244140625, 659.5800170898438, 644.6500244140625, 652.8099975585938, 656.9500122070312], [678.9000244140625, 659.5800170898438, 644.6500244140625, 652.8099975585938, 656.9500122070312, 685.7000122070312], [659.5800170898438, 644.6500244140625, 652.8099975585938, 656.9500122070312, 685.7000122070312, 668.5399780273438], [644.6500244140625, 652.8099975585938, 656.9500122070312, 685.7000122070312, 668.5399780273438, 653.3800048828125], [652.8099975585938, 656.9500122070312, 685.7000122070312, 668.5399780273438, 653.3800048828125, 650.5999755859375], [656.9500122070312, 685.7000122070312, 668.5399780273438, 653.3800048828125, 650.5999755859375, 644.219970703125], [685.7000122070312, 668.5399780273438, 653.3800048828125, 650.5999755859375, 644.219970703125, 646.219970703125], [668.5399780273438, 653.3800048828125, 650.5999755859375, 644.219970703125, 646.219970703125, 660.5], [653.3800048828125, 650.5999755859375, 644.219970703125, 646.219970703125, 660.5, 655.2899780273438], [650.5999755859375, 644.219970703125, 646.219970703125, 660.5, 655.2899780273438, 649.260009765625], [644.219970703125, 646.219970703125, 660.5, 655.2899780273438, 649.260009765625, 643.3800048828125], [646.219970703125, 660.5, 655.2899780273438, 649.260009765625, 643.3800048828125, 657.6199951171875], [660.5, 655.2899780273438, 649.260009765625, 643.3800048828125, 657.6199951171875, 644.780029296875], [655.2899780273438, 649.260009765625, 643.3800048828125, 657.6199951171875, 644.780029296875, 646.97998046875], [649.260009765625, 643.3800048828125, 657.6199951171875, 644.780029296875, 646.97998046875, 677.3499755859375], [643.3800048828125, 657.6199951171875, 644.780029296875, 646.97998046875, 677.3499755859375, 687.2000122070312], [657.6199951171875, 644.780029296875, 646.97998046875, 677.3499755859375, 687.2000122070312, 709.6699829101562], [644.780029296875, 646.97998046875, 677.3499755859375, 687.2000122070312, 709.6699829101562, 709.739990234375], [646.97998046875, 677.3499755859375, 687.2000122070312, 709.6699829101562, 709.739990234375, 710.9199829101562], [677.3499755859375, 687.2000122070312, 709.6699829101562, 709.739990234375, 710.9199829101562, 714.6300048828125], [687.2000122070312, 709.6699829101562, 709.739990234375, 710.9199829101562, 714.6300048828125, 699.0999755859375], [709.6699829101562, 709.739990234375, 710.9199829101562, 714.6300048828125, 699.0999755859375, 713.760009765625], [709.739990234375, 710.9199829101562, 714.6300048828125, 699.0999755859375, 713.760009765625, 709.989990234375], [710.9199829101562, 714.6300048828125, 699.0999755859375, 713.760009765625, 709.989990234375, 707.8200073242188], [714.6300048828125, 699.0999755859375, 713.760009765625, 709.989990234375, 707.8200073242188, 722.25], [699.0999755859375, 713.760009765625, 709.989990234375, 707.8200073242188, 722.25, 717.1699829101562], [713.760009765625, 709.989990234375, 707.8200073242188, 722.25, 717.1699829101562, 686.1699829101562], [709.989990234375, 707.8200073242188, 722.25, 717.1699829101562, 686.1699829101562, 665.7100219726562], [707.8200073242188, 722.25, 717.1699829101562, 686.1699829101562, 665.7100219726562, 688.989990234375], [722.25, 717.1699829101562, 686.1699829101562, 665.7100219726562, 688.989990234375, 673.469970703125], [717.1699829101562, 686.1699829101562, 665.7100219726562, 688.989990234375, 673.469970703125, 680.260009765625], [686.1699829101562, 665.7100219726562, 688.989990234375, 673.469970703125, 680.260009765625, 706.2999877929688], [665.7100219726562, 688.989990234375, 673.469970703125, 680.260009765625, 706.2999877929688, 708.489990234375], [688.989990234375, 673.469970703125, 680.260009765625, 706.2999877929688, 708.489990234375, 711.2000122070312], [673.469970703125, 680.260009765625, 706.2999877929688, 708.489990234375, 711.2000122070312, 701.1599731445312], [680.260009765625, 706.2999877929688, 708.489990234375, 711.2000122070312, 701.1599731445312, 711.9199829101562], [706.2999877929688, 708.489990234375, 711.2000122070312, 701.1599731445312, 711.9199829101562, 730.9099731445312], [708.489990234375, 711.2000122070312, 701.1599731445312, 711.9199829101562, 730.9099731445312, 735.719970703125], [711.2000122070312, 701.1599731445312, 711.9199829101562, 730.9099731445312, 735.719970703125, 734.0900268554688], [701.1599731445312, 711.9199829101562, 730.9099731445312, 735.719970703125, 734.0900268554688, 732.3900146484375], [711.9199829101562, 730.9099731445312, 735.719970703125, 734.0900268554688, 732.3900146484375, 733.5700073242188], [730.9099731445312, 735.719970703125, 734.0900268554688, 732.3900146484375, 733.5700073242188, 752.9199829101562], [735.719970703125, 734.0900268554688, 732.3900146484375, 733.5700073242188, 752.9199829101562, 753.8699951171875], [734.0900268554688, 732.3900146484375, 733.5700073242188, 752.9199829101562, 753.8699951171875, 754.8599853515625], [732.3900146484375, 733.5700073242188, 752.9199829101562, 753.8699951171875, 754.8599853515625, 736.27001953125], [733.5700073242188, 752.9199829101562, 753.8699951171875, 754.8599853515625, 736.27001953125, 743.0], [752.9199829101562, 753.8699951171875, 754.8599853515625, 736.27001953125, 743.0, 744.489990234375], [753.8699951171875, 754.8599853515625, 736.27001953125, 743.0, 744.489990234375, 755.8300170898438], [754.8599853515625, 736.27001953125, 743.0, 744.489990234375, 755.8300170898438, 756.989990234375], [736.27001953125, 743.0, 744.489990234375, 755.8300170898438, 756.989990234375, 759.489990234375], [743.0, 744.489990234375, 755.8300170898438, 756.989990234375, 759.489990234375, 730.1699829101562], [744.489990234375, 755.8300170898438, 756.989990234375, 759.489990234375, 730.1699829101562, 739.3800048828125], [755.8300170898438, 756.989990234375, 759.489990234375, 730.1699829101562, 739.3800048828125, 751.9400024414062], [756.989990234375, 759.489990234375, 730.1699829101562, 739.3800048828125, 751.9400024414062, 753.6400146484375], [759.489990234375, 730.1699829101562, 739.3800048828125, 751.9400024414062, 753.6400146484375, 774.3900146484375], [730.1699829101562, 739.3800048828125, 751.9400024414062, 753.6400146484375, 774.3900146484375, 791.3599853515625]]\n",
            "[567.5999755859375, 584.760009765625, 568.8200073242188, 593.3800048828125, 599.0399780273438, 641.760009765625, 649.8800048828125, 604.47998046875, 627.0700073242188, 609.989990234375, 639.8300170898438, 633.25, 622.77001953125, 655.9000244140625, 695.0, 649.8599853515625, 640.3400268554688, 645.97998046875, 661.77001953125, 663.6900024414062, 665.989990234375, 694.780029296875, 705.6699829101562, 729.77001953125, 735.1099853515625, 755.97998046875, 816.0399780273438, 880.02001953125, 811.1900024414062, 849.4400024414062, 854.4099731445312, 845.0, 826.1599731445312, 844.5499877929688, 850.4500122070312, 844.989990234375, 846.6400146484375, 880.7999877929688, 883.0900268554688, 864.1599731445312, 835.4299926757812, 793.530029296875, 839.8099975585938, 872.7899780273438, 854.6900024414062, 849.989990234375, 852.22998046875, 863.4199829101562, 849.4600219726562, 804.8200073242188, 811.6599731445312, 816.1199951171875, 796.219970703125, 798.1500244140625, 787.3800048828125, 781.2999877929688, 714.5, 698.8400268554688, 742.02001953125, 682.219970703125, 675.5, 718.4299926757812, 686.4400024414062, 653.2000122070312, 621.4400024414062, 597.9500122070312, 563.0, 673.5800170898438, 668.0599975585938, 699.5999755859375, 693.72998046875, 707.9400024414062, 676.8800048828125, 701.8099975585938, 653.1599731445312, 654.8699951171875, 670.0, 662.1599731445312, 630.27001953125, 640.3900146484375, 618.7100219726562, 611.2899780273438, 635.6199951171875, 667.9299926757812, 661.75, 691.0499877929688, 691.6199951171875, 670.969970703125, 683.7999877929688, 677.02001953125, 701.97998046875, 762.3200073242188, 732.22998046875, 738.8499755859375, 739.780029296875, 714.6300048828125, 718.989990234375, 744.1199951171875, 719.6900024414062, 729.4000244140625, 738.2000122070312, 704.739990234375, 694.4000244140625, 677.0, 709.4400024414062, 684.9000244140625, 673.5999755859375, 670.9400024414062, 663.5399780273438, 672.3699951171875, 629.0399780273438, 617.2000122070312, 589.8900146484375, 571.6900024414062, 589.739990234375, 576.8300170898438, 577.8699951171875, 563.4600219726562, 586.780029296875, 580.8800048828125, 606.4400024414062, 604.6900024414062, 619.1300048828125, 630.8499755859375, 625.219970703125, 623.9000244140625, 605.1199951171875, 572.8400268554688, 599.0499877929688, 605.1300048828125, 603.5900268554688, 598.780029296875, 610.1199951171875, 609.8900146484375, 617.6900024414062, 599.3599853515625, 604.8699951171875, 616.5999755859375, 623.3099975585938, 620.8300170898438, 623.7100219726562, 656.5700073242188, 679.8200073242188, 671.8699951171875, 688.719970703125, 680.760009765625, 679.7000122070312, 677.9199829101562, 678.9000244140625, 659.5800170898438, 644.6500244140625, 652.8099975585938, 656.9500122070312, 685.7000122070312, 668.5399780273438, 653.3800048828125, 650.5999755859375, 644.219970703125, 646.219970703125, 660.5, 655.2899780273438, 649.260009765625, 643.3800048828125, 657.6199951171875, 644.780029296875, 646.97998046875, 677.3499755859375, 687.2000122070312, 709.6699829101562, 709.739990234375, 710.9199829101562, 714.6300048828125, 699.0999755859375, 713.760009765625, 709.989990234375, 707.8200073242188, 722.25, 717.1699829101562, 686.1699829101562, 665.7100219726562, 688.989990234375, 673.469970703125, 680.260009765625, 706.2999877929688, 708.489990234375, 711.2000122070312, 701.1599731445312, 711.9199829101562, 730.9099731445312, 735.719970703125, 734.0900268554688, 732.3900146484375, 733.5700073242188, 752.9199829101562, 753.8699951171875, 754.8599853515625, 736.27001953125, 743.0, 744.489990234375, 755.8300170898438, 756.989990234375, 759.489990234375, 730.1699829101562, 739.3800048828125, 751.9400024414062, 753.6400146484375, 774.3900146484375, 791.3599853515625, 777.5599975585938]\n",
            "[567.5999755859375, 584.760009765625, 568.8200073242188, 593.3800048828125, 599.0399780273438, 641.760009765625, 649.8800048828125, 604.47998046875, 627.0700073242188, 609.989990234375, 639.8300170898438, 633.25, 622.77001953125, 655.9000244140625, 695.0, 649.8599853515625, 640.3400268554688, 645.97998046875, 661.77001953125, 663.6900024414062, 665.989990234375, 694.780029296875, 705.6699829101562, 729.77001953125, 735.1099853515625, 755.97998046875, 816.0399780273438, 880.02001953125, 811.1900024414062, 849.4400024414062, 854.4099731445312, 845.0, 826.1599731445312, 844.5499877929688, 850.4500122070312, 844.989990234375, 846.6400146484375, 880.7999877929688, 883.0900268554688, 864.1599731445312, 835.4299926757812, 793.530029296875, 839.8099975585938, 872.7899780273438, 854.6900024414062, 849.989990234375, 852.22998046875, 863.4199829101562, 849.4600219726562, 804.8200073242188, 811.6599731445312, 816.1199951171875, 796.219970703125, 798.1500244140625, 787.3800048828125, 781.2999877929688, 714.5, 698.8400268554688, 742.02001953125, 682.219970703125, 675.5, 718.4299926757812, 686.4400024414062, 653.2000122070312, 621.4400024414062, 597.9500122070312, 563.0, 673.5800170898438, 668.0599975585938, 699.5999755859375, 693.72998046875, 707.9400024414062, 676.8800048828125, 701.8099975585938, 653.1599731445312, 654.8699951171875, 670.0, 662.1599731445312, 630.27001953125, 640.3900146484375, 618.7100219726562, 611.2899780273438, 635.6199951171875, 667.9299926757812, 661.75, 691.0499877929688, 691.6199951171875, 670.969970703125, 683.7999877929688, 677.02001953125, 701.97998046875, 762.3200073242188, 732.22998046875, 738.8499755859375, 739.780029296875, 714.6300048828125, 718.989990234375, 744.1199951171875, 719.6900024414062, 729.4000244140625, 738.2000122070312, 704.739990234375, 694.4000244140625, 677.0, 709.4400024414062, 684.9000244140625, 673.5999755859375, 670.9400024414062, 663.5399780273438, 672.3699951171875, 629.0399780273438, 617.2000122070312, 589.8900146484375, 571.6900024414062, 589.739990234375, 576.8300170898438, 577.8699951171875, 563.4600219726562, 586.780029296875, 580.8800048828125, 606.4400024414062, 604.6900024414062, 619.1300048828125, 630.8499755859375, 625.219970703125, 623.9000244140625, 605.1199951171875, 572.8400268554688, 599.0499877929688, 605.1300048828125, 603.5900268554688, 598.780029296875, 610.1199951171875, 609.8900146484375, 617.6900024414062, 599.3599853515625, 604.8699951171875, 616.5999755859375, 623.3099975585938, 620.8300170898438, 623.7100219726562, 656.5700073242188, 679.8200073242188, 671.8699951171875, 688.719970703125, 680.760009765625, 679.7000122070312, 677.9199829101562, 678.9000244140625, 659.5800170898438, 644.6500244140625, 652.8099975585938, 656.9500122070312, 685.7000122070312, 668.5399780273438, 653.3800048828125, 650.5999755859375, 644.219970703125, 646.219970703125, 660.5, 655.2899780273438, 649.260009765625, 643.3800048828125, 657.6199951171875, 644.780029296875, 646.97998046875, 677.3499755859375, 687.2000122070312, 709.6699829101562, 709.739990234375, 710.9199829101562, 714.6300048828125, 699.0999755859375, 713.760009765625, 709.989990234375, 707.8200073242188, 722.25, 717.1699829101562, 686.1699829101562, 665.7100219726562, 688.989990234375, 673.469970703125, 680.260009765625, 706.2999877929688, 708.489990234375, 711.2000122070312, 701.1599731445312, 711.9199829101562, 730.9099731445312, 735.719970703125, 734.0900268554688, 732.3900146484375, 733.5700073242188, 752.9199829101562, 753.8699951171875, 754.8599853515625, 736.27001953125, 743.0, 744.489990234375, 755.8300170898438, 756.989990234375, 759.489990234375, 730.1699829101562, 739.3800048828125, 751.9400024414062, 753.6400146484375, 774.3900146484375, 791.3599853515625, 777.5599975585938]\n"
          ]
        }
      ]
    },
    {
      "cell_type": "code",
      "metadata": {
        "id": "UH93Fi1UWO4a"
      },
      "source": [
        "from sklearn.ensemble import ExtraTreesRegressor, RandomForestRegressor\n"
      ],
      "execution_count": 41,
      "outputs": []
    },
    {
      "cell_type": "code",
      "metadata": {
        "colab": {
          "base_uri": "https://localhost:8080/",
          "height": 436
        },
        "id": "PgclrL3QWZ92",
        "outputId": "4daa3c42-eed9-42d6-927c-3bf186ac0d43"
      },
      "source": [
        "from sklearn.tree import DecisionTreeRegressor\n",
        "def return_model(X, y):\n",
        "  clf = DecisionTreeRegressor()\n",
        "  clf.fit(X,y)\n",
        "  return clf\n",
        "period = 6\n",
        "latest_feat = np.array(list(df.close)[-period:]).reshape((1,-1))\n",
        "classifier = return_model(train_x,train_y)\n",
        "pred_y = classifier.predict(test_x)\n",
        "print(classifier.score(test_x, test_y))\n",
        "dfr = pd.DataFrame({'actual': test_y, 'predicted': pred_y})\n",
        "dfr"
      ],
      "execution_count": 43,
      "outputs": [
        {
          "output_type": "stream",
          "name": "stdout",
          "text": [
            "1.0\n"
          ]
        },
        {
          "output_type": "execute_result",
          "data": {
            "text/html": [
              "<div>\n",
              "<style scoped>\n",
              "    .dataframe tbody tr th:only-of-type {\n",
              "        vertical-align: middle;\n",
              "    }\n",
              "\n",
              "    .dataframe tbody tr th {\n",
              "        vertical-align: top;\n",
              "    }\n",
              "\n",
              "    .dataframe thead th {\n",
              "        text-align: right;\n",
              "    }\n",
              "</style>\n",
              "<table border=\"1\" class=\"dataframe\">\n",
              "  <thead>\n",
              "    <tr style=\"text-align: right;\">\n",
              "      <th></th>\n",
              "      <th>actual</th>\n",
              "      <th>predicted</th>\n",
              "    </tr>\n",
              "  </thead>\n",
              "  <tbody>\n",
              "    <tr>\n",
              "      <th>0</th>\n",
              "      <td>567.60</td>\n",
              "      <td>567.60</td>\n",
              "    </tr>\n",
              "    <tr>\n",
              "      <th>1</th>\n",
              "      <td>584.76</td>\n",
              "      <td>584.76</td>\n",
              "    </tr>\n",
              "    <tr>\n",
              "      <th>2</th>\n",
              "      <td>568.82</td>\n",
              "      <td>568.82</td>\n",
              "    </tr>\n",
              "    <tr>\n",
              "      <th>3</th>\n",
              "      <td>593.38</td>\n",
              "      <td>593.38</td>\n",
              "    </tr>\n",
              "    <tr>\n",
              "      <th>4</th>\n",
              "      <td>599.04</td>\n",
              "      <td>599.04</td>\n",
              "    </tr>\n",
              "    <tr>\n",
              "      <th>...</th>\n",
              "      <td>...</td>\n",
              "      <td>...</td>\n",
              "    </tr>\n",
              "    <tr>\n",
              "      <th>204</th>\n",
              "      <td>751.94</td>\n",
              "      <td>751.94</td>\n",
              "    </tr>\n",
              "    <tr>\n",
              "      <th>205</th>\n",
              "      <td>753.64</td>\n",
              "      <td>753.64</td>\n",
              "    </tr>\n",
              "    <tr>\n",
              "      <th>206</th>\n",
              "      <td>774.39</td>\n",
              "      <td>774.39</td>\n",
              "    </tr>\n",
              "    <tr>\n",
              "      <th>207</th>\n",
              "      <td>791.36</td>\n",
              "      <td>791.36</td>\n",
              "    </tr>\n",
              "    <tr>\n",
              "      <th>208</th>\n",
              "      <td>777.56</td>\n",
              "      <td>777.56</td>\n",
              "    </tr>\n",
              "  </tbody>\n",
              "</table>\n",
              "<p>209 rows × 2 columns</p>\n",
              "</div>"
            ],
            "text/plain": [
              "                  actual            predicted\n",
              "0                 567.60               567.60\n",
              "1                 584.76               584.76\n",
              "2                 568.82               568.82\n",
              "3                 593.38               593.38\n",
              "4                 599.04               599.04\n",
              "..                   ...                  ...\n",
              "204               751.94               751.94\n",
              "205               753.64               753.64\n",
              "206               774.39               774.39\n",
              "207               791.36               791.36\n",
              "208               777.56               777.56\n",
              "\n",
              "[209 rows x 2 columns]"
            ]
          },
          "metadata": {},
          "execution_count": 43
        }
      ]
    },
    {
      "cell_type": "code",
      "metadata": {
        "id": "vgPs-fgJ4hHv",
        "colab": {
          "base_uri": "https://localhost:8080/",
          "height": 298
        },
        "outputId": "defa4712-7dc4-49fd-a95a-fa2a3e8af5b3"
      },
      "source": [
        "plt.plot(dfr.actual, color='black')\n",
        "plt.plot(dfr.predicted, color='lightblue')\n",
        "plt.title(\"Stock prediction chart\")\n",
        "plt.legend();\n"
      ],
      "execution_count": 44,
      "outputs": [
        {
          "output_type": "stream",
          "name": "stderr",
          "text": [
            "No handles with labels found to put in legend.\n"
          ]
        },
        {
          "output_type": "display_data",
          "data": {
            "image/png": "[encoded data removed]",
            "text/plain": [
              "<Figure size 432x288 with 1 Axes>"
            ]
          },
          "metadata": {
            "needs_background": "light"
          }
        }
      ]
    },
    {
      "cell_type": "code",
      "metadata": {
        "id": "R0017vqykIhW"
      },
      "source": [
        "from sklearn.metrics import explained_variance_score,mean_absolute_error,r2_score\n",
        "from time import time\n",
        "from sklearn.model_selection import train_test_split\n",
        "\n",
        "from sklearn.linear_model import LinearRegression, Ridge,Lasso\n",
        "from sklearn.neighbors import KNeighborsRegressor\n",
        "from sklearn.ensemble import GradientBoostingRegressor\n",
        "from sklearn.ensemble import ExtraTreesRegressor, RandomForestRegressor\n",
        "from sklearn.tree import DecisionTreeRegressor"
      ],
      "execution_count": 45,
      "outputs": []
    },
    {
      "cell_type": "code",
      "metadata": {
        "id": "6cmu89vvkNDU"
      },
      "source": [
        "regressors = [\n",
        "    KNeighborsRegressor(),\n",
        "    GradientBoostingRegressor(),\n",
        "    ExtraTreesRegressor(),\n",
        "    RandomForestRegressor(),\n",
        "    DecisionTreeRegressor(),\n",
        "    LinearRegression(),\n",
        "    Lasso(),\n",
        "    Ridge()\n",
        "]"
      ],
      "execution_count": 46,
      "outputs": []
    },
    {
      "cell_type": "code",
      "metadata": {
        "id": "ukCTd6XZkReQ",
        "colab": {
          "base_uri": "https://localhost:8080/"
        },
        "outputId": "d08d1c12-e5db-4f19-b59e-30505f6c4ba3"
      },
      "source": [
        "head = 10\n",
        "for model in regressors[:head]:\n",
        "    start = time()\n",
        "    model.fit(train_x,train_y)\n",
        "    train_time = time() - start\n",
        "    start = time()\n",
        "    y_pred = model.predict(test_x)\n",
        "    predict_time = time()-start    \n",
        "    print(model)\n",
        "    print(\"\\tTraining time: %0.3fs\" % train_time)\n",
        "    print(\"\\tPrediction time: %0.3fs\" % predict_time)\n",
        "    print(\"\\tExplained variance:\", explained_variance_score(test_y, y_pred))\n",
        "    print(\"\\tMean absolute error:\", mean_absolute_error(test_y, y_pred))\n",
        "    print(\"\\tR2 score:\", r2_score(test_y, y_pred))\n",
        "    print()"
      ],
      "execution_count": 47,
      "outputs": [
        {
          "output_type": "stream",
          "name": "stdout",
          "text": [
            "KNeighborsRegressor()\n",
            "\tTraining time: 0.003s\n",
            "\tPrediction time: 0.005s\n",
            "\tExplained variance: 0.9181576263264346\n",
            "\tMean absolute error: 16.510698090329694\n",
            "\tR2 score: 0.9179184868649788\n",
            "\n",
            "GradientBoostingRegressor()\n",
            "\tTraining time: 0.080s\n",
            "\tPrediction time: 0.001s\n",
            "\tExplained variance: 0.9845572711572325\n",
            "\tMean absolute error: 7.584573874016508\n",
            "\tR2 score: 0.9845572711572325\n",
            "\n",
            "ExtraTreesRegressor()\n",
            "\tTraining time: 0.159s\n",
            "\tPrediction time: 0.028s\n",
            "\tExplained variance: 1.0\n",
            "\tMean absolute error: 0.0\n",
            "\tR2 score: 1.0\n",
            "\n",
            "RandomForestRegressor()\n",
            "\tTraining time: 0.257s\n",
            "\tPrediction time: 0.017s\n",
            "\tExplained variance: 0.984408978438564\n",
            "\tMean absolute error: 6.892284627668023\n",
            "\tR2 score: 0.9844054380889989\n",
            "\n",
            "DecisionTreeRegressor()\n",
            "\tTraining time: 0.009s\n",
            "\tPrediction time: 0.001s\n",
            "\tExplained variance: 1.0\n",
            "\tMean absolute error: 0.0\n",
            "\tR2 score: 1.0\n",
            "\n",
            "LinearRegression()\n",
            "\tTraining time: 0.050s\n",
            "\tPrediction time: 0.001s\n",
            "\tExplained variance: 0.9125268317593853\n",
            "\tMean absolute error: 16.737230397051146\n",
            "\tR2 score: 0.9125268317593853\n",
            "\n",
            "Lasso()\n",
            "\tTraining time: 0.004s\n",
            "\tPrediction time: 0.000s\n",
            "\tExplained variance: 0.9125247054148455\n",
            "\tMean absolute error: 16.730674098937897\n",
            "\tR2 score: 0.9125247054148455\n",
            "\n",
            "Ridge()\n",
            "\tTraining time: 0.011s\n",
            "\tPrediction time: 0.001s\n",
            "\tExplained variance: 0.9125268317539035\n",
            "\tMean absolute error: 16.737231093943084\n",
            "\tR2 score: 0.9125268317539035\n",
            "\n"
          ]
        }
      ]
    },
    {
      "cell_type": "code",
      "metadata": {
        "colab": {
          "base_uri": "https://localhost:8080/"
        },
        "id": "uHG3kNup9n1q",
        "outputId": "ca9ea928-9d2e-431d-d8dd-b3a4b2a79321"
      },
      "source": [
        "df.close"
      ],
      "execution_count": 51,
      "outputs": [
        {
          "output_type": "execute_result",
          "data": {
            "text/plain": [
              "Date\n",
              "2020-11-19                 499.27\n",
              "2020-11-20                 489.61\n",
              "2020-11-23                 521.85\n",
              "2020-11-24                 555.38\n",
              "2020-11-25                 574.00\n",
              "                     ...         \n",
              "2021-11-12               1,033.42\n",
              "2021-11-15               1,013.39\n",
              "2021-11-16               1,054.73\n",
              "2021-11-17               1,089.01\n",
              "2021-11-18               1,096.38\n",
              "Name: close, Length: 252, dtype: float64"
            ]
          },
          "metadata": {},
          "execution_count": 51
        }
      ]
    },
    {
      "cell_type": "code",
      "metadata": {
        "id": "7q1_8huckUbL",
        "colab": {
          "base_uri": "https://localhost:8080/"
        },
        "outputId": "e160b42a-4771-440a-91f6-46f7f9c5329e"
      },
      "source": [
        "# classifier\n",
        "from sklearn.ensemble import RandomForestClassifier\n",
        "\n",
        "def cl_make_X_and_Y(close_prices, period, in_future):\n",
        "  X = []\n",
        "  y = []\n",
        "  for i in range(len(close_prices)- period-in_future):\n",
        "    X.append(close_prices[i:i+period])\n",
        "    l = close_prices[i+period:i+period+in_future]\n",
        "    y.append(calculate_label(l))\n",
        "  return X,y\n",
        "\n",
        "def calculate_label(params):\n",
        "  changes = []\n",
        "  for j in range(len(params)-1):\n",
        "    changes.append(params[j+1] - params[j])\n",
        "  tot = sum(changes)\n",
        "  if tot > 0:\n",
        "    return 1;\n",
        "  elif tot < 0:\n",
        "     return -1;\n",
        "  else:\n",
        "     return 0;\n",
        "\n",
        "def  return_classification_model(x,y):\n",
        "    clf = RandomForestRegressor()\n",
        "    clf.fit(x,y)\n",
        "    return clf\n",
        "\n",
        "x, y = cl_make_X_and_Y(df.close, 6, 3)\n",
        "dfc = pd.DataFrame({'feature': x, 'dependent': y})\n",
        "\n",
        "train, test= train_test_split(dfc,test_size=0.15 , shuffle=False,random_state = 0)\n",
        "train_x = train['feature'].to_list()\n",
        "train_y = train['dependent'].to_list()\n",
        "test_x = train['feature'].to_list()\n",
        "test_y = train['dependent'].to_list()\n",
        "mod = return_classification_model(test_x, train_y)\n",
        "def clean_data(data):\n",
        "    return data.dropna(how='all', axis=0)\n",
        "\n",
        "def predict_price_cls(symbol, period, in_future, data=None):\n",
        "  print(\"\\rAnalysing :: \", symbol, end=\"\" )\n",
        "  if(data is None):\n",
        "    data = yf.download(symbol, period='24mo', progress=False, )\n",
        "  data = clean_data(data)\n",
        "  price = data.Close\n",
        "  features, dep_var = cl_make_X_and_Y(list(price), period, in_future)\n",
        "  features = np.array(features)\n",
        "  dep_var = np.array(dep_var)\n",
        "  # Get Regression model\n",
        "  clf=return_classification_model(features, dep_var) \n",
        "  \n",
        "  latest_feature = np.array(list(price)[-period:]).reshape((1,-1))\n",
        "  s_dict = {}\n",
        "  s_dict['symbol'] = symbol\n",
        "  s_dict['volatility'] = round(price.std(), 2)\n",
        "  s_dict['tomorrow'] = round(clf.predict(latest_feature)[0], 2)\n",
        "  s_dict['today'] = round(price[-1],2)\n",
        "  return s_dict\n",
        "\n",
        "predict_price_cls('PYPL', 6, 3)"
      ],
      "execution_count": 60,
      "outputs": [
        {
          "output_type": "stream",
          "name": "stdout",
          "text": [
            "\rAnalysing ::  PYPL"
          ]
        },
        {
          "output_type": "execute_result",
          "data": {
            "text/plain": [
              "{'symbol': 'PYPL', 'today': 200.5, 'tomorrow': 0.28, 'volatility': 63.88}"
            ]
          },
          "metadata": {},
          "execution_count": 60
        }
      ]
    }
  ]
}