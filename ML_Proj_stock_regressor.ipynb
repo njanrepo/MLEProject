{
  "nbformat": 4,
  "nbformat_minor": 0,
  "metadata": {
    "colab": {
      "name": "ML_Proj_stock_regressor.ipynb",
      "provenance": [],
      "collapsed_sections": [
        "rX8mhOLljYeM"
      ],
      "toc_visible": true,
      "include_colab_link": true
    },
    "kernelspec": {
      "display_name": "Python 3",
      "name": "python3"
    }
  },
  "cells": [
    {
      "cell_type": "markdown",
      "metadata": {
        "id": "view-in-github",
        "colab_type": "text"
      },
      "source": [
        "<a href=\"https://colab.research.google.com/github/njanrepo/MLEProject/blob/main/ML_Proj_stock_regressor.ipynb\" target=\"_parent\"><img src=\"https://colab.research.google.com/assets/colab-badge.svg\" alt=\"Open In Colab\"/></a>"
      ]
    },
    {
      "cell_type": "markdown",
      "metadata": {
        "id": "rX8mhOLljYeM"
      },
      "source": [
        "##### Copyright 2019 The TensorFlow Authors."
      ]
    },
    {
      "cell_type": "code",
      "metadata": {
        "cellView": "form",
        "id": "BZSlp3DAjdYf"
      },
      "source": [
        "#@title Licensed under the Apache License, Version 2.0 (the \"License\");\n",
        "# you may not use this file except in compliance with the License.\n",
        "# You may obtain a copy of the License at\n",
        "#\n",
        "# https://www.apache.org/licenses/LICENSE-2.0\n",
        "#\n",
        "# Unless required by applicable law or agreed to in writing, software\n",
        "# distributed under the License is distributed on an \"AS IS\" BASIS,\n",
        "# WITHOUT WARRANTIES OR CONDITIONS OF ANY KIND, either express or implied.\n",
        "# See the License for the specific language governing permissions and\n",
        "# limitations under the License."
      ],
      "execution_count": 18,
      "outputs": []
    },
    {
      "cell_type": "markdown",
      "metadata": {
        "id": "h5bFyYyuJQS1"
      },
      "source": [
        "# New Section"
      ]
    },
    {
      "cell_type": "code",
      "metadata": {
        "id": "aD4UwXrcJRhY"
      },
      "source": [
        "import pandas as pd\n",
        "import numpy as np\n",
        "import matplotlib.pyplot as plt\n",
        "import seaborn as sns\n",
        "\n",
        "from datetime import datetime"
      ],
      "execution_count": 19,
      "outputs": []
    },
    {
      "cell_type": "code",
      "metadata": {
        "id": "vNE8HXM2Jo7J",
        "colab": {
          "base_uri": "https://localhost:8080/"
        },
        "outputId": "b29ee0f2-f0af-4151-82c8-3c7215b82401"
      },
      "source": [
        "!pip install yfinance scikit-learn statsmodels seaborn"
      ],
      "execution_count": 3,
      "outputs": [
        {
          "output_type": "stream",
          "name": "stdout",
          "text": [
            "Collecting yfinance\n",
            "  Downloading yfinance-0.1.66-py2.py3-none-any.whl (25 kB)\n",
            "Requirement already satisfied: scikit-learn in /usr/local/lib/python3.7/dist-packages (1.0.1)\n",
            "Requirement already satisfied: statsmodels in /usr/local/lib/python3.7/dist-packages (0.10.2)\n",
            "Requirement already satisfied: seaborn in /usr/local/lib/python3.7/dist-packages (0.11.2)\n",
            "Requirement already satisfied: multitasking>=0.0.7 in /usr/local/lib/python3.7/dist-packages (from yfinance) (0.0.9)\n",
            "Requirement already satisfied: requests>=2.20 in /usr/local/lib/python3.7/dist-packages (from yfinance) (2.23.0)\n",
            "Requirement already satisfied: numpy>=1.15 in /usr/local/lib/python3.7/dist-packages (from yfinance) (1.19.5)\n",
            "Requirement already satisfied: pandas>=0.24 in /usr/local/lib/python3.7/dist-packages (from yfinance) (1.1.5)\n",
            "Collecting lxml>=4.5.1\n",
            "  Downloading lxml-4.6.4-cp37-cp37m-manylinux_2_17_x86_64.manylinux2014_x86_64.manylinux_2_24_x86_64.whl (6.3 MB)\n",
            "\u001b[K     |████████████████████████████████| 6.3 MB 5.4 MB/s \n",
            "\u001b[?25hRequirement already satisfied: pytz>=2017.2 in /usr/local/lib/python3.7/dist-packages (from pandas>=0.24->yfinance) (2018.9)\n",
            "Requirement already satisfied: python-dateutil>=2.7.3 in /usr/local/lib/python3.7/dist-packages (from pandas>=0.24->yfinance) (2.8.2)\n",
            "Requirement already satisfied: six>=1.5 in /usr/local/lib/python3.7/dist-packages (from python-dateutil>=2.7.3->pandas>=0.24->yfinance) (1.15.0)\n",
            "Requirement already satisfied: certifi>=2017.4.17 in /usr/local/lib/python3.7/dist-packages (from requests>=2.20->yfinance) (2021.10.8)\n",
            "Requirement already satisfied: idna<3,>=2.5 in /usr/local/lib/python3.7/dist-packages (from requests>=2.20->yfinance) (2.10)\n",
            "Requirement already satisfied: chardet<4,>=3.0.2 in /usr/local/lib/python3.7/dist-packages (from requests>=2.20->yfinance) (3.0.4)\n",
            "Requirement already satisfied: urllib3!=1.25.0,!=1.25.1,<1.26,>=1.21.1 in /usr/local/lib/python3.7/dist-packages (from requests>=2.20->yfinance) (1.24.3)\n",
            "Requirement already satisfied: threadpoolctl>=2.0.0 in /usr/local/lib/python3.7/dist-packages (from scikit-learn) (3.0.0)\n",
            "Requirement already satisfied: scipy>=1.1.0 in /usr/local/lib/python3.7/dist-packages (from scikit-learn) (1.4.1)\n",
            "Requirement already satisfied: joblib>=0.11 in /usr/local/lib/python3.7/dist-packages (from scikit-learn) (1.1.0)\n",
            "Requirement already satisfied: patsy>=0.4.0 in /usr/local/lib/python3.7/dist-packages (from statsmodels) (0.5.2)\n",
            "Requirement already satisfied: matplotlib>=2.2 in /usr/local/lib/python3.7/dist-packages (from seaborn) (3.2.2)\n",
            "Requirement already satisfied: pyparsing!=2.0.4,!=2.1.2,!=2.1.6,>=2.0.1 in /usr/local/lib/python3.7/dist-packages (from matplotlib>=2.2->seaborn) (2.4.7)\n",
            "Requirement already satisfied: kiwisolver>=1.0.1 in /usr/local/lib/python3.7/dist-packages (from matplotlib>=2.2->seaborn) (1.3.2)\n",
            "Requirement already satisfied: cycler>=0.10 in /usr/local/lib/python3.7/dist-packages (from matplotlib>=2.2->seaborn) (0.11.0)\n",
            "Installing collected packages: lxml, yfinance\n",
            "  Attempting uninstall: lxml\n",
            "    Found existing installation: lxml 4.2.6\n",
            "    Uninstalling lxml-4.2.6:\n",
            "      Successfully uninstalled lxml-4.2.6\n",
            "Successfully installed lxml-4.6.4 yfinance-0.1.66\n"
          ]
        }
      ]
    },
    {
      "cell_type": "code",
      "metadata": {
        "id": "KeqEZVdXKCF_"
      },
      "source": [
        "import yfinance as yf"
      ],
      "execution_count": 4,
      "outputs": []
    },
    {
      "cell_type": "code",
      "metadata": {
        "id": "yPYHuV5072sb"
      },
      "source": [
        "def get_sp500_list():\n",
        "  payload=pd.read_html('https://en.wikipedia.org/wiki/List_of_S%26P_500_companies')\n",
        "  first_table = payload[0]\n",
        "  sp500df = first_table\n",
        "  sp500_list = sp500df.Symbol.values.tolist()\n",
        "  return sp500_list"
      ],
      "execution_count": 5,
      "outputs": []
    },
    {
      "cell_type": "code",
      "metadata": {
        "colab": {
          "base_uri": "https://localhost:8080/"
        },
        "id": "t-snKIaV752L",
        "outputId": "eb760ddc-9c90-475d-d6cf-9809703413f9"
      },
      "source": [
        "df=yf.download(tickers=get_sp500_list(), period='1d')"
      ],
      "execution_count": 6,
      "outputs": [
        {
          "output_type": "stream",
          "name": "stdout",
          "text": [
            "[*********************100%***********************]  505 of 505 completed\n",
            "\n",
            "2 Failed downloads:\n",
            "- BF.B: No data found for this date range, symbol may be delisted\n",
            "- BRK.B: No data found, symbol may be delisted\n"
          ]
        }
      ]
    },
    {
      "cell_type": "code",
      "metadata": {
        "id": "QX9tOYNWKrgz",
        "colab": {
          "base_uri": "https://localhost:8080/"
        },
        "outputId": "4ca38818-0a3c-40ed-e386-3b528474f068"
      },
      "source": [
        "symbol='TSLA'\n",
        "df= yf.download(symbol, period='6mo', )"
      ],
      "execution_count": 66,
      "outputs": [
        {
          "output_type": "stream",
          "name": "stdout",
          "text": [
            "\r[*********************100%***********************]  1 of 1 completed\n"
          ]
        }
      ]
    },
    {
      "cell_type": "code",
      "metadata": {
        "id": "ZtCQglYkK4i8",
        "colab": {
          "base_uri": "https://localhost:8080/"
        },
        "outputId": "cf6b03d4-37a9-49cd-8db6-20c9650758f5"
      },
      "source": [
        "df.shape"
      ],
      "execution_count": 67,
      "outputs": [
        {
          "output_type": "execute_result",
          "data": {
            "text/plain": [
              "(129, 6)"
            ]
          },
          "metadata": {},
          "execution_count": 67
        }
      ]
    },
    {
      "cell_type": "code",
      "metadata": {
        "id": "oQsznwwoK5rt",
        "colab": {
          "base_uri": "https://localhost:8080/",
          "height": 235
        },
        "outputId": "c087dbf3-a3b6-461e-dd52-f796ce6ef6d8"
      },
      "source": [
        "pd.set_option('display.float_format', '{:20,.2f}'.format)\n",
        "\n",
        "df.describe().T"
      ],
      "execution_count": 68,
      "outputs": [
        {
          "output_type": "execute_result",
          "data": {
            "text/html": [
              "<div>\n",
              "<style scoped>\n",
              "    .dataframe tbody tr th:only-of-type {\n",
              "        vertical-align: middle;\n",
              "    }\n",
              "\n",
              "    .dataframe tbody tr th {\n",
              "        vertical-align: top;\n",
              "    }\n",
              "\n",
              "    .dataframe thead th {\n",
              "        text-align: right;\n",
              "    }\n",
              "</style>\n",
              "<table border=\"1\" class=\"dataframe\">\n",
              "  <thead>\n",
              "    <tr style=\"text-align: right;\">\n",
              "      <th></th>\n",
              "      <th>count</th>\n",
              "      <th>mean</th>\n",
              "      <th>std</th>\n",
              "      <th>min</th>\n",
              "      <th>25%</th>\n",
              "      <th>50%</th>\n",
              "      <th>75%</th>\n",
              "      <th>max</th>\n",
              "    </tr>\n",
              "  </thead>\n",
              "  <tbody>\n",
              "    <tr>\n",
              "      <th>Open</th>\n",
              "      <td>129.00</td>\n",
              "      <td>752.17</td>\n",
              "      <td>156.92</td>\n",
              "      <td>552.55</td>\n",
              "      <td>651.99</td>\n",
              "      <td>710.68</td>\n",
              "      <td>784.80</td>\n",
              "      <td>1,234.41</td>\n",
              "    </tr>\n",
              "    <tr>\n",
              "      <th>High</th>\n",
              "      <td>129.00</td>\n",
              "      <td>766.92</td>\n",
              "      <td>164.26</td>\n",
              "      <td>566.21</td>\n",
              "      <td>662.17</td>\n",
              "      <td>716.97</td>\n",
              "      <td>796.38</td>\n",
              "      <td>1,243.49</td>\n",
              "    </tr>\n",
              "    <tr>\n",
              "      <th>Low</th>\n",
              "      <td>129.00</td>\n",
              "      <td>740.42</td>\n",
              "      <td>151.70</td>\n",
              "      <td>546.98</td>\n",
              "      <td>639.40</td>\n",
              "      <td>702.10</td>\n",
              "      <td>774.20</td>\n",
              "      <td>1,217.00</td>\n",
              "    </tr>\n",
              "    <tr>\n",
              "      <th>Close</th>\n",
              "      <td>129.00</td>\n",
              "      <td>754.87</td>\n",
              "      <td>159.12</td>\n",
              "      <td>563.46</td>\n",
              "      <td>650.60</td>\n",
              "      <td>709.99</td>\n",
              "      <td>781.53</td>\n",
              "      <td>1,229.91</td>\n",
              "    </tr>\n",
              "    <tr>\n",
              "      <th>Adj Close</th>\n",
              "      <td>129.00</td>\n",
              "      <td>754.87</td>\n",
              "      <td>159.12</td>\n",
              "      <td>563.46</td>\n",
              "      <td>650.60</td>\n",
              "      <td>709.99</td>\n",
              "      <td>781.53</td>\n",
              "      <td>1,229.91</td>\n",
              "    </tr>\n",
              "    <tr>\n",
              "      <th>Volume</th>\n",
              "      <td>129.00</td>\n",
              "      <td>23,236,800.51</td>\n",
              "      <td>9,828,189.10</td>\n",
              "      <td>9,800,600.00</td>\n",
              "      <td>16,371,000.00</td>\n",
              "      <td>21,373,000.00</td>\n",
              "      <td>26,542,400.00</td>\n",
              "      <td>62,852,100.00</td>\n",
              "    </tr>\n",
              "  </tbody>\n",
              "</table>\n",
              "</div>"
            ],
            "text/plain": [
              "                         count  ...                  max\n",
              "Open                    129.00  ...             1,234.41\n",
              "High                    129.00  ...             1,243.49\n",
              "Low                     129.00  ...             1,217.00\n",
              "Close                   129.00  ...             1,229.91\n",
              "Adj Close               129.00  ...             1,229.91\n",
              "Volume                  129.00  ...        62,852,100.00\n",
              "\n",
              "[6 rows x 8 columns]"
            ]
          },
          "metadata": {},
          "execution_count": 68
        }
      ]
    },
    {
      "cell_type": "code",
      "metadata": {
        "id": "1WKGF_PsPdV2",
        "colab": {
          "base_uri": "https://localhost:8080/"
        },
        "outputId": "50d0361d-03f9-4dbc-8200-0d2cb002efbe"
      },
      "source": [
        "df.nunique()"
      ],
      "execution_count": 69,
      "outputs": [
        {
          "output_type": "execute_result",
          "data": {
            "text/plain": [
              "Open         129\n",
              "High         129\n",
              "Low          129\n",
              "Close        129\n",
              "Adj Close    129\n",
              "Volume       129\n",
              "dtype: int64"
            ]
          },
          "metadata": {},
          "execution_count": 69
        }
      ]
    },
    {
      "cell_type": "code",
      "metadata": {
        "id": "a5ZXZTDUpRWn",
        "colab": {
          "base_uri": "https://localhost:8080/"
        },
        "outputId": "abc05bc6-3605-42e7-a792-5c41ea77a3a5"
      },
      "source": [
        "df.isna().sum()"
      ],
      "execution_count": 70,
      "outputs": [
        {
          "output_type": "execute_result",
          "data": {
            "text/plain": [
              "Open         0\n",
              "High         0\n",
              "Low          0\n",
              "Close        0\n",
              "Adj Close    0\n",
              "Volume       0\n",
              "dtype: int64"
            ]
          },
          "metadata": {},
          "execution_count": 70
        }
      ]
    },
    {
      "cell_type": "code",
      "metadata": {
        "colab": {
          "base_uri": "https://localhost:8080/"
        },
        "id": "f2DAXLAiSQN6",
        "outputId": "3adcbec0-5d1d-4300-b49f-1b4887832ea3"
      },
      "source": [
        "df.dtypes"
      ],
      "execution_count": 71,
      "outputs": [
        {
          "output_type": "execute_result",
          "data": {
            "text/plain": [
              "Open         float64\n",
              "High         float64\n",
              "Low          float64\n",
              "Close        float64\n",
              "Adj Close    float64\n",
              "Volume         int64\n",
              "dtype: object"
            ]
          },
          "metadata": {},
          "execution_count": 71
        }
      ]
    },
    {
      "cell_type": "code",
      "metadata": {
        "id": "oDBA_HruPiHf"
      },
      "source": [
        "df.columns = df.columns.str.lower().str.replace(' ', '_')\n",
        "string_columns = list(df.dtypes[df.dtypes == 'object'].index)\n",
        "for col in string_columns:\n",
        "  df[col] = df[col].str.lower().str.replace(' ', '_')"
      ],
      "execution_count": 72,
      "outputs": []
    },
    {
      "cell_type": "code",
      "metadata": {
        "id": "y2-j7OruPjJe",
        "colab": {
          "base_uri": "https://localhost:8080/",
          "height": 390
        },
        "outputId": "910ef516-2f8c-49ef-97ee-eb2aef3c5861"
      },
      "source": [
        "df.head(10)"
      ],
      "execution_count": 73,
      "outputs": [
        {
          "output_type": "execute_result",
          "data": {
            "text/html": [
              "<div>\n",
              "<style scoped>\n",
              "    .dataframe tbody tr th:only-of-type {\n",
              "        vertical-align: middle;\n",
              "    }\n",
              "\n",
              "    .dataframe tbody tr th {\n",
              "        vertical-align: top;\n",
              "    }\n",
              "\n",
              "    .dataframe thead th {\n",
              "        text-align: right;\n",
              "    }\n",
              "</style>\n",
              "<table border=\"1\" class=\"dataframe\">\n",
              "  <thead>\n",
              "    <tr style=\"text-align: right;\">\n",
              "      <th></th>\n",
              "      <th>open</th>\n",
              "      <th>high</th>\n",
              "      <th>low</th>\n",
              "      <th>close</th>\n",
              "      <th>adj_close</th>\n",
              "      <th>volume</th>\n",
              "    </tr>\n",
              "    <tr>\n",
              "      <th>Date</th>\n",
              "      <th></th>\n",
              "      <th></th>\n",
              "      <th></th>\n",
              "      <th></th>\n",
              "      <th></th>\n",
              "      <th></th>\n",
              "    </tr>\n",
              "  </thead>\n",
              "  <tbody>\n",
              "    <tr>\n",
              "      <th>2021-05-18</th>\n",
              "      <td>568.00</td>\n",
              "      <td>596.25</td>\n",
              "      <td>563.38</td>\n",
              "      <td>577.87</td>\n",
              "      <td>577.87</td>\n",
              "      <td>36830600</td>\n",
              "    </tr>\n",
              "    <tr>\n",
              "      <th>2021-05-19</th>\n",
              "      <td>552.55</td>\n",
              "      <td>566.21</td>\n",
              "      <td>546.98</td>\n",
              "      <td>563.46</td>\n",
              "      <td>563.46</td>\n",
              "      <td>39578400</td>\n",
              "    </tr>\n",
              "    <tr>\n",
              "      <th>2021-05-20</th>\n",
              "      <td>575.00</td>\n",
              "      <td>588.85</td>\n",
              "      <td>571.07</td>\n",
              "      <td>586.78</td>\n",
              "      <td>586.78</td>\n",
              "      <td>30821100</td>\n",
              "    </tr>\n",
              "    <tr>\n",
              "      <th>2021-05-21</th>\n",
              "      <td>596.11</td>\n",
              "      <td>596.68</td>\n",
              "      <td>580.00</td>\n",
              "      <td>580.88</td>\n",
              "      <td>580.88</td>\n",
              "      <td>26030600</td>\n",
              "    </tr>\n",
              "    <tr>\n",
              "      <th>2021-05-24</th>\n",
              "      <td>581.60</td>\n",
              "      <td>614.48</td>\n",
              "      <td>573.65</td>\n",
              "      <td>606.44</td>\n",
              "      <td>606.44</td>\n",
              "      <td>34558100</td>\n",
              "    </tr>\n",
              "    <tr>\n",
              "      <th>2021-05-25</th>\n",
              "      <td>607.31</td>\n",
              "      <td>613.99</td>\n",
              "      <td>595.71</td>\n",
              "      <td>604.69</td>\n",
              "      <td>604.69</td>\n",
              "      <td>28005900</td>\n",
              "    </tr>\n",
              "    <tr>\n",
              "      <th>2021-05-26</th>\n",
              "      <td>607.56</td>\n",
              "      <td>626.17</td>\n",
              "      <td>601.50</td>\n",
              "      <td>619.13</td>\n",
              "      <td>619.13</td>\n",
              "      <td>28639300</td>\n",
              "    </tr>\n",
              "    <tr>\n",
              "      <th>2021-05-27</th>\n",
              "      <td>620.24</td>\n",
              "      <td>631.13</td>\n",
              "      <td>616.21</td>\n",
              "      <td>630.85</td>\n",
              "      <td>630.85</td>\n",
              "      <td>26370600</td>\n",
              "    </tr>\n",
              "    <tr>\n",
              "      <th>2021-05-28</th>\n",
              "      <td>628.50</td>\n",
              "      <td>635.59</td>\n",
              "      <td>622.38</td>\n",
              "      <td>625.22</td>\n",
              "      <td>625.22</td>\n",
              "      <td>22737000</td>\n",
              "    </tr>\n",
              "    <tr>\n",
              "      <th>2021-06-01</th>\n",
              "      <td>627.80</td>\n",
              "      <td>633.80</td>\n",
              "      <td>620.55</td>\n",
              "      <td>623.90</td>\n",
              "      <td>623.90</td>\n",
              "      <td>18084900</td>\n",
              "    </tr>\n",
              "  </tbody>\n",
              "</table>\n",
              "</div>"
            ],
            "text/plain": [
              "                           open  ...    volume\n",
              "Date                             ...          \n",
              "2021-05-18               568.00  ...  36830600\n",
              "2021-05-19               552.55  ...  39578400\n",
              "2021-05-20               575.00  ...  30821100\n",
              "2021-05-21               596.11  ...  26030600\n",
              "2021-05-24               581.60  ...  34558100\n",
              "2021-05-25               607.31  ...  28005900\n",
              "2021-05-26               607.56  ...  28639300\n",
              "2021-05-27               620.24  ...  26370600\n",
              "2021-05-28               628.50  ...  22737000\n",
              "2021-06-01               627.80  ...  18084900\n",
              "\n",
              "[10 rows x 6 columns]"
            ]
          },
          "metadata": {},
          "execution_count": 73
        }
      ]
    },
    {
      "cell_type": "code",
      "metadata": {
        "colab": {
          "base_uri": "https://localhost:8080/",
          "height": 295
        },
        "id": "Ac7gfNY1SZ9u",
        "outputId": "400f8b10-7ae6-4c0f-cf34-835d267bb10b"
      },
      "source": [
        "plt.figure(figsize=(6,4))\n",
        "sns.histplot(df.close, bins=40, color='red', alpha=1)\n",
        "plt.ylabel(\"Frequency\")\n",
        "plt.xlabel('close price')\n",
        "plt.title('Dist hist')\n",
        "plt.show()"
      ],
      "execution_count": 74,
      "outputs": [
        {
          "output_type": "display_data",
          "data": {
            "image/png": "[encoded data removed]",
            "text/plain": [
              "<Figure size 432x288 with 1 Axes>"
            ]
          },
          "metadata": {
            "needs_background": "light"
          }
        }
      ]
    },
    {
      "cell_type": "code",
      "metadata": {
        "id": "R8xquJR3op0k"
      },
      "source": [
        "def make_X_and_Y(close_prices, period=6):\n",
        "  X = []\n",
        "  y = []\n",
        "  for i in range(len(close_prices)- period):\n",
        "    X.append(close_prices[i:i+period])\n",
        "    y.append(close_prices[i+period])\n",
        "  return X,y"
      ],
      "execution_count": 75,
      "outputs": []
    },
    {
      "cell_type": "code",
      "metadata": {
        "colab": {
          "base_uri": "https://localhost:8080/",
          "height": 295
        },
        "id": "fp9iIcp3Esty",
        "outputId": "323814a9-086e-4760-e48d-b0606ac653a2"
      },
      "source": [
        "log_price = np.log1p(df.close)\n",
        "\n",
        "plt.figure(figsize=(6, 4))\n",
        "\n",
        "sns.histplot(log_price, bins=40, color='black', alpha=1)\n",
        "plt.ylabel('Frequency')\n",
        "plt.xlabel('Log(Price + 1)')\n",
        "plt.title('Distribution of prices after log tranformation')\n",
        "\n",
        "plt.show()"
      ],
      "execution_count": 76,
      "outputs": [
        {
          "output_type": "display_data",
          "data": {
            "image/png": "[encoded data removed]",
            "text/plain": [
              "<Figure size 432x288 with 1 Axes>"
            ]
          },
          "metadata": {
            "needs_background": "light"
          }
        }
      ]
    },
    {
      "cell_type": "code",
      "metadata": {
        "id": "SGv1d0EXM7-6",
        "colab": {
          "base_uri": "https://localhost:8080/"
        },
        "outputId": "5137b6f7-c092-4611-92c9-c11758dc7c10"
      },
      "source": [
        "from sklearn.model_selection import train_test_split\n",
        "X,y=make_X_and_Y(list(df.close))\n",
        "dfr = pd.DataFrame({'actual': X, 'predicted': y})\n",
        "\n",
        "train, test= train_test_split(dfr,test_size=0.15 , shuffle=False,random_state = 0)\n",
        "train_x = train['actual'].to_list()\n",
        "train_y = train['predicted'].to_list()\n",
        "test_x = train['actual'].to_list()\n",
        "test_y = train['predicted'].to_list()\n",
        "\n",
        "print(train.shape)\n",
        "print(test.shape)"
      ],
      "execution_count": 77,
      "outputs": [
        {
          "output_type": "stream",
          "name": "stdout",
          "text": [
            "(104, 2)\n",
            "(19, 2)\n"
          ]
        }
      ]
    },
    {
      "cell_type": "code",
      "metadata": {
        "colab": {
          "base_uri": "https://localhost:8080/"
        },
        "id": "rS01Jpj8NFxp",
        "outputId": "5b18c949-5a6f-412f-9b1d-cdf3c3e509d4"
      },
      "source": [
        "print((train_x))\n",
        "print((test_x))\n",
        "print((train_y))\n",
        "print((test_y))"
      ],
      "execution_count": 78,
      "outputs": [
        {
          "output_type": "stream",
          "name": "stdout",
          "text": [
            "[[577.8699951171875, 563.4600219726562, 586.780029296875, 580.8800048828125, 606.4400024414062, 604.6900024414062], [563.4600219726562, 586.780029296875, 580.8800048828125, 606.4400024414062, 604.6900024414062, 619.1300048828125], [586.780029296875, 580.8800048828125, 606.4400024414062, 604.6900024414062, 619.1300048828125, 630.8499755859375], [580.8800048828125, 606.4400024414062, 604.6900024414062, 619.1300048828125, 630.8499755859375, 625.219970703125], [606.4400024414062, 604.6900024414062, 619.1300048828125, 630.8499755859375, 625.219970703125, 623.9000244140625], [604.6900024414062, 619.1300048828125, 630.8499755859375, 625.219970703125, 623.9000244140625, 605.1199951171875], [619.1300048828125, 630.8499755859375, 625.219970703125, 623.9000244140625, 605.1199951171875, 572.8400268554688], [630.8499755859375, 625.219970703125, 623.9000244140625, 605.1199951171875, 572.8400268554688, 599.0499877929688], [625.219970703125, 623.9000244140625, 605.1199951171875, 572.8400268554688, 599.0499877929688, 605.1300048828125], [623.9000244140625, 605.1199951171875, 572.8400268554688, 599.0499877929688, 605.1300048828125, 603.5900268554688], [605.1199951171875, 572.8400268554688, 599.0499877929688, 605.1300048828125, 603.5900268554688, 598.780029296875], [572.8400268554688, 599.0499877929688, 605.1300048828125, 603.5900268554688, 598.780029296875, 610.1199951171875], [599.0499877929688, 605.1300048828125, 603.5900268554688, 598.780029296875, 610.1199951171875, 609.8900146484375], [605.1300048828125, 603.5900268554688, 598.780029296875, 610.1199951171875, 609.8900146484375, 617.6900024414062], [603.5900268554688, 598.780029296875, 610.1199951171875, 609.8900146484375, 617.6900024414062, 599.3599853515625], [598.780029296875, 610.1199951171875, 609.8900146484375, 617.6900024414062, 599.3599853515625, 604.8699951171875], [610.1199951171875, 609.8900146484375, 617.6900024414062, 599.3599853515625, 604.8699951171875, 616.5999755859375], [609.8900146484375, 617.6900024414062, 599.3599853515625, 604.8699951171875, 616.5999755859375, 623.3099975585938], [617.6900024414062, 599.3599853515625, 604.8699951171875, 616.5999755859375, 623.3099975585938, 620.8300170898438], [599.3599853515625, 604.8699951171875, 616.5999755859375, 623.3099975585938, 620.8300170898438, 623.7100219726562], [604.8699951171875, 616.5999755859375, 623.3099975585938, 620.8300170898438, 623.7100219726562, 656.5700073242188], [616.5999755859375, 623.3099975585938, 620.8300170898438, 623.7100219726562, 656.5700073242188, 679.8200073242188], [623.3099975585938, 620.8300170898438, 623.7100219726562, 656.5700073242188, 679.8200073242188, 671.8699951171875], [620.8300170898438, 623.7100219726562, 656.5700073242188, 679.8200073242188, 671.8699951171875, 688.719970703125], [623.7100219726562, 656.5700073242188, 679.8200073242188, 671.8699951171875, 688.719970703125, 680.760009765625], [656.5700073242188, 679.8200073242188, 671.8699951171875, 688.719970703125, 680.760009765625, 679.7000122070312], [679.8200073242188, 671.8699951171875, 688.719970703125, 680.760009765625, 679.7000122070312, 677.9199829101562], [671.8699951171875, 688.719970703125, 680.760009765625, 679.7000122070312, 677.9199829101562, 678.9000244140625], [688.719970703125, 680.760009765625, 679.7000122070312, 677.9199829101562, 678.9000244140625, 659.5800170898438], [680.760009765625, 679.7000122070312, 677.9199829101562, 678.9000244140625, 659.5800170898438, 644.6500244140625], [679.7000122070312, 677.9199829101562, 678.9000244140625, 659.5800170898438, 644.6500244140625, 652.8099975585938], [677.9199829101562, 678.9000244140625, 659.5800170898438, 644.6500244140625, 652.8099975585938, 656.9500122070312], [678.9000244140625, 659.5800170898438, 644.6500244140625, 652.8099975585938, 656.9500122070312, 685.7000122070312], [659.5800170898438, 644.6500244140625, 652.8099975585938, 656.9500122070312, 685.7000122070312, 668.5399780273438], [644.6500244140625, 652.8099975585938, 656.9500122070312, 685.7000122070312, 668.5399780273438, 653.3800048828125], [652.8099975585938, 656.9500122070312, 685.7000122070312, 668.5399780273438, 653.3800048828125, 650.5999755859375], [656.9500122070312, 685.7000122070312, 668.5399780273438, 653.3800048828125, 650.5999755859375, 644.219970703125], [685.7000122070312, 668.5399780273438, 653.3800048828125, 650.5999755859375, 644.219970703125, 646.219970703125], [668.5399780273438, 653.3800048828125, 650.5999755859375, 644.219970703125, 646.219970703125, 660.5], [653.3800048828125, 650.5999755859375, 644.219970703125, 646.219970703125, 660.5, 655.2899780273438], [650.5999755859375, 644.219970703125, 646.219970703125, 660.5, 655.2899780273438, 649.260009765625], [644.219970703125, 646.219970703125, 660.5, 655.2899780273438, 649.260009765625, 643.3800048828125], [646.219970703125, 660.5, 655.2899780273438, 649.260009765625, 643.3800048828125, 657.6199951171875], [660.5, 655.2899780273438, 649.260009765625, 643.3800048828125, 657.6199951171875, 644.780029296875], [655.2899780273438, 649.260009765625, 643.3800048828125, 657.6199951171875, 644.780029296875, 646.97998046875], [649.260009765625, 643.3800048828125, 657.6199951171875, 644.780029296875, 646.97998046875, 677.3499755859375], [643.3800048828125, 657.6199951171875, 644.780029296875, 646.97998046875, 677.3499755859375, 687.2000122070312], [657.6199951171875, 644.780029296875, 646.97998046875, 677.3499755859375, 687.2000122070312, 709.6699829101562], [644.780029296875, 646.97998046875, 677.3499755859375, 687.2000122070312, 709.6699829101562, 709.739990234375], [646.97998046875, 677.3499755859375, 687.2000122070312, 709.6699829101562, 709.739990234375, 710.9199829101562], [677.3499755859375, 687.2000122070312, 709.6699829101562, 709.739990234375, 710.9199829101562, 714.6300048828125], [687.2000122070312, 709.6699829101562, 709.739990234375, 710.9199829101562, 714.6300048828125, 699.0999755859375], [709.6699829101562, 709.739990234375, 710.9199829101562, 714.6300048828125, 699.0999755859375, 713.760009765625], [709.739990234375, 710.9199829101562, 714.6300048828125, 699.0999755859375, 713.760009765625, 709.989990234375], [710.9199829101562, 714.6300048828125, 699.0999755859375, 713.760009765625, 709.989990234375, 707.8200073242188], [714.6300048828125, 699.0999755859375, 713.760009765625, 709.989990234375, 707.8200073242188, 722.25], [699.0999755859375, 713.760009765625, 709.989990234375, 707.8200073242188, 722.25, 717.1699829101562], [713.760009765625, 709.989990234375, 707.8200073242188, 722.25, 717.1699829101562, 686.1699829101562], [709.989990234375, 707.8200073242188, 722.25, 717.1699829101562, 686.1699829101562, 665.7100219726562], [707.8200073242188, 722.25, 717.1699829101562, 686.1699829101562, 665.7100219726562, 688.989990234375], [722.25, 717.1699829101562, 686.1699829101562, 665.7100219726562, 688.989990234375, 673.469970703125], [717.1699829101562, 686.1699829101562, 665.7100219726562, 688.989990234375, 673.469970703125, 680.260009765625], [686.1699829101562, 665.7100219726562, 688.989990234375, 673.469970703125, 680.260009765625, 706.2999877929688], [665.7100219726562, 688.989990234375, 673.469970703125, 680.260009765625, 706.2999877929688, 708.489990234375], [688.989990234375, 673.469970703125, 680.260009765625, 706.2999877929688, 708.489990234375, 711.2000122070312], [673.469970703125, 680.260009765625, 706.2999877929688, 708.489990234375, 711.2000122070312, 701.1599731445312], [680.260009765625, 706.2999877929688, 708.489990234375, 711.2000122070312, 701.1599731445312, 711.9199829101562], [706.2999877929688, 708.489990234375, 711.2000122070312, 701.1599731445312, 711.9199829101562, 730.9099731445312], [708.489990234375, 711.2000122070312, 701.1599731445312, 711.9199829101562, 730.9099731445312, 735.719970703125], [711.2000122070312, 701.1599731445312, 711.9199829101562, 730.9099731445312, 735.719970703125, 734.0900268554688], [701.1599731445312, 711.9199829101562, 730.9099731445312, 735.719970703125, 734.0900268554688, 732.3900146484375], [711.9199829101562, 730.9099731445312, 735.719970703125, 734.0900268554688, 732.3900146484375, 733.5700073242188], [730.9099731445312, 735.719970703125, 734.0900268554688, 732.3900146484375, 733.5700073242188, 752.9199829101562], [735.719970703125, 734.0900268554688, 732.3900146484375, 733.5700073242188, 752.9199829101562, 753.8699951171875], [734.0900268554688, 732.3900146484375, 733.5700073242188, 752.9199829101562, 753.8699951171875, 754.8599853515625], [732.3900146484375, 733.5700073242188, 752.9199829101562, 753.8699951171875, 754.8599853515625, 736.27001953125], [733.5700073242188, 752.9199829101562, 753.8699951171875, 754.8599853515625, 736.27001953125, 743.0], [752.9199829101562, 753.8699951171875, 754.8599853515625, 736.27001953125, 743.0, 744.489990234375], [753.8699951171875, 754.8599853515625, 736.27001953125, 743.0, 744.489990234375, 755.8300170898438], [754.8599853515625, 736.27001953125, 743.0, 744.489990234375, 755.8300170898438, 756.989990234375], [736.27001953125, 743.0, 744.489990234375, 755.8300170898438, 756.989990234375, 759.489990234375], [743.0, 744.489990234375, 755.8300170898438, 756.989990234375, 759.489990234375, 730.1699829101562], [744.489990234375, 755.8300170898438, 756.989990234375, 759.489990234375, 730.1699829101562, 739.3800048828125], [755.8300170898438, 756.989990234375, 759.489990234375, 730.1699829101562, 739.3800048828125, 751.9400024414062], [756.989990234375, 759.489990234375, 730.1699829101562, 739.3800048828125, 751.9400024414062, 753.6400146484375], [759.489990234375, 730.1699829101562, 739.3800048828125, 751.9400024414062, 753.6400146484375, 774.3900146484375], [730.1699829101562, 739.3800048828125, 751.9400024414062, 753.6400146484375, 774.3900146484375, 791.3599853515625], [739.3800048828125, 751.9400024414062, 753.6400146484375, 774.3900146484375, 791.3599853515625, 777.5599975585938], [751.9400024414062, 753.6400146484375, 774.3900146484375, 791.3599853515625, 777.5599975585938, 781.3099975585938], [753.6400146484375, 774.3900146484375, 791.3599853515625, 777.5599975585938, 781.3099975585938, 775.47998046875], [774.3900146484375, 791.3599853515625, 777.5599975585938, 781.3099975585938, 775.47998046875, 775.219970703125], [791.3599853515625, 777.5599975585938, 781.3099975585938, 775.47998046875, 775.219970703125, 781.530029296875], [777.5599975585938, 781.3099975585938, 775.47998046875, 775.219970703125, 781.530029296875, 780.5900268554688], [781.3099975585938, 775.47998046875, 775.219970703125, 781.530029296875, 780.5900268554688, 782.75], [775.47998046875, 775.219970703125, 781.530029296875, 780.5900268554688, 782.75, 793.6099853515625], [775.219970703125, 781.530029296875, 780.5900268554688, 782.75, 793.6099853515625, 785.489990234375], [781.530029296875, 780.5900268554688, 782.75, 793.6099853515625, 785.489990234375, 791.9400024414062], [780.5900268554688, 782.75, 793.6099853515625, 785.489990234375, 791.9400024414062, 805.719970703125], [782.75, 793.6099853515625, 785.489990234375, 791.9400024414062, 805.719970703125, 811.0800170898438], [793.6099853515625, 785.489990234375, 791.9400024414062, 805.719970703125, 811.0800170898438, 818.3200073242188], [785.489990234375, 791.9400024414062, 805.719970703125, 811.0800170898438, 818.3200073242188, 843.030029296875], [791.9400024414062, 805.719970703125, 811.0800170898438, 818.3200073242188, 843.030029296875, 870.1099853515625], [805.719970703125, 811.0800170898438, 818.3200073242188, 843.030029296875, 870.1099853515625, 864.27001953125], [811.0800170898438, 818.3200073242188, 843.030029296875, 870.1099853515625, 864.27001953125, 865.7999877929688]]\n",
            "[[577.8699951171875, 563.4600219726562, 586.780029296875, 580.8800048828125, 606.4400024414062, 604.6900024414062], [563.4600219726562, 586.780029296875, 580.8800048828125, 606.4400024414062, 604.6900024414062, 619.1300048828125], [586.780029296875, 580.8800048828125, 606.4400024414062, 604.6900024414062, 619.1300048828125, 630.8499755859375], [580.8800048828125, 606.4400024414062, 604.6900024414062, 619.1300048828125, 630.8499755859375, 625.219970703125], [606.4400024414062, 604.6900024414062, 619.1300048828125, 630.8499755859375, 625.219970703125, 623.9000244140625], [604.6900024414062, 619.1300048828125, 630.8499755859375, 625.219970703125, 623.9000244140625, 605.1199951171875], [619.1300048828125, 630.8499755859375, 625.219970703125, 623.9000244140625, 605.1199951171875, 572.8400268554688], [630.8499755859375, 625.219970703125, 623.9000244140625, 605.1199951171875, 572.8400268554688, 599.0499877929688], [625.219970703125, 623.9000244140625, 605.1199951171875, 572.8400268554688, 599.0499877929688, 605.1300048828125], [623.9000244140625, 605.1199951171875, 572.8400268554688, 599.0499877929688, 605.1300048828125, 603.5900268554688], [605.1199951171875, 572.8400268554688, 599.0499877929688, 605.1300048828125, 603.5900268554688, 598.780029296875], [572.8400268554688, 599.0499877929688, 605.1300048828125, 603.5900268554688, 598.780029296875, 610.1199951171875], [599.0499877929688, 605.1300048828125, 603.5900268554688, 598.780029296875, 610.1199951171875, 609.8900146484375], [605.1300048828125, 603.5900268554688, 598.780029296875, 610.1199951171875, 609.8900146484375, 617.6900024414062], [603.5900268554688, 598.780029296875, 610.1199951171875, 609.8900146484375, 617.6900024414062, 599.3599853515625], [598.780029296875, 610.1199951171875, 609.8900146484375, 617.6900024414062, 599.3599853515625, 604.8699951171875], [610.1199951171875, 609.8900146484375, 617.6900024414062, 599.3599853515625, 604.8699951171875, 616.5999755859375], [609.8900146484375, 617.6900024414062, 599.3599853515625, 604.8699951171875, 616.5999755859375, 623.3099975585938], [617.6900024414062, 599.3599853515625, 604.8699951171875, 616.5999755859375, 623.3099975585938, 620.8300170898438], [599.3599853515625, 604.8699951171875, 616.5999755859375, 623.3099975585938, 620.8300170898438, 623.7100219726562], [604.8699951171875, 616.5999755859375, 623.3099975585938, 620.8300170898438, 623.7100219726562, 656.5700073242188], [616.5999755859375, 623.3099975585938, 620.8300170898438, 623.7100219726562, 656.5700073242188, 679.8200073242188], [623.3099975585938, 620.8300170898438, 623.7100219726562, 656.5700073242188, 679.8200073242188, 671.8699951171875], [620.8300170898438, 623.7100219726562, 656.5700073242188, 679.8200073242188, 671.8699951171875, 688.719970703125], [623.7100219726562, 656.5700073242188, 679.8200073242188, 671.8699951171875, 688.719970703125, 680.760009765625], [656.5700073242188, 679.8200073242188, 671.8699951171875, 688.719970703125, 680.760009765625, 679.7000122070312], [679.8200073242188, 671.8699951171875, 688.719970703125, 680.760009765625, 679.7000122070312, 677.9199829101562], [671.8699951171875, 688.719970703125, 680.760009765625, 679.7000122070312, 677.9199829101562, 678.9000244140625], [688.719970703125, 680.760009765625, 679.7000122070312, 677.9199829101562, 678.9000244140625, 659.5800170898438], [680.760009765625, 679.7000122070312, 677.9199829101562, 678.9000244140625, 659.5800170898438, 644.6500244140625], [679.7000122070312, 677.9199829101562, 678.9000244140625, 659.5800170898438, 644.6500244140625, 652.8099975585938], [677.9199829101562, 678.9000244140625, 659.5800170898438, 644.6500244140625, 652.8099975585938, 656.9500122070312], [678.9000244140625, 659.5800170898438, 644.6500244140625, 652.8099975585938, 656.9500122070312, 685.7000122070312], [659.5800170898438, 644.6500244140625, 652.8099975585938, 656.9500122070312, 685.7000122070312, 668.5399780273438], [644.6500244140625, 652.8099975585938, 656.9500122070312, 685.7000122070312, 668.5399780273438, 653.3800048828125], [652.8099975585938, 656.9500122070312, 685.7000122070312, 668.5399780273438, 653.3800048828125, 650.5999755859375], [656.9500122070312, 685.7000122070312, 668.5399780273438, 653.3800048828125, 650.5999755859375, 644.219970703125], [685.7000122070312, 668.5399780273438, 653.3800048828125, 650.5999755859375, 644.219970703125, 646.219970703125], [668.5399780273438, 653.3800048828125, 650.5999755859375, 644.219970703125, 646.219970703125, 660.5], [653.3800048828125, 650.5999755859375, 644.219970703125, 646.219970703125, 660.5, 655.2899780273438], [650.5999755859375, 644.219970703125, 646.219970703125, 660.5, 655.2899780273438, 649.260009765625], [644.219970703125, 646.219970703125, 660.5, 655.2899780273438, 649.260009765625, 643.3800048828125], [646.219970703125, 660.5, 655.2899780273438, 649.260009765625, 643.3800048828125, 657.6199951171875], [660.5, 655.2899780273438, 649.260009765625, 643.3800048828125, 657.6199951171875, 644.780029296875], [655.2899780273438, 649.260009765625, 643.3800048828125, 657.6199951171875, 644.780029296875, 646.97998046875], [649.260009765625, 643.3800048828125, 657.6199951171875, 644.780029296875, 646.97998046875, 677.3499755859375], [643.3800048828125, 657.6199951171875, 644.780029296875, 646.97998046875, 677.3499755859375, 687.2000122070312], [657.6199951171875, 644.780029296875, 646.97998046875, 677.3499755859375, 687.2000122070312, 709.6699829101562], [644.780029296875, 646.97998046875, 677.3499755859375, 687.2000122070312, 709.6699829101562, 709.739990234375], [646.97998046875, 677.3499755859375, 687.2000122070312, 709.6699829101562, 709.739990234375, 710.9199829101562], [677.3499755859375, 687.2000122070312, 709.6699829101562, 709.739990234375, 710.9199829101562, 714.6300048828125], [687.2000122070312, 709.6699829101562, 709.739990234375, 710.9199829101562, 714.6300048828125, 699.0999755859375], [709.6699829101562, 709.739990234375, 710.9199829101562, 714.6300048828125, 699.0999755859375, 713.760009765625], [709.739990234375, 710.9199829101562, 714.6300048828125, 699.0999755859375, 713.760009765625, 709.989990234375], [710.9199829101562, 714.6300048828125, 699.0999755859375, 713.760009765625, 709.989990234375, 707.8200073242188], [714.6300048828125, 699.0999755859375, 713.760009765625, 709.989990234375, 707.8200073242188, 722.25], [699.0999755859375, 713.760009765625, 709.989990234375, 707.8200073242188, 722.25, 717.1699829101562], [713.760009765625, 709.989990234375, 707.8200073242188, 722.25, 717.1699829101562, 686.1699829101562], [709.989990234375, 707.8200073242188, 722.25, 717.1699829101562, 686.1699829101562, 665.7100219726562], [707.8200073242188, 722.25, 717.1699829101562, 686.1699829101562, 665.7100219726562, 688.989990234375], [722.25, 717.1699829101562, 686.1699829101562, 665.7100219726562, 688.989990234375, 673.469970703125], [717.1699829101562, 686.1699829101562, 665.7100219726562, 688.989990234375, 673.469970703125, 680.260009765625], [686.1699829101562, 665.7100219726562, 688.989990234375, 673.469970703125, 680.260009765625, 706.2999877929688], [665.7100219726562, 688.989990234375, 673.469970703125, 680.260009765625, 706.2999877929688, 708.489990234375], [688.989990234375, 673.469970703125, 680.260009765625, 706.2999877929688, 708.489990234375, 711.2000122070312], [673.469970703125, 680.260009765625, 706.2999877929688, 708.489990234375, 711.2000122070312, 701.1599731445312], [680.260009765625, 706.2999877929688, 708.489990234375, 711.2000122070312, 701.1599731445312, 711.9199829101562], [706.2999877929688, 708.489990234375, 711.2000122070312, 701.1599731445312, 711.9199829101562, 730.9099731445312], [708.489990234375, 711.2000122070312, 701.1599731445312, 711.9199829101562, 730.9099731445312, 735.719970703125], [711.2000122070312, 701.1599731445312, 711.9199829101562, 730.9099731445312, 735.719970703125, 734.0900268554688], [701.1599731445312, 711.9199829101562, 730.9099731445312, 735.719970703125, 734.0900268554688, 732.3900146484375], [711.9199829101562, 730.9099731445312, 735.719970703125, 734.0900268554688, 732.3900146484375, 733.5700073242188], [730.9099731445312, 735.719970703125, 734.0900268554688, 732.3900146484375, 733.5700073242188, 752.9199829101562], [735.719970703125, 734.0900268554688, 732.3900146484375, 733.5700073242188, 752.9199829101562, 753.8699951171875], [734.0900268554688, 732.3900146484375, 733.5700073242188, 752.9199829101562, 753.8699951171875, 754.8599853515625], [732.3900146484375, 733.5700073242188, 752.9199829101562, 753.8699951171875, 754.8599853515625, 736.27001953125], [733.5700073242188, 752.9199829101562, 753.8699951171875, 754.8599853515625, 736.27001953125, 743.0], [752.9199829101562, 753.8699951171875, 754.8599853515625, 736.27001953125, 743.0, 744.489990234375], [753.8699951171875, 754.8599853515625, 736.27001953125, 743.0, 744.489990234375, 755.8300170898438], [754.8599853515625, 736.27001953125, 743.0, 744.489990234375, 755.8300170898438, 756.989990234375], [736.27001953125, 743.0, 744.489990234375, 755.8300170898438, 756.989990234375, 759.489990234375], [743.0, 744.489990234375, 755.8300170898438, 756.989990234375, 759.489990234375, 730.1699829101562], [744.489990234375, 755.8300170898438, 756.989990234375, 759.489990234375, 730.1699829101562, 739.3800048828125], [755.8300170898438, 756.989990234375, 759.489990234375, 730.1699829101562, 739.3800048828125, 751.9400024414062], [756.989990234375, 759.489990234375, 730.1699829101562, 739.3800048828125, 751.9400024414062, 753.6400146484375], [759.489990234375, 730.1699829101562, 739.3800048828125, 751.9400024414062, 753.6400146484375, 774.3900146484375], [730.1699829101562, 739.3800048828125, 751.9400024414062, 753.6400146484375, 774.3900146484375, 791.3599853515625], [739.3800048828125, 751.9400024414062, 753.6400146484375, 774.3900146484375, 791.3599853515625, 777.5599975585938], [751.9400024414062, 753.6400146484375, 774.3900146484375, 791.3599853515625, 777.5599975585938, 781.3099975585938], [753.6400146484375, 774.3900146484375, 791.3599853515625, 777.5599975585938, 781.3099975585938, 775.47998046875], [774.3900146484375, 791.3599853515625, 777.5599975585938, 781.3099975585938, 775.47998046875, 775.219970703125], [791.3599853515625, 777.5599975585938, 781.3099975585938, 775.47998046875, 775.219970703125, 781.530029296875], [777.5599975585938, 781.3099975585938, 775.47998046875, 775.219970703125, 781.530029296875, 780.5900268554688], [781.3099975585938, 775.47998046875, 775.219970703125, 781.530029296875, 780.5900268554688, 782.75], [775.47998046875, 775.219970703125, 781.530029296875, 780.5900268554688, 782.75, 793.6099853515625], [775.219970703125, 781.530029296875, 780.5900268554688, 782.75, 793.6099853515625, 785.489990234375], [781.530029296875, 780.5900268554688, 782.75, 793.6099853515625, 785.489990234375, 791.9400024414062], [780.5900268554688, 782.75, 793.6099853515625, 785.489990234375, 791.9400024414062, 805.719970703125], [782.75, 793.6099853515625, 785.489990234375, 791.9400024414062, 805.719970703125, 811.0800170898438], [793.6099853515625, 785.489990234375, 791.9400024414062, 805.719970703125, 811.0800170898438, 818.3200073242188], [785.489990234375, 791.9400024414062, 805.719970703125, 811.0800170898438, 818.3200073242188, 843.030029296875], [791.9400024414062, 805.719970703125, 811.0800170898438, 818.3200073242188, 843.030029296875, 870.1099853515625], [805.719970703125, 811.0800170898438, 818.3200073242188, 843.030029296875, 870.1099853515625, 864.27001953125], [811.0800170898438, 818.3200073242188, 843.030029296875, 870.1099853515625, 864.27001953125, 865.7999877929688]]\n",
            "[619.1300048828125, 630.8499755859375, 625.219970703125, 623.9000244140625, 605.1199951171875, 572.8400268554688, 599.0499877929688, 605.1300048828125, 603.5900268554688, 598.780029296875, 610.1199951171875, 609.8900146484375, 617.6900024414062, 599.3599853515625, 604.8699951171875, 616.5999755859375, 623.3099975585938, 620.8300170898438, 623.7100219726562, 656.5700073242188, 679.8200073242188, 671.8699951171875, 688.719970703125, 680.760009765625, 679.7000122070312, 677.9199829101562, 678.9000244140625, 659.5800170898438, 644.6500244140625, 652.8099975585938, 656.9500122070312, 685.7000122070312, 668.5399780273438, 653.3800048828125, 650.5999755859375, 644.219970703125, 646.219970703125, 660.5, 655.2899780273438, 649.260009765625, 643.3800048828125, 657.6199951171875, 644.780029296875, 646.97998046875, 677.3499755859375, 687.2000122070312, 709.6699829101562, 709.739990234375, 710.9199829101562, 714.6300048828125, 699.0999755859375, 713.760009765625, 709.989990234375, 707.8200073242188, 722.25, 717.1699829101562, 686.1699829101562, 665.7100219726562, 688.989990234375, 673.469970703125, 680.260009765625, 706.2999877929688, 708.489990234375, 711.2000122070312, 701.1599731445312, 711.9199829101562, 730.9099731445312, 735.719970703125, 734.0900268554688, 732.3900146484375, 733.5700073242188, 752.9199829101562, 753.8699951171875, 754.8599853515625, 736.27001953125, 743.0, 744.489990234375, 755.8300170898438, 756.989990234375, 759.489990234375, 730.1699829101562, 739.3800048828125, 751.9400024414062, 753.6400146484375, 774.3900146484375, 791.3599853515625, 777.5599975585938, 781.3099975585938, 775.47998046875, 775.219970703125, 781.530029296875, 780.5900268554688, 782.75, 793.6099853515625, 785.489990234375, 791.9400024414062, 805.719970703125, 811.0800170898438, 818.3200073242188, 843.030029296875, 870.1099853515625, 864.27001953125, 865.7999877929688, 894.0]\n",
            "[619.1300048828125, 630.8499755859375, 625.219970703125, 623.9000244140625, 605.1199951171875, 572.8400268554688, 599.0499877929688, 605.1300048828125, 603.5900268554688, 598.780029296875, 610.1199951171875, 609.8900146484375, 617.6900024414062, 599.3599853515625, 604.8699951171875, 616.5999755859375, 623.3099975585938, 620.8300170898438, 623.7100219726562, 656.5700073242188, 679.8200073242188, 671.8699951171875, 688.719970703125, 680.760009765625, 679.7000122070312, 677.9199829101562, 678.9000244140625, 659.5800170898438, 644.6500244140625, 652.8099975585938, 656.9500122070312, 685.7000122070312, 668.5399780273438, 653.3800048828125, 650.5999755859375, 644.219970703125, 646.219970703125, 660.5, 655.2899780273438, 649.260009765625, 643.3800048828125, 657.6199951171875, 644.780029296875, 646.97998046875, 677.3499755859375, 687.2000122070312, 709.6699829101562, 709.739990234375, 710.9199829101562, 714.6300048828125, 699.0999755859375, 713.760009765625, 709.989990234375, 707.8200073242188, 722.25, 717.1699829101562, 686.1699829101562, 665.7100219726562, 688.989990234375, 673.469970703125, 680.260009765625, 706.2999877929688, 708.489990234375, 711.2000122070312, 701.1599731445312, 711.9199829101562, 730.9099731445312, 735.719970703125, 734.0900268554688, 732.3900146484375, 733.5700073242188, 752.9199829101562, 753.8699951171875, 754.8599853515625, 736.27001953125, 743.0, 744.489990234375, 755.8300170898438, 756.989990234375, 759.489990234375, 730.1699829101562, 739.3800048828125, 751.9400024414062, 753.6400146484375, 774.3900146484375, 791.3599853515625, 777.5599975585938, 781.3099975585938, 775.47998046875, 775.219970703125, 781.530029296875, 780.5900268554688, 782.75, 793.6099853515625, 785.489990234375, 791.9400024414062, 805.719970703125, 811.0800170898438, 818.3200073242188, 843.030029296875, 870.1099853515625, 864.27001953125, 865.7999877929688, 894.0]\n"
          ]
        }
      ]
    },
    {
      "cell_type": "code",
      "metadata": {
        "id": "UH93Fi1UWO4a"
      },
      "source": [
        "from sklearn.ensemble import ExtraTreesRegressor, RandomForestRegressor\n"
      ],
      "execution_count": 79,
      "outputs": []
    },
    {
      "cell_type": "code",
      "metadata": {
        "colab": {
          "base_uri": "https://localhost:8080/",
          "height": 436
        },
        "id": "PgclrL3QWZ92",
        "outputId": "b13a59e1-bcd7-4fa3-96eb-eb1d45406f49"
      },
      "source": [
        "def return_model(X, y):\n",
        "  clf = DecisionTreeRegressor()\n",
        "  clf.fit(X,y)\n",
        "  return clf\n",
        "period = 6\n",
        "latest_feat = np.array(list(df.close)[-period:]).reshape((1,-1))\n",
        "classifier = return_model(train_x,train_y)\n",
        "pred_y = classifier.predict(test_x)\n",
        "print(classifier.score(test_x, test_y))\n",
        "dfr = pd.DataFrame({'actual': test_y, 'predicted': pred_y})\n",
        "dfr"
      ],
      "execution_count": 83,
      "outputs": [
        {
          "output_type": "stream",
          "name": "stdout",
          "text": [
            "1.0\n"
          ]
        },
        {
          "output_type": "execute_result",
          "data": {
            "text/html": [
              "<div>\n",
              "<style scoped>\n",
              "    .dataframe tbody tr th:only-of-type {\n",
              "        vertical-align: middle;\n",
              "    }\n",
              "\n",
              "    .dataframe tbody tr th {\n",
              "        vertical-align: top;\n",
              "    }\n",
              "\n",
              "    .dataframe thead th {\n",
              "        text-align: right;\n",
              "    }\n",
              "</style>\n",
              "<table border=\"1\" class=\"dataframe\">\n",
              "  <thead>\n",
              "    <tr style=\"text-align: right;\">\n",
              "      <th></th>\n",
              "      <th>actual</th>\n",
              "      <th>predicted</th>\n",
              "    </tr>\n",
              "  </thead>\n",
              "  <tbody>\n",
              "    <tr>\n",
              "      <th>0</th>\n",
              "      <td>619.13</td>\n",
              "      <td>619.13</td>\n",
              "    </tr>\n",
              "    <tr>\n",
              "      <th>1</th>\n",
              "      <td>630.85</td>\n",
              "      <td>630.85</td>\n",
              "    </tr>\n",
              "    <tr>\n",
              "      <th>2</th>\n",
              "      <td>625.22</td>\n",
              "      <td>625.22</td>\n",
              "    </tr>\n",
              "    <tr>\n",
              "      <th>3</th>\n",
              "      <td>623.90</td>\n",
              "      <td>623.90</td>\n",
              "    </tr>\n",
              "    <tr>\n",
              "      <th>4</th>\n",
              "      <td>605.12</td>\n",
              "      <td>605.12</td>\n",
              "    </tr>\n",
              "    <tr>\n",
              "      <th>...</th>\n",
              "      <td>...</td>\n",
              "      <td>...</td>\n",
              "    </tr>\n",
              "    <tr>\n",
              "      <th>99</th>\n",
              "      <td>843.03</td>\n",
              "      <td>843.03</td>\n",
              "    </tr>\n",
              "    <tr>\n",
              "      <th>100</th>\n",
              "      <td>870.11</td>\n",
              "      <td>870.11</td>\n",
              "    </tr>\n",
              "    <tr>\n",
              "      <th>101</th>\n",
              "      <td>864.27</td>\n",
              "      <td>864.27</td>\n",
              "    </tr>\n",
              "    <tr>\n",
              "      <th>102</th>\n",
              "      <td>865.80</td>\n",
              "      <td>865.80</td>\n",
              "    </tr>\n",
              "    <tr>\n",
              "      <th>103</th>\n",
              "      <td>894.00</td>\n",
              "      <td>894.00</td>\n",
              "    </tr>\n",
              "  </tbody>\n",
              "</table>\n",
              "<p>104 rows × 2 columns</p>\n",
              "</div>"
            ],
            "text/plain": [
              "                  actual            predicted\n",
              "0                 619.13               619.13\n",
              "1                 630.85               630.85\n",
              "2                 625.22               625.22\n",
              "3                 623.90               623.90\n",
              "4                 605.12               605.12\n",
              "..                   ...                  ...\n",
              "99                843.03               843.03\n",
              "100               870.11               870.11\n",
              "101               864.27               864.27\n",
              "102               865.80               865.80\n",
              "103               894.00               894.00\n",
              "\n",
              "[104 rows x 2 columns]"
            ]
          },
          "metadata": {},
          "execution_count": 83
        }
      ]
    },
    {
      "cell_type": "code",
      "metadata": {
        "colab": {
          "base_uri": "https://localhost:8080/",
          "height": 298
        },
        "id": "vgPs-fgJ4hHv",
        "outputId": "f33972f5-8807-4e0d-8cf9-4bf950a9d30f"
      },
      "source": [
        "plt.plot(dfr.actual, color='black')\n",
        "plt.plot(dfr.predicted, color='lightblue')\n",
        "plt.title(\"Stock prediction chart\")\n",
        "plt.legend();\n"
      ],
      "execution_count": 81,
      "outputs": [
        {
          "output_type": "stream",
          "name": "stderr",
          "text": [
            "No handles with labels found to put in legend.\n"
          ]
        },
        {
          "output_type": "display_data",
          "data": {
            "image/png": "[encoded data removed]",
            "text/plain": [
              "<Figure size 432x288 with 1 Axes>"
            ]
          },
          "metadata": {
            "needs_background": "light"
          }
        }
      ]
    },
    {
      "cell_type": "code",
      "metadata": {
        "id": "R0017vqykIhW"
      },
      "source": [
        "from sklearn.metrics import explained_variance_score,mean_absolute_error,r2_score\n",
        "from time import time\n",
        "from sklearn.model_selection import train_test_split\n",
        "\n",
        "from sklearn.linear_model import LinearRegression, Ridge,Lasso\n",
        "from sklearn.neighbors import KNeighborsRegressor\n",
        "from sklearn.ensemble import GradientBoostingRegressor\n",
        "from sklearn.ensemble import ExtraTreesRegressor, RandomForestRegressor\n",
        "from sklearn.tree import DecisionTreeRegressor"
      ],
      "execution_count": 61,
      "outputs": []
    },
    {
      "cell_type": "code",
      "metadata": {
        "id": "6cmu89vvkNDU"
      },
      "source": [
        "regressors = [\n",
        "    KNeighborsRegressor(),\n",
        "    GradientBoostingRegressor(),\n",
        "    ExtraTreesRegressor(),\n",
        "    RandomForestRegressor(),\n",
        "    DecisionTreeRegressor(),\n",
        "    LinearRegression(),\n",
        "    Lasso(),\n",
        "    Ridge()\n",
        "]"
      ],
      "execution_count": 62,
      "outputs": []
    },
    {
      "cell_type": "code",
      "metadata": {
        "colab": {
          "base_uri": "https://localhost:8080/"
        },
        "id": "ukCTd6XZkReQ",
        "outputId": "5ca90d81-efa0-4d6b-ace4-62a34203ce7a"
      },
      "source": [
        "head = 10\n",
        "for model in regressors[:head]:\n",
        "    start = time()\n",
        "    model.fit(train_x,train_y)\n",
        "    train_time = time() - start\n",
        "    start = time()\n",
        "    y_pred = model.predict(test_x)\n",
        "    predict_time = time()-start    \n",
        "    print(model)\n",
        "    print(\"\\tTraining time: %0.3fs\" % train_time)\n",
        "    print(\"\\tPrediction time: %0.3fs\" % predict_time)\n",
        "    print(\"\\tExplained variance:\", explained_variance_score(test_y, y_pred))\n",
        "    print(\"\\tMean absolute error:\", mean_absolute_error(test_y, y_pred))\n",
        "    print(\"\\tR2 score:\", r2_score(test_y, y_pred))\n",
        "    print()"
      ],
      "execution_count": 63,
      "outputs": [
        {
          "output_type": "stream",
          "name": "stdout",
          "text": [
            "KNeighborsRegressor()\n",
            "\tTraining time: 0.001s\n",
            "\tPrediction time: 0.002s\n",
            "\tExplained variance: 0.9216651371783298\n",
            "\tMean absolute error: 20.37178297776439\n",
            "\tR2 score: 0.9208678339584747\n",
            "\n",
            "GradientBoostingRegressor()\n",
            "\tTraining time: 0.041s\n",
            "\tPrediction time: 0.001s\n",
            "\tExplained variance: 0.997337055480233\n",
            "\tMean absolute error: 4.110050715749489\n",
            "\tR2 score: 0.997337055480233\n",
            "\n",
            "ExtraTreesRegressor()\n",
            "\tTraining time: 0.102s\n",
            "\tPrediction time: 0.011s\n",
            "\tExplained variance: 1.0\n",
            "\tMean absolute error: 0.0\n",
            "\tR2 score: 1.0\n",
            "\n",
            "RandomForestRegressor()\n",
            "\tTraining time: 0.144s\n",
            "\tPrediction time: 0.018s\n",
            "\tExplained variance: 0.9867466643602376\n",
            "\tMean absolute error: 8.99185589130106\n",
            "\tR2 score: 0.986638180396692\n",
            "\n",
            "DecisionTreeRegressor()\n",
            "\tTraining time: 0.001s\n",
            "\tPrediction time: 0.000s\n",
            "\tExplained variance: 1.0\n",
            "\tMean absolute error: 0.0\n",
            "\tR2 score: 1.0\n",
            "\n",
            "LinearRegression()\n",
            "\tTraining time: 0.001s\n",
            "\tPrediction time: 0.000s\n",
            "\tExplained variance: 0.9224087853070375\n",
            "\tMean absolute error: 21.818233222292136\n",
            "\tR2 score: 0.9224087853070375\n",
            "\n",
            "Lasso()\n",
            "\tTraining time: 0.005s\n",
            "\tPrediction time: 0.000s\n",
            "\tExplained variance: 0.9224077610552218\n",
            "\tMean absolute error: 21.810406921467923\n",
            "\tR2 score: 0.9224077610552218\n",
            "\n",
            "Ridge()\n",
            "\tTraining time: 0.007s\n",
            "\tPrediction time: 0.000s\n",
            "\tExplained variance: 0.9224087852908939\n",
            "\tMean absolute error: 21.818225134388374\n",
            "\tR2 score: 0.9224087852908938\n",
            "\n"
          ]
        }
      ]
    },
    {
      "cell_type": "code",
      "metadata": {
        "id": "7q1_8huckUbL"
      },
      "source": [
        ""
      ],
      "execution_count": 46,
      "outputs": []
    }
  ]
}