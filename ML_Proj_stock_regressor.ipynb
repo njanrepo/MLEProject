{
  "nbformat": 4,
  "nbformat_minor": 0,
  "metadata": {
    "colab": {
      "name": "ML_Proj_stock_regressor.ipynb",
      "provenance": [],
      "collapsed_sections": [
        "rX8mhOLljYeM"
      ],
      "toc_visible": true,
      "include_colab_link": true
    },
    "kernelspec": {
      "display_name": "Python 3",
      "name": "python3"
    }
  },
  "cells": [
    {
      "cell_type": "markdown",
      "metadata": {
        "id": "view-in-github",
        "colab_type": "text"
      },
      "source": [
        "<a href=\"https://colab.research.google.com/github/njanrepo/MLEProject/blob/main/ML_Proj_stock_regressor.ipynb\" target=\"_parent\"><img src=\"https://colab.research.google.com/assets/colab-badge.svg\" alt=\"Open In Colab\"/></a>"
      ]
    },
    {
      "cell_type": "markdown",
      "metadata": {
        "id": "rX8mhOLljYeM"
      },
      "source": [
        "##### Copyright 2019 The TensorFlow Authors."
      ]
    },
    {
      "cell_type": "code",
      "metadata": {
        "cellView": "form",
        "id": "BZSlp3DAjdYf"
      },
      "source": [
        "#@title Licensed under the Apache License, Version 2.0 (the \"License\");\n",
        "# you may not use this file except in compliance with the License.\n",
        "# You may obtain a copy of the License at\n",
        "#\n",
        "# https://www.apache.org/licenses/LICENSE-2.0\n",
        "#\n",
        "# Unless required by applicable law or agreed to in writing, software\n",
        "# distributed under the License is distributed on an \"AS IS\" BASIS,\n",
        "# WITHOUT WARRANTIES OR CONDITIONS OF ANY KIND, either express or implied.\n",
        "# See the License for the specific language governing permissions and\n",
        "# limitations under the License."
      ],
      "execution_count": null,
      "outputs": []
    },
    {
      "cell_type": "markdown",
      "metadata": {
        "id": "3wF5wszaj97Y"
      },
      "source": [
        "# TensorFlow 2 quickstart for beginners"
      ]
    },
    {
      "cell_type": "markdown",
      "metadata": {
        "id": "h5bFyYyuJQS1"
      },
      "source": [
        "# New Section"
      ]
    },
    {
      "cell_type": "code",
      "metadata": {
        "id": "aD4UwXrcJRhY"
      },
      "source": [
        "import pandas as pd\n",
        "import numpy as np\n",
        "import matplotlib.pyplot as plt\n",
        "import seaborn as sns\n",
        "\n",
        "from datetime import datetime"
      ],
      "execution_count": 1,
      "outputs": []
    },
    {
      "cell_type": "code",
      "metadata": {
        "id": "vNE8HXM2Jo7J",
        "colab": {
          "base_uri": "https://localhost:8080/"
        },
        "outputId": "97c9eb50-362c-4099-93ab-fdda5cb3d104"
      },
      "source": [
        "!pip install yfinance scikit-learn statsmodels seaborn"
      ],
      "execution_count": 2,
      "outputs": [
        {
          "output_type": "stream",
          "name": "stdout",
          "text": [
            "Collecting yfinance\n",
            "  Downloading yfinance-0.1.64.tar.gz (26 kB)\n",
            "Requirement already satisfied: scikit-learn in /usr/local/lib/python3.7/dist-packages (0.22.2.post1)\n",
            "Requirement already satisfied: statsmodels in /usr/local/lib/python3.7/dist-packages (0.10.2)\n",
            "Requirement already satisfied: seaborn in /usr/local/lib/python3.7/dist-packages (0.11.2)\n",
            "Requirement already satisfied: pandas>=0.24 in /usr/local/lib/python3.7/dist-packages (from yfinance) (1.1.5)\n",
            "Requirement already satisfied: numpy>=1.15 in /usr/local/lib/python3.7/dist-packages (from yfinance) (1.19.5)\n",
            "Requirement already satisfied: requests>=2.20 in /usr/local/lib/python3.7/dist-packages (from yfinance) (2.23.0)\n",
            "Requirement already satisfied: multitasking>=0.0.7 in /usr/local/lib/python3.7/dist-packages (from yfinance) (0.0.9)\n",
            "Collecting lxml>=4.5.1\n",
            "  Downloading lxml-4.6.4-cp37-cp37m-manylinux_2_17_x86_64.manylinux2014_x86_64.manylinux_2_24_x86_64.whl (6.3 MB)\n",
            "\u001b[K     |████████████████████████████████| 6.3 MB 40.6 MB/s \n",
            "\u001b[?25hRequirement already satisfied: pytz>=2017.2 in /usr/local/lib/python3.7/dist-packages (from pandas>=0.24->yfinance) (2018.9)\n",
            "Requirement already satisfied: python-dateutil>=2.7.3 in /usr/local/lib/python3.7/dist-packages (from pandas>=0.24->yfinance) (2.8.2)\n",
            "Requirement already satisfied: six>=1.5 in /usr/local/lib/python3.7/dist-packages (from python-dateutil>=2.7.3->pandas>=0.24->yfinance) (1.15.0)\n",
            "Requirement already satisfied: idna<3,>=2.5 in /usr/local/lib/python3.7/dist-packages (from requests>=2.20->yfinance) (2.10)\n",
            "Requirement already satisfied: certifi>=2017.4.17 in /usr/local/lib/python3.7/dist-packages (from requests>=2.20->yfinance) (2021.10.8)\n",
            "Requirement already satisfied: urllib3!=1.25.0,!=1.25.1,<1.26,>=1.21.1 in /usr/local/lib/python3.7/dist-packages (from requests>=2.20->yfinance) (1.24.3)\n",
            "Requirement already satisfied: chardet<4,>=3.0.2 in /usr/local/lib/python3.7/dist-packages (from requests>=2.20->yfinance) (3.0.4)\n",
            "Requirement already satisfied: joblib>=0.11 in /usr/local/lib/python3.7/dist-packages (from scikit-learn) (1.1.0)\n",
            "Requirement already satisfied: scipy>=0.17.0 in /usr/local/lib/python3.7/dist-packages (from scikit-learn) (1.4.1)\n",
            "Requirement already satisfied: patsy>=0.4.0 in /usr/local/lib/python3.7/dist-packages (from statsmodels) (0.5.2)\n",
            "Requirement already satisfied: matplotlib>=2.2 in /usr/local/lib/python3.7/dist-packages (from seaborn) (3.2.2)\n",
            "Requirement already satisfied: kiwisolver>=1.0.1 in /usr/local/lib/python3.7/dist-packages (from matplotlib>=2.2->seaborn) (1.3.2)\n",
            "Requirement already satisfied: cycler>=0.10 in /usr/local/lib/python3.7/dist-packages (from matplotlib>=2.2->seaborn) (0.11.0)\n",
            "Requirement already satisfied: pyparsing!=2.0.4,!=2.1.2,!=2.1.6,>=2.0.1 in /usr/local/lib/python3.7/dist-packages (from matplotlib>=2.2->seaborn) (2.4.7)\n",
            "Building wheels for collected packages: yfinance\n",
            "  Building wheel for yfinance (setup.py) ... \u001b[?25l\u001b[?25hdone\n",
            "  Created wheel for yfinance: filename=yfinance-0.1.64-py2.py3-none-any.whl size=24109 sha256=6337be5dfd65a865c11112157a64893e403bd6fff01f3c2f1d3fc31b608933fd\n",
            "  Stored in directory: /root/.cache/pip/wheels/86/fe/9b/a4d3d78796b699e37065e5b6c27b75cff448ddb8b24943c288\n",
            "Successfully built yfinance\n",
            "Installing collected packages: lxml, yfinance\n",
            "  Attempting uninstall: lxml\n",
            "    Found existing installation: lxml 4.2.6\n",
            "    Uninstalling lxml-4.2.6:\n",
            "      Successfully uninstalled lxml-4.2.6\n",
            "Successfully installed lxml-4.6.4 yfinance-0.1.64\n"
          ]
        }
      ]
    },
    {
      "cell_type": "code",
      "metadata": {
        "id": "KeqEZVdXKCF_"
      },
      "source": [
        "import yfinance as yf"
      ],
      "execution_count": 3,
      "outputs": []
    },
    {
      "cell_type": "code",
      "metadata": {
        "id": "yPYHuV5072sb"
      },
      "source": [
        "def get_sp500_list():\n",
        "  payload=pd.read_html('https://en.wikipedia.org/wiki/List_of_S%26P_500_companies')\n",
        "  first_table = payload[0]\n",
        "  sp500df = first_table\n",
        "  sp500_list = sp500df.Symbol.values.tolist()\n",
        "  return sp500_list"
      ],
      "execution_count": 4,
      "outputs": []
    },
    {
      "cell_type": "code",
      "metadata": {
        "colab": {
          "base_uri": "https://localhost:8080/"
        },
        "id": "t-snKIaV752L",
        "outputId": "5683b62b-3892-4e96-865b-9ca3b13606f2"
      },
      "source": [
        "df=yf.download(tickers=get_sp500_list(), period='1d')"
      ],
      "execution_count": 5,
      "outputs": [
        {
          "output_type": "stream",
          "name": "stdout",
          "text": [
            "[*********************100%***********************]  505 of 505 completed\n",
            "\n",
            "2 Failed downloads:\n",
            "- BRK.B: No data found, symbol may be delisted\n",
            "- BF.B: No data found for this date range, symbol may be delisted\n"
          ]
        }
      ]
    },
    {
      "cell_type": "code",
      "metadata": {
        "id": "QX9tOYNWKrgz",
        "colab": {
          "base_uri": "https://localhost:8080/"
        },
        "outputId": "ce4252f8-e07d-4a88-b1fe-510806d18e3c"
      },
      "source": [
        "symbol='^GSPC'\n",
        "df= yf.download(symbol, start='2021-01-01', end='2021-11-10')"
      ],
      "execution_count": 6,
      "outputs": [
        {
          "output_type": "stream",
          "name": "stdout",
          "text": [
            "\r[*********************100%***********************]  1 of 1 completed\n"
          ]
        }
      ]
    },
    {
      "cell_type": "code",
      "metadata": {
        "id": "ZtCQglYkK4i8",
        "colab": {
          "base_uri": "https://localhost:8080/"
        },
        "outputId": "7d45c8e2-b545-40fe-d104-6ef4f58e972e"
      },
      "source": [
        "df.shape"
      ],
      "execution_count": 7,
      "outputs": [
        {
          "output_type": "execute_result",
          "data": {
            "text/plain": [
              "(216, 6)"
            ]
          },
          "metadata": {},
          "execution_count": 7
        }
      ]
    },
    {
      "cell_type": "code",
      "metadata": {
        "id": "oQsznwwoK5rt",
        "colab": {
          "base_uri": "https://localhost:8080/",
          "height": 297
        },
        "outputId": "377ab459-d1f0-4bc9-e0a3-cb7fc94f3e33"
      },
      "source": [
        "df.describe()"
      ],
      "execution_count": 8,
      "outputs": [
        {
          "output_type": "execute_result",
          "data": {
            "text/html": [
              "<div>\n",
              "<style scoped>\n",
              "    .dataframe tbody tr th:only-of-type {\n",
              "        vertical-align: middle;\n",
              "    }\n",
              "\n",
              "    .dataframe tbody tr th {\n",
              "        vertical-align: top;\n",
              "    }\n",
              "\n",
              "    .dataframe thead th {\n",
              "        text-align: right;\n",
              "    }\n",
              "</style>\n",
              "<table border=\"1\" class=\"dataframe\">\n",
              "  <thead>\n",
              "    <tr style=\"text-align: right;\">\n",
              "      <th></th>\n",
              "      <th>Open</th>\n",
              "      <th>High</th>\n",
              "      <th>Low</th>\n",
              "      <th>Close</th>\n",
              "      <th>Adj Close</th>\n",
              "      <th>Volume</th>\n",
              "    </tr>\n",
              "  </thead>\n",
              "  <tbody>\n",
              "    <tr>\n",
              "      <th>count</th>\n",
              "      <td>216.000000</td>\n",
              "      <td>216.000000</td>\n",
              "      <td>216.000000</td>\n",
              "      <td>216.000000</td>\n",
              "      <td>216.000000</td>\n",
              "      <td>2.160000e+02</td>\n",
              "    </tr>\n",
              "    <tr>\n",
              "      <th>mean</th>\n",
              "      <td>4204.341942</td>\n",
              "      <td>4224.122088</td>\n",
              "      <td>4185.351804</td>\n",
              "      <td>4206.955968</td>\n",
              "      <td>4206.955968</td>\n",
              "      <td>3.933196e+09</td>\n",
              "    </tr>\n",
              "    <tr>\n",
              "      <th>std</th>\n",
              "      <td>253.592453</td>\n",
              "      <td>250.523130</td>\n",
              "      <td>257.434445</td>\n",
              "      <td>254.262488</td>\n",
              "      <td>254.262488</td>\n",
              "      <td>1.165391e+09</td>\n",
              "    </tr>\n",
              "    <tr>\n",
              "      <th>min</th>\n",
              "      <td>3698.020020</td>\n",
              "      <td>3737.830078</td>\n",
              "      <td>3662.709961</td>\n",
              "      <td>3700.649902</td>\n",
              "      <td>3700.649902</td>\n",
              "      <td>2.371630e+09</td>\n",
              "    </tr>\n",
              "    <tr>\n",
              "      <th>25%</th>\n",
              "      <td>3942.122498</td>\n",
              "      <td>3969.217590</td>\n",
              "      <td>3921.935059</td>\n",
              "      <td>3954.747559</td>\n",
              "      <td>3954.747559</td>\n",
              "      <td>3.087422e+09</td>\n",
              "    </tr>\n",
              "    <tr>\n",
              "      <th>50%</th>\n",
              "      <td>4222.489990</td>\n",
              "      <td>4235.255127</td>\n",
              "      <td>4203.010010</td>\n",
              "      <td>4224.245117</td>\n",
              "      <td>4224.245117</td>\n",
              "      <td>3.602580e+09</td>\n",
              "    </tr>\n",
              "    <tr>\n",
              "      <th>75%</th>\n",
              "      <td>4407.359863</td>\n",
              "      <td>4425.282471</td>\n",
              "      <td>4391.634888</td>\n",
              "      <td>4413.630005</td>\n",
              "      <td>4413.630005</td>\n",
              "      <td>4.580242e+09</td>\n",
              "    </tr>\n",
              "    <tr>\n",
              "      <th>max</th>\n",
              "      <td>4707.250000</td>\n",
              "      <td>4718.500000</td>\n",
              "      <td>4694.390137</td>\n",
              "      <td>4701.700195</td>\n",
              "      <td>4701.700195</td>\n",
              "      <td>9.878040e+09</td>\n",
              "    </tr>\n",
              "  </tbody>\n",
              "</table>\n",
              "</div>"
            ],
            "text/plain": [
              "              Open         High  ...    Adj Close        Volume\n",
              "count   216.000000   216.000000  ...   216.000000  2.160000e+02\n",
              "mean   4204.341942  4224.122088  ...  4206.955968  3.933196e+09\n",
              "std     253.592453   250.523130  ...   254.262488  1.165391e+09\n",
              "min    3698.020020  3737.830078  ...  3700.649902  2.371630e+09\n",
              "25%    3942.122498  3969.217590  ...  3954.747559  3.087422e+09\n",
              "50%    4222.489990  4235.255127  ...  4224.245117  3.602580e+09\n",
              "75%    4407.359863  4425.282471  ...  4413.630005  4.580242e+09\n",
              "max    4707.250000  4718.500000  ...  4701.700195  9.878040e+09\n",
              "\n",
              "[8 rows x 6 columns]"
            ]
          },
          "metadata": {},
          "execution_count": 8
        }
      ]
    },
    {
      "cell_type": "code",
      "metadata": {
        "id": "1WKGF_PsPdV2",
        "colab": {
          "base_uri": "https://localhost:8080/"
        },
        "outputId": "56702850-8a3f-4700-93c0-62988b1ccbf4"
      },
      "source": [
        "df.nunique()"
      ],
      "execution_count": 9,
      "outputs": [
        {
          "output_type": "execute_result",
          "data": {
            "text/plain": [
              "Open         214\n",
              "High         215\n",
              "Low          216\n",
              "Close        216\n",
              "Adj Close    216\n",
              "Volume       216\n",
              "dtype: int64"
            ]
          },
          "metadata": {},
          "execution_count": 9
        }
      ]
    },
    {
      "cell_type": "code",
      "metadata": {
        "id": "a5ZXZTDUpRWn",
        "colab": {
          "base_uri": "https://localhost:8080/"
        },
        "outputId": "0a801a1e-cf35-42cd-d986-f07073c8d437"
      },
      "source": [
        "df.isna().sum()"
      ],
      "execution_count": 10,
      "outputs": [
        {
          "output_type": "execute_result",
          "data": {
            "text/plain": [
              "Open         0\n",
              "High         0\n",
              "Low          0\n",
              "Close        0\n",
              "Adj Close    0\n",
              "Volume       0\n",
              "dtype: int64"
            ]
          },
          "metadata": {},
          "execution_count": 10
        }
      ]
    },
    {
      "cell_type": "code",
      "metadata": {
        "colab": {
          "base_uri": "https://localhost:8080/"
        },
        "id": "f2DAXLAiSQN6",
        "outputId": "0a624f1f-7ce7-46a2-b35c-8d6a438a2400"
      },
      "source": [
        "df.dtypes"
      ],
      "execution_count": 11,
      "outputs": [
        {
          "output_type": "execute_result",
          "data": {
            "text/plain": [
              "Open         float64\n",
              "High         float64\n",
              "Low          float64\n",
              "Close        float64\n",
              "Adj Close    float64\n",
              "Volume         int64\n",
              "dtype: object"
            ]
          },
          "metadata": {},
          "execution_count": 11
        }
      ]
    },
    {
      "cell_type": "code",
      "metadata": {
        "id": "oDBA_HruPiHf"
      },
      "source": [
        "df.columns = df.columns.str.lower().str.replace(' ', '_')\n",
        "string_columns = list(df.dtypes[df.dtypes == 'object'].index)\n",
        "for col in string_columns:\n",
        "  df[col] = df[col].str.lower().str.replace(' ', '_')"
      ],
      "execution_count": 12,
      "outputs": []
    },
    {
      "cell_type": "code",
      "metadata": {
        "id": "y2-j7OruPjJe",
        "colab": {
          "base_uri": "https://localhost:8080/",
          "height": 235
        },
        "outputId": "496903dc-3ec9-41ab-8b12-19e168448107"
      },
      "source": [
        "df.head()"
      ],
      "execution_count": 13,
      "outputs": [
        {
          "output_type": "execute_result",
          "data": {
            "text/html": [
              "<div>\n",
              "<style scoped>\n",
              "    .dataframe tbody tr th:only-of-type {\n",
              "        vertical-align: middle;\n",
              "    }\n",
              "\n",
              "    .dataframe tbody tr th {\n",
              "        vertical-align: top;\n",
              "    }\n",
              "\n",
              "    .dataframe thead th {\n",
              "        text-align: right;\n",
              "    }\n",
              "</style>\n",
              "<table border=\"1\" class=\"dataframe\">\n",
              "  <thead>\n",
              "    <tr style=\"text-align: right;\">\n",
              "      <th></th>\n",
              "      <th>open</th>\n",
              "      <th>high</th>\n",
              "      <th>low</th>\n",
              "      <th>close</th>\n",
              "      <th>adj_close</th>\n",
              "      <th>volume</th>\n",
              "    </tr>\n",
              "    <tr>\n",
              "      <th>Date</th>\n",
              "      <th></th>\n",
              "      <th></th>\n",
              "      <th></th>\n",
              "      <th></th>\n",
              "      <th></th>\n",
              "      <th></th>\n",
              "    </tr>\n",
              "  </thead>\n",
              "  <tbody>\n",
              "    <tr>\n",
              "      <th>2021-01-04</th>\n",
              "      <td>3764.610107</td>\n",
              "      <td>3769.989990</td>\n",
              "      <td>3662.709961</td>\n",
              "      <td>3700.649902</td>\n",
              "      <td>3700.649902</td>\n",
              "      <td>5006680000</td>\n",
              "    </tr>\n",
              "    <tr>\n",
              "      <th>2021-01-05</th>\n",
              "      <td>3698.020020</td>\n",
              "      <td>3737.830078</td>\n",
              "      <td>3695.070068</td>\n",
              "      <td>3726.860107</td>\n",
              "      <td>3726.860107</td>\n",
              "      <td>4582620000</td>\n",
              "    </tr>\n",
              "    <tr>\n",
              "      <th>2021-01-06</th>\n",
              "      <td>3712.199951</td>\n",
              "      <td>3783.040039</td>\n",
              "      <td>3705.340088</td>\n",
              "      <td>3748.139893</td>\n",
              "      <td>3748.139893</td>\n",
              "      <td>6049970000</td>\n",
              "    </tr>\n",
              "    <tr>\n",
              "      <th>2021-01-07</th>\n",
              "      <td>3764.709961</td>\n",
              "      <td>3811.550049</td>\n",
              "      <td>3764.709961</td>\n",
              "      <td>3803.790039</td>\n",
              "      <td>3803.790039</td>\n",
              "      <td>5080870000</td>\n",
              "    </tr>\n",
              "    <tr>\n",
              "      <th>2021-01-08</th>\n",
              "      <td>3815.050049</td>\n",
              "      <td>3826.689941</td>\n",
              "      <td>3783.600098</td>\n",
              "      <td>3824.679932</td>\n",
              "      <td>3824.679932</td>\n",
              "      <td>4764180000</td>\n",
              "    </tr>\n",
              "  </tbody>\n",
              "</table>\n",
              "</div>"
            ],
            "text/plain": [
              "                   open         high  ...    adj_close      volume\n",
              "Date                                  ...                         \n",
              "2021-01-04  3764.610107  3769.989990  ...  3700.649902  5006680000\n",
              "2021-01-05  3698.020020  3737.830078  ...  3726.860107  4582620000\n",
              "2021-01-06  3712.199951  3783.040039  ...  3748.139893  6049970000\n",
              "2021-01-07  3764.709961  3811.550049  ...  3803.790039  5080870000\n",
              "2021-01-08  3815.050049  3826.689941  ...  3824.679932  4764180000\n",
              "\n",
              "[5 rows x 6 columns]"
            ]
          },
          "metadata": {},
          "execution_count": 13
        }
      ]
    },
    {
      "cell_type": "code",
      "metadata": {
        "colab": {
          "base_uri": "https://localhost:8080/",
          "height": 295
        },
        "id": "Ac7gfNY1SZ9u",
        "outputId": "2a4adceb-4ee8-482d-8569-d440d733f6f3"
      },
      "source": [
        "plt.figure(figsize=(6,4))\n",
        "sns.histplot(df.close, bins=40, color='red', alpha=1)\n",
        "plt.ylabel(\"Frequency\")\n",
        "plt.xlabel('close price')\n",
        "plt.title('Dist hist')\n",
        "plt.show()"
      ],
      "execution_count": 14,
      "outputs": [
        {
          "output_type": "display_data",
          "data": {
            "image/png": "[encoded data removed]",
            "text/plain": [
              "<Figure size 432x288 with 1 Axes>"
            ]
          },
          "metadata": {
            "needs_background": "light"
          }
        }
      ]
    },
    {
      "cell_type": "code",
      "metadata": {
        "id": "R8xquJR3op0k"
      },
      "source": [
        "def make_X_and_Y(close_prices, period=6):\n",
        "  X = []\n",
        "  y = []\n",
        "  for i in range(len(close_prices)- period):\n",
        "    X.append(close_prices[i:i+period])\n",
        "    y.append(close_prices[i+period])\n",
        "  return X,y"
      ],
      "execution_count": 15,
      "outputs": []
    },
    {
      "cell_type": "code",
      "metadata": {
        "colab": {
          "base_uri": "https://localhost:8080/",
          "height": 295
        },
        "id": "fp9iIcp3Esty",
        "outputId": "1afa1247-0221-4d27-bf9c-7aade6e5aebb"
      },
      "source": [
        "log_price = np.log1p(df.close)\n",
        "\n",
        "plt.figure(figsize=(6, 4))\n",
        "\n",
        "sns.histplot(log_price, bins=40, color='black', alpha=1)\n",
        "plt.ylabel('Frequency')\n",
        "plt.xlabel('Log(Price + 1)')\n",
        "plt.title('Distribution of prices after log tranformation')\n",
        "\n",
        "plt.show()"
      ],
      "execution_count": 16,
      "outputs": [
        {
          "output_type": "display_data",
          "data": {
            "image/png": "[encoded data removed]",
            "text/plain": [
              "<Figure size 432x288 with 1 Axes>"
            ]
          },
          "metadata": {
            "needs_background": "light"
          }
        }
      ]
    },
    {
      "cell_type": "code",
      "metadata": {
        "id": "2xH3xjZgM5xP"
      },
      "source": [
        "from sklearn.model_selection import train_test_split"
      ],
      "execution_count": 23,
      "outputs": []
    },
    {
      "cell_type": "code",
      "metadata": {
        "id": "SGv1d0EXM7-6"
      },
      "source": [
        "from sklearn.model_selection import train_test_split\n",
        "train_x, test_x, train_y, test_y = train_test_split(X, y, test_size=0.15 , shuffle=False,random_state = 0)"
      ],
      "execution_count": 25,
      "outputs": []
    },
    {
      "cell_type": "code",
      "metadata": {
        "colab": {
          "base_uri": "https://localhost:8080/"
        },
        "id": "rS01Jpj8NFxp",
        "outputId": "7df93499-5b7f-443b-f850-0df7decfee2d"
      },
      "source": [
        "print(len(train_x))\n",
        "print(len(test_x))\n",
        "print(len(train_y))\n",
        "print(len(test_y))"
      ],
      "execution_count": 29,
      "outputs": [
        {
          "output_type": "stream",
          "name": "stdout",
          "text": [
            "178\n",
            "32\n",
            "178\n",
            "32\n"
          ]
        }
      ]
    },
    {
      "cell_type": "code",
      "metadata": {
        "colab": {
          "base_uri": "https://localhost:8080/",
          "height": 164
        },
        "id": "taCPf2N0RIhF",
        "outputId": "ca779ea1-029c-4c81-9a10-99516d39371e"
      },
      "source": [
        ""
      ],
      "execution_count": 33,
      "outputs": [
        {
          "output_type": "error",
          "ename": "AttributeError",
          "evalue": "ignored",
          "traceback": [
            "\u001b[0;31m---------------------------------------------------------------------------\u001b[0m",
            "\u001b[0;31mAttributeError\u001b[0m                            Traceback (most recent call last)",
            "\u001b[0;32m<ipython-input-33-63ead0c115b2>\u001b[0m in \u001b[0;36m<module>\u001b[0;34m()\u001b[0m\n\u001b[0;32m----> 1\u001b[0;31m \u001b[0mdict_train\u001b[0m \u001b[0;34m=\u001b[0m \u001b[0mtrain_x\u001b[0m\u001b[0;34m.\u001b[0m\u001b[0mto_dict\u001b[0m\u001b[0;34m(\u001b[0m\u001b[0morient\u001b[0m\u001b[0;34m=\u001b[0m\u001b[0;34m'records'\u001b[0m\u001b[0;34m)\u001b[0m\u001b[0;34m\u001b[0m\u001b[0;34m\u001b[0m\u001b[0m\n\u001b[0m",
            "\u001b[0;31mAttributeError\u001b[0m: 'list' object has no attribute 'to_dict'"
          ]
        }
      ]
    },
    {
      "cell_type": "code",
      "metadata": {
        "id": "UH93Fi1UWO4a"
      },
      "source": [
        "from sklearn.ensemble import ExtraTreesRegressor, RandomForestRegressor\n"
      ],
      "execution_count": 17,
      "outputs": []
    },
    {
      "cell_type": "code",
      "metadata": {
        "colab": {
          "base_uri": "https://localhost:8080/"
        },
        "id": "PgclrL3QWZ92",
        "outputId": "3506980d-66b7-4489-db6c-b7d61c079c08"
      },
      "source": [
        "X,y=make_X_and_Y(list(df.close))\n",
        "\n",
        "def return_model(X, y):\n",
        "  clf = RandomForestRegressor()\n",
        "  clf.fit(X,y)\n",
        "  return clf\n",
        "period = 6\n",
        "print(np.array(list(df.close)[-period:]).reshape((1,-1)))\n",
        "latest_feat = np.array(list(df.close)[-period:]).reshape((1,-1))\n",
        "classifier = return_model(X,y)\n",
        "tomorrow_prediction = classifier.predict(latest_feat)\n",
        "print(\"Tomorrow Predicted value is : \", tomorrow_prediction[0])\n",
        "print(\"Today's value is: \", df.close[-1])"
      ],
      "execution_count": 18,
      "outputs": [
        {
          "output_type": "stream",
          "name": "stdout",
          "text": [
            "[[4630.64990234 4660.56982422 4680.06005859 4697.52978516 4701.70019531\n",
            "  4685.25      ]]\n",
            "Tomorrow Predicted value is :  4689.799423828125\n",
            "Today's value is:  4685.25\n"
          ]
        }
      ]
    },
    {
      "cell_type": "code",
      "metadata": {
        "colab": {
          "base_uri": "https://localhost:8080/"
        },
        "id": "dmoUdL1ofAHs",
        "outputId": "5adcc2bf-8d2c-4c49-bec3-a0677f268aea"
      },
      "source": [
        "for i in range(len(df.close)- period):\n",
        "  X = np.array(list(df.close)[i:i+period]).reshape((1,-1))\n",
        "  actual = df.close[i+period]\n",
        "  pred = classifier.predict(X)\n",
        "  print (actual , pred)"
      ],
      "execution_count": 19,
      "outputs": [
        {
          "output_type": "stream",
          "name": "stdout",
          "text": [
            "3801.18994140625 [3807.76367432]\n",
            "3809.840087890625 [3807.9209375]\n",
            "3795.5400390625 [3812.28884277]\n",
            "3768.25 [3782.43880859]\n",
            "3798.909912109375 [3806.1596582]\n",
            "3851.85009765625 [3833.27876221]\n",
            "3853.070068359375 [3848.55895508]\n",
            "3841.469970703125 [3837.26099854]\n",
            "3855.360107421875 [3835.25377197]\n",
            "3849.6201171875 [3836.50768555]\n",
            "3750.77001953125 [3776.22212646]\n",
            "3787.3798828125 [3780.4829248]\n",
            "3714.239990234375 [3746.93918457]\n",
            "3773.860107421875 [3790.59605225]\n",
            "3826.31005859375 [3807.80263184]\n",
            "3830.169921875 [3834.90316895]\n",
            "3871.739990234375 [3861.48560059]\n",
            "3886.830078125 [3875.4101709]\n",
            "3915.590087890625 [3910.98777588]\n",
            "3911.22998046875 [3914.40810303]\n",
            "3909.8798828125 [3916.69733154]\n",
            "3916.3798828125 [3918.97782959]\n",
            "3934.830078125 [3929.26723633]\n",
            "3932.590087890625 [3931.14116943]\n",
            "3931.330078125 [3926.66824951]\n",
            "3913.969970703125 [3919.10880127]\n",
            "3906.7099609375 [3909.54717529]\n",
            "3876.5 [3891.17080078]\n",
            "3881.3701171875 [3885.80467041]\n",
            "3925.429931640625 [3907.20758057]\n",
            "3829.340087890625 [3866.5041748]\n",
            "3811.14990234375 [3817.41464355]\n",
            "3901.820068359375 [3871.50394287]\n",
            "3870.2900390625 [3885.75852783]\n",
            "3819.719970703125 [3849.74779053]\n",
            "3768.469970703125 [3792.64318604]\n",
            "3841.93994140625 [3819.49275879]\n",
            "3821.35009765625 [3819.96546143]\n",
            "3875.43994140625 [3859.82816406]\n",
            "3898.81005859375 [3891.7173584]\n",
            "3939.340087890625 [3921.61016846]\n",
            "3943.340087890625 [3940.04526367]\n",
            "3968.93994140625 [3955.26057617]\n",
            "3962.7099609375 [3962.97507568]\n",
            "3974.1201171875 [3963.68095459]\n",
            "3915.4599609375 [3936.4044873]\n",
            "3913.10009765625 [3929.61927002]\n",
            "3940.590087890625 [3948.07566162]\n",
            "3910.52001953125 [3948.19812744]\n",
            "3889.139892578125 [3909.88912842]\n",
            "3909.52001953125 [3906.37221191]\n",
            "3974.5400390625 [3942.75551758]\n",
            "3971.090087890625 [3959.37876221]\n",
            "3958.550048828125 [3965.68073486]\n",
            "3972.889892578125 [3974.27345459]\n",
            "4019.8701171875 [3999.49937012]\n",
            "4077.909912109375 [4038.32904541]\n",
            "4073.93994140625 [4049.48114014]\n",
            "4079.949951171875 [4074.22715088]\n",
            "4097.169921875 [4095.72962158]\n",
            "4128.7998046875 [4122.88538086]\n",
            "4127.990234375 [4128.65693848]\n",
            "4141.58984375 [4136.98544922]\n",
            "4124.66015625 [4128.00371094]\n",
            "4170.419921875 [4162.81527344]\n",
            "4185.47021484375 [4178.33096191]\n",
            "4163.259765625 [4175.01223633]\n",
            "4134.93994140625 [4146.4846875]\n",
            "4173.419921875 [4167.63446777]\n",
            "4134.97998046875 [4149.27431152]\n",
            "4180.169921875 [4173.48884277]\n",
            "4187.6201171875 [4183.37699707]\n",
            "4186.72021484375 [4186.08005371]\n",
            "4183.18017578125 [4180.87762695]\n",
            "4211.47021484375 [4200.87275391]\n",
            "4181.169921875 [4185.34836426]\n",
            "4192.66015625 [4190.54500977]\n",
            "4164.66015625 [4175.68833496]\n",
            "4167.58984375 [4169.74061523]\n",
            "4201.6201171875 [4194.91687988]\n",
            "4232.60009765625 [4218.18958496]\n",
            "4188.43017578125 [4196.59911621]\n",
            "4152.10009765625 [4177.88010254]\n",
            "4063.0400390625 [4115.37842773]\n",
            "4112.5 [4135.35810303]\n",
            "4173.85009765625 [4170.42964844]\n",
            "4163.2900390625 [4176.57054688]\n",
            "4127.830078125 [4136.60984375]\n",
            "4115.68017578125 [4126.82589844]\n",
            "4159.1201171875 [4160.1937793]\n",
            "4155.85986328125 [4158.92692383]\n",
            "4197.0498046875 [4178.56567871]\n",
            "4188.1298828125 [4179.55384277]\n",
            "4195.990234375 [4190.13567383]\n",
            "4200.8798828125 [4190.73234375]\n",
            "4204.10986328125 [4200.23154785]\n",
            "4202.0400390625 [4200.30114258]\n",
            "4208.1201171875 [4209.47251465]\n",
            "4192.85009765625 [4197.44519531]\n",
            "4229.89013671875 [4219.87001953]\n",
            "4226.52001953125 [4224.08270508]\n",
            "4227.259765625 [4226.26002441]\n",
            "4219.5498046875 [4220.89666992]\n",
            "4239.18017578125 [4228.08680664]\n",
            "4247.43994140625 [4239.8719873]\n",
            "4255.14990234375 [4251.02853027]\n",
            "4246.58984375 [4253.00263184]\n",
            "4223.7001953125 [4237.21441895]\n",
            "4221.85986328125 [4223.11332031]\n",
            "4166.4501953125 [4194.31459961]\n",
            "4224.7900390625 [4199.86884277]\n",
            "4246.43994140625 [4234.07625977]\n",
            "4241.83984375 [4243.42779297]\n",
            "4266.490234375 [4250.90644043]\n",
            "4280.7001953125 [4271.70883789]\n",
            "4290.60986328125 [4277.03350098]\n",
            "4291.7998046875 [4290.32727539]\n",
            "4297.5 [4300.31566406]\n",
            "4319.93994140625 [4323.04444336]\n",
            "4352.33984375 [4346.93209473]\n",
            "4343.5400390625 [4346.75737305]\n",
            "4358.1298828125 [4353.35660156]\n",
            "4320.81982421875 [4334.58468262]\n",
            "4369.5498046875 [4356.9112793]\n",
            "4384.6298828125 [4386.69287109]\n",
            "4369.2099609375 [4374.26163086]\n",
            "4374.2998046875 [4372.89213379]\n",
            "4360.02978515625 [4368.80723145]\n",
            "4327.16015625 [4330.50628418]\n",
            "4258.490234375 [4290.26644531]\n",
            "4323.06005859375 [4310.92535156]\n",
            "4358.68994140625 [4344.36266602]\n",
            "4367.47998046875 [4352.49366211]\n",
            "4411.7900390625 [4403.7296582]\n",
            "4422.2998046875 [4407.94924316]\n",
            "4401.4599609375 [4399.43094727]\n",
            "4400.64013671875 [4396.84005371]\n",
            "4419.14990234375 [4406.2286084]\n",
            "4395.259765625 [4404.42538086]\n",
            "4387.16015625 [4406.05699219]\n",
            "4423.14990234375 [4415.79774414]\n",
            "4402.66015625 [4411.14290039]\n",
            "4429.10009765625 [4422.9360791]\n",
            "4436.52001953125 [4432.19301758]\n",
            "4432.35009765625 [4438.06748047]\n",
            "4436.75 [4432.17351562]\n",
            "4442.41015625 [4440.96330566]\n",
            "4460.830078125 [4455.55696777]\n",
            "4468.0 [4463.96481445]\n",
            "4479.7099609375 [4470.80228516]\n",
            "4448.080078125 [4458.99654785]\n",
            "4400.27001953125 [4422.05061035]\n",
            "4405.7998046875 [4405.01665527]\n",
            "4441.669921875 [4431.94123535]\n",
            "4479.52978515625 [4470.64335937]\n",
            "4486.22998046875 [4476.66900391]\n",
            "4496.18994140625 [4488.81005859]\n",
            "4470.0 [4478.69811035]\n",
            "4509.3701171875 [4479.35219238]\n",
            "4528.7900390625 [4513.65422852]\n",
            "4522.68017578125 [4523.99251465]\n",
            "4524.08984375 [4524.77490723]\n",
            "4536.9501953125 [4531.50999023]\n",
            "4535.43017578125 [4538.07229004]\n",
            "4520.02978515625 [4524.48046387]\n",
            "4514.06982421875 [4517.42784668]\n",
            "4493.27978515625 [4503.71992676]\n",
            "4458.580078125 [4470.07030273]\n",
            "4468.72998046875 [4463.13058105]\n",
            "4443.0498046875 [4452.77009766]\n",
            "4480.7001953125 [4448.51645508]\n",
            "4473.75 [4468.68609863]\n",
            "4432.990234375 [4446.73665039]\n",
            "4357.72998046875 [4382.63658203]\n",
            "4354.18994140625 [4345.32687988]\n",
            "4395.64013671875 [4374.45539551]\n",
            "4448.97998046875 [4434.28197754]\n",
            "4455.47998046875 [4458.93608398]\n",
            "4443.10986328125 [4451.13491211]\n",
            "4352.6298828125 [4395.03661621]\n",
            "4359.4599609375 [4348.67988281]\n",
            "4307.5400390625 [4321.16553711]\n",
            "4357.0400390625 [4336.57726074]\n",
            "4300.4599609375 [4310.57426758]\n",
            "4345.72021484375 [4344.36541504]\n",
            "4363.5498046875 [4353.18355469]\n",
            "4399.759765625 [4396.55772461]\n",
            "4391.33984375 [4394.36185059]\n",
            "4361.18994140625 [4372.97170898]\n",
            "4350.64990234375 [4346.89794434]\n",
            "4363.7998046875 [4347.50130371]\n",
            "4438.259765625 [4413.00744629]\n",
            "4471.3701171875 [4456.21008301]\n",
            "4486.4599609375 [4476.73256348]\n",
            "4519.6298828125 [4490.52440918]\n",
            "4536.18994140625 [4525.22916504]\n",
            "4549.77978515625 [4540.41479004]\n",
            "4544.89990234375 [4546.07733398]\n",
            "4566.47998046875 [4558.7827002]\n",
            "4574.7900390625 [4568.96802734]\n",
            "4551.68017578125 [4564.80058105]\n",
            "4596.419921875 [4594.18083496]\n",
            "4605.3798828125 [4604.07070801]\n",
            "4613.669921875 [4611.11692383]\n",
            "4630.64990234375 [4630.47220215]\n",
            "4660.56982421875 [4652.96256348]\n",
            "4680.06005859375 [4673.76777832]\n",
            "4697.52978515625 [4693.49680664]\n",
            "4701.7001953125 [4695.63020508]\n",
            "4685.25 [4688.44633301]\n"
          ]
        }
      ]
    },
    {
      "cell_type": "code",
      "metadata": {
        "id": "R0017vqykIhW"
      },
      "source": [
        "from sklearn.metrics import explained_variance_score,mean_absolute_error,r2_score\n",
        "from time import time\n",
        "from sklearn.model_selection import train_test_split\n",
        "\n",
        "from sklearn.linear_model import LinearRegression, Ridge,Lasso\n",
        "from sklearn.neighbors import KNeighborsRegressor\n",
        "from sklearn.ensemble import GradientBoostingRegressor\n",
        "from sklearn.ensemble import ExtraTreesRegressor, RandomForestRegressor\n",
        "from sklearn.tree import DecisionTreeRegressor"
      ],
      "execution_count": 20,
      "outputs": []
    },
    {
      "cell_type": "code",
      "metadata": {
        "id": "6cmu89vvkNDU"
      },
      "source": [
        "regressors = [\n",
        "    KNeighborsRegressor(),\n",
        "    GradientBoostingRegressor(),\n",
        "    ExtraTreesRegressor(),\n",
        "    RandomForestRegressor(),\n",
        "    DecisionTreeRegressor(),\n",
        "    LinearRegression(),\n",
        "    Lasso(),\n",
        "    Ridge()\n",
        "]"
      ],
      "execution_count": 21,
      "outputs": []
    },
    {
      "cell_type": "code",
      "metadata": {
        "colab": {
          "base_uri": "https://localhost:8080/"
        },
        "id": "ukCTd6XZkReQ",
        "outputId": "ba7a54b8-dbf6-4bfd-e26d-9163badda690"
      },
      "source": [
        "head = 10\n",
        "X,y=make_X_and_Y(list(df.close))\n",
        "train_x, test_x, train_y, test_y = train_test_split(X, y, test_size=0.15 , shuffle=False,random_state = 0)\n",
        "for model in regressors[:head]:\n",
        "    start = time()\n",
        "    model.fit(train_x,train_y)\n",
        "    train_time = time() - start\n",
        "    start = time()\n",
        "    y_pred = model.predict(test_x)\n",
        "    predict_time = time()-start    \n",
        "    print(model)\n",
        "    print(\"\\tTraining time: %0.3fs\" % train_time)\n",
        "    print(\"\\tPrediction time: %0.3fs\" % predict_time)\n",
        "    print(\"\\tExplained variance:\", explained_variance_score(test_y, y_pred))\n",
        "    print(\"\\tMean absolute error:\", mean_absolute_error(test_y, y_pred))\n",
        "    print(\"\\tR2 score:\", r2_score(test_y, y_pred))\n",
        "    print()"
      ],
      "execution_count": 34,
      "outputs": [
        {
          "output_type": "stream",
          "name": "stdout",
          "text": [
            "KNeighborsRegressor(algorithm='auto', leaf_size=30, metric='minkowski',\n",
            "                    metric_params=None, n_jobs=None, n_neighbors=5, p=2,\n",
            "                    weights='uniform')\n",
            "\tTraining time: 0.001s\n",
            "\tPrediction time: 0.001s\n",
            "\tExplained variance: 0.611332604543708\n",
            "\tMean absolute error: 74.2163604736329\n",
            "\tR2 score: 0.45544072688682014\n",
            "\n",
            "GradientBoostingRegressor(alpha=0.9, ccp_alpha=0.0, criterion='friedman_mse',\n",
            "                          init=None, learning_rate=0.1, loss='ls', max_depth=3,\n",
            "                          max_features=None, max_leaf_nodes=None,\n",
            "                          min_impurity_decrease=0.0, min_impurity_split=None,\n",
            "                          min_samples_leaf=1, min_samples_split=2,\n",
            "                          min_weight_fraction_leaf=0.0, n_estimators=100,\n",
            "                          n_iter_no_change=None, presort='deprecated',\n",
            "                          random_state=None, subsample=1.0, tol=0.0001,\n",
            "                          validation_fraction=0.1, verbose=0, warm_start=False)\n",
            "\tTraining time: 0.058s\n",
            "\tPrediction time: 0.001s\n",
            "\tExplained variance: 0.6702659606111265\n",
            "\tMean absolute error: 66.6936302608919\n",
            "\tR2 score: 0.518467017136091\n",
            "\n",
            "ExtraTreesRegressor(bootstrap=False, ccp_alpha=0.0, criterion='mse',\n",
            "                    max_depth=None, max_features='auto', max_leaf_nodes=None,\n",
            "                    max_samples=None, min_impurity_decrease=0.0,\n",
            "                    min_impurity_split=None, min_samples_leaf=1,\n",
            "                    min_samples_split=2, min_weight_fraction_leaf=0.0,\n",
            "                    n_estimators=100, n_jobs=None, oob_score=False,\n",
            "                    random_state=None, verbose=0, warm_start=False)\n",
            "\tTraining time: 0.111s\n",
            "\tPrediction time: 0.007s\n",
            "\tExplained variance: 0.6452840283765904\n",
            "\tMean absolute error: 66.7871826171874\n",
            "\tR2 score: 0.5050689239984676\n",
            "\n",
            "RandomForestRegressor(bootstrap=True, ccp_alpha=0.0, criterion='mse',\n",
            "                      max_depth=None, max_features='auto', max_leaf_nodes=None,\n",
            "                      max_samples=None, min_impurity_decrease=0.0,\n",
            "                      min_impurity_split=None, min_samples_leaf=1,\n",
            "                      min_samples_split=2, min_weight_fraction_leaf=0.0,\n",
            "                      n_estimators=100, n_jobs=None, oob_score=False,\n",
            "                      random_state=None, verbose=0, warm_start=False)\n",
            "\tTraining time: 0.166s\n",
            "\tPrediction time: 0.007s\n",
            "\tExplained variance: 0.6639015151865268\n",
            "\tMean absolute error: 67.17492324829095\n",
            "\tR2 score: 0.5134011742830094\n",
            "\n",
            "DecisionTreeRegressor(ccp_alpha=0.0, criterion='mse', max_depth=None,\n",
            "                      max_features=None, max_leaf_nodes=None,\n",
            "                      min_impurity_decrease=0.0, min_impurity_split=None,\n",
            "                      min_samples_leaf=1, min_samples_split=2,\n",
            "                      min_weight_fraction_leaf=0.0, presort='deprecated',\n",
            "                      random_state=None, splitter='best')\n",
            "\tTraining time: 0.005s\n",
            "\tPrediction time: 0.000s\n",
            "\tExplained variance: 0.6470026895296821\n",
            "\tMean absolute error: 72.60594177246094\n",
            "\tR2 score: 0.4315151490397574\n",
            "\n",
            "LinearRegression(copy_X=True, fit_intercept=True, n_jobs=None, normalize=False)\n",
            "\tTraining time: 0.002s\n",
            "\tPrediction time: 0.000s\n",
            "\tExplained variance: 0.9326972456158327\n",
            "\tMean absolute error: 27.33772494822938\n",
            "\tR2 score: 0.9272898792859559\n",
            "\n",
            "Lasso(alpha=1.0, copy_X=True, fit_intercept=True, max_iter=1000,\n",
            "      normalize=False, positive=False, precompute=False, random_state=None,\n",
            "      selection='cyclic', tol=0.0001, warm_start=False)\n",
            "\tTraining time: 0.008s\n",
            "\tPrediction time: 0.000s\n",
            "\tExplained variance: 0.9327814243899853\n",
            "\tMean absolute error: 27.339659025172466\n",
            "\tR2 score: 0.9273622439093578\n",
            "\n",
            "Ridge(alpha=1.0, copy_X=True, fit_intercept=True, max_iter=None,\n",
            "      normalize=False, random_state=None, solver='auto', tol=0.001)\n",
            "\tTraining time: 0.004s\n",
            "\tPrediction time: 0.000s\n",
            "\tExplained variance: 0.9326971852496566\n",
            "\tMean absolute error: 27.337792733408207\n",
            "\tR2 score: 0.9272897577409749\n",
            "\n"
          ]
        }
      ]
    },
    {
      "cell_type": "code",
      "metadata": {
        "id": "7q1_8huckUbL"
      },
      "source": [
        ""
      ],
      "execution_count": 22,
      "outputs": []
    }
  ]
}