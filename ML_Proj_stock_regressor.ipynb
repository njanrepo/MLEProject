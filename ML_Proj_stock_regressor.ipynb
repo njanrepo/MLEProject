{
  "nbformat": 4,
  "nbformat_minor": 0,
  "metadata": {
    "colab": {
      "name": "ML_Proj_stock_regressor.ipynb",
      "provenance": [],
      "collapsed_sections": [
        "rX8mhOLljYeM"
      ],
      "toc_visible": true,
      "include_colab_link": true
    },
    "kernelspec": {
      "display_name": "Python 3",
      "name": "python3"
    }
  },
  "cells": [
    {
      "cell_type": "markdown",
      "metadata": {
        "id": "view-in-github",
        "colab_type": "text"
      },
      "source": [
        "<a href=\"https://colab.research.google.com/github/njanrepo/MLEProject/blob/main/ML_Proj_stock_regressor.ipynb\" target=\"_parent\"><img src=\"https://colab.research.google.com/assets/colab-badge.svg\" alt=\"Open In Colab\"/></a>"
      ]
    },
    {
      "cell_type": "markdown",
      "metadata": {
        "id": "rX8mhOLljYeM"
      },
      "source": [
        "##### Copyright 2019 The TensorFlow Authors."
      ]
    },
    {
      "cell_type": "code",
      "metadata": {
        "cellView": "form",
        "id": "BZSlp3DAjdYf"
      },
      "source": [
        "#@title Licensed under the Apache License, Version 2.0 (the \"License\");\n",
        "# you may not use this file except in compliance with the License.\n",
        "# You may obtain a copy of the License at\n",
        "#\n",
        "# https://www.apache.org/licenses/LICENSE-2.0\n",
        "#\n",
        "# Unless required by applicable law or agreed to in writing, software\n",
        "# distributed under the License is distributed on an \"AS IS\" BASIS,\n",
        "# WITHOUT WARRANTIES OR CONDITIONS OF ANY KIND, either express or implied.\n",
        "# See the License for the specific language governing permissions and\n",
        "# limitations under the License."
      ],
      "execution_count": null,
      "outputs": []
    },
    {
      "cell_type": "markdown",
      "metadata": {
        "id": "3wF5wszaj97Y"
      },
      "source": [
        "# TensorFlow 2 quickstart for beginners"
      ]
    },
    {
      "cell_type": "markdown",
      "metadata": {
        "id": "h5bFyYyuJQS1"
      },
      "source": [
        "# New Section"
      ]
    },
    {
      "cell_type": "code",
      "metadata": {
        "id": "aD4UwXrcJRhY"
      },
      "source": [
        "import pandas as pd\n",
        "import numpy as np\n",
        "import matplotlib.pyplot as plt\n",
        "import seaborn as sns"
      ],
      "execution_count": null,
      "outputs": []
    },
    {
      "cell_type": "code",
      "metadata": {
        "id": "vNE8HXM2Jo7J"
      },
      "source": [
        "!pip install yfinance scikit-learn statsmodels seaborn"
      ],
      "execution_count": null,
      "outputs": []
    },
    {
      "cell_type": "code",
      "metadata": {
        "id": "KeqEZVdXKCF_"
      },
      "source": [
        "import yfinance as yf"
      ],
      "execution_count": null,
      "outputs": []
    },
    {
      "cell_type": "code",
      "metadata": {
        "id": "QX9tOYNWKrgz",
        "colab": {
          "base_uri": "https://localhost:8080/"
        },
        "outputId": "696f128a-6336-4f6e-e284-89ecbccedb5b"
      },
      "source": [
        "symbol='^GSPC'\n",
        "df= yf.download(symbol, start='2021-01-01', end='2021-11-10')"
      ],
      "execution_count": 48,
      "outputs": [
        {
          "output_type": "stream",
          "name": "stdout",
          "text": [
            "\r[*********************100%***********************]  1 of 1 completed\n"
          ]
        }
      ]
    },
    {
      "cell_type": "code",
      "metadata": {
        "id": "ZtCQglYkK4i8",
        "colab": {
          "base_uri": "https://localhost:8080/"
        },
        "outputId": "cf28a76b-4c51-4878-91b0-631aa2748e06"
      },
      "source": [
        "df.shape"
      ],
      "execution_count": 49,
      "outputs": [
        {
          "output_type": "execute_result",
          "data": {
            "text/plain": [
              "(216, 6)"
            ]
          },
          "metadata": {},
          "execution_count": 49
        }
      ]
    },
    {
      "cell_type": "code",
      "metadata": {
        "id": "oQsznwwoK5rt",
        "colab": {
          "base_uri": "https://localhost:8080/",
          "height": 297
        },
        "outputId": "eccc11ff-9f7d-4680-ecd0-f172dbccabfd"
      },
      "source": [
        "df.describe()"
      ],
      "execution_count": 50,
      "outputs": [
        {
          "output_type": "execute_result",
          "data": {
            "text/html": [
              "<div>\n",
              "<style scoped>\n",
              "    .dataframe tbody tr th:only-of-type {\n",
              "        vertical-align: middle;\n",
              "    }\n",
              "\n",
              "    .dataframe tbody tr th {\n",
              "        vertical-align: top;\n",
              "    }\n",
              "\n",
              "    .dataframe thead th {\n",
              "        text-align: right;\n",
              "    }\n",
              "</style>\n",
              "<table border=\"1\" class=\"dataframe\">\n",
              "  <thead>\n",
              "    <tr style=\"text-align: right;\">\n",
              "      <th></th>\n",
              "      <th>Open</th>\n",
              "      <th>High</th>\n",
              "      <th>Low</th>\n",
              "      <th>Close</th>\n",
              "      <th>Adj Close</th>\n",
              "      <th>Volume</th>\n",
              "    </tr>\n",
              "  </thead>\n",
              "  <tbody>\n",
              "    <tr>\n",
              "      <th>count</th>\n",
              "      <td>216.000000</td>\n",
              "      <td>216.000000</td>\n",
              "      <td>216.000000</td>\n",
              "      <td>216.000000</td>\n",
              "      <td>216.000000</td>\n",
              "      <td>2.160000e+02</td>\n",
              "    </tr>\n",
              "    <tr>\n",
              "      <th>mean</th>\n",
              "      <td>4204.341942</td>\n",
              "      <td>4224.122088</td>\n",
              "      <td>4185.351804</td>\n",
              "      <td>4206.955968</td>\n",
              "      <td>4206.955968</td>\n",
              "      <td>3.933196e+09</td>\n",
              "    </tr>\n",
              "    <tr>\n",
              "      <th>std</th>\n",
              "      <td>253.592453</td>\n",
              "      <td>250.523130</td>\n",
              "      <td>257.434445</td>\n",
              "      <td>254.262488</td>\n",
              "      <td>254.262488</td>\n",
              "      <td>1.165391e+09</td>\n",
              "    </tr>\n",
              "    <tr>\n",
              "      <th>min</th>\n",
              "      <td>3698.020020</td>\n",
              "      <td>3737.830078</td>\n",
              "      <td>3662.709961</td>\n",
              "      <td>3700.649902</td>\n",
              "      <td>3700.649902</td>\n",
              "      <td>2.371630e+09</td>\n",
              "    </tr>\n",
              "    <tr>\n",
              "      <th>25%</th>\n",
              "      <td>3942.122498</td>\n",
              "      <td>3969.217590</td>\n",
              "      <td>3921.935059</td>\n",
              "      <td>3954.747559</td>\n",
              "      <td>3954.747559</td>\n",
              "      <td>3.087422e+09</td>\n",
              "    </tr>\n",
              "    <tr>\n",
              "      <th>50%</th>\n",
              "      <td>4222.489990</td>\n",
              "      <td>4235.255127</td>\n",
              "      <td>4203.010010</td>\n",
              "      <td>4224.245117</td>\n",
              "      <td>4224.245117</td>\n",
              "      <td>3.602580e+09</td>\n",
              "    </tr>\n",
              "    <tr>\n",
              "      <th>75%</th>\n",
              "      <td>4407.359863</td>\n",
              "      <td>4425.282471</td>\n",
              "      <td>4391.634888</td>\n",
              "      <td>4413.630005</td>\n",
              "      <td>4413.630005</td>\n",
              "      <td>4.580242e+09</td>\n",
              "    </tr>\n",
              "    <tr>\n",
              "      <th>max</th>\n",
              "      <td>4707.250000</td>\n",
              "      <td>4718.500000</td>\n",
              "      <td>4694.390137</td>\n",
              "      <td>4701.700195</td>\n",
              "      <td>4701.700195</td>\n",
              "      <td>9.878040e+09</td>\n",
              "    </tr>\n",
              "  </tbody>\n",
              "</table>\n",
              "</div>"
            ],
            "text/plain": [
              "              Open         High  ...    Adj Close        Volume\n",
              "count   216.000000   216.000000  ...   216.000000  2.160000e+02\n",
              "mean   4204.341942  4224.122088  ...  4206.955968  3.933196e+09\n",
              "std     253.592453   250.523130  ...   254.262488  1.165391e+09\n",
              "min    3698.020020  3737.830078  ...  3700.649902  2.371630e+09\n",
              "25%    3942.122498  3969.217590  ...  3954.747559  3.087422e+09\n",
              "50%    4222.489990  4235.255127  ...  4224.245117  3.602580e+09\n",
              "75%    4407.359863  4425.282471  ...  4413.630005  4.580242e+09\n",
              "max    4707.250000  4718.500000  ...  4701.700195  9.878040e+09\n",
              "\n",
              "[8 rows x 6 columns]"
            ]
          },
          "metadata": {},
          "execution_count": 50
        }
      ]
    },
    {
      "cell_type": "code",
      "metadata": {
        "id": "1WKGF_PsPdV2",
        "colab": {
          "base_uri": "https://localhost:8080/"
        },
        "outputId": "8216293d-a498-4546-db00-acb752948c4a"
      },
      "source": [
        "df.nunique()"
      ],
      "execution_count": 51,
      "outputs": [
        {
          "output_type": "execute_result",
          "data": {
            "text/plain": [
              "Open         214\n",
              "High         215\n",
              "Low          216\n",
              "Close        216\n",
              "Adj Close    216\n",
              "Volume       216\n",
              "dtype: int64"
            ]
          },
          "metadata": {},
          "execution_count": 51
        }
      ]
    },
    {
      "cell_type": "code",
      "metadata": {
        "id": "a5ZXZTDUpRWn",
        "colab": {
          "base_uri": "https://localhost:8080/"
        },
        "outputId": "8f2758d0-b87d-459b-94fc-5c934a7290fc"
      },
      "source": [
        "df.isna().sum()"
      ],
      "execution_count": 52,
      "outputs": [
        {
          "output_type": "execute_result",
          "data": {
            "text/plain": [
              "Open         0\n",
              "High         0\n",
              "Low          0\n",
              "Close        0\n",
              "Adj Close    0\n",
              "Volume       0\n",
              "dtype: int64"
            ]
          },
          "metadata": {},
          "execution_count": 52
        }
      ]
    },
    {
      "cell_type": "code",
      "metadata": {
        "colab": {
          "base_uri": "https://localhost:8080/"
        },
        "id": "f2DAXLAiSQN6",
        "outputId": "90f86437-5cbc-40a9-b8cd-a796ab195919"
      },
      "source": [
        "df.dtypes"
      ],
      "execution_count": 53,
      "outputs": [
        {
          "output_type": "execute_result",
          "data": {
            "text/plain": [
              "Open         float64\n",
              "High         float64\n",
              "Low          float64\n",
              "Close        float64\n",
              "Adj Close    float64\n",
              "Volume         int64\n",
              "dtype: object"
            ]
          },
          "metadata": {},
          "execution_count": 53
        }
      ]
    },
    {
      "cell_type": "code",
      "metadata": {
        "id": "oDBA_HruPiHf"
      },
      "source": [
        "df.columns = df.columns.str.lower().str.replace(' ', '_')\n",
        "string_columns = list(df.dtypes[df.dtypes == 'object'].index)\n",
        "for col in string_columns:\n",
        "  df[col] = df[col].str.lower().str.replace(' ', '_')"
      ],
      "execution_count": 54,
      "outputs": []
    },
    {
      "cell_type": "code",
      "metadata": {
        "id": "y2-j7OruPjJe",
        "colab": {
          "base_uri": "https://localhost:8080/",
          "height": 235
        },
        "outputId": "b4daa186-360b-4a83-893e-ad77fc63ab09"
      },
      "source": [
        "df.head()"
      ],
      "execution_count": 55,
      "outputs": [
        {
          "output_type": "execute_result",
          "data": {
            "text/html": [
              "<div>\n",
              "<style scoped>\n",
              "    .dataframe tbody tr th:only-of-type {\n",
              "        vertical-align: middle;\n",
              "    }\n",
              "\n",
              "    .dataframe tbody tr th {\n",
              "        vertical-align: top;\n",
              "    }\n",
              "\n",
              "    .dataframe thead th {\n",
              "        text-align: right;\n",
              "    }\n",
              "</style>\n",
              "<table border=\"1\" class=\"dataframe\">\n",
              "  <thead>\n",
              "    <tr style=\"text-align: right;\">\n",
              "      <th></th>\n",
              "      <th>open</th>\n",
              "      <th>high</th>\n",
              "      <th>low</th>\n",
              "      <th>close</th>\n",
              "      <th>adj_close</th>\n",
              "      <th>volume</th>\n",
              "    </tr>\n",
              "    <tr>\n",
              "      <th>Date</th>\n",
              "      <th></th>\n",
              "      <th></th>\n",
              "      <th></th>\n",
              "      <th></th>\n",
              "      <th></th>\n",
              "      <th></th>\n",
              "    </tr>\n",
              "  </thead>\n",
              "  <tbody>\n",
              "    <tr>\n",
              "      <th>2021-01-04</th>\n",
              "      <td>3764.610107</td>\n",
              "      <td>3769.989990</td>\n",
              "      <td>3662.709961</td>\n",
              "      <td>3700.649902</td>\n",
              "      <td>3700.649902</td>\n",
              "      <td>5006680000</td>\n",
              "    </tr>\n",
              "    <tr>\n",
              "      <th>2021-01-05</th>\n",
              "      <td>3698.020020</td>\n",
              "      <td>3737.830078</td>\n",
              "      <td>3695.070068</td>\n",
              "      <td>3726.860107</td>\n",
              "      <td>3726.860107</td>\n",
              "      <td>4582620000</td>\n",
              "    </tr>\n",
              "    <tr>\n",
              "      <th>2021-01-06</th>\n",
              "      <td>3712.199951</td>\n",
              "      <td>3783.040039</td>\n",
              "      <td>3705.340088</td>\n",
              "      <td>3748.139893</td>\n",
              "      <td>3748.139893</td>\n",
              "      <td>6049970000</td>\n",
              "    </tr>\n",
              "    <tr>\n",
              "      <th>2021-01-07</th>\n",
              "      <td>3764.709961</td>\n",
              "      <td>3811.550049</td>\n",
              "      <td>3764.709961</td>\n",
              "      <td>3803.790039</td>\n",
              "      <td>3803.790039</td>\n",
              "      <td>5080870000</td>\n",
              "    </tr>\n",
              "    <tr>\n",
              "      <th>2021-01-08</th>\n",
              "      <td>3815.050049</td>\n",
              "      <td>3826.689941</td>\n",
              "      <td>3783.600098</td>\n",
              "      <td>3824.679932</td>\n",
              "      <td>3824.679932</td>\n",
              "      <td>4764180000</td>\n",
              "    </tr>\n",
              "  </tbody>\n",
              "</table>\n",
              "</div>"
            ],
            "text/plain": [
              "                   open         high  ...    adj_close      volume\n",
              "Date                                  ...                         \n",
              "2021-01-04  3764.610107  3769.989990  ...  3700.649902  5006680000\n",
              "2021-01-05  3698.020020  3737.830078  ...  3726.860107  4582620000\n",
              "2021-01-06  3712.199951  3783.040039  ...  3748.139893  6049970000\n",
              "2021-01-07  3764.709961  3811.550049  ...  3803.790039  5080870000\n",
              "2021-01-08  3815.050049  3826.689941  ...  3824.679932  4764180000\n",
              "\n",
              "[5 rows x 6 columns]"
            ]
          },
          "metadata": {},
          "execution_count": 55
        }
      ]
    },
    {
      "cell_type": "code",
      "metadata": {
        "colab": {
          "base_uri": "https://localhost:8080/",
          "height": 295
        },
        "id": "Ac7gfNY1SZ9u",
        "outputId": "f8d4b701-e959-4ccd-ea6a-0847d1beec20"
      },
      "source": [
        "plt.figure(figsize=(6,4))\n",
        "sns.histplot(df.close, bins=40, color='red', alpha=1)\n",
        "plt.ylabel(\"Frequency\")\n",
        "plt.xlabel('close price')\n",
        "plt.title('Dist hist')\n",
        "plt.show()"
      ],
      "execution_count": 56,
      "outputs": [
        {
          "output_type": "display_data",
          "data": {
            "image/png": "[encoded data removed]",
            "text/plain": [
              "<Figure size 432x288 with 1 Axes>"
            ]
          },
          "metadata": {
            "needs_background": "light"
          }
        }
      ]
    },
    {
      "cell_type": "code",
      "metadata": {
        "id": "R8xquJR3op0k"
      },
      "source": [
        "def make_X_and_Y(close_prices, period=6):\n",
        "  X = []\n",
        "  y = []\n",
        "  for i in range(len(close_prices)- period):\n",
        "    X.append(close_prices[i:i+period])\n",
        "    y.append(close_prices[i+period])\n",
        "  return X,y"
      ],
      "execution_count": 57,
      "outputs": []
    },
    {
      "cell_type": "code",
      "metadata": {
        "colab": {
          "base_uri": "https://localhost:8080/",
          "height": 295
        },
        "id": "fp9iIcp3Esty",
        "outputId": "5fc25f41-36f7-4aa8-bde2-2c28ece87283"
      },
      "source": [
        "log_price = np.log1p(df.close)\n",
        "\n",
        "plt.figure(figsize=(6, 4))\n",
        "\n",
        "sns.histplot(log_price, bins=40, color='black', alpha=1)\n",
        "plt.ylabel('Frequency')\n",
        "plt.xlabel('Log(Price + 1)')\n",
        "plt.title('Distribution of prices after log tranformation')\n",
        "\n",
        "plt.show()"
      ],
      "execution_count": 58,
      "outputs": [
        {
          "output_type": "display_data",
          "data": {
            "image/png": "[encoded data removed]",
            "text/plain": [
              "<Figure size 432x288 with 1 Axes>"
            ]
          },
          "metadata": {
            "needs_background": "light"
          }
        }
      ]
    },
    {
      "cell_type": "code",
      "metadata": {
        "id": "UH93Fi1UWO4a"
      },
      "source": [
        "from sklearn.ensemble import ExtraTreesRegressor, RandomForestRegressor\n"
      ],
      "execution_count": 59,
      "outputs": []
    },
    {
      "cell_type": "code",
      "metadata": {
        "colab": {
          "base_uri": "https://localhost:8080/"
        },
        "id": "PgclrL3QWZ92",
        "outputId": "9e3279cb-1426-4d15-f63b-6b6317f7a225"
      },
      "source": [
        "X,y=make_X_and_Y(list(df.close))\n",
        "\n",
        "def return_model(X, y):\n",
        "  clf = RandomForestRegressor()\n",
        "  clf.fit(X,y)\n",
        "  return clf\n",
        "period = 6\n",
        "print(np.array(list(df.close)[-period:]).reshape((1,-1)))\n",
        "latest_feat = np.array(list(df.close)[-period:]).reshape((1,-1))\n",
        "classifier = return_model(X,y)\n",
        "tomorrow_prediction = classifier.predict(latest_feat)\n",
        "print(\"Tomorrow Predicted value is : \", tomorrow_prediction[0])\n",
        "print(\"Today's value is: \", df.close[-1])"
      ],
      "execution_count": 60,
      "outputs": [
        {
          "output_type": "stream",
          "name": "stdout",
          "text": [
            "[[4630.64990234 4660.56982422 4680.06005859 4697.52978516 4701.70019531\n",
            "  4685.25      ]]\n",
            "Tomorrow Predicted value is :  4689.208798828125\n",
            "Today's value is:  4685.25\n"
          ]
        }
      ]
    },
    {
      "cell_type": "code",
      "metadata": {
        "id": "dmoUdL1ofAHs"
      },
      "source": [
        "for i in range(len(df.close)- period):\n",
        "  X = np.array(list(df.close)[i:i+period]).reshape((1,-1))\n",
        "  actual = df.close[i+period]\n",
        "  pred = classifier.predict(X)\n",
        "  print (actual , pred)"
      ],
      "execution_count": null,
      "outputs": []
    },
    {
      "cell_type": "code",
      "metadata": {
        "id": "R0017vqykIhW"
      },
      "source": [
        "from sklearn.metrics import explained_variance_score,mean_absolute_error,r2_score\n",
        "from time import time\n",
        "\n",
        "from sklearn.linear_model import LinearRegression, Ridge,Lasso\n",
        "from sklearn.neighbors import KNeighborsRegressor\n",
        "from sklearn.ensemble import GradientBoostingRegressor\n",
        "from sklearn.ensemble import ExtraTreesRegressor, RandomForestRegressor\n",
        "from sklearn.tree import DecisionTreeRegressor"
      ],
      "execution_count": 70,
      "outputs": []
    },
    {
      "cell_type": "code",
      "metadata": {
        "id": "6cmu89vvkNDU"
      },
      "source": [
        "regressors = [\n",
        "    KNeighborsRegressor(),\n",
        "    GradientBoostingRegressor(),\n",
        "    ExtraTreesRegressor(),\n",
        "    RandomForestRegressor(),\n",
        "    DecisionTreeRegressor(),\n",
        "    LinearRegression(),\n",
        "    Lasso(),\n",
        "    Ridge()\n",
        "]"
      ],
      "execution_count": 71,
      "outputs": []
    },
    {
      "cell_type": "code",
      "metadata": {
        "colab": {
          "base_uri": "https://localhost:8080/",
          "height": 317
        },
        "id": "ukCTd6XZkReQ",
        "outputId": "1be79838-52cc-4d7e-bf89-3979f077f7b4"
      },
      "source": [
        "head = 10\n",
        "X,y=make_X_and_Y(list(df.close))\n",
        "for model in regressors[:head]:\n",
        "    start = time()\n",
        "    model.fit(X,y)\n",
        "    train_time = time() - start\n",
        "    start = time()\n",
        "    X_test = np.array(list(df.close)[-period:]).reshape((1,-1))\n",
        "    \n",
        "    y_pred = model.predict(X_test)\n",
        "    predict_time = time()-start    \n",
        "    print(model)\n",
        "    print(\"\\tTraining time: %0.3fs\" % train_time)\n",
        "    print(\"\\tPrediction time: %0.3fs\" % predict_time)\n",
        "    print(\"\\tExplained variance:\", explained_variance_score(y_test, y_pred))\n",
        "    print(\"\\tMean absolute error:\", mean_absolute_error(y_test, y_pred))\n",
        "    print(\"\\tR2 score:\", r2_score(y_test, y_pred))\n",
        "    print()"
      ],
      "execution_count": 76,
      "outputs": [
        {
          "output_type": "stream",
          "name": "stdout",
          "text": [
            "KNeighborsRegressor(algorithm='auto', leaf_size=30, metric='minkowski',\n",
            "                    metric_params=None, n_jobs=None, n_neighbors=5, p=2,\n",
            "                    weights='uniform')\n",
            "\tTraining time: 0.001s\n",
            "\tPrediction time: 0.001s\n"
          ]
        },
        {
          "output_type": "error",
          "ename": "NameError",
          "evalue": "ignored",
          "traceback": [
            "\u001b[0;31m---------------------------------------------------------------------------\u001b[0m",
            "\u001b[0;31mNameError\u001b[0m                                 Traceback (most recent call last)",
            "\u001b[0;32m<ipython-input-76-dd47e1dcc76f>\u001b[0m in \u001b[0;36m<module>\u001b[0;34m()\u001b[0m\n\u001b[1;32m     12\u001b[0m     \u001b[0mprint\u001b[0m\u001b[0;34m(\u001b[0m\u001b[0;34m\"\\tTraining time: %0.3fs\"\u001b[0m \u001b[0;34m%\u001b[0m \u001b[0mtrain_time\u001b[0m\u001b[0;34m)\u001b[0m\u001b[0;34m\u001b[0m\u001b[0;34m\u001b[0m\u001b[0m\n\u001b[1;32m     13\u001b[0m     \u001b[0mprint\u001b[0m\u001b[0;34m(\u001b[0m\u001b[0;34m\"\\tPrediction time: %0.3fs\"\u001b[0m \u001b[0;34m%\u001b[0m \u001b[0mpredict_time\u001b[0m\u001b[0;34m)\u001b[0m\u001b[0;34m\u001b[0m\u001b[0;34m\u001b[0m\u001b[0m\n\u001b[0;32m---> 14\u001b[0;31m     \u001b[0mprint\u001b[0m\u001b[0;34m(\u001b[0m\u001b[0;34m\"\\tExplained variance:\"\u001b[0m\u001b[0;34m,\u001b[0m \u001b[0mexplained_variance_score\u001b[0m\u001b[0;34m(\u001b[0m\u001b[0my_test\u001b[0m\u001b[0;34m,\u001b[0m \u001b[0my_pred\u001b[0m\u001b[0;34m)\u001b[0m\u001b[0;34m)\u001b[0m\u001b[0;34m\u001b[0m\u001b[0;34m\u001b[0m\u001b[0m\n\u001b[0m\u001b[1;32m     15\u001b[0m     \u001b[0mprint\u001b[0m\u001b[0;34m(\u001b[0m\u001b[0;34m\"\\tMean absolute error:\"\u001b[0m\u001b[0;34m,\u001b[0m \u001b[0mmean_absolute_error\u001b[0m\u001b[0;34m(\u001b[0m\u001b[0my_test\u001b[0m\u001b[0;34m,\u001b[0m \u001b[0my_pred\u001b[0m\u001b[0;34m)\u001b[0m\u001b[0;34m)\u001b[0m\u001b[0;34m\u001b[0m\u001b[0;34m\u001b[0m\u001b[0m\n\u001b[1;32m     16\u001b[0m     \u001b[0mprint\u001b[0m\u001b[0;34m(\u001b[0m\u001b[0;34m\"\\tR2 score:\"\u001b[0m\u001b[0;34m,\u001b[0m \u001b[0mr2_score\u001b[0m\u001b[0;34m(\u001b[0m\u001b[0my_test\u001b[0m\u001b[0;34m,\u001b[0m \u001b[0my_pred\u001b[0m\u001b[0;34m)\u001b[0m\u001b[0;34m)\u001b[0m\u001b[0;34m\u001b[0m\u001b[0;34m\u001b[0m\u001b[0m\n",
            "\u001b[0;31mNameError\u001b[0m: name 'y_test' is not defined"
          ]
        }
      ]
    },
    {
      "cell_type": "code",
      "metadata": {
        "id": "7q1_8huckUbL"
      },
      "source": [
        ""
      ],
      "execution_count": null,
      "outputs": []
    }
  ]
}