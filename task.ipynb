{
  "nbformat": 4,
  "nbformat_minor": 0,
  "metadata": {
    "colab": {
      "name": "task.ipynb",
      "provenance": [],
      "collapsed_sections": [],
      "authorship_tag": "ABX9TyMDP67hpnsOmi6J1b6qX7hB",
      "include_colab_link": true
    },
    "kernelspec": {
      "name": "python3",
      "display_name": "Python 3"
    },
    "language_info": {
      "name": "python"
    }
  },
  "cells": [
    {
      "cell_type": "markdown",
      "metadata": {
        "id": "view-in-github",
        "colab_type": "text"
      },
      "source": [
        "<a href=\"https://colab.research.google.com/github/njanrepo/MLEProject/blob/main/task.ipynb\" target=\"_parent\"><img src=\"https://colab.research.google.com/assets/colab-badge.svg\" alt=\"Open In Colab\"/></a>"
      ]
    },
    {
      "cell_type": "code",
      "metadata": {
        "id": "DGRkxerfuYly"
      },
      "source": [
        "import pandas as pd\n",
        "import numpy as np\n",
        "import matplotlib.pyplot as plt\n",
        "import seaborn as sns\n",
        "from datetime import datetime\n",
        "from sklearn.model_selection import train_test_split\n",
        "\n",
        "from sklearn.ensemble import ExtraTreesRegressor, RandomForestRegressor\n",
        "from sklearn.tree import DecisionTreeRegressor\n",
        "import math"
      ],
      "execution_count": 1,
      "outputs": []
    },
    {
      "cell_type": "code",
      "metadata": {
        "colab": {
          "base_uri": "https://localhost:8080/"
        },
        "id": "QSqoVWOmFKqY",
        "outputId": "7d59d7b3-51dc-4533-dd98-7bd409c14246"
      },
      "source": [
        "!pip install yfinance"
      ],
      "execution_count": 2,
      "outputs": [
        {
          "output_type": "stream",
          "name": "stdout",
          "text": [
            "Collecting yfinance\n",
            "  Downloading yfinance-0.1.66-py2.py3-none-any.whl (25 kB)\n",
            "Requirement already satisfied: numpy>=1.15 in /usr/local/lib/python3.7/dist-packages (from yfinance) (1.19.5)\n",
            "Requirement already satisfied: multitasking>=0.0.7 in /usr/local/lib/python3.7/dist-packages (from yfinance) (0.0.9)\n",
            "Requirement already satisfied: pandas>=0.24 in /usr/local/lib/python3.7/dist-packages (from yfinance) (1.1.5)\n",
            "Collecting lxml>=4.5.1\n",
            "  Downloading lxml-4.6.4-cp37-cp37m-manylinux_2_17_x86_64.manylinux2014_x86_64.manylinux_2_24_x86_64.whl (6.3 MB)\n",
            "\u001b[K     |████████████████████████████████| 6.3 MB 18.9 MB/s \n",
            "\u001b[?25hRequirement already satisfied: requests>=2.20 in /usr/local/lib/python3.7/dist-packages (from yfinance) (2.23.0)\n",
            "Requirement already satisfied: python-dateutil>=2.7.3 in /usr/local/lib/python3.7/dist-packages (from pandas>=0.24->yfinance) (2.8.2)\n",
            "Requirement already satisfied: pytz>=2017.2 in /usr/local/lib/python3.7/dist-packages (from pandas>=0.24->yfinance) (2018.9)\n",
            "Requirement already satisfied: six>=1.5 in /usr/local/lib/python3.7/dist-packages (from python-dateutil>=2.7.3->pandas>=0.24->yfinance) (1.15.0)\n",
            "Requirement already satisfied: certifi>=2017.4.17 in /usr/local/lib/python3.7/dist-packages (from requests>=2.20->yfinance) (2021.10.8)\n",
            "Requirement already satisfied: urllib3!=1.25.0,!=1.25.1,<1.26,>=1.21.1 in /usr/local/lib/python3.7/dist-packages (from requests>=2.20->yfinance) (1.24.3)\n",
            "Requirement already satisfied: chardet<4,>=3.0.2 in /usr/local/lib/python3.7/dist-packages (from requests>=2.20->yfinance) (3.0.4)\n",
            "Requirement already satisfied: idna<3,>=2.5 in /usr/local/lib/python3.7/dist-packages (from requests>=2.20->yfinance) (2.10)\n",
            "Installing collected packages: lxml, yfinance\n",
            "  Attempting uninstall: lxml\n",
            "    Found existing installation: lxml 4.2.6\n",
            "    Uninstalling lxml-4.2.6:\n",
            "      Successfully uninstalled lxml-4.2.6\n",
            "Successfully installed lxml-4.6.4 yfinance-0.1.66\n"
          ]
        }
      ]
    },
    {
      "cell_type": "code",
      "metadata": {
        "id": "u6OqPzxZulv5"
      },
      "source": [
        "import yfinance as yf"
      ],
      "execution_count": 3,
      "outputs": []
    },
    {
      "cell_type": "markdown",
      "metadata": {
        "id": "uxT1Ud6uB7nh"
      },
      "source": [
        "### Task1 :: Get companies"
      ]
    },
    {
      "cell_type": "code",
      "metadata": {
        "id": "8-L6Yhhryv_E"
      },
      "source": [
        "def get_nyse_ticker_list():\n",
        "  others_list = 'ftp://ftp.nasdaqtrader.com/symboldirectory/otherlisted.txt'\n",
        "  ticker_df = pd.read_csv(others_list, sep='|')\n",
        "  company_nyse = ticker_df[ticker_df['Exchange'] == 'N']\n",
        "  return company_nyse['ACT Symbol'].values.tolist()"
      ],
      "execution_count": 4,
      "outputs": []
    },
    {
      "cell_type": "code",
      "metadata": {
        "id": "XQahVk7m-R4q"
      },
      "source": [
        "def get_sp500_list():\n",
        "  payload=pd.read_html('https://en.wikipedia.org/wiki/List_of_S%26P_500_companies')\n",
        "  first_table = payload[0]\n",
        "  sp500df = first_table\n",
        "  sp500_list = sp500df.Symbol.values.tolist()\n",
        "  return sp500_list"
      ],
      "execution_count": 5,
      "outputs": []
    },
    {
      "cell_type": "code",
      "metadata": {
        "id": "rZ8r4LEm0zdg"
      },
      "source": [
        "def get_stock_data(type='S&P500', limit=100):\n",
        "  print(\"\\nDownloading 6 months historical data for stock..\")\n",
        "  ticker_list = get_nyse_ticker_list() if type == 'NYSE' else get_sp500_list()\n",
        "  if(limit > len(ticker_list)):\n",
        "    limit = len(ticker_list)\n",
        "  ticker_data  = yf.download(ticker_list[0:limit], period='6mo', progress=True, group_by='symbol')\n",
        "  #try:\n",
        "   # ticker_data.drop('BF.B', axis=1, inplace=True)\n",
        "    #ticker_data.drop('BRK.B', axis=1, inplace=True)\n",
        "  #except:\n",
        "   # print(\"its fine!!\")\n",
        "  ticker_data.dropna(how='all', axis=1, inplace=True)\n",
        "  \n",
        "  print(ticker_data.shape)\n",
        "  #my_new_df = test_transposed.reset_index().dropna().set_index(old_idx)\n",
        "  #new_dataset = my_new_df.T\n",
        "  ticks = ticker_data.columns.get_level_values(0).unique().tolist()\n",
        "  return (ticker_data, ticks)"
      ],
      "execution_count": 84,
      "outputs": []
    },
    {
      "cell_type": "code",
      "metadata": {
        "id": "XHkg4VH31SzV",
        "outputId": "344175bd-caf8-433b-da22-5e2f110d401f",
        "colab": {
          "base_uri": "https://localhost:8080/"
        }
      },
      "source": [
        "x= get_stock_data(type='NYSE', limit=50)"
      ],
      "execution_count": 81,
      "outputs": [
        {
          "output_type": "stream",
          "name": "stdout",
          "text": [
            "\n",
            "Downloading 6 months historical data for stock..\n",
            "[*********************100%***********************]  50 of 50 completed\n",
            "\n",
            "17 Failed downloads:\n",
            "- AAQC.U: No data found, symbol may be delisted\n",
            "- ACAQ.U: No data found, symbol may be delisted\n",
            "- ACP$A: No data found, symbol may be delisted\n",
            "- AAQC.W: No data found, symbol may be delisted\n",
            "- AAIC$C: No data found, symbol may be delisted\n",
            "- ACII.U: No data found, symbol may be delisted\n",
            "- ABR$E: No data found, symbol may be delisted\n",
            "- ACR$D: No data found, symbol may be delisted\n",
            "- ACR$C: No data found, symbol may be delisted\n",
            "- ACHR.W: No data found, symbol may be delisted\n",
            "- ABR$F: No data found, symbol may be delisted\n",
            "- ACII.W: No data found, symbol may be delisted\n",
            "- AAC.W: No data found, symbol may be delisted\n",
            "- AAIC$B: No data found, symbol may be delisted\n",
            "- ACDI.U: No data found, symbol may be delisted\n",
            "- ABR$D: No data found, symbol may be delisted\n",
            "- AAC.U: No data found, symbol may be delisted\n",
            "(129, 198)\n"
          ]
        }
      ]
    },
    {
      "cell_type": "code",
      "metadata": {
        "id": "0svoEShN1aaS",
        "outputId": "12decc3d-9c7e-4b45-c3f0-7963b6806267",
        "colab": {
          "base_uri": "https://localhost:8080/"
        }
      },
      "source": [
        "x.index"
      ],
      "execution_count": 83,
      "outputs": [
        {
          "output_type": "execute_result",
          "data": {
            "text/plain": [
              "<function tuple.index>"
            ]
          },
          "metadata": {},
          "execution_count": 83
        }
      ]
    },
    {
      "cell_type": "code",
      "metadata": {
        "id": "hAMIHUBhyru0",
        "outputId": "1f99cb44-f873-4565-d920-b13af713c824",
        "colab": {
          "base_uri": "https://localhost:8080/"
        }
      },
      "source": [
        "x"
      ],
      "execution_count": 47,
      "outputs": [
        {
          "output_type": "execute_result",
          "data": {
            "text/plain": [
              "(Empty DataFrame\n",
              " Columns: [(KMX, Open), (KMX, High), (KMX, Low), (KMX, Close), (KMX, Adj Close), (KMX, Volume), (BLL, Open), (BLL, High), (BLL, Low), (BLL, Close), (BLL, Adj Close), (BLL, Volume), (GOOGL, Open), (GOOGL, High), (GOOGL, Low), (GOOGL, Close), (GOOGL, Adj Close), (GOOGL, Volume), (AJG, Open), (AJG, High), (AJG, Low), (AJG, Close), (AJG, Adj Close), (AJG, Volume), (ABBV, Open), (ABBV, High), (ABBV, Low), (ABBV, Close), (ABBV, Adj Close), (ABBV, Volume), (AAL, Open), (AAL, High), (AAL, Low), (AAL, Close), (AAL, Adj Close), (AAL, Volume), (A, Open), (A, High), (A, Low), (A, Close), (A, Adj Close), (A, Volume), (ABC, Open), (ABC, High), (ABC, Low), (ABC, Close), (ABC, Adj Close), (ABC, Volume), (ALGN, Open), (ALGN, High), (ALGN, Low), (ALGN, Close), (ALGN, Adj Close), (ALGN, Volume), (BSX, Open), (BSX, High), (BSX, Low), (BSX, Close), (BSX, Adj Close), (BSX, Volume), (AME, Open), (AME, High), (AME, Low), (AME, Close), (AME, Adj Close), (AME, Volume), (ARE, Open), (ARE, High), (ARE, Low), (ARE, Close), (ARE, Adj Close), (ARE, Volume), (ADM, Open), (ADM, High), (ADM, Low), (ADM, Close), (ADM, Adj Close), (ADM, Volume), (T, Open), (T, High), (T, Low), (T, Close), (T, Adj Close), (T, Volume), (AAP, Open), (AAP, High), (AAP, Low), (AAP, Close), (AAP, Adj Close), (AAP, Volume), (APH, Open), (APH, High), (APH, Low), (APH, Close), (APH, Adj Close), (APH, Volume), (AIZ, Open), (AIZ, High), (AIZ, Low), (AIZ, Close), ...]\n",
              " Index: []\n",
              " \n",
              " [0 rows x 600 columns],\n",
              " ['KMX',\n",
              "  'BLL',\n",
              "  'GOOGL',\n",
              "  'AJG',\n",
              "  'ABBV',\n",
              "  'AAL',\n",
              "  'A',\n",
              "  'ABC',\n",
              "  'ALGN',\n",
              "  'BSX',\n",
              "  'AME',\n",
              "  'ARE',\n",
              "  'ADM',\n",
              "  'T',\n",
              "  'AAP',\n",
              "  'APH',\n",
              "  'AIZ',\n",
              "  'ADP',\n",
              "  'CDNS',\n",
              "  'BBY',\n",
              "  'AVB',\n",
              "  'ABMD',\n",
              "  'CBRE',\n",
              "  'ALLE',\n",
              "  'CDAY',\n",
              "  'ALK',\n",
              "  'CE',\n",
              "  'BDX',\n",
              "  'APA',\n",
              "  'BWA',\n",
              "  'COF',\n",
              "  'AMCR',\n",
              "  'AMT',\n",
              "  'LNT',\n",
              "  'AVY',\n",
              "  'ACN',\n",
              "  'CHRW',\n",
              "  'APTV',\n",
              "  'AEE',\n",
              "  'CTLT',\n",
              "  'CAH',\n",
              "  'CNC',\n",
              "  'MMM',\n",
              "  'AXP',\n",
              "  'AFL',\n",
              "  'CBOE',\n",
              "  'CERN',\n",
              "  'BA',\n",
              "  'APD',\n",
              "  'AES',\n",
              "  'AIG',\n",
              "  'BIO',\n",
              "  'BAC',\n",
              "  'ALB',\n",
              "  'ALL',\n",
              "  'GOOG',\n",
              "  'CARR',\n",
              "  'CZR',\n",
              "  'CDW',\n",
              "  'AAPL',\n",
              "  'BK',\n",
              "  'BF.B',\n",
              "  'ANTM',\n",
              "  'BIIB',\n",
              "  'AEP',\n",
              "  'AZO',\n",
              "  'AOS',\n",
              "  'CNP',\n",
              "  'BBWI',\n",
              "  'ADI',\n",
              "  'ATVI',\n",
              "  'CAT',\n",
              "  'BKNG',\n",
              "  'ANET',\n",
              "  'MO',\n",
              "  'ANSS',\n",
              "  'CCL',\n",
              "  'BRO',\n",
              "  'AMGN',\n",
              "  'BLK',\n",
              "  'ADSK',\n",
              "  'AKAM',\n",
              "  'BXP',\n",
              "  'ABT',\n",
              "  'BR',\n",
              "  'ADBE',\n",
              "  'BKR',\n",
              "  'BRK.B',\n",
              "  'AMP',\n",
              "  'AVGO',\n",
              "  'TECH',\n",
              "  'AMZN',\n",
              "  'ATO',\n",
              "  'CPB',\n",
              "  'AMAT',\n",
              "  'AWK',\n",
              "  'AMD',\n",
              "  'BAX',\n",
              "  'AON',\n",
              "  'BMY'])"
            ]
          },
          "metadata": {},
          "execution_count": 47
        }
      ]
    },
    {
      "cell_type": "markdown",
      "metadata": {
        "id": "h7rx9qSxD5Wi"
      },
      "source": [
        "\n",
        "\n",
        "#Calculate Market Capitalization\n"
      ]
    },
    {
      "cell_type": "code",
      "metadata": {
        "colab": {
          "base_uri": "https://localhost:8080/"
        },
        "id": "pkVenRAK-TAj",
        "outputId": "6cc24189-68b3-4442-8e7a-5a51a1108810"
      },
      "source": [
        "#wrong, it is just volum, not total outstanding shares\n",
        "ticker='JPM'\n",
        "def calc_market_capitalization(symbol):\n",
        "  symbol_data = yf.download(symbol, period='1d')\n",
        "  print(symbol_data)\n",
        "  return round((symbol_data['Volume'][0] * symbol_data['Close'][0]),2)\n",
        "print(calc_market_capitalization(ticker))"
      ],
      "execution_count": 7,
      "outputs": [
        {
          "output_type": "stream",
          "name": "stdout",
          "text": [
            "\r[*********************100%***********************]  1 of 1 completed\n",
            "                  Open        High         Low       Close   Adj Close   Volume\n",
            "Date                                                                           \n",
            "2021-11-16  167.059998  167.070007  165.119995  165.360001  165.360001  9706145\n",
            "1605008143.12\n"
          ]
        }
      ]
    },
    {
      "cell_type": "code",
      "metadata": {
        "id": "yC_CnimDDjP_"
      },
      "source": [
        "def ask_user(stocks = None):\n",
        "  if(stocks != None):\n",
        "    return stocks;\n",
        "  how_many_stocks = input('How many stocks you want to analyse? \\n Enter atleast 10 and max 500 \\n')\n",
        "  correct = False\n",
        "  while not correct:\n",
        "    try:\n",
        "      how_many_stocks = int(how_many_stocks)\n",
        "      if(how_many_stocks > 500 or how_many_stocks < 10):\n",
        "        raise ValueError\n",
        "      correct = True\n",
        "    except:\n",
        "      print(\"Please enter correct number 10 to 500\")\n",
        "      how_many_stocks = input('How many stocks you want to analyse? \\n Enter atleast 10 and max 500 \\n')\n",
        "  return how_many_stocks    "
      ],
      "execution_count": 8,
      "outputs": []
    },
    {
      "cell_type": "code",
      "metadata": {
        "id": "zYSVYU7PQIU5"
      },
      "source": [
        ""
      ],
      "execution_count": 9,
      "outputs": []
    },
    {
      "cell_type": "code",
      "metadata": {
        "id": "mk7YGrlgXzd0"
      },
      "source": [
        "def cl_make_X_and_Y(close_prices, period, in_future):\n",
        "  X = []\n",
        "  y = []\n",
        "  for i in range(len(close_prices)- period-in_future):\n",
        "    X.append(close_prices[i:i+period])\n",
        "    l = close_prices[i+period:i+period+in_future]\n",
        "    y.append(calculate_label(l))\n",
        "  return X,y\n",
        "\n",
        "def calculate_label(params):\n",
        "  changes = []\n",
        "  for j in range(len(params)-1):\n",
        "    changes.append(params[j+1] - params[j])\n",
        "  tot = sum(changes)\n",
        "  if tot > 0:\n",
        "    return 1;\n",
        "  elif tot < 0:\n",
        "     return -1;\n",
        "  else:\n",
        "     return 0;\n"
      ],
      "execution_count": 10,
      "outputs": []
    },
    {
      "cell_type": "code",
      "metadata": {
        "colab": {
          "base_uri": "https://localhost:8080/"
        },
        "id": "wpj1rq80a6OH",
        "outputId": "545a6744-b8f9-4060-c168-84faf3769712"
      },
      "source": [
        "dt, tick = get_stock_data(limit=50)\n",
        "\n",
        "x,y=cl_make_X_and_Y(dt['ABBV'].Close, 6, 5)\n"
      ],
      "execution_count": 11,
      "outputs": [
        {
          "output_type": "stream",
          "name": "stdout",
          "text": [
            "[*********************100%***********************]  50 of 50 completed\n",
            "its fine!!\n"
          ]
        }
      ]
    },
    {
      "cell_type": "code",
      "metadata": {
        "id": "xtI-lgq0v14K"
      },
      "source": [
        "def get_user_selected_stocks():\n",
        "  u = input(\"Enter ticker of stocks seperated by space..\")\n",
        "  return u.split(' ');\n",
        "\n",
        "def get_user_selected_weightage(no_stocks):\n",
        "  w = input(\"Enter weightage per stocks seperated by space..\\n Eg: 80 20 \\n\")\n",
        "  resp = False\n",
        "  while not resp:\n",
        "    try:\n",
        "      proportion = w.split(' ')\n",
        "      if no_stocks != len(proportion):\n",
        "        print('Incorrect weightage')\n",
        "        raise ValueError\n",
        "      if  sum(map(int, proportion)) < 0 or sum(map(int, proportion)) > 100 :\n",
        "        print('sum of weightages are incorrect :', proportion)\n",
        "        raise ValueError\n",
        "      resp = True\n",
        "    except:\n",
        "      w = input(\"Enter weightage per stocks seperated by space..\\n Eg: 80 20 \\n\")\n",
        "  return w.split(' ');\n",
        "\n",
        "def get_user_strategy():\n",
        "  print('\\nSelect your strategy: ') \n",
        "  s= get_correct_input_from_user(\"\\t1. Market Capital Weighted\\n\\t2. Equal Weighted\\n\\t3. User defined proportion\\n\")\n",
        "  while not (s > 0 and s <=3):\n",
        "    print(\"Enter correct option 1-3\")\n",
        "    s=get_correct_input_from_user(\"\\t1. Market Capital Weighted\\n\\t2. Equal Weighted\\n\\t3. User defined proportion\\n\")\n",
        "  return s\n",
        "\n",
        "def user_selected_analysis(income):\n",
        "  selected = get_user_selected_stocks()\n",
        "  strategy = get_user_strategy()\n",
        "  market_cap = []\n",
        "  close_price = []\n",
        "  for sym in selected:\n",
        "    try:\n",
        "      current_data = yf.download(sym, period='1d', progress=False)\n",
        "      close_price.append(current_data.Close[0])\n",
        "      market_cap.append(current_data.Close[0] * current_data.Volume[0])\n",
        "    except:\n",
        "      selected.remove(sym)\n",
        "      print('Data not found for symbol :: ', sym)\n",
        "  s = sum(market_cap)\n",
        "  price = []\n",
        "  if strategy == 1:\n",
        "    print ('Calculating Market Cap Weighted portfolio')\n",
        "  elif strategy == 2:\n",
        "    print('Calculating Equal Weighted portfolio') \n",
        "  else:\n",
        "    proportion = get_user_selected_weightage(len(selected))\n",
        "    print('Calculating user defined Weighted portfolio :: ', proportion)\n",
        "    \n",
        "  port_list = []\n",
        "  for i, cap in enumerate(market_cap):\n",
        "    d = {}\n",
        "    if strategy == 3 and proportion != None:\n",
        "      weight = int(proportion[i])\n",
        "      portion = (weight/100)*income\n",
        "    elif strategy == 1:\n",
        "      portion = (income* cap)/s\n",
        "    else:\n",
        "      weight = (1/len(selected))\n",
        "      portion = weight*income\n",
        "    \n",
        "    no_stocks = math.floor(portion/close_price[i])\n",
        "    price.append(round(no_stocks * close_price[i],2))\n",
        "    d['ticker'] = selected[i]\n",
        "    d['stocks_to_purchase'] = no_stocks\n",
        "    d['price'] = round(close_price[i],2)\n",
        "    d['market_val'] = round(close_price[i] * no_stocks, 2)\n",
        "    d['planned_portion'] = str(round((portion/income) * 100, 2)) +'%'\n",
        "    d['portfoloio_portion'] = str(round((d['market_val']/income) * 100, 2)) +'%'\n",
        "    port_list.append(d)\n",
        "  c={}\n",
        "  c['ticker'] = 'CASH'\n",
        "  c['stocks_to_purchase'] = income - sum(price)\n",
        "  c['price'] = 1\n",
        "  c['market_val'] = income - sum(price)\n",
        "  c['planned_portion'] = '-'\n",
        "  c['portfoloio_portion'] = str(round((c['market_val']/income) * 100, 2)) +'%'\n",
        "  port_list.append(c)\n",
        "  #return pd.DataFrame({'ticker': selected, 'stocks_to_purchase': stocks_to_purchase, 'price': price})\n",
        "  return pd.DataFrame(port_list)\n",
        "\n",
        "#w = user_selected_analysis(10000)\n",
        "#gft = user_selected_analysis(['ABBV', 'GOOG', 'AMZN'], 10000)\n",
        "#eft = user_selected_analysis(['ABBV', 'GOOG', 'AMZN' ], 10000, 'equal')\n",
        "#uft = user_selected_analysis(['ABBV', 'GOOG', 'AMZN' ], 10000, proportion=w)\n",
        "#print(gft[['market_val', 'planned_portion', 'portfoloio_portion']])\n",
        "#print(eft[['market_val', 'planned_portion', 'portfoloio_portion']])\n",
        "#print(uft[['market_val', 'planned_portion', 'portfoloio_portion']])"
      ],
      "execution_count": 12,
      "outputs": []
    },
    {
      "cell_type": "code",
      "metadata": {
        "id": "1kcwoDzwD26-"
      },
      "source": [
        "def get_correct_input_from_user(text):\n",
        "  i = input(text)\n",
        "  resp = False\n",
        "  while not resp:\n",
        "    try:\n",
        "      a= int(i)\n",
        "      resp = True\n",
        "    except ValueError:\n",
        "      print(\"Unable to parse number. Enter correct number..\")\n",
        "      i = input(text)\n",
        "  return a\n"
      ],
      "execution_count": 13,
      "outputs": []
    },
    {
      "cell_type": "code",
      "metadata": {
        "id": "9Ff-hIqgYNX9"
      },
      "source": [
        "#create feature and dependent variable for regression\n",
        "def make_X_and_Y(close_prices, period):\n",
        "  X = []\n",
        "  y = []\n",
        "  for i in range(len(close_prices)- period):\n",
        "    X.append(close_prices[i:i+period])\n",
        "    y.append(close_prices[i+period])\n",
        "  return X,y\n",
        "\n",
        "def return_model(X, y):\n",
        "  clf = RandomForestRegressor(n_estimators = 200)\n",
        "  clf.fit(X,y)\n",
        "  return clf\n",
        "# test train split data\n",
        "#X,y=make_X_and_Y(list(df.close))\n",
        "#train_x, test_x, train_y, test_y = train_test_split(X, y, test_size=0.15 , shuffle=False,random_state = 0)\n",
        "#Regression for predicting given stock symbol\n",
        "def predict_price(symbol, period, data=None):\n",
        "  print(\"\\rAnalysing :: \", symbol, end=\"\" )\n",
        "  if(data is None):\n",
        "    data = yf.download(symbol, period='6mo', progress=False, )\n",
        "  price = data.Close\n",
        "  features, dep_var = make_X_and_Y(list(price), period)\n",
        "  features = np.array(features)\n",
        "  dep_var = np.array(dep_var)\n",
        "  # Get Regression model\n",
        "  clf=return_model(features, dep_var) \n",
        "  \n",
        "  latest_feature = np.array(list(price)[-period:]).reshape((1,-1))\n",
        "  s_dict = {}\n",
        "  s_dict['symbol'] = symbol\n",
        "  s_dict['volatility'] = round(price.std(), 2)\n",
        "  s_dict['tomorrow'] = round(clf.predict(latest_feature)[0], 2)\n",
        "  s_dict['today'] = round(price[-1],2)\n",
        "  return s_dict"
      ],
      "execution_count": 41,
      "outputs": []
    },
    {
      "cell_type": "code",
      "metadata": {
        "colab": {
          "base_uri": "https://localhost:8080/"
        },
        "id": "aTdH0rhOYpsy",
        "outputId": "972d68aa-f6e7-488d-a3a3-8b386560e94e"
      },
      "source": [
        "predict_price('MMM', 6)"
      ],
      "execution_count": 42,
      "outputs": [
        {
          "output_type": "stream",
          "name": "stdout",
          "text": [
            "\rAnalysing ::  MMM"
          ]
        },
        {
          "output_type": "execute_result",
          "data": {
            "text/plain": [
              "{'symbol': 'MMM', 'today': 183.37, 'tomorrow': 182.33, 'volatility': 9.46}"
            ]
          },
          "metadata": {},
          "execution_count": 42
        }
      ]
    },
    {
      "cell_type": "code",
      "metadata": {
        "id": "MVuK-W6EPUAz"
      },
      "source": [
        "#Regressor\n",
        "def prepare_recomm(data, how_many_stocks = None, period = None):\n",
        "  if(data is None):\n",
        "    print(\"No stock data found..\")\n",
        "    return\n",
        "  list_of_symbols = data.columns.get_level_values(0).unique().tolist()\n",
        "  if period == None:\n",
        "    period = 6\n",
        "  stk_data = []\n",
        "  if how_many_stocks == None:\n",
        "    how_many_stocks = ask_user()\n",
        "  if how_many_stocks > len(list_of_symbols):\n",
        "    print(\"No. of stocks set to max\")  \n",
        "    how_many_stocks = len(data)\n",
        "  for sym in list_of_symbols[0:how_many_stocks]:\n",
        "    stk_data.append(predict_price(sym, period,data[sym]))\n",
        "  print(\"\\nAnalyzed \"+str(len(stk_data)) + \" stocks..\" )\n",
        "  return pd.DataFrame(stk_data)\n",
        "\n",
        " #return aggressive or conservative recommendations \n",
        "def get_recomm(s_data, ascending):\n",
        "  cat = 'conservative' if ascending else 'aggressive'\n",
        "  print(\"Top 5 \" + cat +\" stocks are.. \")\n",
        "  tmp = s_data.sort_values(by='volatility', ascending=ascending)\n",
        "  tmp = tmp[tmp['tomorrow'] > tmp['today']]\n",
        "  return tmp.head() \n",
        "\n",
        "#Main Regressor\n",
        "def regressor():\n",
        "  data_df, ticker_list = get_stock_data(type='NYSE', limit=50)\n",
        "  pred_df = prepare_recomm(data_df, 500, 6)\n",
        "  has_given_resp = False\n",
        "  strategy = input(\"Enter Strategy : \\n Enter 1 for Conservative\\n Enter 2 for Aggresive\\n\")\n",
        "  while not has_given_resp:\n",
        "    if strategy == '1' or strategy.lower() == 'c' or strategy.lower() == 'conservative':\n",
        "      has_given_resp = True\n",
        "      print(get_recomm(pred_df, True))\n",
        "    elif strategy == '2' or strategy.lower() == 'a' or strategy.lower() == 'aggresive':\n",
        "      has_given_resp = True\n",
        "      print(get_recomm(pred_df, False))\n",
        "    else:\n",
        "      print(\"Please enter correct number\")\n",
        "      strategy = input(\"Enter Strategy : \\n Enter 1 for Conservative\\n Enter 2 for Aggresive\\n\")"
      ],
      "execution_count": 57,
      "outputs": []
    },
    {
      "cell_type": "code",
      "metadata": {
        "colab": {
          "base_uri": "https://localhost:8080/",
          "height": 885
        },
        "id": "Opcg2R34FoRO",
        "outputId": "ffaf9b79-c565-43e7-e85f-4e7f18008e5c"
      },
      "source": [
        " income = get_correct_input_from_user(\"How much money do you want to invest?  \")\n",
        "print('\\nDo you wish to add you own stocks or want ML to recommend you? ')\n",
        "user_port_option = get_correct_input_from_user(\"\\tEnter 1 for adding you own stock\\n\\tEnter 2 for ML recommendations.  \")\n",
        "if user_port_option == 1:\n",
        "  x=user_selected_analysis(income)\n",
        "  print(x[['ticker', 'stocks_to_purchase', 'planned_portion', 'price']])\n",
        "elif user_port_option ==2:\n",
        "  regressor()\n",
        "else:\n",
        "  print(\"Enter only 1 or 2, No other numbers are accepted.\")\n",
        "\n",
        "\n"
      ],
      "execution_count": 58,
      "outputs": [
        {
          "output_type": "stream",
          "name": "stdout",
          "text": [
            "How much money do you want to invest?  10000\n",
            "\n",
            "Do you wish to add you own stocks or want ML to recommend you? \n",
            "\tEnter 1 for adding you own stock\n",
            "\tEnter 2 for ML recommendations.  2\n",
            "\n",
            "Downloading 6 months historical data for stock..\n",
            "[*********************100%***********************]  50 of 50 completed\n",
            "\n",
            "17 Failed downloads:\n",
            "- AAQC.U: No data found, symbol may be delisted\n",
            "- ACAQ.U: No data found, symbol may be delisted\n",
            "- ACP$A: No data found, symbol may be delisted\n",
            "- AAQC.W: No data found, symbol may be delisted\n",
            "- AAIC$C: No data found, symbol may be delisted\n",
            "- ACII.U: No data found, symbol may be delisted\n",
            "- ABR$E: No data found, symbol may be delisted\n",
            "- ACR$D: No data found, symbol may be delisted\n",
            "- ACR$C: No data found, symbol may be delisted\n",
            "- ACHR.W: No data found, symbol may be delisted\n",
            "- ABR$F: No data found, symbol may be delisted\n",
            "- ACII.W: No data found, symbol may be delisted\n",
            "- AAC.W: No data found, symbol may be delisted\n",
            "- AAIC$B: No data found, symbol may be delisted\n",
            "- ABR$D: No data found, symbol may be delisted\n",
            "- ACDI.U: No data found, symbol may be delisted\n",
            "- AAC.U: No data found, symbol may be delisted\n",
            "(129, 198)\n",
            "No. of stocks set to max\n",
            "Analysing ::  AAIN"
          ]
        },
        {
          "output_type": "error",
          "ename": "ValueError",
          "evalue": "ignored",
          "traceback": [
            "\u001b[0;31m---------------------------------------------------------------------------\u001b[0m",
            "\u001b[0;31mValueError\u001b[0m                                Traceback (most recent call last)",
            "\u001b[0;32m<ipython-input-58-d0967aec8f4e>\u001b[0m in \u001b[0;36m<module>\u001b[0;34m()\u001b[0m\n\u001b[1;32m      6\u001b[0m  \u001b[0mprint\u001b[0m\u001b[0;34m(\u001b[0m\u001b[0mx\u001b[0m\u001b[0;34m[\u001b[0m\u001b[0;34m[\u001b[0m\u001b[0;34m'ticker'\u001b[0m\u001b[0;34m,\u001b[0m \u001b[0;34m'stocks_to_purchase'\u001b[0m\u001b[0;34m,\u001b[0m \u001b[0;34m'planned_portion'\u001b[0m\u001b[0;34m,\u001b[0m \u001b[0;34m'price'\u001b[0m\u001b[0;34m]\u001b[0m\u001b[0;34m]\u001b[0m\u001b[0;34m)\u001b[0m\u001b[0;34m\u001b[0m\u001b[0;34m\u001b[0m\u001b[0m\n\u001b[1;32m      7\u001b[0m \u001b[0;32melif\u001b[0m \u001b[0muser_port_option\u001b[0m \u001b[0;34m==\u001b[0m\u001b[0;36m2\u001b[0m\u001b[0;34m:\u001b[0m\u001b[0;34m\u001b[0m\u001b[0;34m\u001b[0m\u001b[0m\n\u001b[0;32m----> 8\u001b[0;31m  \u001b[0mregressor\u001b[0m\u001b[0;34m(\u001b[0m\u001b[0;34m)\u001b[0m\u001b[0;34m\u001b[0m\u001b[0;34m\u001b[0m\u001b[0m\n\u001b[0m\u001b[1;32m      9\u001b[0m \u001b[0;32melse\u001b[0m\u001b[0;34m:\u001b[0m\u001b[0;34m\u001b[0m\u001b[0;34m\u001b[0m\u001b[0m\n\u001b[1;32m     10\u001b[0m  \u001b[0mprint\u001b[0m\u001b[0;34m(\u001b[0m\u001b[0;34m\"Enter only 1 or 2, No other numbers are accepted.\"\u001b[0m\u001b[0;34m)\u001b[0m\u001b[0;34m\u001b[0m\u001b[0;34m\u001b[0m\u001b[0m\n",
            "\u001b[0;32m<ipython-input-57-4dfb4bf08e45>\u001b[0m in \u001b[0;36mregressor\u001b[0;34m()\u001b[0m\n\u001b[1;32m     29\u001b[0m \u001b[0;32mdef\u001b[0m \u001b[0mregressor\u001b[0m\u001b[0;34m(\u001b[0m\u001b[0;34m)\u001b[0m\u001b[0;34m:\u001b[0m\u001b[0;34m\u001b[0m\u001b[0;34m\u001b[0m\u001b[0m\n\u001b[1;32m     30\u001b[0m   \u001b[0mdata_df\u001b[0m\u001b[0;34m,\u001b[0m \u001b[0mticker_list\u001b[0m \u001b[0;34m=\u001b[0m \u001b[0mget_stock_data\u001b[0m\u001b[0;34m(\u001b[0m\u001b[0mtype\u001b[0m\u001b[0;34m=\u001b[0m\u001b[0;34m'NYSE'\u001b[0m\u001b[0;34m,\u001b[0m \u001b[0mlimit\u001b[0m\u001b[0;34m=\u001b[0m\u001b[0;36m50\u001b[0m\u001b[0;34m)\u001b[0m\u001b[0;34m\u001b[0m\u001b[0;34m\u001b[0m\u001b[0m\n\u001b[0;32m---> 31\u001b[0;31m   \u001b[0mpred_df\u001b[0m \u001b[0;34m=\u001b[0m \u001b[0mprepare_recomm\u001b[0m\u001b[0;34m(\u001b[0m\u001b[0mdata_df\u001b[0m\u001b[0;34m,\u001b[0m \u001b[0;36m500\u001b[0m\u001b[0;34m,\u001b[0m \u001b[0;36m6\u001b[0m\u001b[0;34m)\u001b[0m\u001b[0;34m\u001b[0m\u001b[0;34m\u001b[0m\u001b[0m\n\u001b[0m\u001b[1;32m     32\u001b[0m   \u001b[0mhas_given_resp\u001b[0m \u001b[0;34m=\u001b[0m \u001b[0;32mFalse\u001b[0m\u001b[0;34m\u001b[0m\u001b[0;34m\u001b[0m\u001b[0m\n\u001b[1;32m     33\u001b[0m   \u001b[0mstrategy\u001b[0m \u001b[0;34m=\u001b[0m \u001b[0minput\u001b[0m\u001b[0;34m(\u001b[0m\u001b[0;34m\"Enter Strategy : \\n Enter 1 for Conservative\\n Enter 2 for Aggresive\\n\"\u001b[0m\u001b[0;34m)\u001b[0m\u001b[0;34m\u001b[0m\u001b[0;34m\u001b[0m\u001b[0m\n",
            "\u001b[0;32m<ipython-input-57-4dfb4bf08e45>\u001b[0m in \u001b[0;36mprepare_recomm\u001b[0;34m(data, how_many_stocks, period)\u001b[0m\n\u001b[1;32m     14\u001b[0m     \u001b[0mhow_many_stocks\u001b[0m \u001b[0;34m=\u001b[0m \u001b[0mlen\u001b[0m\u001b[0;34m(\u001b[0m\u001b[0mdata\u001b[0m\u001b[0;34m)\u001b[0m\u001b[0;34m\u001b[0m\u001b[0;34m\u001b[0m\u001b[0m\n\u001b[1;32m     15\u001b[0m   \u001b[0;32mfor\u001b[0m \u001b[0msym\u001b[0m \u001b[0;32min\u001b[0m \u001b[0mlist_of_symbols\u001b[0m\u001b[0;34m[\u001b[0m\u001b[0;36m0\u001b[0m\u001b[0;34m:\u001b[0m\u001b[0mhow_many_stocks\u001b[0m\u001b[0;34m]\u001b[0m\u001b[0;34m:\u001b[0m\u001b[0;34m\u001b[0m\u001b[0;34m\u001b[0m\u001b[0m\n\u001b[0;32m---> 16\u001b[0;31m     \u001b[0mstk_data\u001b[0m\u001b[0;34m.\u001b[0m\u001b[0mappend\u001b[0m\u001b[0;34m(\u001b[0m\u001b[0mpredict_price\u001b[0m\u001b[0;34m(\u001b[0m\u001b[0msym\u001b[0m\u001b[0;34m,\u001b[0m \u001b[0mperiod\u001b[0m\u001b[0;34m,\u001b[0m\u001b[0mdata\u001b[0m\u001b[0;34m[\u001b[0m\u001b[0msym\u001b[0m\u001b[0;34m]\u001b[0m\u001b[0;34m)\u001b[0m\u001b[0;34m)\u001b[0m\u001b[0;34m\u001b[0m\u001b[0;34m\u001b[0m\u001b[0m\n\u001b[0m\u001b[1;32m     17\u001b[0m   \u001b[0mprint\u001b[0m\u001b[0;34m(\u001b[0m\u001b[0;34m\"\\nAnalyzed \"\u001b[0m\u001b[0;34m+\u001b[0m\u001b[0mstr\u001b[0m\u001b[0;34m(\u001b[0m\u001b[0mlen\u001b[0m\u001b[0;34m(\u001b[0m\u001b[0mstk_data\u001b[0m\u001b[0;34m)\u001b[0m\u001b[0;34m)\u001b[0m \u001b[0;34m+\u001b[0m \u001b[0;34m\" stocks..\"\u001b[0m \u001b[0;34m)\u001b[0m\u001b[0;34m\u001b[0m\u001b[0;34m\u001b[0m\u001b[0m\n\u001b[1;32m     18\u001b[0m   \u001b[0;32mreturn\u001b[0m \u001b[0mpd\u001b[0m\u001b[0;34m.\u001b[0m\u001b[0mDataFrame\u001b[0m\u001b[0;34m(\u001b[0m\u001b[0mstk_data\u001b[0m\u001b[0;34m)\u001b[0m\u001b[0;34m\u001b[0m\u001b[0;34m\u001b[0m\u001b[0m\n",
            "\u001b[0;32m<ipython-input-41-45935ca0e83a>\u001b[0m in \u001b[0;36mpredict_price\u001b[0;34m(symbol, period, data)\u001b[0m\n\u001b[1;32m     25\u001b[0m   \u001b[0mdep_var\u001b[0m \u001b[0;34m=\u001b[0m \u001b[0mnp\u001b[0m\u001b[0;34m.\u001b[0m\u001b[0marray\u001b[0m\u001b[0;34m(\u001b[0m\u001b[0mdep_var\u001b[0m\u001b[0;34m)\u001b[0m\u001b[0;34m\u001b[0m\u001b[0;34m\u001b[0m\u001b[0m\n\u001b[1;32m     26\u001b[0m   \u001b[0;31m# Get Regression model\u001b[0m\u001b[0;34m\u001b[0m\u001b[0;34m\u001b[0m\u001b[0;34m\u001b[0m\u001b[0m\n\u001b[0;32m---> 27\u001b[0;31m   \u001b[0mclf\u001b[0m\u001b[0;34m=\u001b[0m\u001b[0mreturn_model\u001b[0m\u001b[0;34m(\u001b[0m\u001b[0mfeatures\u001b[0m\u001b[0;34m,\u001b[0m \u001b[0mdep_var\u001b[0m\u001b[0;34m)\u001b[0m\u001b[0;34m\u001b[0m\u001b[0;34m\u001b[0m\u001b[0m\n\u001b[0m\u001b[1;32m     28\u001b[0m \u001b[0;34m\u001b[0m\u001b[0m\n\u001b[1;32m     29\u001b[0m   \u001b[0mlatest_feature\u001b[0m \u001b[0;34m=\u001b[0m \u001b[0mnp\u001b[0m\u001b[0;34m.\u001b[0m\u001b[0marray\u001b[0m\u001b[0;34m(\u001b[0m\u001b[0mlist\u001b[0m\u001b[0;34m(\u001b[0m\u001b[0mprice\u001b[0m\u001b[0;34m)\u001b[0m\u001b[0;34m[\u001b[0m\u001b[0;34m-\u001b[0m\u001b[0mperiod\u001b[0m\u001b[0;34m:\u001b[0m\u001b[0;34m]\u001b[0m\u001b[0;34m)\u001b[0m\u001b[0;34m.\u001b[0m\u001b[0mreshape\u001b[0m\u001b[0;34m(\u001b[0m\u001b[0;34m(\u001b[0m\u001b[0;36m1\u001b[0m\u001b[0;34m,\u001b[0m\u001b[0;34m-\u001b[0m\u001b[0;36m1\u001b[0m\u001b[0;34m)\u001b[0m\u001b[0;34m)\u001b[0m\u001b[0;34m\u001b[0m\u001b[0;34m\u001b[0m\u001b[0m\n",
            "\u001b[0;32m<ipython-input-41-45935ca0e83a>\u001b[0m in \u001b[0;36mreturn_model\u001b[0;34m(X, y)\u001b[0m\n\u001b[1;32m     10\u001b[0m \u001b[0;32mdef\u001b[0m \u001b[0mreturn_model\u001b[0m\u001b[0;34m(\u001b[0m\u001b[0mX\u001b[0m\u001b[0;34m,\u001b[0m \u001b[0my\u001b[0m\u001b[0;34m)\u001b[0m\u001b[0;34m:\u001b[0m\u001b[0;34m\u001b[0m\u001b[0;34m\u001b[0m\u001b[0m\n\u001b[1;32m     11\u001b[0m   \u001b[0mclf\u001b[0m \u001b[0;34m=\u001b[0m \u001b[0mRandomForestRegressor\u001b[0m\u001b[0;34m(\u001b[0m\u001b[0mn_estimators\u001b[0m \u001b[0;34m=\u001b[0m \u001b[0;36m200\u001b[0m\u001b[0;34m)\u001b[0m\u001b[0;34m\u001b[0m\u001b[0;34m\u001b[0m\u001b[0m\n\u001b[0;32m---> 12\u001b[0;31m   \u001b[0mclf\u001b[0m\u001b[0;34m.\u001b[0m\u001b[0mfit\u001b[0m\u001b[0;34m(\u001b[0m\u001b[0mX\u001b[0m\u001b[0;34m,\u001b[0m\u001b[0my\u001b[0m\u001b[0;34m)\u001b[0m\u001b[0;34m\u001b[0m\u001b[0;34m\u001b[0m\u001b[0m\n\u001b[0m\u001b[1;32m     13\u001b[0m   \u001b[0;32mreturn\u001b[0m \u001b[0mclf\u001b[0m\u001b[0;34m\u001b[0m\u001b[0;34m\u001b[0m\u001b[0m\n\u001b[1;32m     14\u001b[0m \u001b[0;31m# test train split data\u001b[0m\u001b[0;34m\u001b[0m\u001b[0;34m\u001b[0m\u001b[0;34m\u001b[0m\u001b[0m\n",
            "\u001b[0;32m/usr/local/lib/python3.7/dist-packages/sklearn/ensemble/_forest.py\u001b[0m in \u001b[0;36mfit\u001b[0;34m(self, X, y, sample_weight)\u001b[0m\n\u001b[1;32m    326\u001b[0m             \u001b[0;32mraise\u001b[0m \u001b[0mValueError\u001b[0m\u001b[0;34m(\u001b[0m\u001b[0;34m\"sparse multilabel-indicator for y is not supported.\"\u001b[0m\u001b[0;34m)\u001b[0m\u001b[0;34m\u001b[0m\u001b[0;34m\u001b[0m\u001b[0m\n\u001b[1;32m    327\u001b[0m         X, y = self._validate_data(\n\u001b[0;32m--> 328\u001b[0;31m             \u001b[0mX\u001b[0m\u001b[0;34m,\u001b[0m \u001b[0my\u001b[0m\u001b[0;34m,\u001b[0m \u001b[0mmulti_output\u001b[0m\u001b[0;34m=\u001b[0m\u001b[0;32mTrue\u001b[0m\u001b[0;34m,\u001b[0m \u001b[0maccept_sparse\u001b[0m\u001b[0;34m=\u001b[0m\u001b[0;34m\"csc\"\u001b[0m\u001b[0;34m,\u001b[0m \u001b[0mdtype\u001b[0m\u001b[0;34m=\u001b[0m\u001b[0mDTYPE\u001b[0m\u001b[0;34m\u001b[0m\u001b[0;34m\u001b[0m\u001b[0m\n\u001b[0m\u001b[1;32m    329\u001b[0m         )\n\u001b[1;32m    330\u001b[0m         \u001b[0;32mif\u001b[0m \u001b[0msample_weight\u001b[0m \u001b[0;32mis\u001b[0m \u001b[0;32mnot\u001b[0m \u001b[0;32mNone\u001b[0m\u001b[0;34m:\u001b[0m\u001b[0;34m\u001b[0m\u001b[0;34m\u001b[0m\u001b[0m\n",
            "\u001b[0;32m/usr/local/lib/python3.7/dist-packages/sklearn/base.py\u001b[0m in \u001b[0;36m_validate_data\u001b[0;34m(self, X, y, reset, validate_separately, **check_params)\u001b[0m\n\u001b[1;32m    574\u001b[0m                 \u001b[0my\u001b[0m \u001b[0;34m=\u001b[0m \u001b[0mcheck_array\u001b[0m\u001b[0;34m(\u001b[0m\u001b[0my\u001b[0m\u001b[0;34m,\u001b[0m \u001b[0;34m**\u001b[0m\u001b[0mcheck_y_params\u001b[0m\u001b[0;34m)\u001b[0m\u001b[0;34m\u001b[0m\u001b[0;34m\u001b[0m\u001b[0m\n\u001b[1;32m    575\u001b[0m             \u001b[0;32melse\u001b[0m\u001b[0;34m:\u001b[0m\u001b[0;34m\u001b[0m\u001b[0;34m\u001b[0m\u001b[0m\n\u001b[0;32m--> 576\u001b[0;31m                 \u001b[0mX\u001b[0m\u001b[0;34m,\u001b[0m \u001b[0my\u001b[0m \u001b[0;34m=\u001b[0m \u001b[0mcheck_X_y\u001b[0m\u001b[0;34m(\u001b[0m\u001b[0mX\u001b[0m\u001b[0;34m,\u001b[0m \u001b[0my\u001b[0m\u001b[0;34m,\u001b[0m \u001b[0;34m**\u001b[0m\u001b[0mcheck_params\u001b[0m\u001b[0;34m)\u001b[0m\u001b[0;34m\u001b[0m\u001b[0;34m\u001b[0m\u001b[0m\n\u001b[0m\u001b[1;32m    577\u001b[0m             \u001b[0mout\u001b[0m \u001b[0;34m=\u001b[0m \u001b[0mX\u001b[0m\u001b[0;34m,\u001b[0m \u001b[0my\u001b[0m\u001b[0;34m\u001b[0m\u001b[0;34m\u001b[0m\u001b[0m\n\u001b[1;32m    578\u001b[0m \u001b[0;34m\u001b[0m\u001b[0m\n",
            "\u001b[0;32m/usr/local/lib/python3.7/dist-packages/sklearn/utils/validation.py\u001b[0m in \u001b[0;36mcheck_X_y\u001b[0;34m(X, y, accept_sparse, accept_large_sparse, dtype, order, copy, force_all_finite, ensure_2d, allow_nd, multi_output, ensure_min_samples, ensure_min_features, y_numeric, estimator)\u001b[0m\n\u001b[1;32m    966\u001b[0m         \u001b[0mensure_min_samples\u001b[0m\u001b[0;34m=\u001b[0m\u001b[0mensure_min_samples\u001b[0m\u001b[0;34m,\u001b[0m\u001b[0;34m\u001b[0m\u001b[0;34m\u001b[0m\u001b[0m\n\u001b[1;32m    967\u001b[0m         \u001b[0mensure_min_features\u001b[0m\u001b[0;34m=\u001b[0m\u001b[0mensure_min_features\u001b[0m\u001b[0;34m,\u001b[0m\u001b[0;34m\u001b[0m\u001b[0;34m\u001b[0m\u001b[0m\n\u001b[0;32m--> 968\u001b[0;31m         \u001b[0mestimator\u001b[0m\u001b[0;34m=\u001b[0m\u001b[0mestimator\u001b[0m\u001b[0;34m,\u001b[0m\u001b[0;34m\u001b[0m\u001b[0;34m\u001b[0m\u001b[0m\n\u001b[0m\u001b[1;32m    969\u001b[0m     )\n\u001b[1;32m    970\u001b[0m \u001b[0;34m\u001b[0m\u001b[0m\n",
            "\u001b[0;32m/usr/local/lib/python3.7/dist-packages/sklearn/utils/validation.py\u001b[0m in \u001b[0;36mcheck_array\u001b[0;34m(array, accept_sparse, accept_large_sparse, dtype, order, copy, force_all_finite, ensure_2d, allow_nd, ensure_min_samples, ensure_min_features, estimator)\u001b[0m\n\u001b[1;32m    790\u001b[0m \u001b[0;34m\u001b[0m\u001b[0m\n\u001b[1;32m    791\u001b[0m         \u001b[0;32mif\u001b[0m \u001b[0mforce_all_finite\u001b[0m\u001b[0;34m:\u001b[0m\u001b[0;34m\u001b[0m\u001b[0;34m\u001b[0m\u001b[0m\n\u001b[0;32m--> 792\u001b[0;31m             \u001b[0m_assert_all_finite\u001b[0m\u001b[0;34m(\u001b[0m\u001b[0marray\u001b[0m\u001b[0;34m,\u001b[0m \u001b[0mallow_nan\u001b[0m\u001b[0;34m=\u001b[0m\u001b[0mforce_all_finite\u001b[0m \u001b[0;34m==\u001b[0m \u001b[0;34m\"allow-nan\"\u001b[0m\u001b[0;34m)\u001b[0m\u001b[0;34m\u001b[0m\u001b[0;34m\u001b[0m\u001b[0m\n\u001b[0m\u001b[1;32m    793\u001b[0m \u001b[0;34m\u001b[0m\u001b[0m\n\u001b[1;32m    794\u001b[0m     \u001b[0;32mif\u001b[0m \u001b[0mensure_min_samples\u001b[0m \u001b[0;34m>\u001b[0m \u001b[0;36m0\u001b[0m\u001b[0;34m:\u001b[0m\u001b[0;34m\u001b[0m\u001b[0;34m\u001b[0m\u001b[0m\n",
            "\u001b[0;32m/usr/local/lib/python3.7/dist-packages/sklearn/utils/validation.py\u001b[0m in \u001b[0;36m_assert_all_finite\u001b[0;34m(X, allow_nan, msg_dtype)\u001b[0m\n\u001b[1;32m    114\u001b[0m             raise ValueError(\n\u001b[1;32m    115\u001b[0m                 msg_err.format(\n\u001b[0;32m--> 116\u001b[0;31m                     \u001b[0mtype_err\u001b[0m\u001b[0;34m,\u001b[0m \u001b[0mmsg_dtype\u001b[0m \u001b[0;32mif\u001b[0m \u001b[0mmsg_dtype\u001b[0m \u001b[0;32mis\u001b[0m \u001b[0;32mnot\u001b[0m \u001b[0;32mNone\u001b[0m \u001b[0;32melse\u001b[0m \u001b[0mX\u001b[0m\u001b[0;34m.\u001b[0m\u001b[0mdtype\u001b[0m\u001b[0;34m\u001b[0m\u001b[0;34m\u001b[0m\u001b[0m\n\u001b[0m\u001b[1;32m    117\u001b[0m                 )\n\u001b[1;32m    118\u001b[0m             )\n",
            "\u001b[0;31mValueError\u001b[0m: Input contains NaN, infinity or a value too large for dtype('float32')."
          ]
        }
      ]
    },
    {
      "cell_type": "code",
      "metadata": {
        "id": "UgV3i1nZitt2"
      },
      "source": [
        ""
      ],
      "execution_count": 22,
      "outputs": []
    }
  ]
}