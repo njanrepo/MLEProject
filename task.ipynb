{
  "nbformat": 4,
  "nbformat_minor": 0,
  "metadata": {
    "colab": {
      "name": "task.ipynb",
      "provenance": [],
      "collapsed_sections": [],
      "authorship_tag": "ABX9TyPPduBEnShtYScrhjwHJH+8",
      "include_colab_link": true
    },
    "kernelspec": {
      "name": "python3",
      "display_name": "Python 3"
    },
    "language_info": {
      "name": "python"
    }
  },
  "cells": [
    {
      "cell_type": "markdown",
      "metadata": {
        "id": "view-in-github",
        "colab_type": "text"
      },
      "source": [
        "<a href=\"https://colab.research.google.com/github/njanrepo/MLEProject/blob/main/task.ipynb\" target=\"_parent\"><img src=\"https://colab.research.google.com/assets/colab-badge.svg\" alt=\"Open In Colab\"/></a>"
      ]
    },
    {
      "cell_type": "code",
      "metadata": {
        "id": "DGRkxerfuYly"
      },
      "source": [
        "import pandas as pd\n",
        "import numpy as np\n",
        "import matplotlib.pyplot as plt\n",
        "import seaborn as sns\n",
        "from datetime import datetime\n",
        "from sklearn.ensemble import ExtraTreesRegressor, RandomForestRegressor\n",
        "from sklearn.tree import DecisionTreeRegressor\n",
        "import math"
      ],
      "execution_count": 1,
      "outputs": []
    },
    {
      "cell_type": "code",
      "metadata": {
        "colab": {
          "base_uri": "https://localhost:8080/"
        },
        "id": "QSqoVWOmFKqY",
        "outputId": "7d59d7b3-51dc-4533-dd98-7bd409c14246"
      },
      "source": [
        "!pip install yfinance"
      ],
      "execution_count": 2,
      "outputs": [
        {
          "output_type": "stream",
          "name": "stdout",
          "text": [
            "Collecting yfinance\n",
            "  Downloading yfinance-0.1.66-py2.py3-none-any.whl (25 kB)\n",
            "Requirement already satisfied: numpy>=1.15 in /usr/local/lib/python3.7/dist-packages (from yfinance) (1.19.5)\n",
            "Requirement already satisfied: multitasking>=0.0.7 in /usr/local/lib/python3.7/dist-packages (from yfinance) (0.0.9)\n",
            "Requirement already satisfied: pandas>=0.24 in /usr/local/lib/python3.7/dist-packages (from yfinance) (1.1.5)\n",
            "Collecting lxml>=4.5.1\n",
            "  Downloading lxml-4.6.4-cp37-cp37m-manylinux_2_17_x86_64.manylinux2014_x86_64.manylinux_2_24_x86_64.whl (6.3 MB)\n",
            "\u001b[K     |████████████████████████████████| 6.3 MB 18.9 MB/s \n",
            "\u001b[?25hRequirement already satisfied: requests>=2.20 in /usr/local/lib/python3.7/dist-packages (from yfinance) (2.23.0)\n",
            "Requirement already satisfied: python-dateutil>=2.7.3 in /usr/local/lib/python3.7/dist-packages (from pandas>=0.24->yfinance) (2.8.2)\n",
            "Requirement already satisfied: pytz>=2017.2 in /usr/local/lib/python3.7/dist-packages (from pandas>=0.24->yfinance) (2018.9)\n",
            "Requirement already satisfied: six>=1.5 in /usr/local/lib/python3.7/dist-packages (from python-dateutil>=2.7.3->pandas>=0.24->yfinance) (1.15.0)\n",
            "Requirement already satisfied: certifi>=2017.4.17 in /usr/local/lib/python3.7/dist-packages (from requests>=2.20->yfinance) (2021.10.8)\n",
            "Requirement already satisfied: urllib3!=1.25.0,!=1.25.1,<1.26,>=1.21.1 in /usr/local/lib/python3.7/dist-packages (from requests>=2.20->yfinance) (1.24.3)\n",
            "Requirement already satisfied: chardet<4,>=3.0.2 in /usr/local/lib/python3.7/dist-packages (from requests>=2.20->yfinance) (3.0.4)\n",
            "Requirement already satisfied: idna<3,>=2.5 in /usr/local/lib/python3.7/dist-packages (from requests>=2.20->yfinance) (2.10)\n",
            "Installing collected packages: lxml, yfinance\n",
            "  Attempting uninstall: lxml\n",
            "    Found existing installation: lxml 4.2.6\n",
            "    Uninstalling lxml-4.2.6:\n",
            "      Successfully uninstalled lxml-4.2.6\n",
            "Successfully installed lxml-4.6.4 yfinance-0.1.66\n"
          ]
        }
      ]
    },
    {
      "cell_type": "code",
      "metadata": {
        "id": "u6OqPzxZulv5"
      },
      "source": [
        "import yfinance as yf"
      ],
      "execution_count": 3,
      "outputs": []
    },
    {
      "cell_type": "markdown",
      "metadata": {
        "id": "uxT1Ud6uB7nh"
      },
      "source": [
        "### Task1 :: Get companies"
      ]
    },
    {
      "cell_type": "code",
      "metadata": {
        "id": "8-L6Yhhryv_E"
      },
      "source": [
        "def get_nyse_ticker_list():\n",
        "  others_list = 'ftp://ftp.nasdaqtrader.com/symboldirectory/otherlisted.txt'\n",
        "  ticker_df = pd.read_csv(others_list, sep='|')\n",
        "  company_nyse = ticker_df[ticker_df['Exchange'] == 'N']\n",
        "  return company_nyse['ACT Symbol'].values.tolist()"
      ],
      "execution_count": 4,
      "outputs": []
    },
    {
      "cell_type": "code",
      "metadata": {
        "id": "XQahVk7m-R4q"
      },
      "source": [
        "def get_sp500_list():\n",
        "  payload=pd.read_html('https://en.wikipedia.org/wiki/List_of_S%26P_500_companies')\n",
        "  first_table = payload[0]\n",
        "  sp500df = first_table\n",
        "  sp500_list = sp500df.Symbol.values.tolist()\n",
        "  return sp500_list"
      ],
      "execution_count": 5,
      "outputs": []
    },
    {
      "cell_type": "code",
      "metadata": {
        "id": "rZ8r4LEm0zdg"
      },
      "source": [
        "def get_stock_data(type='S&P500', limit=100):\n",
        "  ticker_list = get_nyse_ticker_list() if type == 'NYSE' else get_sp500_list()\n",
        "  if(limit > len(ticker_list)):\n",
        "    limit = len(ticker_list)\n",
        "  ticker_data  = yf.download(ticker_list[0:limit], period='6mo', progress=True, group_by='symbol')\n",
        "  try:\n",
        "    ticker_data.drop('BF.B', axis=1, inplace=True)\n",
        "    ticker_data.drop('BRK.B', axis=1, inplace=True)\n",
        "  except:\n",
        "    print(\"its fine!!\")\n",
        "  ticks = ticker_data.columns.get_level_values(0).unique().tolist()\n",
        "  return (ticker_data, ticks)\n"
      ],
      "execution_count": 6,
      "outputs": []
    },
    {
      "cell_type": "markdown",
      "metadata": {
        "id": "h7rx9qSxD5Wi"
      },
      "source": [
        "\n",
        "\n",
        "#Calculate Market Capitalization\n"
      ]
    },
    {
      "cell_type": "code",
      "metadata": {
        "colab": {
          "base_uri": "https://localhost:8080/"
        },
        "id": "pkVenRAK-TAj",
        "outputId": "6cc24189-68b3-4442-8e7a-5a51a1108810"
      },
      "source": [
        "#wrong, it is just volum, not total outstanding shares\n",
        "ticker='JPM'\n",
        "def calc_market_capitalization(symbol):\n",
        "  symbol_data = yf.download(symbol, period='1d')\n",
        "  print(symbol_data)\n",
        "  return round((symbol_data['Volume'][0] * symbol_data['Close'][0]),2)\n",
        "print(calc_market_capitalization(ticker))"
      ],
      "execution_count": 7,
      "outputs": [
        {
          "output_type": "stream",
          "name": "stdout",
          "text": [
            "\r[*********************100%***********************]  1 of 1 completed\n",
            "                  Open        High         Low       Close   Adj Close   Volume\n",
            "Date                                                                           \n",
            "2021-11-16  167.059998  167.070007  165.119995  165.360001  165.360001  9706145\n",
            "1605008143.12\n"
          ]
        }
      ]
    },
    {
      "cell_type": "code",
      "metadata": {
        "id": "yC_CnimDDjP_"
      },
      "source": [
        "def ask_user(stocks = None):\n",
        "  if(stocks != None):\n",
        "    return stocks;\n",
        "  how_many_stocks = input('How many stocks you want to analyse? \\n Enter atleast 10 and max 500 \\n')\n",
        "  correct = False\n",
        "  while not correct:\n",
        "    try:\n",
        "      how_many_stocks = int(how_many_stocks)\n",
        "      if(how_many_stocks > 500 or how_many_stocks < 10):\n",
        "        raise ValueError\n",
        "      correct = True\n",
        "    except:\n",
        "      print(\"Please enter correct number 10 to 500\")\n",
        "      how_many_stocks = input('How many stocks you want to analyse? \\n Enter atleast 10 and max 500 \\n')\n",
        "  return how_many_stocks    "
      ],
      "execution_count": 8,
      "outputs": []
    },
    {
      "cell_type": "code",
      "metadata": {
        "id": "zYSVYU7PQIU5"
      },
      "source": [
        "def make_X_and_Y(close_prices, period):\n",
        "  X = []\n",
        "  y = []\n",
        "  for i in range(len(close_prices)- period):\n",
        "    X.append(close_prices[i:i+period])\n",
        "    y.append(close_prices[i+period])\n",
        "  return X,y"
      ],
      "execution_count": 9,
      "outputs": []
    },
    {
      "cell_type": "code",
      "metadata": {
        "id": "mk7YGrlgXzd0"
      },
      "source": [
        "def cl_make_X_and_Y(close_prices, period, in_future):\n",
        "  X = []\n",
        "  y = []\n",
        "  for i in range(len(close_prices)- period-in_future):\n",
        "    X.append(close_prices[i:i+period])\n",
        "    l = close_prices[i+period:i+period+in_future]\n",
        "    y.append(calculate_label(l))\n",
        "  return X,y\n",
        "\n",
        "def calculate_label(params):\n",
        "  changes = []\n",
        "  for j in range(len(params)-1):\n",
        "    changes.append(params[j+1] - params[j])\n",
        "  tot = sum(changes)\n",
        "  if tot > 0:\n",
        "    return 1;\n",
        "  elif tot < 0:\n",
        "     return -1;\n",
        "  else:\n",
        "     return 0;\n"
      ],
      "execution_count": 10,
      "outputs": []
    },
    {
      "cell_type": "code",
      "metadata": {
        "colab": {
          "base_uri": "https://localhost:8080/"
        },
        "id": "wpj1rq80a6OH",
        "outputId": "545a6744-b8f9-4060-c168-84faf3769712"
      },
      "source": [
        "dt, tick = get_stock_data(limit=50)\n",
        "\n",
        "x,y=cl_make_X_and_Y(dt['ABBV'].Close, 6, 5)\n"
      ],
      "execution_count": 11,
      "outputs": [
        {
          "output_type": "stream",
          "name": "stdout",
          "text": [
            "[*********************100%***********************]  50 of 50 completed\n",
            "its fine!!\n"
          ]
        }
      ]
    },
    {
      "cell_type": "code",
      "metadata": {
        "id": "xtI-lgq0v14K"
      },
      "source": [
        "def get_user_selected_stocks():\n",
        "  u = input(\"Enter ticker of stocks seperated by space..\")\n",
        "  return u.split(' ');\n",
        "\n",
        "def get_user_selected_weightage(no_stocks):\n",
        "  w = input(\"Enter weightage per stocks seperated by space..\\n Eg: 80 20 \\n\")\n",
        "  resp = False\n",
        "  while not resp:\n",
        "    try:\n",
        "      proportion = w.split(' ')\n",
        "      if no_stocks != len(proportion):\n",
        "        print('Incorrect weightage')\n",
        "        raise ValueError\n",
        "      if  sum(map(int, proportion)) < 0 or sum(map(int, proportion)) > 100 :\n",
        "        print('sum of weightages are incorrect :', proportion)\n",
        "        raise ValueError\n",
        "      resp = True\n",
        "    except:\n",
        "      w = input(\"Enter weightage per stocks seperated by space..\\n Eg: 80 20 \\n\")\n",
        "  return w.split(' ');\n",
        "\n",
        "def get_user_strategy():\n",
        "  print('\\nSelect your strategy: ') \n",
        "  s= get_correct_input_from_user(\"\\t1. Market Capital Weighted\\n\\t2. Equal Weighted\\n\\t3. User defined proportion\\n\")\n",
        "  while not (s > 0 and s <=3):\n",
        "    print(\"Enter correct option 1-3\")\n",
        "    s=get_correct_input_from_user(\"\\t1. Market Capital Weighted\\n\\t2. Equal Weighted\\n\\t3. User defined proportion\\n\")\n",
        "  return s\n",
        "\n",
        "def user_selected_analysis(income):\n",
        "  selected = get_user_selected_stocks()\n",
        "  strategy = get_user_strategy()\n",
        "  market_cap = []\n",
        "  close_price = []\n",
        "  for sym in selected:\n",
        "    try:\n",
        "      current_data = yf.download(sym, period='1d', progress=False)\n",
        "      close_price.append(current_data.Close[0])\n",
        "      market_cap.append(current_data.Close[0] * current_data.Volume[0])\n",
        "    except:\n",
        "      selected.remove(sym)\n",
        "      print('Data not found for symbol :: ', sym)\n",
        "  s = sum(market_cap)\n",
        "  price = []\n",
        "  if strategy == 1:\n",
        "    print ('Calculating Market Cap Weighted portfolio')\n",
        "  elif strategy == 2:\n",
        "    print('Calculating Equal Weighted portfolio') \n",
        "  else:\n",
        "    proportion = get_user_selected_weightage(len(selected))\n",
        "    print('Calculating user defined Weighted portfolio :: ', proportion)\n",
        "    \n",
        "  port_list = []\n",
        "  for i, cap in enumerate(market_cap):\n",
        "    d = {}\n",
        "    if strategy == 3 and proportion != None:\n",
        "      weight = int(proportion[i])\n",
        "      portion = (weight/100)*income\n",
        "    elif strategy == 1:\n",
        "      portion = (income* cap)/s\n",
        "    else:\n",
        "      weight = (1/len(selected))\n",
        "      portion = weight*income\n",
        "    \n",
        "    no_stocks = math.floor(portion/close_price[i])\n",
        "    price.append(round(no_stocks * close_price[i],2))\n",
        "    d['ticker'] = selected[i]\n",
        "    d['stocks_to_purchase'] = no_stocks\n",
        "    d['price'] = round(close_price[i],2)\n",
        "    d['market_val'] = round(close_price[i] * no_stocks, 2)\n",
        "    d['planned_portion'] = str(round((portion/income) * 100, 2)) +'%'\n",
        "    d['portfoloio_portion'] = str(round((d['market_val']/income) * 100, 2)) +'%'\n",
        "    port_list.append(d)\n",
        "  c={}\n",
        "  c['ticker'] = 'CASH'\n",
        "  c['stocks_to_purchase'] = income - sum(price)\n",
        "  c['price'] = 1\n",
        "  c['market_val'] = income - sum(price)\n",
        "  c['planned_portion'] = '-'\n",
        "  c['portfoloio_portion'] = str(round((c['market_val']/income) * 100, 2)) +'%'\n",
        "  port_list.append(c)\n",
        "  #return pd.DataFrame({'ticker': selected, 'stocks_to_purchase': stocks_to_purchase, 'price': price})\n",
        "  return pd.DataFrame(port_list)\n",
        "\n",
        "#w = user_selected_analysis(10000)\n",
        "#gft = user_selected_analysis(['ABBV', 'GOOG', 'AMZN'], 10000)\n",
        "#eft = user_selected_analysis(['ABBV', 'GOOG', 'AMZN' ], 10000, 'equal')\n",
        "#uft = user_selected_analysis(['ABBV', 'GOOG', 'AMZN' ], 10000, proportion=w)\n",
        "#print(gft[['market_val', 'planned_portion', 'portfoloio_portion']])\n",
        "#print(eft[['market_val', 'planned_portion', 'portfoloio_portion']])\n",
        "#print(uft[['market_val', 'planned_portion', 'portfoloio_portion']])"
      ],
      "execution_count": 12,
      "outputs": []
    },
    {
      "cell_type": "code",
      "metadata": {
        "id": "1kcwoDzwD26-"
      },
      "source": [
        "def get_correct_input_from_user(text):\n",
        "  i = input(text)\n",
        "  resp = False\n",
        "  while not resp:\n",
        "    try:\n",
        "      a= int(i)\n",
        "      resp = True\n",
        "    except ValueError:\n",
        "      print(\"Unable to parse number. Enter correct number..\")\n",
        "      i = input(text)\n",
        "  return a\n"
      ],
      "execution_count": 13,
      "outputs": []
    },
    {
      "cell_type": "code",
      "metadata": {
        "colab": {
          "base_uri": "https://localhost:8080/"
        },
        "id": "douT2_AsEfwD",
        "outputId": "e3b95422-4a6b-4f4b-ba9c-2786116d42c2"
      },
      "source": [
        "income = get_correct_input_from_user(\"How much money do you want to invest?  \")\n",
        "print('\\nDo you wish to add you own stocks or want ML to recommend you? ')\n",
        "user_port_option = get_correct_input_from_user(\"\\tEnter 1 for adding you own stock\\n\\tEnter 2 for ML recommendations.  \")\n",
        "if user_port_option == 1:\n",
        "  x=user_selected_analysis(income)\n",
        "  print(x[['ticker', 'stocks_to_purchase', 'planned_portion', 'price']])\n",
        "elif user_port_option ==2:\n",
        "  \n",
        "  print('sdf')\n",
        "else:\n",
        "  print(\"Enter only 1 or 2, No other numbers are accepted.\")"
      ],
      "execution_count": 14,
      "outputs": [
        {
          "output_type": "stream",
          "name": "stdout",
          "text": [
            "How much money do you want to invest?  1\n",
            "\n",
            "Do you wish to add you own stocks or want ML to recommend you? \n",
            "\tEnter 1 for adding you own stock\n",
            "\tEnter 2 for ML recommendations.  1\n",
            "Enter ticker of stocks seperated by space..AAPL AMZA\n",
            "\n",
            "Select your strategy: \n",
            "\t1. Market Capital Weighted\n",
            "\t2. Equal Weighted\n",
            "\t3. User defined proportion\n",
            "1\n",
            "Calculating Market Cap Weighted portfolio\n",
            "  ticker  stocks_to_purchase planned_portion   price\n",
            "0   AAPL                 0.0          99.98%  151.00\n",
            "1   AMZA                 0.0           0.02%   28.12\n",
            "2   CASH                 1.0               -    1.00\n"
          ]
        }
      ]
    },
    {
      "cell_type": "code",
      "metadata": {
        "id": "WCjnAAKwQTV5"
      },
      "source": [
        "def return_model(X, y):\n",
        "  clf = RandomForestRegressor(n_estimators = 200)\n",
        "  clf.fit(X,y)\n",
        "  return clf"
      ],
      "execution_count": 15,
      "outputs": []
    },
    {
      "cell_type": "code",
      "metadata": {
        "id": "9Ff-hIqgYNX9"
      },
      "source": [
        "\n",
        "def predict_price(symbol, period, data=None):\n",
        "  print(\"\\rAnalysing :: \", symbol, end=\"\" )\n",
        "  if(data is None):\n",
        "    data = yf.download(symbol, period='6mo', progress=False, )\n",
        "  price = data.Close\n",
        "  features, dep_var = make_X_and_Y(list(price), period)\n",
        "  features = np.array(features)\n",
        "  dep_var = np.array(dep_var)\n",
        "  clf=return_model(features, dep_var) \n",
        "  \n",
        "  latest_feature = np.array(list(price)[-period:]).reshape((1,-1))\n",
        "  s_dict = {}\n",
        "  s_dict['symbol'] = symbol\n",
        "  s_dict['volatility'] = round(price.std(), 2)\n",
        "  s_dict['tomorrow'] = round(clf.predict(latest_feature)[0], 2)\n",
        "  s_dict['today'] = round(price[-1],2)\n",
        "  return s_dict"
      ],
      "execution_count": 25,
      "outputs": []
    },
    {
      "cell_type": "code",
      "metadata": {
        "colab": {
          "base_uri": "https://localhost:8080/"
        },
        "id": "aTdH0rhOYpsy",
        "outputId": "b8ab31c1-e42e-438e-e442-d74f7e99cdbe"
      },
      "source": [
        "predict_price('MMM', 4)"
      ],
      "execution_count": 17,
      "outputs": [
        {
          "output_type": "stream",
          "name": "stdout",
          "text": [
            "Analysing ::  MMM\n"
          ]
        },
        {
          "output_type": "execute_result",
          "data": {
            "text/plain": [
              "{'symbol': 'MMM', 'today': 183.37, 'tomorrow': 182.78, 'volatility': 9.46}"
            ]
          },
          "metadata": {},
          "execution_count": 17
        }
      ]
    },
    {
      "cell_type": "code",
      "metadata": {
        "id": "eBUunW3bHhCZ"
      },
      "source": [
        "def prepare_recomm(data, how_many_stocks = None, period = None):\n",
        "  #list_of_symbols = get_sp500_list()\n",
        "  if(data is None):\n",
        "    print(\"No stock data found..\")\n",
        "    return\n",
        "  list_of_symbols = data.columns.get_level_values(0).unique().tolist()\n",
        "  if period == None:\n",
        "    period = 6\n",
        "  stk_data = []\n",
        "  if how_many_stocks == None:\n",
        "    how_many_stocks = ask_user()\n",
        "  if how_many_stocks > len(list_of_symbols):\n",
        "    print(\"No. of stocks set to max\")  \n",
        "    how_many_stocks = len(data)\n",
        "  for sym in list_of_symbols[0:how_many_stocks]:\n",
        "    stk_data.append(predict_price(sym, period,data[sym]))\n",
        "  return pd.DataFrame(stk_data)\n"
      ],
      "execution_count": 28,
      "outputs": []
    },
    {
      "cell_type": "code",
      "metadata": {
        "id": "suiYThGFFkIN"
      },
      "source": [
        "def get_recomm(s_data, ascending):\n",
        "  cat = 'conservative' if ascending else 'aggressive'\n",
        "  print(\"Top 5 \" + cat +\" stocks are.. \")\n",
        "  tmp = s_data.sort_values(by='volatility', ascending=ascending)\n",
        "  tmp = tmp[tmp['tomorrow'] > tmp['today']]\n",
        "  return tmp.head()  "
      ],
      "execution_count": 19,
      "outputs": []
    },
    {
      "cell_type": "code",
      "metadata": {
        "colab": {
          "base_uri": "https://localhost:8080/"
        },
        "id": "MVuK-W6EPUAz",
        "outputId": "26516e44-ff8b-451d-c5ab-74ce46262c0b"
      },
      "source": [
        "#get_stock_data takes two param, \n",
        "  #type: S&P500(default) or 'NYSE, \n",
        "  #limit: default 100\n",
        "data_df, ticker_list = get_stock_data()"
      ],
      "execution_count": 20,
      "outputs": [
        {
          "output_type": "stream",
          "name": "stdout",
          "text": [
            "[*********************100%***********************]  100 of 100 completed\n",
            "\n",
            "2 Failed downloads:\n",
            "- BF.B: No data found for this date range, symbol may be delisted\n",
            "- BRK.B: No data found, symbol may be delisted\n"
          ]
        },
        {
          "output_type": "stream",
          "name": "stderr",
          "text": [
            "/usr/local/lib/python3.7/dist-packages/pandas/core/generic.py:3889: PerformanceWarning: dropping on a non-lexsorted multi-index without a level parameter may impact performance.\n",
            "  obj = obj._drop_axis(labels, axis, level=level, errors=errors)\n"
          ]
        }
      ]
    },
    {
      "cell_type": "code",
      "metadata": {
        "colab": {
          "base_uri": "https://localhost:8080/"
        },
        "id": "kPqK6mu1PnKK",
        "outputId": "94e8a020-a8bc-4888-99bb-fb3b68c00afd"
      },
      "source": [
        "pred_df = prepare_recomm(data_df, 500, 6)"
      ],
      "execution_count": 29,
      "outputs": [
        {
          "output_type": "stream",
          "name": "stdout",
          "text": [
            "\rAnalysing ::  BMY\n"
          ]
        }
      ]
    },
    {
      "cell_type": "code",
      "metadata": {
        "colab": {
          "base_uri": "https://localhost:8080/"
        },
        "id": "Opcg2R34FoRO",
        "outputId": "cf3e0753-d56b-4bb9-d27e-fcd77fd3fcbc"
      },
      "source": [
        "has_given_resp = False\n",
        "strategy = input(\"Enter Strategy : \\n Enter 1 for Conservative\\n Enter 2 for Aggresive\\n\")\n",
        "while not has_given_resp:\n",
        "  if strategy == '1' or strategy.lower() == 'c' or strategy.lower() == 'conservative':\n",
        "    has_given_resp = True\n",
        "    print(get_recomm(pred_df, True))\n",
        "  elif strategy == '2' or strategy.lower() == 'a' or strategy.lower() == 'aggresive':\n",
        "    has_given_resp = True\n",
        "    print(get_recomm(pred_df, False))\n",
        "  else:\n",
        "    print(\"Please enter correct number\")\n",
        "    strategy = input(\"Enter Strategy : \\n Enter 1 for Conservative\\n Enter 2 for Aggresive\\n\")\n"
      ],
      "execution_count": 23,
      "outputs": [
        {
          "output_type": "stream",
          "name": "stdout",
          "text": [
            "Enter Strategy : \n",
            " Enter 1 for Conservative\n",
            " Enter 2 for Aggresive\n",
            "2\n",
            "Top 5 aggressive stocks are.. \n",
            "   symbol  volatility  tomorrow    today\n",
            "2   GOOGL      201.56   2962.45  2957.52\n",
            "71   BKNG      125.21   2414.22  2380.33\n",
            "8    ALGN       48.87    692.22   689.06\n",
            "63   BIIB       39.86    267.05   261.55\n",
            "89   TECH       35.28    505.32   504.49\n"
          ]
        }
      ]
    },
    {
      "cell_type": "code",
      "metadata": {
        "id": "UgV3i1nZitt2"
      },
      "source": [
        ""
      ],
      "execution_count": 22,
      "outputs": []
    }
  ]
}