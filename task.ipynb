{
  "nbformat": 4,
  "nbformat_minor": 0,
  "metadata": {
    "colab": {
      "name": "task.ipynb",
      "provenance": [],
      "collapsed_sections": [],
      "authorship_tag": "ABX9TyO1EpevVTUrbZXuz2ZnXBmh",
      "include_colab_link": true
    },
    "kernelspec": {
      "name": "python3",
      "display_name": "Python 3"
    },
    "language_info": {
      "name": "python"
    }
  },
  "cells": [
    {
      "cell_type": "markdown",
      "metadata": {
        "id": "view-in-github",
        "colab_type": "text"
      },
      "source": [
        "<a href=\"https://colab.research.google.com/github/njanrepo/MLEProject/blob/main/task.ipynb\" target=\"_parent\"><img src=\"https://colab.research.google.com/assets/colab-badge.svg\" alt=\"Open In Colab\"/></a>"
      ]
    },
    {
      "cell_type": "code",
      "metadata": {
        "id": "DGRkxerfuYly"
      },
      "source": [
        "import pandas as pd\n",
        "import numpy as np\n",
        "import matplotlib.pyplot as plt\n",
        "import seaborn as sns\n",
        "from datetime import datetime\n",
        "from sklearn.ensemble import ExtraTreesRegressor, RandomForestRegressor\n",
        "from sklearn.tree import DecisionTreeRegressor\n",
        "import math"
      ],
      "execution_count": 2,
      "outputs": []
    },
    {
      "cell_type": "code",
      "metadata": {
        "colab": {
          "base_uri": "https://localhost:8080/"
        },
        "id": "QSqoVWOmFKqY",
        "outputId": "17baa338-fa39-4e93-9d89-a7999627ab31"
      },
      "source": [
        "!pip install yfinance"
      ],
      "execution_count": 3,
      "outputs": [
        {
          "output_type": "stream",
          "name": "stdout",
          "text": [
            "Collecting yfinance\n",
            "  Downloading yfinance-0.1.66-py2.py3-none-any.whl (25 kB)\n",
            "Requirement already satisfied: requests>=2.20 in /usr/local/lib/python3.7/dist-packages (from yfinance) (2.23.0)\n",
            "Requirement already satisfied: numpy>=1.15 in /usr/local/lib/python3.7/dist-packages (from yfinance) (1.19.5)\n",
            "Requirement already satisfied: pandas>=0.24 in /usr/local/lib/python3.7/dist-packages (from yfinance) (1.1.5)\n",
            "Collecting lxml>=4.5.1\n",
            "  Downloading lxml-4.6.4-cp37-cp37m-manylinux_2_17_x86_64.manylinux2014_x86_64.manylinux_2_24_x86_64.whl (6.3 MB)\n",
            "\u001b[K     |████████████████████████████████| 6.3 MB 6.1 MB/s \n",
            "\u001b[?25hRequirement already satisfied: multitasking>=0.0.7 in /usr/local/lib/python3.7/dist-packages (from yfinance) (0.0.9)\n",
            "Requirement already satisfied: python-dateutil>=2.7.3 in /usr/local/lib/python3.7/dist-packages (from pandas>=0.24->yfinance) (2.8.2)\n",
            "Requirement already satisfied: pytz>=2017.2 in /usr/local/lib/python3.7/dist-packages (from pandas>=0.24->yfinance) (2018.9)\n",
            "Requirement already satisfied: six>=1.5 in /usr/local/lib/python3.7/dist-packages (from python-dateutil>=2.7.3->pandas>=0.24->yfinance) (1.15.0)\n",
            "Requirement already satisfied: idna<3,>=2.5 in /usr/local/lib/python3.7/dist-packages (from requests>=2.20->yfinance) (2.10)\n",
            "Requirement already satisfied: urllib3!=1.25.0,!=1.25.1,<1.26,>=1.21.1 in /usr/local/lib/python3.7/dist-packages (from requests>=2.20->yfinance) (1.24.3)\n",
            "Requirement already satisfied: chardet<4,>=3.0.2 in /usr/local/lib/python3.7/dist-packages (from requests>=2.20->yfinance) (3.0.4)\n",
            "Requirement already satisfied: certifi>=2017.4.17 in /usr/local/lib/python3.7/dist-packages (from requests>=2.20->yfinance) (2021.10.8)\n",
            "Installing collected packages: lxml, yfinance\n",
            "  Attempting uninstall: lxml\n",
            "    Found existing installation: lxml 4.2.6\n",
            "    Uninstalling lxml-4.2.6:\n",
            "      Successfully uninstalled lxml-4.2.6\n",
            "Successfully installed lxml-4.6.4 yfinance-0.1.66\n"
          ]
        }
      ]
    },
    {
      "cell_type": "code",
      "metadata": {
        "id": "u6OqPzxZulv5"
      },
      "source": [
        "import yfinance as yf"
      ],
      "execution_count": 4,
      "outputs": []
    },
    {
      "cell_type": "markdown",
      "metadata": {
        "id": "uxT1Ud6uB7nh"
      },
      "source": [
        "### Task1 :: Get companies"
      ]
    },
    {
      "cell_type": "code",
      "metadata": {
        "id": "8-L6Yhhryv_E"
      },
      "source": [
        "def get_nyse_ticker_list():\n",
        "  others_list = 'ftp://ftp.nasdaqtrader.com/symboldirectory/otherlisted.txt'\n",
        "  ticker_df = pd.read_csv(others_list, sep='|')\n",
        "  company_nyse = ticker_df[ticker_df['Exchange'] == 'N']\n",
        "  return company_nyse['ACT Symbol'].values.tolist()"
      ],
      "execution_count": 5,
      "outputs": []
    },
    {
      "cell_type": "code",
      "metadata": {
        "id": "XQahVk7m-R4q"
      },
      "source": [
        "def get_sp500_list():\n",
        "  payload=pd.read_html('https://en.wikipedia.org/wiki/List_of_S%26P_500_companies')\n",
        "  first_table = payload[0]\n",
        "  sp500df = first_table\n",
        "  sp500_list = sp500df.Symbol.values.tolist()\n",
        "  return sp500_list"
      ],
      "execution_count": 6,
      "outputs": []
    },
    {
      "cell_type": "code",
      "metadata": {
        "id": "rZ8r4LEm0zdg"
      },
      "source": [
        "def get_stock_data(type='S&P500', limit=100):\n",
        "  ticker_list = get_nyse_ticker_list() if type == 'NYSE' else get_sp500_list()\n",
        "  if(limit > len(ticker_list)):\n",
        "    limit = len(ticker_list)\n",
        "  ticker_data  = yf.download(ticker_list[0:limit], period='6mo', progress=True, group_by='symbol')\n",
        "  try:\n",
        "    ticker_data.drop('BF.B', axis=1, inplace=True)\n",
        "    ticker_data.drop('BRK.B', axis=1, inplace=True)\n",
        "  except:\n",
        "    print(\"its fine!!\")\n",
        "  ticks = ticker_data.columns.get_level_values(0).unique().tolist()\n",
        "  return (ticker_data, ticks)\n"
      ],
      "execution_count": 7,
      "outputs": []
    },
    {
      "cell_type": "markdown",
      "metadata": {
        "id": "h7rx9qSxD5Wi"
      },
      "source": [
        "\n",
        "\n",
        "#Calculate Market Capitalization\n"
      ]
    },
    {
      "cell_type": "code",
      "metadata": {
        "colab": {
          "base_uri": "https://localhost:8080/"
        },
        "id": "pkVenRAK-TAj",
        "outputId": "19f2f9a4-c897-4ff3-fcba-b95909ed17b9"
      },
      "source": [
        "#wrong, it is just volum, not total outstanding shares\n",
        "ticker='JPM'\n",
        "def calc_market_capitalization(symbol):\n",
        "  symbol_data = yf.download(symbol, period='1d')\n",
        "  print(symbol_data)\n",
        "  return round((symbol_data['Volume'][0] * symbol_data['Close'][0]),2)\n",
        "print(calc_market_capitalization(ticker))"
      ],
      "execution_count": 8,
      "outputs": [
        {
          "output_type": "stream",
          "name": "stdout",
          "text": [
            "\r[*********************100%***********************]  1 of 1 completed\n",
            "                  Open        High         Low       Close   Adj Close   Volume\n",
            "Date                                                                           \n",
            "2021-11-12  167.649994  167.740005  165.720001  166.860001  166.860001  8111600\n",
            "1353501580.95\n"
          ]
        }
      ]
    },
    {
      "cell_type": "code",
      "metadata": {
        "id": "yC_CnimDDjP_"
      },
      "source": [
        "def ask_user(stocks = None):\n",
        "  if(stocks != None):\n",
        "    return stocks;\n",
        "  how_many_stocks = input('How many stocks you want to analyse? \\n Enter atleast 10 and max 500 \\n')\n",
        "  correct = False\n",
        "  while not correct:\n",
        "    try:\n",
        "      how_many_stocks = int(how_many_stocks)\n",
        "      if(how_many_stocks > 500 or how_many_stocks < 10):\n",
        "        raise ValueError\n",
        "      correct = True\n",
        "    except:\n",
        "      print(\"Please enter correct number 10 to 500\")\n",
        "      how_many_stocks = input('How many stocks you want to analyse? \\n Enter atleast 10 and max 500 \\n')\n",
        "  return how_many_stocks    "
      ],
      "execution_count": 9,
      "outputs": []
    },
    {
      "cell_type": "code",
      "metadata": {
        "id": "zYSVYU7PQIU5"
      },
      "source": [
        "def make_X_and_Y(close_prices, period):\n",
        "  X = []\n",
        "  y = []\n",
        "  for i in range(len(close_prices)- period):\n",
        "    X.append(close_prices[i:i+period])\n",
        "    y.append(close_prices[i+period])\n",
        "  return X,y"
      ],
      "execution_count": 10,
      "outputs": []
    },
    {
      "cell_type": "code",
      "metadata": {
        "id": "mk7YGrlgXzd0"
      },
      "source": [
        "def cl_make_X_and_Y(close_prices, period, in_future):\n",
        "  X = []\n",
        "  y = []\n",
        "  for i in range(len(close_prices)- period-in_future):\n",
        "    X.append(close_prices[i:i+period])\n",
        "    l = close_prices[i+period:i+period+in_future]\n",
        "    y.append(calculate_label(l))\n",
        "  return X,y\n",
        "\n",
        "def calculate_label(params):\n",
        "  changes = []\n",
        "  for j in range(len(params)-1):\n",
        "    changes.append(params[j+1] - params[j])\n",
        "  tot = sum(changes)\n",
        "  if tot > 0:\n",
        "    return 1;\n",
        "  elif tot < 0:\n",
        "     return -1;\n",
        "  else:\n",
        "     return 0;\n"
      ],
      "execution_count": 11,
      "outputs": []
    },
    {
      "cell_type": "code",
      "metadata": {
        "colab": {
          "base_uri": "https://localhost:8080/"
        },
        "id": "wpj1rq80a6OH",
        "outputId": "881f1d6d-b2de-44c2-f7b3-85b3d98b39db"
      },
      "source": [
        "dt, tick = get_stock_data(limit=50)\n",
        "\n",
        "x,y=cl_make_X_and_Y(dt['ABBV'].Close, 6, 5)\n"
      ],
      "execution_count": 12,
      "outputs": [
        {
          "output_type": "stream",
          "name": "stdout",
          "text": [
            "[*********************100%***********************]  50 of 50 completed\n",
            "its fine!!\n"
          ]
        }
      ]
    },
    {
      "cell_type": "code",
      "metadata": {
        "colab": {
          "base_uri": "https://localhost:8080/"
        },
        "id": "wtsoU1zMzSEv",
        "outputId": "877b0b7d-c4da-4fd9-ca92-f0fda5445e09"
      },
      "source": [
        "tick"
      ],
      "execution_count": 13,
      "outputs": [
        {
          "output_type": "execute_result",
          "data": {
            "text/plain": [
              "['AEE',\n",
              " 'ADM',\n",
              " 'AAP',\n",
              " 'AME',\n",
              " 'AES',\n",
              " 'AMD',\n",
              " 'ABMD',\n",
              " 'APA',\n",
              " 'LNT',\n",
              " 'AON',\n",
              " 'ADBE',\n",
              " 'ANET',\n",
              " 'AWK',\n",
              " 'ALGN',\n",
              " 'APD',\n",
              " 'AOS',\n",
              " 'ALLE',\n",
              " 'ACN',\n",
              " 'ADI',\n",
              " 'GOOG',\n",
              " 'ALK',\n",
              " 'GOOGL',\n",
              " 'ALL',\n",
              " 'AAPL',\n",
              " 'AFL',\n",
              " 'ABC',\n",
              " 'AMT',\n",
              " 'ANTM',\n",
              " 'AAL',\n",
              " 'AJG',\n",
              " 'ANSS',\n",
              " 'MMM',\n",
              " 'A',\n",
              " 'AKAM',\n",
              " 'AXP',\n",
              " 'AMCR',\n",
              " 'ATVI',\n",
              " 'AEP',\n",
              " 'APH',\n",
              " 'APTV',\n",
              " 'AMAT',\n",
              " 'AMGN',\n",
              " 'AMZN',\n",
              " 'MO',\n",
              " 'AMP',\n",
              " 'ALB',\n",
              " 'ABBV',\n",
              " 'ARE',\n",
              " 'AIG',\n",
              " 'ABT']"
            ]
          },
          "metadata": {},
          "execution_count": 13
        }
      ]
    },
    {
      "cell_type": "code",
      "metadata": {
        "colab": {
          "base_uri": "https://localhost:8080/"
        },
        "id": "xtI-lgq0v14K",
        "outputId": "3a836ff0-c563-4c4f-c417-e6c7fb9bfd3b"
      },
      "source": [
        "def get_user_selected_stocks():\n",
        "  u = input(\"Enter ticker of stocks seperated by space..\")\n",
        "  return u.split(' ');\n",
        "\n",
        "def get_user_selected_weightage():\n",
        "  w = input(\"Enter weightage per stocks seperated by space..\\n Eg: 80 20 \\n\")\n",
        "  return w.split(' ');\n",
        "\n",
        "\n",
        "def user_selected_analysis(selected, income, strategy='market', proportion=None):\n",
        "  market_cap = []\n",
        "  close_price = []\n",
        "  for sym in selected:\n",
        "    try:\n",
        "      current_data = yf.download(sym, period='1d', progress=False)\n",
        "      close_price.append(current_data.Close[0])\n",
        "      market_cap.append(current_data.Close[0] * current_data.Volume[0])\n",
        "    except:\n",
        "      selected.remove(sym)\n",
        "      print('Data not found for symbol :: ', sym)\n",
        "  s = sum(market_cap)\n",
        "  print(s)\n",
        "  price = []\n",
        "  if proportion != None:\n",
        "    print('Calculating user defined Weighted portfolio :: ', proportion)\n",
        "    try:\n",
        "      if(len(selected) != len(proportion)) or sum(map(int, proportion)) > 100:\n",
        "        print('Incorrect weightage')\n",
        "        return None\n",
        "    except:\n",
        "      raise ValueError\n",
        "  elif strategy == 'equal':\n",
        "    print('Calculating Equal Weighted portfolio')\n",
        "  else:\n",
        "    print ('Calculating Market Cap Weighted portfolio')\n",
        "  port_list = []\n",
        "  for i, cap in enumerate(market_cap):\n",
        "    d = {}\n",
        "    if proportion != None:\n",
        "      weight = int(proportion[i])\n",
        "      portion = (weight/100)*income\n",
        "    elif strategy == 'market':\n",
        "      portion = (income* cap)/s\n",
        "    else:\n",
        "      weight = (1/len(selected))\n",
        "      portion = weight*income\n",
        "    \n",
        "    no_stocks = math.floor(portion/close_price[i])\n",
        "    price.append(round(no_stocks * close_price[i],2))\n",
        "    d['ticker'] = selected[i]\n",
        "    d['stocks_to_purchase'] = no_stocks\n",
        "    d['price'] = round(close_price[i],2)\n",
        "    d['market_val'] = round(close_price[i] * no_stocks, 2)\n",
        "    d['planned_portion'] = str(round((portion/income) * 100, 2)) +'%'\n",
        "    d['portfoloio_portion'] = str(round((d['market_val']/income) * 100, 2)) +'%'\n",
        "    port_list.append(d)\n",
        "  c={}\n",
        "  c['ticker'] = 'CASH'\n",
        "  c['stocks_to_purchase'] = income - sum(price)\n",
        "  c['price'] = 1\n",
        "  c['market_val'] = income - sum(price)\n",
        "  c['planned_portion'] = '-'\n",
        "  c['portfoloio_portion'] = str(round((c['market_val']/income) * 100, 2)) +'%'\n",
        "  port_list.append(c)\n",
        "  #return pd.DataFrame({'ticker': selected, 'stocks_to_purchase': stocks_to_purchase, 'price': price})\n",
        "  return pd.DataFrame(port_list)\n",
        "\n",
        "w = get_user_selected_weightage()\n",
        "gft = user_selected_analysis(['ABBV', 'GOOG', 'AMZN'], 10000)\n",
        "eft = user_selected_analysis(['ABBV', 'GOOG', 'AMZN' ], 10000, 'equal')\n",
        "uft = user_selected_analysis(['ABBV', 'GOOG', 'AMZN' ], 10000, proportion=w)\n",
        "print(gft[['market_val', 'planned_portion', 'portfoloio_portion']])\n",
        "print(eft[['market_val', 'planned_portion', 'portfoloio_portion']])\n",
        "print(uft[['market_val', 'planned_portion', 'portfoloio_portion']])"
      ],
      "execution_count": 83,
      "outputs": [
        {
          "output_type": "stream",
          "name": "stdout",
          "text": [
            "Enter weightage per stocks seperated by space..\n",
            " Eg: 80 20 \n",
            "25 25 25\n",
            "12347857651.913452\n",
            "Calculating Market Cap Weighted portfolio\n",
            "12347857651.913452\n",
            "Calculating Equal Weighted portfolio\n",
            "12347857651.913452\n",
            "Calculating user defined Weighted portfolio ::  ['25', '25', '25']\n",
            "   market_val planned_portion portfoloio_portion\n",
            "0      233.94            2.6%              2.34%\n",
            "1        0.00          20.65%               0.0%\n",
            "2     7050.30          76.75%              70.5%\n",
            "3     2715.76               -             27.16%\n",
            "   market_val planned_portion portfoloio_portion\n",
            "0     3275.16          33.33%             32.75%\n",
            "1     2992.91          33.33%             29.93%\n",
            "2        0.00          33.33%               0.0%\n",
            "3     3731.93               -             37.32%\n",
            "   market_val planned_portion portfoloio_portion\n",
            "0     2456.37           25.0%             24.56%\n",
            "1        0.00           25.0%               0.0%\n",
            "2        0.00           25.0%               0.0%\n",
            "3     7543.63               -             75.44%\n"
          ]
        }
      ]
    },
    {
      "cell_type": "code",
      "metadata": {
        "id": "WCjnAAKwQTV5"
      },
      "source": [
        "def return_model(X, y):\n",
        "  clf = RandomForestRegressor(n_estimators = 200)\n",
        "  clf.fit(X,y)\n",
        "  return clf"
      ],
      "execution_count": 33,
      "outputs": []
    },
    {
      "cell_type": "code",
      "metadata": {
        "id": "9Ff-hIqgYNX9"
      },
      "source": [
        "def predict_price(symbol, period, data=None):\n",
        "  print(\"Analysing :: \", symbol )\n",
        "  if(data is None):\n",
        "    data = yf.download(symbol, period='6mo', progress=False, )\n",
        "  price = data.Close\n",
        "  features, dep_var = make_X_and_Y(list(price), period)\n",
        "  features = np.array(features)\n",
        "  dep_var = np.array(dep_var)\n",
        "  clf=return_model(features, dep_var) \n",
        "  \n",
        "  latest_feature = np.array(list(price)[-period:]).reshape((1,-1))\n",
        "  s_dict = {}\n",
        "  s_dict['symbol'] = symbol\n",
        "  s_dict['volatility'] = round(price.std(), 2)\n",
        "  s_dict['tomorrow'] = round(clf.predict(latest_feature)[0], 2)\n",
        "  s_dict['today'] = round(price[-1],2)\n",
        "  return s_dict"
      ],
      "execution_count": 11,
      "outputs": []
    },
    {
      "cell_type": "code",
      "metadata": {
        "colab": {
          "base_uri": "https://localhost:8080/"
        },
        "id": "aTdH0rhOYpsy",
        "outputId": "550c8141-87ed-41c2-b4be-3fa37545b229"
      },
      "source": [
        "predict_price('MMM', 4)"
      ],
      "execution_count": 14,
      "outputs": [
        {
          "output_type": "stream",
          "name": "stdout",
          "text": [
            "Analysing ::  MMM\n"
          ]
        },
        {
          "output_type": "execute_result",
          "data": {
            "text/plain": [
              "{'symbol': 'MMM', 'today': 183.66, 'tomorrow': 180.42, 'volatility': 9.51}"
            ]
          },
          "metadata": {},
          "execution_count": 14
        }
      ]
    },
    {
      "cell_type": "code",
      "metadata": {
        "id": "eBUunW3bHhCZ"
      },
      "source": [
        "def prepare_recomm(data, how_many_stocks = None, period = None):\n",
        "  #list_of_symbols = get_sp500_list()\n",
        "  if(data is None):\n",
        "    print(\"No stock data found..\")\n",
        "    return\n",
        "  list_of_symbols = data.columns.get_level_values(0).unique().tolist()\n",
        "  if period == None:\n",
        "    period = 6\n",
        "  stk_data = []\n",
        "  if how_many_stocks == None:\n",
        "    how_many_stocks = ask_user()\n",
        "  if how_many_stocks > len(list_of_symbols):\n",
        "    print(\"No. of stocks set to max\")  \n",
        "    how_many_stocks = len(data)\n",
        "  for sym in list_of_symbols[0:how_many_stocks]:\n",
        "    stk_data.append(predict_price(sym, period,data[sym]))\n",
        "  return pd.DataFrame(stk_data)\n"
      ],
      "execution_count": 23,
      "outputs": []
    },
    {
      "cell_type": "code",
      "metadata": {
        "id": "suiYThGFFkIN"
      },
      "source": [
        "def get_recomm(s_data, ascending):\n",
        "  cat = 'conservative' if ascending else 'aggressive'\n",
        "  print(\"Top 5 \" + cat +\" stocks are.. \")\n",
        "  tmp = s_data.sort_values(by='volatility', ascending=ascending)\n",
        "  tmp = tmp[tmp['tomorrow'] > tmp['today']]\n",
        "  return tmp.head()  "
      ],
      "execution_count": 16,
      "outputs": []
    },
    {
      "cell_type": "code",
      "metadata": {
        "colab": {
          "base_uri": "https://localhost:8080/"
        },
        "id": "MVuK-W6EPUAz",
        "outputId": "93c4885c-58a3-436a-d22f-9fa9068b3802"
      },
      "source": [
        "#get_stock_data takes two param, \n",
        "  #type: S&P500(default) or 'NYSE, \n",
        "  #limit: default 100\n",
        "data_df, ticker_list = get_stock_data()"
      ],
      "execution_count": 20,
      "outputs": [
        {
          "output_type": "stream",
          "name": "stdout",
          "text": [
            "[*********************100%***********************]  100 of 100 completed\n",
            "\n",
            "2 Failed downloads:\n",
            "- BRK.B: No data found, symbol may be delisted\n",
            "- BF.B: No data found for this date range, symbol may be delisted\n"
          ]
        },
        {
          "output_type": "stream",
          "name": "stderr",
          "text": [
            "/usr/local/lib/python3.7/dist-packages/pandas/core/generic.py:3889: PerformanceWarning: dropping on a non-lexsorted multi-index without a level parameter may impact performance.\n",
            "  obj = obj._drop_axis(labels, axis, level=level, errors=errors)\n"
          ]
        }
      ]
    },
    {
      "cell_type": "code",
      "metadata": {
        "colab": {
          "base_uri": "https://localhost:8080/"
        },
        "id": "kPqK6mu1PnKK",
        "outputId": "80c2b79f-867f-4453-a0c8-54aa6a988028"
      },
      "source": [
        "pred_df = prepare_recomm(data_df, 500, 6)"
      ],
      "execution_count": 37,
      "outputs": [
        {
          "output_type": "stream",
          "name": "stdout",
          "text": [
            "No. of stocks set to max\n",
            "Analysing ::  APTV\n",
            "Analysing ::  AAPL\n",
            "Analysing ::  CDNS\n",
            "Analysing ::  ARE\n",
            "Analysing ::  ALB\n",
            "Analysing ::  ANTM\n",
            "Analysing ::  AWK\n",
            "Analysing ::  ABT\n",
            "Analysing ::  AFL\n",
            "Analysing ::  ATVI\n",
            "Analysing ::  BA\n",
            "Analysing ::  CZR\n",
            "Analysing ::  BMY\n",
            "Analysing ::  CDW\n",
            "Analysing ::  AKAM\n",
            "Analysing ::  BXP\n",
            "Analysing ::  AVGO\n",
            "Analysing ::  A\n",
            "Analysing ::  AME\n",
            "Analysing ::  BWA\n",
            "Analysing ::  BRO\n",
            "Analysing ::  AON\n",
            "Analysing ::  CHRW\n",
            "Analysing ::  COF\n",
            "Analysing ::  ABC\n",
            "Analysing ::  AES\n",
            "Analysing ::  AVY\n",
            "Analysing ::  ADSK\n",
            "Analysing ::  CNC\n",
            "Analysing ::  APD\n",
            "Analysing ::  ABBV\n",
            "Analysing ::  AIZ\n",
            "Analysing ::  ACN\n",
            "Analysing ::  AEE\n",
            "Analysing ::  BAC\n",
            "Analysing ::  AZO\n",
            "Analysing ::  BK\n",
            "Analysing ::  AMZN\n",
            "Analysing ::  AXP\n",
            "Analysing ::  AEP\n",
            "Analysing ::  AVB\n",
            "Analysing ::  CARR\n",
            "Analysing ::  T\n",
            "Analysing ::  TECH\n",
            "Analysing ::  CTLT\n",
            "Analysing ::  AMP\n",
            "Analysing ::  ATO\n",
            "Analysing ::  BSX\n",
            "Analysing ::  BAX\n",
            "Analysing ::  BR\n",
            "Analysing ::  BIO\n",
            "Analysing ::  ANET\n",
            "Analysing ::  AAP\n",
            "Analysing ::  MO\n",
            "Analysing ::  ADM\n",
            "Analysing ::  CBOE\n",
            "Analysing ::  ALGN\n",
            "Analysing ::  CPB\n",
            "Analysing ::  CAT\n",
            "Analysing ::  LNT\n",
            "Analysing ::  AMGN\n",
            "Analysing ::  BKNG\n",
            "Analysing ::  GOOGL\n",
            "Analysing ::  AJG\n",
            "Analysing ::  MMM\n",
            "Analysing ::  APA\n",
            "Analysing ::  CDAY\n",
            "Analysing ::  ADBE\n",
            "Analysing ::  AAL\n",
            "Analysing ::  ALLE\n",
            "Analysing ::  CNP\n",
            "Analysing ::  CERN\n",
            "Analysing ::  AOS\n",
            "Analysing ::  CBRE\n",
            "Analysing ::  ADI\n",
            "Analysing ::  BBWI\n",
            "Analysing ::  BIIB\n",
            "Analysing ::  ALL\n",
            "Analysing ::  AMAT\n",
            "Analysing ::  BDX\n",
            "Analysing ::  GOOG\n",
            "Analysing ::  AMCR\n",
            "Analysing ::  KMX\n",
            "Analysing ::  ANSS\n",
            "Analysing ::  BLK\n",
            "Analysing ::  AIG\n",
            "Analysing ::  ADP\n",
            "Analysing ::  CCL\n",
            "Analysing ::  AMT\n",
            "Analysing ::  BLL\n",
            "Analysing ::  ABMD\n",
            "Analysing ::  APH\n",
            "Analysing ::  CE\n",
            "Analysing ::  BKR\n",
            "Analysing ::  ALK\n",
            "Analysing ::  AMD\n",
            "Analysing ::  BBY\n",
            "Analysing ::  CAH\n"
          ]
        }
      ]
    },
    {
      "cell_type": "code",
      "metadata": {
        "colab": {
          "base_uri": "https://localhost:8080/"
        },
        "id": "Opcg2R34FoRO",
        "outputId": "82cbc3eb-54f0-467d-c709-413f85c45c00"
      },
      "source": [
        "has_given_resp = False\n",
        "strategy = input(\"Enter Strategy : \\n Enter 1 for Conservative\\n Enter 2 for Aggresive\\n\")\n",
        "while not has_given_resp:\n",
        "  if strategy == '1' or strategy.lower() == 'c' or strategy.lower() == 'conservative':\n",
        "    has_given_resp = True\n",
        "    print(get_recomm(pred_df, True))\n",
        "  elif strategy == '2' or strategy.lower() == 'a' or strategy.lower() == 'aggresive':\n",
        "    has_given_resp = True\n",
        "    print(get_recomm(pred_df, False))\n",
        "  else:\n",
        "    print(\"Please enter correct number\")\n",
        "    strategy = input(\"Enter Strategy : \\n Enter 1 for Conservative\\n Enter 2 for Aggresive\\n\")\n"
      ],
      "execution_count": 38,
      "outputs": [
        {
          "output_type": "stream",
          "name": "stdout",
          "text": [
            "Enter Strategy : \n",
            " Enter 1 for Conservative\n",
            " Enter 2 for Aggresive\n",
            "2\n",
            "Top 5 aggressive stocks are.. \n",
            "   symbol  volatility  tomorrow   today\n",
            "50    BIO       75.79    758.55  756.28\n",
            "67   ADBE       54.47    658.36  657.60\n",
            "56   ALGN       49.87    689.42  687.80\n",
            "43   TECH       36.34    506.51  504.50\n",
            "21    AON       26.82    304.50  300.34\n"
          ]
        }
      ]
    },
    {
      "cell_type": "code",
      "metadata": {
        "id": "UgV3i1nZitt2"
      },
      "source": [
        ""
      ],
      "execution_count": null,
      "outputs": []
    }
  ]
}