{
  "nbformat": 4,
  "nbformat_minor": 0,
  "metadata": {
    "colab": {
      "name": "task.ipynb",
      "provenance": [],
      "collapsed_sections": [],
      "authorship_tag": "ABX9TyN6uwdwwRWibnAwhNwBtIzC",
      "include_colab_link": true
    },
    "kernelspec": {
      "name": "python3",
      "display_name": "Python 3"
    },
    "language_info": {
      "name": "python"
    }
  },
  "cells": [
    {
      "cell_type": "markdown",
      "metadata": {
        "id": "view-in-github",
        "colab_type": "text"
      },
      "source": [
        "<a href=\"https://colab.research.google.com/github/njanrepo/MLEProject/blob/main/task.ipynb\" target=\"_parent\"><img src=\"https://colab.research.google.com/assets/colab-badge.svg\" alt=\"Open In Colab\"/></a>"
      ]
    },
    {
      "cell_type": "code",
      "metadata": {
        "id": "DGRkxerfuYly"
      },
      "source": [
        "import pandas as pd\n",
        "import numpy as np\n",
        "import matplotlib.pyplot as plt\n",
        "import seaborn as sns\n",
        "from datetime import datetime\n",
        "from sklearn.ensemble import ExtraTreesRegressor, RandomForestRegressor\n"
      ],
      "execution_count": 80,
      "outputs": []
    },
    {
      "cell_type": "code",
      "metadata": {
        "colab": {
          "base_uri": "https://localhost:8080/"
        },
        "id": "QSqoVWOmFKqY",
        "outputId": "aea58c2e-54eb-45ee-c59b-8cf85157ca6b"
      },
      "source": [
        "!pip install yfinance"
      ],
      "execution_count": 2,
      "outputs": [
        {
          "output_type": "stream",
          "name": "stdout",
          "text": [
            "Collecting yfinance\n",
            "  Downloading yfinance-0.1.64.tar.gz (26 kB)\n",
            "Requirement already satisfied: pandas>=0.24 in /usr/local/lib/python3.7/dist-packages (from yfinance) (1.1.5)\n",
            "Requirement already satisfied: numpy>=1.15 in /usr/local/lib/python3.7/dist-packages (from yfinance) (1.19.5)\n",
            "Requirement already satisfied: requests>=2.20 in /usr/local/lib/python3.7/dist-packages (from yfinance) (2.23.0)\n",
            "Requirement already satisfied: multitasking>=0.0.7 in /usr/local/lib/python3.7/dist-packages (from yfinance) (0.0.9)\n",
            "Collecting lxml>=4.5.1\n",
            "  Downloading lxml-4.6.4-cp37-cp37m-manylinux_2_17_x86_64.manylinux2014_x86_64.manylinux_2_24_x86_64.whl (6.3 MB)\n",
            "\u001b[K     |████████████████████████████████| 6.3 MB 7.5 MB/s \n",
            "\u001b[?25hRequirement already satisfied: python-dateutil>=2.7.3 in /usr/local/lib/python3.7/dist-packages (from pandas>=0.24->yfinance) (2.8.2)\n",
            "Requirement already satisfied: pytz>=2017.2 in /usr/local/lib/python3.7/dist-packages (from pandas>=0.24->yfinance) (2018.9)\n",
            "Requirement already satisfied: six>=1.5 in /usr/local/lib/python3.7/dist-packages (from python-dateutil>=2.7.3->pandas>=0.24->yfinance) (1.15.0)\n",
            "Requirement already satisfied: chardet<4,>=3.0.2 in /usr/local/lib/python3.7/dist-packages (from requests>=2.20->yfinance) (3.0.4)\n",
            "Requirement already satisfied: certifi>=2017.4.17 in /usr/local/lib/python3.7/dist-packages (from requests>=2.20->yfinance) (2021.10.8)\n",
            "Requirement already satisfied: idna<3,>=2.5 in /usr/local/lib/python3.7/dist-packages (from requests>=2.20->yfinance) (2.10)\n",
            "Requirement already satisfied: urllib3!=1.25.0,!=1.25.1,<1.26,>=1.21.1 in /usr/local/lib/python3.7/dist-packages (from requests>=2.20->yfinance) (1.24.3)\n",
            "Building wheels for collected packages: yfinance\n",
            "  Building wheel for yfinance (setup.py) ... \u001b[?25l\u001b[?25hdone\n",
            "  Created wheel for yfinance: filename=yfinance-0.1.64-py2.py3-none-any.whl size=24109 sha256=e3031929274ba09dd539adb2158de70bd976d2ed65b8927dce60acf65c6dd898\n",
            "  Stored in directory: /root/.cache/pip/wheels/86/fe/9b/a4d3d78796b699e37065e5b6c27b75cff448ddb8b24943c288\n",
            "Successfully built yfinance\n",
            "Installing collected packages: lxml, yfinance\n",
            "  Attempting uninstall: lxml\n",
            "    Found existing installation: lxml 4.2.6\n",
            "    Uninstalling lxml-4.2.6:\n",
            "      Successfully uninstalled lxml-4.2.6\n",
            "Successfully installed lxml-4.6.4 yfinance-0.1.64\n"
          ]
        }
      ]
    },
    {
      "cell_type": "code",
      "metadata": {
        "id": "u6OqPzxZulv5"
      },
      "source": [
        "import yfinance as yf"
      ],
      "execution_count": 3,
      "outputs": []
    },
    {
      "cell_type": "markdown",
      "metadata": {
        "id": "uxT1Ud6uB7nh"
      },
      "source": [
        "#Get data\n"
      ]
    },
    {
      "cell_type": "code",
      "metadata": {
        "colab": {
          "base_uri": "https://localhost:8080/"
        },
        "id": "8-L6Yhhryv_E",
        "outputId": "509bcd36-c30b-4761-8a0b-e0ea4b3a5820"
      },
      "source": [
        "def get_nyse_ticker_list():\n",
        "  others_list = 'ftp://ftp.nasdaqtrader.com/symboldirectory/otherlisted.txt'\n",
        "  ticker_df = pd.read_csv(others_list, sep='|')\n",
        "  company_nyse = ticker_df[ticker_df['Exchange'] == 'N']\n",
        "  return company_nyse['ACT Symbol'].values.tolist()\n",
        "\n",
        "s=get_nyse_ticker_list()\n",
        "len(s)"
      ],
      "execution_count": 4,
      "outputs": [
        {
          "output_type": "execute_result",
          "data": {
            "text/plain": [
              "3642"
            ]
          },
          "metadata": {},
          "execution_count": 4
        }
      ]
    },
    {
      "cell_type": "code",
      "metadata": {
        "id": "XQahVk7m-R4q"
      },
      "source": [
        "def get_sp500_list():\n",
        "  payload=pd.read_html('https://en.wikipedia.org/wiki/List_of_S%26P_500_companies')\n",
        "  first_table = payload[0]\n",
        "  sp500df = first_table\n",
        "  sp500_list = sp500df.Symbol.values.tolist()\n",
        "  return sp500_list"
      ],
      "execution_count": 5,
      "outputs": []
    },
    {
      "cell_type": "markdown",
      "metadata": {
        "id": "h7rx9qSxD5Wi"
      },
      "source": [
        "\n",
        "\n",
        "#Calculate Market Capitalization\n"
      ]
    },
    {
      "cell_type": "code",
      "metadata": {
        "colab": {
          "base_uri": "https://localhost:8080/"
        },
        "id": "pkVenRAK-TAj",
        "outputId": "872fe531-6d94-465c-fa58-73f31bd8b312"
      },
      "source": [
        "ticker='JPM'\n",
        "def calc_market_capitalization(symbol):\n",
        "  symbol_data = yf.download(symbol, period='1d')\n",
        "  print(symbol_data)\n",
        "  return round((symbol_data['Volume'][0] * symbol_data['Close'][0]),2)\n",
        "print(calc_market_capitalization(ticker))"
      ],
      "execution_count": 28,
      "outputs": [
        {
          "output_type": "stream",
          "name": "stdout",
          "text": [
            "\r[*********************100%***********************]  1 of 1 completed\n",
            "                  Open        High         Low       Close   Adj Close   Volume\n",
            "Date                                                                           \n",
            "2021-11-11  167.520004  168.679993  166.899994  167.610001  167.610001  5811400\n",
            "974048757.55\n"
          ]
        }
      ]
    },
    {
      "cell_type": "code",
      "metadata": {
        "id": "251m8p-A-Tu5"
      },
      "source": [
        "sp_list = get_sp500_list()\n",
        "s_info = []\n",
        "i =0\n",
        "for t in sp_list:\n",
        "  print(t)\n",
        "  i +=1\n",
        "  print(i)\n",
        "  inn = yf.Ticker(t).info\n",
        "  s_info.append(inn)"
      ],
      "execution_count": null,
      "outputs": []
    },
    {
      "cell_type": "code",
      "metadata": {
        "id": "ZiKOHG5Wu-sG"
      },
      "source": [
        "sp_df = pd.DataFrame(s_info)"
      ],
      "execution_count": 47,
      "outputs": []
    },
    {
      "cell_type": "code",
      "metadata": {
        "colab": {
          "base_uri": "https://localhost:8080/"
        },
        "id": "VVlunwlgIRTf",
        "outputId": "3e3a020a-2fbf-4b43-9f1c-db2177aace49"
      },
      "source": [
        "df=yf.download(tickers='JPM', period='180d')"
      ],
      "execution_count": 74,
      "outputs": [
        {
          "output_type": "stream",
          "name": "stdout",
          "text": [
            "\r[*********************100%***********************]  1 of 1 completed\n"
          ]
        }
      ]
    },
    {
      "cell_type": "code",
      "metadata": {
        "id": "yC_CnimDDjP_"
      },
      "source": [
        "def ask_user(stocks = None):\n",
        "  if(stocks != None):\n",
        "    return stocks;\n",
        "  how_many_stocks = input('How many stocks you want to analyse? \\n Enter atleast 10 and max 500 \\n')\n",
        "  correct = False\n",
        "  while not correct:\n",
        "    try:\n",
        "      how_many_stocks = int(how_many_stocks)\n",
        "      if(how_many_stocks > 500 or how_many_stocks < 10):\n",
        "        raise ValueError\n",
        "      correct = True\n",
        "    except:\n",
        "      print(\"Please enter correct number 10 to 500\")\n",
        "      how_many_stocks = input('How many stocks you want to analyse? \\n Enter atleast 10 and max 500 \\n')\n",
        "  return how_many_stocks    "
      ],
      "execution_count": 85,
      "outputs": []
    },
    {
      "cell_type": "code",
      "metadata": {
        "id": "zYSVYU7PQIU5"
      },
      "source": [
        "def make_X_and_Y(close_prices, period=6):\n",
        "  X = []\n",
        "  y = []\n",
        "  for i in range(len(close_prices)- period):\n",
        "    X.append(close_prices[i:i+period])\n",
        "    y.append(close_prices[i+period])\n",
        "  return X,y"
      ],
      "execution_count": 86,
      "outputs": []
    },
    {
      "cell_type": "code",
      "metadata": {
        "id": "WCjnAAKwQTV5"
      },
      "source": [
        "def return_model(X, y):\n",
        "  clf = RandomForestRegressor()\n",
        "  clf.fit(X,y)\n",
        "  return clf"
      ],
      "execution_count": 82,
      "outputs": []
    },
    {
      "cell_type": "code",
      "metadata": {
        "colab": {
          "base_uri": "https://localhost:8080/"
        },
        "id": "eBUunW3bHhCZ",
        "outputId": "d4a66a53-4e9c-4f7a-a70e-c35ed69b1a6e"
      },
      "source": [
        "list_of_symbols = get_sp500_list()\n",
        "symbols_not_found = ['BRK.B', 'BF.B']\n",
        "period = 6\n",
        "predicted_preice_for_tomo = []\n",
        "today_prices = []\n",
        "volatility = []\n",
        "symbol = []\n",
        "how_many_stocks = ask_user(11)\n",
        "for sym in list_of_symbols[0:how_many_stocks]:\n",
        "  if sym not in symbols_not_found:\n",
        "    print(\"Analysing :: \", sym )\n",
        "    sy"
      ],
      "execution_count": 89,
      "outputs": [
        {
          "output_type": "stream",
          "name": "stdout",
          "text": [
            "Analysing ::  MMM\n",
            "Analysing ::  ABT\n",
            "Analysing ::  ABBV\n",
            "Analysing ::  ABMD\n",
            "Analysing ::  ACN\n",
            "Analysing ::  ATVI\n",
            "Analysing ::  ADBE\n",
            "Analysing ::  AMD\n",
            "Analysing ::  AAP\n",
            "Analysing ::  AES\n",
            "Analysing ::  AFL\n"
          ]
        }
      ]
    },
    {
      "cell_type": "code",
      "metadata": {
        "colab": {
          "base_uri": "https://localhost:8080/"
        },
        "id": "suiYThGFFkIN",
        "outputId": "21ff0a26-f8f4-427c-ca97-121995db79fc"
      },
      "source": [
        "def predict_price():\n",
        "  "
      ],
      "execution_count": 54,
      "outputs": [
        {
          "output_type": "execute_result",
          "data": {
            "text/plain": [
              "12"
            ]
          },
          "metadata": {},
          "execution_count": 54
        }
      ]
    },
    {
      "cell_type": "code",
      "metadata": {
        "id": "Opcg2R34FoRO"
      },
      "source": [
        ""
      ],
      "execution_count": null,
      "outputs": []
    }
  ]
}