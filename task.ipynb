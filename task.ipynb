{
  "nbformat": 4,
  "nbformat_minor": 0,
  "metadata": {
    "colab": {
      "name": "task.ipynb",
      "provenance": [],
      "collapsed_sections": [],
      "authorship_tag": "ABX9TyN2DPVQWJIRJEd+LW8m1Khk",
      "include_colab_link": true
    },
    "kernelspec": {
      "name": "python3",
      "display_name": "Python 3"
    },
    "language_info": {
      "name": "python"
    }
  },
  "cells": [
    {
      "cell_type": "markdown",
      "metadata": {
        "id": "view-in-github",
        "colab_type": "text"
      },
      "source": [
        "<a href=\"https://colab.research.google.com/github/njanrepo/MLEProject/blob/main/task.ipynb\" target=\"_parent\"><img src=\"https://colab.research.google.com/assets/colab-badge.svg\" alt=\"Open In Colab\"/></a>"
      ]
    },
    {
      "cell_type": "code",
      "metadata": {
        "id": "DGRkxerfuYly"
      },
      "source": [
        "import pandas as pd\n",
        "import numpy as np\n",
        "import matplotlib.pyplot as plt\n",
        "import seaborn as sns\n",
        "from datetime import datetime\n",
        "from sklearn.model_selection import train_test_split\n",
        "\n",
        "from sklearn.ensemble import ExtraTreesRegressor, RandomForestRegressor, RandomForestClassifier\n",
        "from sklearn.tree import DecisionTreeRegressor\n",
        "import math"
      ],
      "execution_count": 30,
      "outputs": []
    },
    {
      "cell_type": "code",
      "metadata": {
        "colab": {
          "base_uri": "https://localhost:8080/"
        },
        "id": "QSqoVWOmFKqY",
        "outputId": "e413133a-5c89-47ae-bd3b-c5a25b2671c5"
      },
      "source": [
        "!pip install yfinance"
      ],
      "execution_count": 3,
      "outputs": [
        {
          "output_type": "stream",
          "name": "stdout",
          "text": [
            "Collecting yfinance\n",
            "  Downloading yfinance-0.1.66-py2.py3-none-any.whl (25 kB)\n",
            "Requirement already satisfied: pandas>=0.24 in /usr/local/lib/python3.7/dist-packages (from yfinance) (1.1.5)\n",
            "Requirement already satisfied: multitasking>=0.0.7 in /usr/local/lib/python3.7/dist-packages (from yfinance) (0.0.10)\n",
            "Requirement already satisfied: numpy>=1.15 in /usr/local/lib/python3.7/dist-packages (from yfinance) (1.19.5)\n",
            "Collecting lxml>=4.5.1\n",
            "  Downloading lxml-4.6.4-cp37-cp37m-manylinux_2_17_x86_64.manylinux2014_x86_64.manylinux_2_24_x86_64.whl (6.3 MB)\n",
            "\u001b[K     |████████████████████████████████| 6.3 MB 6.1 MB/s \n",
            "\u001b[?25hRequirement already satisfied: requests>=2.20 in /usr/local/lib/python3.7/dist-packages (from yfinance) (2.23.0)\n",
            "Requirement already satisfied: python-dateutil>=2.7.3 in /usr/local/lib/python3.7/dist-packages (from pandas>=0.24->yfinance) (2.8.2)\n",
            "Requirement already satisfied: pytz>=2017.2 in /usr/local/lib/python3.7/dist-packages (from pandas>=0.24->yfinance) (2018.9)\n",
            "Requirement already satisfied: six>=1.5 in /usr/local/lib/python3.7/dist-packages (from python-dateutil>=2.7.3->pandas>=0.24->yfinance) (1.15.0)\n",
            "Requirement already satisfied: certifi>=2017.4.17 in /usr/local/lib/python3.7/dist-packages (from requests>=2.20->yfinance) (2021.10.8)\n",
            "Requirement already satisfied: urllib3!=1.25.0,!=1.25.1,<1.26,>=1.21.1 in /usr/local/lib/python3.7/dist-packages (from requests>=2.20->yfinance) (1.24.3)\n",
            "Requirement already satisfied: chardet<4,>=3.0.2 in /usr/local/lib/python3.7/dist-packages (from requests>=2.20->yfinance) (3.0.4)\n",
            "Requirement already satisfied: idna<3,>=2.5 in /usr/local/lib/python3.7/dist-packages (from requests>=2.20->yfinance) (2.10)\n",
            "Installing collected packages: lxml, yfinance\n",
            "  Attempting uninstall: lxml\n",
            "    Found existing installation: lxml 4.2.6\n",
            "    Uninstalling lxml-4.2.6:\n",
            "      Successfully uninstalled lxml-4.2.6\n",
            "Successfully installed lxml-4.6.4 yfinance-0.1.66\n"
          ]
        }
      ]
    },
    {
      "cell_type": "code",
      "metadata": {
        "id": "u6OqPzxZulv5"
      },
      "source": [
        "import yfinance as yf"
      ],
      "execution_count": 4,
      "outputs": []
    },
    {
      "cell_type": "markdown",
      "metadata": {
        "id": "uxT1Ud6uB7nh"
      },
      "source": [
        "### Get companies"
      ]
    },
    {
      "cell_type": "code",
      "metadata": {
        "id": "8-L6Yhhryv_E"
      },
      "source": [
        "def get_nyse_ticker_list():\n",
        "  others_list = 'ftp://ftp.nasdaqtrader.com/symboldirectory/otherlisted.txt'\n",
        "  ticker_df = pd.read_csv(others_list, sep='|')\n",
        "  company_nyse = ticker_df[ticker_df['Exchange'] == 'N']\n",
        "  return company_nyse['ACT Symbol'].values.tolist()\n",
        "\n",
        "def get_sp500_list():\n",
        "  payload=pd.read_html('https://en.wikipedia.org/wiki/List_of_S%26P_500_companies')\n",
        "  first_table = payload[0]\n",
        "  sp500df = first_table\n",
        "  sp500_list = sp500df.Symbol.values.tolist()\n",
        "  return sp500_list\n",
        "\n",
        "def load_nyse_csv():\n",
        "  ticker_df = pd.read_csv('data/nyse.csv', sep='|')\n",
        "  company_nyse = ticker_df[ticker_df['Exchange'] == 'N']\n",
        "  return company_nyse['ACT Symbol'].values.tolist()"
      ],
      "execution_count": 5,
      "outputs": []
    },
    {
      "cell_type": "markdown",
      "metadata": {
        "id": "0UD_Z5SXzfRo"
      },
      "source": [
        "### Get historical data"
      ]
    },
    {
      "cell_type": "code",
      "metadata": {
        "id": "rZ8r4LEm0zdg"
      },
      "source": [
        "def get_stock_data(type='SP500', limit=100):\n",
        "  print(\"\\nDownloading 6 months historical data for stock..\")\n",
        "  ticker_list = get_nyse_ticker_list() if type == 'NYSE' else get_sp500_list()\n",
        "  if(limit > len(ticker_list)):\n",
        "    limit = len(ticker_list)\n",
        "  ticker_data  = yf.download(ticker_list[0:limit], period='6mo', progress=True, group_by='symbol')\n",
        "  #try:\n",
        "   # ticker_data.drop('BF.B', axis=1, inplace=True)\n",
        "    #ticker_data.drop('BRK.B', axis=1, inplace=True)\n",
        "  #except:\n",
        "   # print(\"its fine!!\")\n",
        "  ticker_data.dropna(how='all', axis=1, inplace=True)\n",
        "  \n",
        "  print(ticker_data.shape)\n",
        "  #my_new_df = test_transposed.reset_index().dropna().set_index(old_idx)\n",
        "  #new_dataset = my_new_df.T\n",
        "  ticks = ticker_data.columns.get_level_values(0).unique().tolist()\n",
        "  return (ticker_data, ticks)"
      ],
      "execution_count": 6,
      "outputs": []
    },
    {
      "cell_type": "code",
      "metadata": {
        "id": "XHkg4VH31SzV",
        "colab": {
          "base_uri": "https://localhost:8080/"
        },
        "outputId": "1d1cf5dd-d74c-4f6f-9307-64440c5df46f"
      },
      "source": [
        "x= get_stock_data(type='NYSE', limit=50)"
      ],
      "execution_count": 7,
      "outputs": [
        {
          "output_type": "stream",
          "name": "stdout",
          "text": [
            "\n",
            "Downloading 6 months historical data for stock..\n",
            "[*********************100%***********************]  50 of 50 completed\n",
            "\n",
            "17 Failed downloads:\n",
            "- ACDI.U: No data found, symbol may be delisted\n",
            "- ACII.U: No data found, symbol may be delisted\n",
            "- ACII.W: No data found, symbol may be delisted\n",
            "- AAC.U: No data found, symbol may be delisted\n",
            "- ABR$E: No data found, symbol may be delisted\n",
            "- ACR$D: No data found, symbol may be delisted\n",
            "- ACAQ.U: No data found, symbol may be delisted\n",
            "- ACP$A: No data found, symbol may be delisted\n",
            "- ACR$C: No data found, symbol may be delisted\n",
            "- AAQC.W: No data found, symbol may be delisted\n",
            "- AAQC.U: No data found, symbol may be delisted\n",
            "- ABR$F: No data found, symbol may be delisted\n",
            "- ACHR.W: No data found, symbol may be delisted\n",
            "- ABR$D: No data found, symbol may be delisted\n",
            "- AAIC$C: No data found, symbol may be delisted\n",
            "- AAC.W: No data found, symbol may be delisted\n",
            "- AAIC$B: No data found, symbol may be delisted\n",
            "(130, 198)\n"
          ]
        }
      ]
    },
    {
      "cell_type": "code",
      "metadata": {
        "id": "yC_CnimDDjP_"
      },
      "source": [
        "def ask_user(stocks = None):\n",
        "  if(stocks != None):\n",
        "    return stocks;\n",
        "  how_many_stocks = input('How many stocks you want to analyse? \\n Enter atleast 10 and max 500 \\n')\n",
        "  correct = False\n",
        "  while not correct:\n",
        "    try:\n",
        "      how_many_stocks = int(how_many_stocks)\n",
        "      if(how_many_stocks > 500 or how_many_stocks < 10):\n",
        "        raise ValueError\n",
        "      correct = True\n",
        "    except:\n",
        "      print(\"Please enter correct number 10 to 500\")\n",
        "      how_many_stocks = input('How many stocks you want to analyse? \\n Enter atleast 10 and max 500 \\n')\n",
        "  return how_many_stocks    "
      ],
      "execution_count": 17,
      "outputs": []
    },
    {
      "cell_type": "markdown",
      "metadata": {
        "id": "h7rx9qSxD5Wi"
      },
      "source": [
        "\n",
        "\n",
        "#Calculate Market Capitalization\n"
      ]
    },
    {
      "cell_type": "code",
      "metadata": {
        "id": "pkVenRAK-TAj"
      },
      "source": [
        "ticker='JPM'\n",
        "def calc_market_capitalization(symbol):\n",
        "  symbol_data = yf.download(symbol, period='1d', progress=False)\n",
        "  if(len(symbol_data) == 0):\n",
        "    return []\n",
        "  m_dict = {}\n",
        "  m_dict['symbol']=symbol\n",
        "  m_dict['volume'] = symbol_data['Volume'][0]\n",
        "  m_dict['close'] = symbol_data['Close'][0]\n",
        "  m_dict['open'] = symbol_data['Open'][0]\n",
        "  m_dict['market_cap'] = round((symbol_data['Volume'][0] * symbol_data['Close'][0]),2)\n",
        "  return m_dict\n",
        "\n",
        "def market_capitalization(type, limit):\n",
        "  symbols =   get_nyse_ticker_list() if type == 'NYSE' else get_sp500_list()\n",
        "  m_list = []\n",
        "  if(limit > len(symbols)):\n",
        "    limit = len(symbols)\n",
        "  for symb in symbols[0:limit]:\n",
        "    tmp = calc_market_capitalization(symb)\n",
        "    if tmp:\n",
        "      m_list.append(tmp)\n",
        "  m_df = pd.DataFrame(m_list)\n",
        "  return m_df\n",
        "\n",
        "def get_top_market_stocks(type='SP500', limit=500):\n",
        "  m_df = market_capitalization(type, limit)\n",
        "  sorted = m_df.sort_values(by='market_cap', ascending=False)\n",
        "  print(sorted.head())\n"
      ],
      "execution_count": 10,
      "outputs": []
    },
    {
      "cell_type": "code",
      "metadata": {
        "id": "JxBBvknbztyr",
        "colab": {
          "base_uri": "https://localhost:8080/"
        },
        "outputId": "ccb53893-f348-486f-9ef2-51ac8c81c8b8"
      },
      "source": [
        "x=get_top_market_stocks()"
      ],
      "execution_count": 11,
      "outputs": [
        {
          "output_type": "stream",
          "name": "stdout",
          "text": [
            "\n",
            "1 Failed download:\n",
            "- BRK.B: No data found, symbol may be delisted\n",
            "\n",
            "1 Failed download:\n",
            "- BF.B: No data found for this date range, symbol may be delisted\n",
            "    symbol     volume        close         open    market_cap\n",
            "439   TSLA   21168000  1137.060059  1098.869995  2.406929e+10\n",
            "44    AAPL  117147500   160.550003   157.649994  1.880803e+10\n",
            "24    AMZN    4936700  3676.570068  3712.689941  1.815012e+10\n",
            "347   NVDA   53126300   329.850006   322.429993  1.752371e+10\n",
            "310     FB   26441000   345.299988   342.200012  9.130077e+09\n"
          ]
        }
      ]
    },
    {
      "cell_type": "markdown",
      "metadata": {
        "id": "L0egTt2ti7Iv"
      },
      "source": [
        "## Predict Top Aggressive/Conservative stocks using regressor"
      ]
    },
    {
      "cell_type": "code",
      "metadata": {
        "id": "MVuK-W6EPUAz"
      },
      "source": [
        "#Regressor\n",
        "#create feature and dependent variable for regression\n",
        "def make_X_and_Y(close_prices, period):\n",
        "  X = []\n",
        "  y = []\n",
        "  for i in range(len(close_prices)- period):\n",
        "    X.append(close_prices[i:i+period])\n",
        "    y.append(close_prices[i+period])\n",
        "  return X,y\n",
        "\n",
        "#create model with 200 n_estimators\n",
        "def return_model(X, y):\n",
        "  clf = RandomForestRegressor(n_estimators = 200)\n",
        "  clf.fit(X,y)\n",
        "  return clf\n",
        "#clean data, drop Nan\n",
        "def clean_data(data):\n",
        "    return data.dropna(how='all', axis=0)\n",
        "    \n",
        "# test train split data\n",
        "#X,y=make_X_and_Y(list(df.close))\n",
        "#train_x, test_x, train_y, test_y = train_test_split(X, y, test_size=0.15 , shuffle=False,random_state = 0)\n",
        "#Regression for predicting given stock symbol\n",
        "def predict_price(symbol, period, data=None):\n",
        "  print(\"\\rAnalysing :: \", symbol, end=\"\" )\n",
        "  if(data is None):\n",
        "    data = yf.download(symbol, period='6mo', progress=False, )\n",
        "  data = clean_data(data)\n",
        "  price = data.Close\n",
        "  features, dep_var = make_X_and_Y(list(price), period)\n",
        "  features = np.array(features)\n",
        "  dep_var = np.array(dep_var)\n",
        "  # Get Regression model\n",
        "  clf=return_model(features, dep_var) \n",
        "  \n",
        "  latest_feature = np.array(list(price)[-period:]).reshape((1,-1))\n",
        "  s_dict = {}\n",
        "  s_dict['symbol'] = symbol\n",
        "  s_dict['volatility'] = round(price.std(), 2)\n",
        "  s_dict['tomorrow'] = round(clf.predict(latest_feature)[0], 2)\n",
        "  s_dict['today'] = round(price[-1],2)\n",
        "  return s_dict\n",
        "\n",
        "def prepare_recomm(data, how_many_stocks, period):\n",
        "  if(data is None):\n",
        "    print(\"No stock data found..\")\n",
        "    return\n",
        "  stk_data = []\n",
        "  list_of_symbols = data.columns.get_level_values(0).unique().tolist()\n",
        "  if how_many_stocks > len(list_of_symbols):\n",
        "    print(\"No. of stocks set to max\")  \n",
        "    how_many_stocks = len(data)\n",
        "  for sym in list_of_symbols[0:how_many_stocks]:\n",
        "    stk_data.append(predict_price(sym, period,data[sym]))\n",
        "  print(\"\\nAnalyzed \"+str(len(stk_data)) + \" stocks..\" )\n",
        "  return pd.DataFrame(stk_data)\n",
        "\n",
        " #return aggressive or conservative recommendations \n",
        "def get_recomm(s_data, ascending):\n",
        "  cat = 'conservative' if ascending else 'aggressive'\n",
        "  print(\"Top 5 \" + cat +\" stocks are.. \")\n",
        "  tmp = s_data.sort_values(by='volatility', ascending=ascending)\n",
        "  tmp = tmp[tmp['tomorrow'] > tmp['today']]\n",
        "  return tmp.head() \n",
        "\n",
        "#Main Regressor\n",
        "def regressor(how_many_stocks = None, period = None):\n",
        "  if period == None:\n",
        "    period = 6\n",
        "  if how_many_stocks == None:\n",
        "    how_many_stocks = ask_user()\n",
        "  data_df, ticker_list = get_stock_data(type='NYSE', limit=how_many_stocks)\n",
        "  pred_df = prepare_recomm(data_df, how_many_stocks, period)\n",
        "  has_given_resp = False\n",
        "  strategy = input(\"Enter Strategy : \\n Enter 1 for Conservative\\n Enter 2 for Aggresive\\n\")\n",
        "  while not has_given_resp:\n",
        "    if strategy == '1' or strategy.lower() == 'c' or strategy.lower() == 'conservative':\n",
        "      has_given_resp = True\n",
        "      print(get_recomm(pred_df, True))\n",
        "    elif strategy == '2' or strategy.lower() == 'a' or strategy.lower() == 'aggresive':\n",
        "      has_given_resp = True\n",
        "      print(get_recomm(pred_df, False))\n",
        "    else:\n",
        "      print(\"Please enter correct number\")\n",
        "      strategy = input(\"Enter Strategy : \\n Enter 1 for Conservative\\n Enter 2 for Aggresive\\n\")"
      ],
      "execution_count": 22,
      "outputs": []
    },
    {
      "cell_type": "code",
      "metadata": {
        "id": "zYSVYU7PQIU5",
        "outputId": "ba626f51-fa3c-40b7-8423-d57da847f5a6",
        "colab": {
          "base_uri": "https://localhost:8080/"
        }
      },
      "source": [
        "regressor()"
      ],
      "execution_count": 21,
      "outputs": [
        {
          "output_type": "stream",
          "name": "stdout",
          "text": [
            "How many stocks you want to analyse? \n",
            " Enter atleast 10 and max 500 \n",
            "10\n",
            "\n",
            "Downloading 6 months historical data for stock..\n",
            "[*********************100%***********************]  10 of 10 completed\n",
            "\n",
            "4 Failed downloads:\n",
            "- AAIC$B: No data found, symbol may be delisted\n",
            "- AAIC$C: No data found, symbol may be delisted\n",
            "- AAC.W: No data found, symbol may be delisted\n",
            "- AAC.U: No data found, symbol may be delisted\n",
            "(129, 36)\n",
            "No. of stocks set to max\n",
            "Analysing ::  A\n",
            "Analyzed 6 stocks..\n",
            "Enter Strategy : \n",
            " Enter 1 for Conservative\n",
            " Enter 2 for Aggresive\n",
            "2\n",
            "Top 5 aggressive stocks are.. \n",
            "  symbol  volatility  tomorrow   today\n",
            "5      A       11.63    164.68  164.30\n",
            "3     AA        5.97     47.97   47.60\n",
            "1    AAN        3.54     25.48   25.26\n",
            "4   AAIN        0.16     25.10   25.02\n",
            "0   AAIC        0.13      3.73    3.71\n"
          ]
        }
      ]
    },
    {
      "cell_type": "code",
      "metadata": {
        "id": "mk7YGrlgXzd0",
        "outputId": "e768b3ad-f5af-4f22-f5ba-c4be337979c0",
        "colab": {
          "base_uri": "https://localhost:8080/"
        }
      },
      "source": [
        "def cl_make_X_and_Y(close_prices, period, in_future):\n",
        "  X = []\n",
        "  y = []\n",
        "  for i in range(len(close_prices)- period-in_future):\n",
        "    X.append(close_prices[i:i+period])\n",
        "    l = close_prices[i+period:i+period+in_future]\n",
        "    y.append(calculate_label(l))\n",
        "  return X,y\n",
        "\n",
        "def calculate_label(params):\n",
        "  changes = []\n",
        "  for j in range(len(params)-1):\n",
        "    changes.append(params[j+1] - params[j])\n",
        "  if changes[0] > 0 and changes[1] > changes[0] :\n",
        "    return 0  \n",
        "  if changes[0] > 0:\n",
        "    return 1;\n",
        "  elif changes[0] <= 0:\n",
        "     return -1;\n",
        "\n",
        "def get_cl_model(X, y):\n",
        "  clf = RandomForestClassifier()\n",
        "  clf.fit(X,y)\n",
        "  return clf\n",
        "\n",
        "def clean_data(data):\n",
        "    return data.dropna(how='all', axis=0)\n",
        "\n",
        "def predict_price_cls(symbol, period, in_future, data=None):\n",
        "  print(\"\\rAnalysing :: \", symbol, end=\"\" )\n",
        "  if(data is None):\n",
        "    data = yf.download(symbol, period='6mo', progress=False, )\n",
        "  data = clean_data(data)\n",
        "  price = data.Close\n",
        "  volume =data.Volume\n",
        "  features, dep_var = cl_make_X_and_Y(list(price), period, in_future)\n",
        "  features = np.array(features)\n",
        "  dep_var = np.array(dep_var)\n",
        "  print(dep_var)\n",
        "  # Get Classification model\n",
        "  clf=get_cl_model(features, dep_var) \n",
        "  \n",
        "  latest_feature = np.array(list(price)[-period:]).reshape((1,-1))\n",
        "  q=clf.predict(latest_feature)\n",
        "  s_dict = {}\n",
        "  s_dict['symbol'] = symbol\n",
        "  s_dict['volatility'] = round(price.std(), 2)\n",
        "  s_dict['tomorrow'] = q[0]\n",
        "  s_dict['today'] = round(price[-1],2)\n",
        "  s_dict['volume'] = round(volume[-1],2)\n",
        "  return s_dict\n",
        "\n",
        "predict_price_cls('PYPL', 6, 3)"
      ],
      "execution_count": 33,
      "outputs": [
        {
          "output_type": "stream",
          "name": "stdout",
          "text": [
            "\rAnalysing ::  PYPL[-1  1 -1  1 -1  1  0  1  0  1 -1 -1  1  1 -1  1  0  1 -1  1 -1 -1 -1  0\n",
            "  0  1 -1  1  1 -1 -1 -1 -1  0  0  1  0  1 -1 -1  1 -1 -1 -1  1  0  1 -1\n",
            " -1 -1  1 -1  0  1 -1 -1  0  0  1  1 -1 -1  0  1  1 -1 -1  0  1 -1  1 -1\n",
            " -1  1  0  1 -1 -1 -1  0  1 -1 -1 -1 -1  0  1 -1  1  1 -1 -1 -1  1  0  1\n",
            "  0  1  1 -1 -1 -1  1 -1 -1  1 -1 -1 -1  1 -1 -1  1 -1 -1 -1  1  1  1 -1]\n"
          ]
        },
        {
          "output_type": "execute_result",
          "data": {
            "text/plain": [
              "{'symbol': 'PYPL',\n",
              " 'today': 193.61,\n",
              " 'tomorrow': 1,\n",
              " 'volatility': 25.28,\n",
              " 'volume': 24576400}"
            ]
          },
          "metadata": {},
          "execution_count": 33
        }
      ]
    },
    {
      "cell_type": "code",
      "metadata": {
        "colab": {
          "base_uri": "https://localhost:8080/"
        },
        "id": "wpj1rq80a6OH",
        "outputId": "b7f4324a-967e-4f4c-87e6-16c7c3ca4b80"
      },
      "source": [
        "dt, tick = get_stock_data(limit=50)\n",
        "\n",
        "x,y=cl_make_X_and_Y(dt['ABBV'].Close, 6, 5)\n"
      ],
      "execution_count": 24,
      "outputs": [
        {
          "output_type": "stream",
          "name": "stdout",
          "text": [
            "\n",
            "Downloading 6 months historical data for stock..\n",
            "[*********************100%***********************]  50 of 50 completed\n",
            "(129, 300)\n"
          ]
        }
      ]
    },
    {
      "cell_type": "code",
      "metadata": {
        "id": "xtI-lgq0v14K"
      },
      "source": [
        "def get_user_selected_stocks():\n",
        "  u = input(\"Enter ticker of stocks seperated by space..\")\n",
        "  return u.split(' ');\n",
        "\n",
        "def get_user_selected_weightage(no_stocks):\n",
        "  w = input(\"Enter weightage per stocks seperated by space..\\n Eg: 80 20 \\n\")\n",
        "  resp = False\n",
        "  while not resp:\n",
        "    try:\n",
        "      proportion = w.split(' ')\n",
        "      if no_stocks != len(proportion):\n",
        "        print('Incorrect weightage')\n",
        "        raise ValueError\n",
        "      if  sum(map(int, proportion)) < 0 or sum(map(int, proportion)) > 100 :\n",
        "        print('sum of weightages are incorrect :', proportion)\n",
        "        raise ValueError\n",
        "      resp = True\n",
        "    except:\n",
        "      w = input(\"Enter weightage per stocks seperated by space..\\n Eg: 80 20 \\n\")\n",
        "  return w.split(' ');\n",
        "\n",
        "def get_user_strategy():\n",
        "  print('\\nSelect your strategy: ') \n",
        "  s= get_correct_input_from_user(\"\\t1. Market Capital Weighted\\n\\t2. Equal Weighted\\n\\t3. User defined proportion\\n\")\n",
        "  while not (s > 0 and s <=3):\n",
        "    print(\"Enter correct option 1-3\")\n",
        "    s=get_correct_input_from_user(\"\\t1. Market Capital Weighted\\n\\t2. Equal Weighted\\n\\t3. User defined proportion\\n\")\n",
        "  return s\n",
        "\n",
        "def user_selected_analysis(income):\n",
        "  selected = get_user_selected_stocks()\n",
        "  strategy = get_user_strategy()\n",
        "  market_cap = []\n",
        "  close_price = []\n",
        "  for sym in selected:\n",
        "    try:\n",
        "      current_data = yf.download(sym, period='1d', progress=False)\n",
        "      close_price.append(current_data.Close[0])\n",
        "      market_cap.append(current_data.Close[0] * current_data.Volume[0])\n",
        "    except:\n",
        "      selected.remove(sym)\n",
        "      print('Data not found for symbol :: ', sym)\n",
        "  s = sum(market_cap)\n",
        "  price = []\n",
        "  if strategy == 1:\n",
        "    print ('Calculating Market Cap Weighted portfolio')\n",
        "  elif strategy == 2:\n",
        "    print('Calculating Equal Weighted portfolio') \n",
        "  else:\n",
        "    proportion = get_user_selected_weightage(len(selected))\n",
        "    print('Calculating user defined Weighted portfolio :: ', proportion)\n",
        "    \n",
        "  port_list = []\n",
        "  for i, cap in enumerate(market_cap):\n",
        "    d = {}\n",
        "    if strategy == 3 and proportion != None:\n",
        "      weight = int(proportion[i])\n",
        "      portion = (weight/100)*income\n",
        "    elif strategy == 1:\n",
        "      portion = (income* cap)/s\n",
        "    else:\n",
        "      weight = (1/len(selected))\n",
        "      portion = weight*income\n",
        "    \n",
        "    no_stocks = math.floor(portion/close_price[i])\n",
        "    price.append(round(no_stocks * close_price[i],2))\n",
        "    d['ticker'] = selected[i]\n",
        "    d['stocks_to_purchase'] = no_stocks\n",
        "    d['price'] = round(close_price[i],2)\n",
        "    d['market_val'] = round(close_price[i] * no_stocks, 2)\n",
        "    d['planned_portion'] = str(round((portion/income) * 100, 2)) +'%'\n",
        "    d['portfoloio_portion'] = str(round((d['market_val']/income) * 100, 2)) +'%'\n",
        "    port_list.append(d)\n",
        "  c={}\n",
        "  c['ticker'] = 'CASH'\n",
        "  c['stocks_to_purchase'] = income - sum(price)\n",
        "  c['price'] = 1\n",
        "  c['market_val'] = income - sum(price)\n",
        "  c['planned_portion'] = '-'\n",
        "  c['portfoloio_portion'] = str(round((c['market_val']/income) * 100, 2)) +'%'\n",
        "  port_list.append(c)\n",
        "  #return pd.DataFrame({'ticker': selected, 'stocks_to_purchase': stocks_to_purchase, 'price': price})\n",
        "  return pd.DataFrame(port_list)\n",
        "\n",
        "#w = user_selected_analysis(10000)\n",
        "#gft = user_selected_analysis(['ABBV', 'GOOG', 'AMZN'], 10000)\n",
        "#eft = user_selected_analysis(['ABBV', 'GOOG', 'AMZN' ], 10000, 'equal')\n",
        "#uft = user_selected_analysis(['ABBV', 'GOOG', 'AMZN' ], 10000, proportion=w)\n",
        "#print(gft[['market_val', 'planned_portion', 'portfoloio_portion']])\n",
        "#print(eft[['market_val', 'planned_portion', 'portfoloio_portion']])\n",
        "#print(uft[['market_val', 'planned_portion', 'portfoloio_portion']])"
      ],
      "execution_count": 25,
      "outputs": []
    },
    {
      "cell_type": "code",
      "metadata": {
        "id": "1kcwoDzwD26-"
      },
      "source": [
        "def get_correct_input_from_user(text):\n",
        "  i = input(text)\n",
        "  resp = False\n",
        "  while not resp:\n",
        "    try:\n",
        "      a= int(i)\n",
        "      resp = True\n",
        "    except ValueError:\n",
        "      print(\"Unable to parse number. Enter correct number..\")\n",
        "      i = input(text)\n",
        "  return a\n"
      ],
      "execution_count": 26,
      "outputs": []
    },
    {
      "cell_type": "code",
      "metadata": {
        "colab": {
          "base_uri": "https://localhost:8080/"
        },
        "id": "aTdH0rhOYpsy",
        "outputId": "323266fc-78af-48c7-c70e-f0a2cad9898b"
      },
      "source": [
        "predict_price('AAIN', 6)"
      ],
      "execution_count": 27,
      "outputs": [
        {
          "output_type": "stream",
          "name": "stdout",
          "text": [
            "\rAnalysing ::  AAIN"
          ]
        },
        {
          "output_type": "execute_result",
          "data": {
            "text/plain": [
              "{'symbol': 'AAIN', 'today': 25.02, 'tomorrow': 25.09, 'volatility': 0.16}"
            ]
          },
          "metadata": {},
          "execution_count": 27
        }
      ]
    },
    {
      "cell_type": "code",
      "metadata": {
        "colab": {
          "base_uri": "https://localhost:8080/"
        },
        "id": "Opcg2R34FoRO",
        "outputId": "02a6ad68-88af-470c-b618-01b38bc95255"
      },
      "source": [
        " income = get_correct_input_from_user(\"How much money do you want to invest?  \")\n",
        "print('\\nDo you wish to add you own stocks or want ML to recommend you? ')\n",
        "user_port_option = get_correct_input_from_user(\"\\tEnter 1 for adding you own stock\\n\\tEnter 2 for ML recommendations.  \")\n",
        "if user_port_option == 1:\n",
        "  x=user_selected_analysis(income)\n",
        "  print(x[['ticker', 'stocks_to_purchase', 'planned_portion', 'price']])\n",
        "elif user_port_option ==2:\n",
        "  regressor()\n",
        "else:\n",
        "  print(\"Enter only 1 or 2, No other numbers are accepted.\")\n",
        "\n",
        "\n"
      ],
      "execution_count": 28,
      "outputs": [
        {
          "output_type": "stream",
          "name": "stdout",
          "text": [
            "How much money do you want to invest?  10000\n",
            "\n",
            "Do you wish to add you own stocks or want ML to recommend you? \n",
            "\tEnter 1 for adding you own stock\n",
            "\tEnter 2 for ML recommendations.  2\n",
            "How many stocks you want to analyse? \n",
            " Enter atleast 10 and max 500 \n",
            "25\n",
            "\n",
            "Downloading 6 months historical data for stock..\n",
            "[*********************100%***********************]  25 of 25 completed\n",
            "\n",
            "8 Failed downloads:\n",
            "- AAC.U: No data found, symbol may be delisted\n",
            "- ABR$E: No data found, symbol may be delisted\n",
            "- AAQC.U: No data found, symbol may be delisted\n",
            "- AAQC.W: No data found, symbol may be delisted\n",
            "- ABR$D: No data found, symbol may be delisted\n",
            "- AAIC$C: No data found, symbol may be delisted\n",
            "- AAC.W: No data found, symbol may be delisted\n",
            "- AAIC$B: No data found, symbol may be delisted\n",
            "(129, 102)\n",
            "No. of stocks set to max\n",
            "Analysing ::  A\n",
            "Analyzed 17 stocks..\n",
            "Enter Strategy : \n",
            " Enter 1 for Conservative\n",
            " Enter 2 for Aggresive\n",
            "2\n",
            "Top 5 aggressive stocks are.. \n",
            "   symbol  volatility  tomorrow   today\n",
            "0     ABG       14.28    164.56  162.99\n",
            "16      A       11.63    164.51  164.30\n",
            "14     AA        5.97     48.13   47.60\n",
            "9      AB        3.80     54.24   53.43\n",
            "11    ABC        3.57    120.82  120.52\n"
          ]
        }
      ]
    },
    {
      "cell_type": "code",
      "metadata": {
        "id": "UgV3i1nZitt2"
      },
      "source": [
        ""
      ],
      "execution_count": null,
      "outputs": []
    }
  ]
}