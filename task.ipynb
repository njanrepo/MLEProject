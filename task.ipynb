{
  "nbformat": 4,
  "nbformat_minor": 0,
  "metadata": {
    "colab": {
      "name": "task.ipynb",
      "provenance": [],
      "collapsed_sections": [],
      "authorship_tag": "ABX9TyNqEURAuh2sf1XDiQiW1O2r",
      "include_colab_link": true
    },
    "kernelspec": {
      "name": "python3",
      "display_name": "Python 3"
    },
    "language_info": {
      "name": "python"
    }
  },
  "cells": [
    {
      "cell_type": "markdown",
      "metadata": {
        "id": "view-in-github",
        "colab_type": "text"
      },
      "source": [
        "<a href=\"https://colab.research.google.com/github/njanrepo/MLEProject/blob/main/task.ipynb\" target=\"_parent\"><img src=\"https://colab.research.google.com/assets/colab-badge.svg\" alt=\"Open In Colab\"/></a>"
      ]
    },
    {
      "cell_type": "code",
      "metadata": {
        "id": "DGRkxerfuYly"
      },
      "source": [
        "import pandas as pd\n",
        "import numpy as np\n",
        "import matplotlib.pyplot as plt\n",
        "import seaborn as sns\n",
        "from datetime import datetime\n",
        "from sklearn.ensemble import ExtraTreesRegressor, RandomForestRegressor\n",
        "from sklearn.tree import DecisionTreeRegressor\n"
      ],
      "execution_count": 186,
      "outputs": []
    },
    {
      "cell_type": "code",
      "metadata": {
        "colab": {
          "base_uri": "https://localhost:8080/"
        },
        "id": "QSqoVWOmFKqY",
        "outputId": "aea58c2e-54eb-45ee-c59b-8cf85157ca6b"
      },
      "source": [
        "!pip install yfinance"
      ],
      "execution_count": 2,
      "outputs": [
        {
          "output_type": "stream",
          "name": "stdout",
          "text": [
            "Collecting yfinance\n",
            "  Downloading yfinance-0.1.64.tar.gz (26 kB)\n",
            "Requirement already satisfied: pandas>=0.24 in /usr/local/lib/python3.7/dist-packages (from yfinance) (1.1.5)\n",
            "Requirement already satisfied: numpy>=1.15 in /usr/local/lib/python3.7/dist-packages (from yfinance) (1.19.5)\n",
            "Requirement already satisfied: requests>=2.20 in /usr/local/lib/python3.7/dist-packages (from yfinance) (2.23.0)\n",
            "Requirement already satisfied: multitasking>=0.0.7 in /usr/local/lib/python3.7/dist-packages (from yfinance) (0.0.9)\n",
            "Collecting lxml>=4.5.1\n",
            "  Downloading lxml-4.6.4-cp37-cp37m-manylinux_2_17_x86_64.manylinux2014_x86_64.manylinux_2_24_x86_64.whl (6.3 MB)\n",
            "\u001b[K     |████████████████████████████████| 6.3 MB 7.5 MB/s \n",
            "\u001b[?25hRequirement already satisfied: python-dateutil>=2.7.3 in /usr/local/lib/python3.7/dist-packages (from pandas>=0.24->yfinance) (2.8.2)\n",
            "Requirement already satisfied: pytz>=2017.2 in /usr/local/lib/python3.7/dist-packages (from pandas>=0.24->yfinance) (2018.9)\n",
            "Requirement already satisfied: six>=1.5 in /usr/local/lib/python3.7/dist-packages (from python-dateutil>=2.7.3->pandas>=0.24->yfinance) (1.15.0)\n",
            "Requirement already satisfied: chardet<4,>=3.0.2 in /usr/local/lib/python3.7/dist-packages (from requests>=2.20->yfinance) (3.0.4)\n",
            "Requirement already satisfied: certifi>=2017.4.17 in /usr/local/lib/python3.7/dist-packages (from requests>=2.20->yfinance) (2021.10.8)\n",
            "Requirement already satisfied: idna<3,>=2.5 in /usr/local/lib/python3.7/dist-packages (from requests>=2.20->yfinance) (2.10)\n",
            "Requirement already satisfied: urllib3!=1.25.0,!=1.25.1,<1.26,>=1.21.1 in /usr/local/lib/python3.7/dist-packages (from requests>=2.20->yfinance) (1.24.3)\n",
            "Building wheels for collected packages: yfinance\n",
            "  Building wheel for yfinance (setup.py) ... \u001b[?25l\u001b[?25hdone\n",
            "  Created wheel for yfinance: filename=yfinance-0.1.64-py2.py3-none-any.whl size=24109 sha256=e3031929274ba09dd539adb2158de70bd976d2ed65b8927dce60acf65c6dd898\n",
            "  Stored in directory: /root/.cache/pip/wheels/86/fe/9b/a4d3d78796b699e37065e5b6c27b75cff448ddb8b24943c288\n",
            "Successfully built yfinance\n",
            "Installing collected packages: lxml, yfinance\n",
            "  Attempting uninstall: lxml\n",
            "    Found existing installation: lxml 4.2.6\n",
            "    Uninstalling lxml-4.2.6:\n",
            "      Successfully uninstalled lxml-4.2.6\n",
            "Successfully installed lxml-4.6.4 yfinance-0.1.64\n"
          ]
        }
      ]
    },
    {
      "cell_type": "code",
      "metadata": {
        "id": "u6OqPzxZulv5"
      },
      "source": [
        "import yfinance as yf"
      ],
      "execution_count": 3,
      "outputs": []
    },
    {
      "cell_type": "markdown",
      "metadata": {
        "id": "uxT1Ud6uB7nh"
      },
      "source": [
        "#Get data\n"
      ]
    },
    {
      "cell_type": "code",
      "metadata": {
        "colab": {
          "base_uri": "https://localhost:8080/"
        },
        "id": "8-L6Yhhryv_E",
        "outputId": "0261ae5a-2ac8-459e-b0cd-8b8690baea60"
      },
      "source": [
        "def get_nyse_ticker_list():\n",
        "  others_list = 'ftp://ftp.nasdaqtrader.com/symboldirectory/otherlisted.txt'\n",
        "  ticker_df = pd.read_csv(others_list, sep='|')\n",
        "  company_nyse = ticker_df[ticker_df['Exchange'] == 'N']\n",
        "  return company_nyse['ACT Symbol'].values.tolist()\n",
        "\n",
        "s=get_nyse_ticker_list()\n",
        "len(s)"
      ],
      "execution_count": 170,
      "outputs": [
        {
          "output_type": "execute_result",
          "data": {
            "text/plain": [
              "3642"
            ]
          },
          "metadata": {},
          "execution_count": 170
        }
      ]
    },
    {
      "cell_type": "code",
      "metadata": {
        "id": "XQahVk7m-R4q"
      },
      "source": [
        "def get_sp500_list():\n",
        "  payload=pd.read_html('https://en.wikipedia.org/wiki/List_of_S%26P_500_companies')\n",
        "  first_table = payload[0]\n",
        "  sp500df = first_table\n",
        "  sp500_list = sp500df.Symbol.values.tolist()\n",
        "  return sp500_list"
      ],
      "execution_count": 5,
      "outputs": []
    },
    {
      "cell_type": "markdown",
      "metadata": {
        "id": "h7rx9qSxD5Wi"
      },
      "source": [
        "\n",
        "\n",
        "#Calculate Market Capitalization\n"
      ]
    },
    {
      "cell_type": "code",
      "metadata": {
        "colab": {
          "base_uri": "https://localhost:8080/"
        },
        "id": "pkVenRAK-TAj",
        "outputId": "872fe531-6d94-465c-fa58-73f31bd8b312"
      },
      "source": [
        "#wrong, it is just volum, not total outstanding shares\n",
        "ticker='JPM'\n",
        "def calc_market_capitalization(symbol):\n",
        "  symbol_data = yf.download(symbol, period='1d')\n",
        "  print(symbol_data)\n",
        "  return round((symbol_data['Volume'][0] * symbol_data['Close'][0]),2)\n",
        "print(calc_market_capitalization(ticker))"
      ],
      "execution_count": 28,
      "outputs": [
        {
          "output_type": "stream",
          "name": "stdout",
          "text": [
            "\r[*********************100%***********************]  1 of 1 completed\n",
            "                  Open        High         Low       Close   Adj Close   Volume\n",
            "Date                                                                           \n",
            "2021-11-11  167.520004  168.679993  166.899994  167.610001  167.610001  5811400\n",
            "974048757.55\n"
          ]
        }
      ]
    },
    {
      "cell_type": "code",
      "metadata": {
        "id": "251m8p-A-Tu5"
      },
      "source": [
        "# get Ticker info to get marcket cap\n",
        "sp_list = get_sp500_list()\n",
        "s_info = []\n",
        "i =0\n",
        "for t in sp_list:\n",
        "  print(t)\n",
        "  i +=1\n",
        "  print(i)\n",
        "  inn = yf.Ticker(t).info\n",
        "  s_info.append(inn)"
      ],
      "execution_count": null,
      "outputs": []
    },
    {
      "cell_type": "code",
      "metadata": {
        "id": "ZiKOHG5Wu-sG"
      },
      "source": [
        "sp_df = pd.DataFrame(s_info)"
      ],
      "execution_count": 171,
      "outputs": []
    },
    {
      "cell_type": "code",
      "metadata": {
        "colab": {
          "base_uri": "https://localhost:8080/",
          "height": 419
        },
        "id": "afJBuocmr6po",
        "outputId": "173dc77d-c77a-4f7b-dee0-2537cd5284a3"
      },
      "source": [
        "sp_df[['symbol', 'currentPrice']]"
      ],
      "execution_count": 184,
      "outputs": [
        {
          "output_type": "execute_result",
          "data": {
            "text/html": [
              "<div>\n",
              "<style scoped>\n",
              "    .dataframe tbody tr th:only-of-type {\n",
              "        vertical-align: middle;\n",
              "    }\n",
              "\n",
              "    .dataframe tbody tr th {\n",
              "        vertical-align: top;\n",
              "    }\n",
              "\n",
              "    .dataframe thead th {\n",
              "        text-align: right;\n",
              "    }\n",
              "</style>\n",
              "<table border=\"1\" class=\"dataframe\">\n",
              "  <thead>\n",
              "    <tr style=\"text-align: right;\">\n",
              "      <th></th>\n",
              "      <th>symbol</th>\n",
              "      <th>currentPrice</th>\n",
              "    </tr>\n",
              "  </thead>\n",
              "  <tbody>\n",
              "    <tr>\n",
              "      <th>0</th>\n",
              "      <td>MMM</td>\n",
              "      <td>184.650</td>\n",
              "    </tr>\n",
              "    <tr>\n",
              "      <th>1</th>\n",
              "      <td>ABT</td>\n",
              "      <td>127.465</td>\n",
              "    </tr>\n",
              "    <tr>\n",
              "      <th>2</th>\n",
              "      <td>ABBV</td>\n",
              "      <td>116.585</td>\n",
              "    </tr>\n",
              "    <tr>\n",
              "      <th>3</th>\n",
              "      <td>ABMD</td>\n",
              "      <td>361.480</td>\n",
              "    </tr>\n",
              "    <tr>\n",
              "      <th>4</th>\n",
              "      <td>ACN</td>\n",
              "      <td>367.580</td>\n",
              "    </tr>\n",
              "    <tr>\n",
              "      <th>...</th>\n",
              "      <td>...</td>\n",
              "      <td>...</td>\n",
              "    </tr>\n",
              "    <tr>\n",
              "      <th>500</th>\n",
              "      <td>YUM</td>\n",
              "      <td>125.030</td>\n",
              "    </tr>\n",
              "    <tr>\n",
              "      <th>501</th>\n",
              "      <td>ZBRA</td>\n",
              "      <td>589.785</td>\n",
              "    </tr>\n",
              "    <tr>\n",
              "      <th>502</th>\n",
              "      <td>ZBH</td>\n",
              "      <td>132.210</td>\n",
              "    </tr>\n",
              "    <tr>\n",
              "      <th>503</th>\n",
              "      <td>ZION</td>\n",
              "      <td>65.600</td>\n",
              "    </tr>\n",
              "    <tr>\n",
              "      <th>504</th>\n",
              "      <td>ZTS</td>\n",
              "      <td>217.510</td>\n",
              "    </tr>\n",
              "  </tbody>\n",
              "</table>\n",
              "<p>505 rows × 2 columns</p>\n",
              "</div>"
            ],
            "text/plain": [
              "    symbol  currentPrice\n",
              "0      MMM       184.650\n",
              "1      ABT       127.465\n",
              "2     ABBV       116.585\n",
              "3     ABMD       361.480\n",
              "4      ACN       367.580\n",
              "..     ...           ...\n",
              "500    YUM       125.030\n",
              "501   ZBRA       589.785\n",
              "502    ZBH       132.210\n",
              "503   ZION        65.600\n",
              "504    ZTS       217.510\n",
              "\n",
              "[505 rows x 2 columns]"
            ]
          },
          "metadata": {},
          "execution_count": 184
        }
      ]
    },
    {
      "cell_type": "code",
      "metadata": {
        "colab": {
          "base_uri": "https://localhost:8080/"
        },
        "id": "RalV9uCvpYFb",
        "outputId": "ab1d8f03-6a36-432f-9d6b-8c5f2606c3e5"
      },
      "source": [
        "for s in sp_df.columns:\n",
        "  print(s if 'price' in s.lower() else 'no')"
      ],
      "execution_count": 182,
      "outputs": [
        {
          "output_type": "stream",
          "name": "stdout",
          "text": [
            "no\n",
            "no\n",
            "no\n",
            "no\n",
            "no\n",
            "no\n",
            "no\n",
            "no\n",
            "no\n",
            "no\n",
            "no\n",
            "no\n",
            "no\n",
            "no\n",
            "no\n",
            "no\n",
            "no\n",
            "no\n",
            "no\n",
            "no\n",
            "targetLowPrice\n",
            "no\n",
            "no\n",
            "no\n",
            "targetMedianPrice\n",
            "currentPrice\n",
            "no\n",
            "no\n",
            "no\n",
            "no\n",
            "targetMeanPrice\n",
            "no\n",
            "no\n",
            "targetHighPrice\n",
            "no\n",
            "no\n",
            "no\n",
            "no\n",
            "no\n",
            "no\n",
            "no\n",
            "no\n",
            "no\n",
            "no\n",
            "no\n",
            "no\n",
            "no\n",
            "no\n",
            "no\n",
            "no\n",
            "no\n",
            "no\n",
            "no\n",
            "no\n",
            "no\n",
            "no\n",
            "no\n",
            "no\n",
            "no\n",
            "no\n",
            "no\n",
            "no\n",
            "no\n",
            "no\n",
            "no\n",
            "no\n",
            "no\n",
            "no\n",
            "no\n",
            "no\n",
            "no\n",
            "no\n",
            "no\n",
            "no\n",
            "no\n",
            "no\n",
            "no\n",
            "no\n",
            "no\n",
            "priceToBook\n",
            "no\n",
            "no\n",
            "no\n",
            "no\n",
            "no\n",
            "no\n",
            "no\n",
            "no\n",
            "no\n",
            "priceHint\n",
            "no\n",
            "no\n",
            "no\n",
            "no\n",
            "no\n",
            "no\n",
            "priceToSalesTrailing12Months\n",
            "no\n",
            "no\n",
            "no\n",
            "no\n",
            "no\n",
            "no\n",
            "no\n",
            "no\n",
            "no\n",
            "no\n",
            "no\n",
            "no\n",
            "no\n",
            "no\n",
            "no\n",
            "no\n",
            "navPrice\n",
            "no\n",
            "no\n",
            "no\n",
            "no\n",
            "no\n",
            "no\n",
            "no\n",
            "no\n",
            "no\n",
            "no\n",
            "no\n",
            "no\n",
            "no\n",
            "no\n",
            "no\n",
            "no\n",
            "no\n",
            "no\n",
            "no\n",
            "no\n",
            "no\n",
            "strikePrice\n",
            "no\n",
            "no\n",
            "no\n",
            "no\n",
            "no\n",
            "no\n",
            "no\n",
            "no\n",
            "no\n",
            "no\n",
            "no\n",
            "no\n",
            "no\n",
            "no\n",
            "regularMarketPrice\n",
            "preMarketPrice\n",
            "no\n",
            "no\n",
            "no\n",
            "no\n",
            "no\n",
            "no\n",
            "no\n",
            "no\n",
            "no\n",
            "postMarketPrice\n",
            "no\n",
            "no\n",
            "no\n",
            "no\n",
            "no\n",
            "no\n",
            "no\n",
            "no\n"
          ]
        }
      ]
    },
    {
      "cell_type": "code",
      "metadata": {
        "id": "yC_CnimDDjP_"
      },
      "source": [
        "def ask_user(stocks = None):\n",
        "  if(stocks != None):\n",
        "    return stocks;\n",
        "  how_many_stocks = input('How many stocks you want to analyse? \\n Enter atleast 10 and max 500 \\n')\n",
        "  correct = False\n",
        "  while not correct:\n",
        "    try:\n",
        "      how_many_stocks = int(how_many_stocks)\n",
        "      if(how_many_stocks > 500 or how_many_stocks < 10):\n",
        "        raise ValueError\n",
        "      correct = True\n",
        "    except:\n",
        "      print(\"Please enter correct number 10 to 500\")\n",
        "      how_many_stocks = input('How many stocks you want to analyse? \\n Enter atleast 10 and max 500 \\n')\n",
        "  return how_many_stocks    "
      ],
      "execution_count": 85,
      "outputs": []
    },
    {
      "cell_type": "code",
      "metadata": {
        "id": "zYSVYU7PQIU5"
      },
      "source": [
        "def make_X_and_Y(close_prices, period):\n",
        "  X = []\n",
        "  y = []\n",
        "  for i in range(len(close_prices)- period):\n",
        "    X.append(close_prices[i:i+period])\n",
        "    y.append(close_prices[i+period])\n",
        "  return X,y"
      ],
      "execution_count": 153,
      "outputs": []
    },
    {
      "cell_type": "code",
      "metadata": {
        "id": "WCjnAAKwQTV5"
      },
      "source": [
        "def return_model(X, y):\n",
        "  clf = DecisionTreeRegressor()\n",
        "  clf.fit(X,y)\n",
        "  return clf"
      ],
      "execution_count": 187,
      "outputs": []
    },
    {
      "cell_type": "code",
      "metadata": {
        "id": "9Ff-hIqgYNX9"
      },
      "source": [
        "def predict_price(symbol, period):\n",
        "  print(\"Analysing :: \", symbol )\n",
        "  data = yf.download(symbol, period='6mo', progress=False)\n",
        "  price = data.Close\n",
        "  features, dep_var = make_X_and_Y(list(price), period)\n",
        "  features = np.array(features)\n",
        "  dep_var = np.array(dep_var)\n",
        "  clf=return_model(features, dep_var)\n",
        "  latest_feature = np.array(list(price)[-period:]).reshape((1,-1))\n",
        "  s_dict = {}\n",
        "  s_dict['symbol'] = symbol\n",
        "  s_dict['volatility'] = round(price.std(), 2)\n",
        "  s_dict['tomorrow'] = round(clf.predict(latest_feature)[0], 2)\n",
        "  s_dict['today'] = round(price[-1],2)\n",
        "  return s_dict"
      ],
      "execution_count": 200,
      "outputs": []
    },
    {
      "cell_type": "code",
      "metadata": {
        "colab": {
          "base_uri": "https://localhost:8080/"
        },
        "id": "aTdH0rhOYpsy",
        "outputId": "ee13c66c-1eed-408e-c48e-bc6125f9c60f"
      },
      "source": [
        "predict_price('MMM', 4)"
      ],
      "execution_count": 199,
      "outputs": [
        {
          "output_type": "stream",
          "name": "stdout",
          "text": [
            "Analysing ::  MMM\n",
            "[*********************100%***********************]  1 of 1 completed\n"
          ]
        },
        {
          "output_type": "execute_result",
          "data": {
            "text/plain": [
              "{'symbol': 'MMM', 'today': 183.46, 'tomorrow': 181.54, 'volatility': 9.49}"
            ]
          },
          "metadata": {},
          "execution_count": 199
        }
      ]
    },
    {
      "cell_type": "code",
      "metadata": {
        "id": "eBUunW3bHhCZ"
      },
      "source": [
        "def prepare_recomm(how_many_stocks = None, period = None):\n",
        "  list_of_symbols = get_sp500_list()\n",
        "  symbols_not_found = ['BRK.B', 'BF.B']\n",
        "  if period == None:\n",
        "    period = 6\n",
        "  stk_data = []\n",
        "  if how_many_stocks == None:\n",
        "    how_many_stocks = ask_user()\n",
        "  for sym in list_of_symbols[0:how_many_stocks]:\n",
        "    if sym not in symbols_not_found:\n",
        "      stk_data.append(predict_price(sym, period))\n",
        "  return pd.DataFrame(stk_data)\n"
      ],
      "execution_count": 165,
      "outputs": []
    },
    {
      "cell_type": "code",
      "metadata": {
        "id": "suiYThGFFkIN"
      },
      "source": [
        "def get_recomm(s_data, ascending):\n",
        "  cat = 'conservative' if ascending else 'aggressive'\n",
        "  print(\"Top 5 \" + cat +\" stocks are.. \")\n",
        "  tmp = s_data.sort_values(by='volatility', ascending=ascending)\n",
        "  tmp = tmp[tmp['tomorrow'] > tmp['today']]\n",
        "  return tmp.head()  "
      ],
      "execution_count": 167,
      "outputs": []
    },
    {
      "cell_type": "code",
      "metadata": {
        "colab": {
          "base_uri": "https://localhost:8080/"
        },
        "id": "Opcg2R34FoRO",
        "outputId": "813c78d5-9287-4e3e-eb91-76ec3b5c2a6a"
      },
      "source": [
        "has_given_resp = False\n",
        "pred_df = prepare_recomm(10, 6)\n",
        "strategy = input(\"Enter Strategy : \\n Enter 1 for Conservative\\n Enter 2 for Aggresive\\n\")\n",
        "while not has_given_resp:\n",
        "  if strategy == '1' or strategy.lower() == 'c' or strategy.lower() == 'conservative':\n",
        "    has_given_resp = True\n",
        "    print(get_recomm(pred_df, True))\n",
        "  elif strategy == '2' or strategy.lower() == 'a' or strategy.lower() == 'aggresive':\n",
        "    has_given_resp = True\n",
        "    print(get_recomm(pred_df, False))\n",
        "  else:\n",
        "    print(\"Please enter correct number\")\n",
        "    strategy = input(\"Enter Strategy : \\n Enter 1 for Conservative\\n Enter 2 for Aggresive\\n\")\n"
      ],
      "execution_count": 201,
      "outputs": [
        {
          "output_type": "stream",
          "name": "stdout",
          "text": [
            "Analysing ::  MMM\n",
            "Analysing ::  ABT\n",
            "Analysing ::  ABBV\n",
            "Analysing ::  ABMD\n",
            "Analysing ::  ACN\n",
            "Analysing ::  ATVI\n",
            "Analysing ::  ADBE\n",
            "Analysing ::  AMD\n",
            "Analysing ::  AAP\n",
            "Analysing ::  AES\n",
            "Enter Strategy : \n",
            " Enter 1 for Conservative\n",
            " Enter 2 for Aggresive\n",
            "2\n",
            "Top 5 aggressive stocks are.. \n",
            "  symbol  volatility  tomorrow   today\n",
            "6   ADBE       55.41    663.22  655.90\n",
            "1    ABT        5.94    128.89  128.48\n",
            "2   ABBV        3.96    117.63  116.80\n"
          ]
        }
      ]
    },
    {
      "cell_type": "code",
      "metadata": {
        "id": "UgV3i1nZitt2"
      },
      "source": [
        ""
      ],
      "execution_count": null,
      "outputs": []
    }
  ]
}