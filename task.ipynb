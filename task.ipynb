{
  "nbformat": 4,
  "nbformat_minor": 0,
  "metadata": {
    "colab": {
      "name": "task.ipynb",
      "provenance": [],
      "collapsed_sections": [],
      "authorship_tag": "ABX9TyOj4mYtdXiCEQYa54K2Camq",
      "include_colab_link": true
    },
    "kernelspec": {
      "name": "python3",
      "display_name": "Python 3"
    },
    "language_info": {
      "name": "python"
    }
  },
  "cells": [
    {
      "cell_type": "markdown",
      "metadata": {
        "id": "view-in-github",
        "colab_type": "text"
      },
      "source": [
        "<a href=\"https://colab.research.google.com/github/njanrepo/MLEProject/blob/main/task.ipynb\" target=\"_parent\"><img src=\"https://colab.research.google.com/assets/colab-badge.svg\" alt=\"Open In Colab\"/></a>"
      ]
    },
    {
      "cell_type": "code",
      "metadata": {
        "id": "DGRkxerfuYly"
      },
      "source": [
        "import pandas as pd\n",
        "import numpy as np\n",
        "import matplotlib.pyplot as plt\n",
        "import seaborn as sns\n",
        "from datetime import datetime\n",
        "from sklearn.model_selection import train_test_split\n",
        "\n",
        "from sklearn.ensemble import ExtraTreesRegressor, RandomForestRegressor\n",
        "from sklearn.tree import DecisionTreeRegressor\n",
        "import math"
      ],
      "execution_count": 5,
      "outputs": []
    },
    {
      "cell_type": "code",
      "metadata": {
        "colab": {
          "base_uri": "https://localhost:8080/"
        },
        "id": "QSqoVWOmFKqY",
        "outputId": "e0c7c9de-b71e-45b4-91b2-fe251dcf12dd"
      },
      "source": [
        "!pip install yfinance"
      ],
      "execution_count": 6,
      "outputs": [
        {
          "output_type": "stream",
          "name": "stdout",
          "text": [
            "Collecting yfinance\n",
            "  Downloading yfinance-0.1.66-py2.py3-none-any.whl (25 kB)\n",
            "Requirement already satisfied: numpy>=1.15 in /usr/local/lib/python3.7/dist-packages (from yfinance) (1.19.5)\n",
            "Requirement already satisfied: pandas>=0.24 in /usr/local/lib/python3.7/dist-packages (from yfinance) (1.1.5)\n",
            "Requirement already satisfied: multitasking>=0.0.7 in /usr/local/lib/python3.7/dist-packages (from yfinance) (0.0.9)\n",
            "Requirement already satisfied: requests>=2.20 in /usr/local/lib/python3.7/dist-packages (from yfinance) (2.23.0)\n",
            "Collecting lxml>=4.5.1\n",
            "  Downloading lxml-4.6.4-cp37-cp37m-manylinux_2_17_x86_64.manylinux2014_x86_64.manylinux_2_24_x86_64.whl (6.3 MB)\n",
            "\u001b[K     |████████████████████████████████| 6.3 MB 7.7 MB/s \n",
            "\u001b[?25hRequirement already satisfied: python-dateutil>=2.7.3 in /usr/local/lib/python3.7/dist-packages (from pandas>=0.24->yfinance) (2.8.2)\n",
            "Requirement already satisfied: pytz>=2017.2 in /usr/local/lib/python3.7/dist-packages (from pandas>=0.24->yfinance) (2018.9)\n",
            "Requirement already satisfied: six>=1.5 in /usr/local/lib/python3.7/dist-packages (from python-dateutil>=2.7.3->pandas>=0.24->yfinance) (1.15.0)\n",
            "Requirement already satisfied: urllib3!=1.25.0,!=1.25.1,<1.26,>=1.21.1 in /usr/local/lib/python3.7/dist-packages (from requests>=2.20->yfinance) (1.24.3)\n",
            "Requirement already satisfied: chardet<4,>=3.0.2 in /usr/local/lib/python3.7/dist-packages (from requests>=2.20->yfinance) (3.0.4)\n",
            "Requirement already satisfied: certifi>=2017.4.17 in /usr/local/lib/python3.7/dist-packages (from requests>=2.20->yfinance) (2021.10.8)\n",
            "Requirement already satisfied: idna<3,>=2.5 in /usr/local/lib/python3.7/dist-packages (from requests>=2.20->yfinance) (2.10)\n",
            "Installing collected packages: lxml, yfinance\n",
            "  Attempting uninstall: lxml\n",
            "    Found existing installation: lxml 4.2.6\n",
            "    Uninstalling lxml-4.2.6:\n",
            "      Successfully uninstalled lxml-4.2.6\n",
            "Successfully installed lxml-4.6.4 yfinance-0.1.66\n"
          ]
        }
      ]
    },
    {
      "cell_type": "code",
      "metadata": {
        "id": "u6OqPzxZulv5"
      },
      "source": [
        "import yfinance as yf"
      ],
      "execution_count": 7,
      "outputs": []
    },
    {
      "cell_type": "markdown",
      "metadata": {
        "id": "uxT1Ud6uB7nh"
      },
      "source": [
        "### Task1 :: Get companies"
      ]
    },
    {
      "cell_type": "code",
      "metadata": {
        "id": "8-L6Yhhryv_E"
      },
      "source": [
        "def get_nyse_ticker_list():\n",
        "  others_list = 'ftp://ftp.nasdaqtrader.com/symboldirectory/otherlisted.txt'\n",
        "  ticker_df = pd.read_csv(others_list, sep='|')\n",
        "  company_nyse = ticker_df[ticker_df['Exchange'] == 'N']\n",
        "  return company_nyse['ACT Symbol'].values.tolist()"
      ],
      "execution_count": 8,
      "outputs": []
    },
    {
      "cell_type": "code",
      "metadata": {
        "id": "XQahVk7m-R4q"
      },
      "source": [
        "def get_sp500_list():\n",
        "  payload=pd.read_html('https://en.wikipedia.org/wiki/List_of_S%26P_500_companies')\n",
        "  first_table = payload[0]\n",
        "  sp500df = first_table\n",
        "  sp500_list = sp500df.Symbol.values.tolist()\n",
        "  return sp500_list"
      ],
      "execution_count": 9,
      "outputs": []
    },
    {
      "cell_type": "code",
      "metadata": {
        "id": "rZ8r4LEm0zdg"
      },
      "source": [
        "def get_stock_data(type='S&P500', limit=100):\n",
        "  print(\"\\nDownloading 6 months historical data for stock..\")\n",
        "  ticker_list = get_nyse_ticker_list() if type == 'NYSE' else get_sp500_list()\n",
        "  if(limit > len(ticker_list)):\n",
        "    limit = len(ticker_list)\n",
        "  ticker_data  = yf.download(ticker_list[0:limit], period='6mo', progress=True, group_by='symbol')\n",
        "  #try:\n",
        "   # ticker_data.drop('BF.B', axis=1, inplace=True)\n",
        "    #ticker_data.drop('BRK.B', axis=1, inplace=True)\n",
        "  #except:\n",
        "   # print(\"its fine!!\")\n",
        "  ticker_data.dropna(how='all', axis=1, inplace=True)\n",
        "  \n",
        "  print(ticker_data.shape)\n",
        "  #my_new_df = test_transposed.reset_index().dropna().set_index(old_idx)\n",
        "  #new_dataset = my_new_df.T\n",
        "  ticks = ticker_data.columns.get_level_values(0).unique().tolist()\n",
        "  return (ticker_data, ticks)"
      ],
      "execution_count": 10,
      "outputs": []
    },
    {
      "cell_type": "code",
      "metadata": {
        "id": "XHkg4VH31SzV",
        "colab": {
          "base_uri": "https://localhost:8080/"
        },
        "outputId": "2021b727-8906-4783-9285-de584cbde027"
      },
      "source": [
        "x= get_stock_data(type='NYSE', limit=50)"
      ],
      "execution_count": 11,
      "outputs": [
        {
          "output_type": "stream",
          "name": "stdout",
          "text": [
            "\n",
            "Downloading 6 months historical data for stock..\n",
            "[*********************100%***********************]  50 of 50 completed\n",
            "\n",
            "17 Failed downloads:\n",
            "- ACR$C: No data found, symbol may be delisted\n",
            "- AAIC$B: No data found, symbol may be delisted\n",
            "- ABR$E: No data found, symbol may be delisted\n",
            "- ACR$D: No data found, symbol may be delisted\n",
            "- ABR$F: No data found, symbol may be delisted\n",
            "- AAQC.U: No data found, symbol may be delisted\n",
            "- ACDI.U: No data found, symbol may be delisted\n",
            "- ACII.U: No data found, symbol may be delisted\n",
            "- ACAQ.U: No data found, symbol may be delisted\n",
            "- AAC.U: No data found, symbol may be delisted\n",
            "- AAIC$C: No data found, symbol may be delisted\n",
            "- ABR$D: No data found, symbol may be delisted\n",
            "- AAQC.W: No data found, symbol may be delisted\n",
            "- ACP$A: No data found, symbol may be delisted\n",
            "- ACII.W: No data found, symbol may be delisted\n",
            "- ACHR.W: No data found, symbol may be delisted\n",
            "- AAC.W: No data found, symbol may be delisted\n",
            "(129, 198)\n"
          ]
        }
      ]
    },
    {
      "cell_type": "code",
      "metadata": {
        "id": "0svoEShN1aaS",
        "colab": {
          "base_uri": "https://localhost:8080/"
        },
        "outputId": "98a793e7-ed9d-4838-dced-c02de4d32616"
      },
      "source": [
        "x.index"
      ],
      "execution_count": 12,
      "outputs": [
        {
          "output_type": "execute_result",
          "data": {
            "text/plain": [
              "<function tuple.index>"
            ]
          },
          "metadata": {},
          "execution_count": 12
        }
      ]
    },
    {
      "cell_type": "code",
      "metadata": {
        "id": "hAMIHUBhyru0",
        "colab": {
          "base_uri": "https://localhost:8080/"
        },
        "outputId": "34197f1e-37aa-416f-8feb-9764cc7fd53c"
      },
      "source": [
        "x"
      ],
      "execution_count": 13,
      "outputs": [
        {
          "output_type": "execute_result",
          "data": {
            "text/plain": [
              "(            ABEV                      ...    ACH                         \n",
              "             Open  High     Low Close  ...    Low  Close Adj Close  Volume\n",
              " Date                                  ...                                \n",
              " 2021-05-18  3.34  3.38  3.3100  3.33  ...  14.68  14.74     14.74   98900\n",
              " 2021-05-19  3.33  3.37  3.3100  3.35  ...  14.17  14.25     14.25  181800\n",
              " 2021-05-20  3.34  3.37  3.3100  3.35  ...  13.85  13.94     13.94  142400\n",
              " 2021-05-21  3.35  3.35  3.2500  3.30  ...  14.06  14.16     14.16  189800\n",
              " 2021-05-24  3.32  3.35  3.3000  3.33  ...  13.69  13.89     13.89  186400\n",
              " ...          ...   ...     ...   ...  ...    ...    ...       ...     ...\n",
              " 2021-11-11  3.22  3.27  3.1900  3.19  ...  13.58  14.04     14.04  311300\n",
              " 2021-11-12  3.22  3.23  3.1200  3.14  ...  13.54  13.72     13.72  208700\n",
              " 2021-11-15  3.15  3.19  3.1300  3.14  ...  13.20  13.27     13.27  150600\n",
              " 2021-11-16  3.14  3.18  3.1200  3.12  ...  12.90  12.91     12.91  107100\n",
              " 2021-11-17  3.13  3.15  3.0948  3.13  ...  12.78  12.94     12.94  198770\n",
              " \n",
              " [129 rows x 198 columns],\n",
              " ['ABEV',\n",
              "  'ABB',\n",
              "  'A',\n",
              "  'AAT',\n",
              "  'ABBV',\n",
              "  'AC',\n",
              "  'ABR',\n",
              "  'ACII',\n",
              "  'AAIC',\n",
              "  'AAN',\n",
              "  'ACN',\n",
              "  'ABG',\n",
              "  'AAP',\n",
              "  'ACEL',\n",
              "  'AA',\n",
              "  'ACRE',\n",
              "  'ACM',\n",
              "  'AAC',\n",
              "  'AAQC',\n",
              "  'ACRO',\n",
              "  'ABT',\n",
              "  'ACCO',\n",
              "  'ACR',\n",
              "  'ACI',\n",
              "  'ABM',\n",
              "  'AB',\n",
              "  'AAIN',\n",
              "  'ACC',\n",
              "  'ACP',\n",
              "  'ABC',\n",
              "  'ACHR',\n",
              "  'ACA',\n",
              "  'ACH'])"
            ]
          },
          "metadata": {},
          "execution_count": 13
        }
      ]
    },
    {
      "cell_type": "markdown",
      "metadata": {
        "id": "h7rx9qSxD5Wi"
      },
      "source": [
        "\n",
        "\n",
        "#Calculate Market Capitalization\n"
      ]
    },
    {
      "cell_type": "code",
      "metadata": {
        "colab": {
          "base_uri": "https://localhost:8080/"
        },
        "id": "pkVenRAK-TAj",
        "outputId": "7b3f4a16-23b1-40b4-9391-43608857af1a"
      },
      "source": [
        "#wrong, it is just volum, not total outstanding shares\n",
        "ticker='JPM'\n",
        "def calc_market_capitalization(symbol):\n",
        "  symbol_data = yf.download(symbol, period='1d')\n",
        "  print(symbol_data)\n",
        "  return round((symbol_data['Volume'][0] * symbol_data['Close'][0]),2)\n",
        "print(calc_market_capitalization(ticker))"
      ],
      "execution_count": 14,
      "outputs": [
        {
          "output_type": "stream",
          "name": "stdout",
          "text": [
            "\r[*********************100%***********************]  1 of 1 completed\n",
            "                  Open        High         Low       Close   Adj Close   Volume\n",
            "Date                                                                           \n",
            "2021-11-17  165.210007  165.559998  163.389999  164.470001  164.470001  8605619\n",
            "1415366167.43\n"
          ]
        }
      ]
    },
    {
      "cell_type": "code",
      "metadata": {
        "id": "yC_CnimDDjP_"
      },
      "source": [
        "def ask_user(stocks = None):\n",
        "  if(stocks != None):\n",
        "    return stocks;\n",
        "  how_many_stocks = input('How many stocks you want to analyse? \\n Enter atleast 10 and max 500 \\n')\n",
        "  correct = False\n",
        "  while not correct:\n",
        "    try:\n",
        "      how_many_stocks = int(how_many_stocks)\n",
        "      if(how_many_stocks > 500 or how_many_stocks < 10):\n",
        "        raise ValueError\n",
        "      correct = True\n",
        "    except:\n",
        "      print(\"Please enter correct number 10 to 500\")\n",
        "      how_many_stocks = input('How many stocks you want to analyse? \\n Enter atleast 10 and max 500 \\n')\n",
        "  return how_many_stocks    "
      ],
      "execution_count": 15,
      "outputs": []
    },
    {
      "cell_type": "code",
      "metadata": {
        "id": "zYSVYU7PQIU5"
      },
      "source": [
        ""
      ],
      "execution_count": 15,
      "outputs": []
    },
    {
      "cell_type": "code",
      "metadata": {
        "id": "mk7YGrlgXzd0"
      },
      "source": [
        "def cl_make_X_and_Y(close_prices, period, in_future):\n",
        "  X = []\n",
        "  y = []\n",
        "  for i in range(len(close_prices)- period-in_future):\n",
        "    X.append(close_prices[i:i+period])\n",
        "    l = close_prices[i+period:i+period+in_future]\n",
        "    y.append(calculate_label(l))\n",
        "  return X,y\n",
        "\n",
        "def calculate_label(params):\n",
        "  changes = []\n",
        "  for j in range(len(params)-1):\n",
        "    changes.append(params[j+1] - params[j])\n",
        "  tot = sum(changes)\n",
        "  if tot > 0:\n",
        "    return 1;\n",
        "  elif tot < 0:\n",
        "     return -1;\n",
        "  else:\n",
        "     return 0;\n"
      ],
      "execution_count": 16,
      "outputs": []
    },
    {
      "cell_type": "code",
      "metadata": {
        "colab": {
          "base_uri": "https://localhost:8080/"
        },
        "id": "wpj1rq80a6OH",
        "outputId": "babff622-053e-4573-cd48-0f077952f04f"
      },
      "source": [
        "dt, tick = get_stock_data(limit=50)\n",
        "\n",
        "x,y=cl_make_X_and_Y(dt['ABBV'].Close, 6, 5)\n"
      ],
      "execution_count": 17,
      "outputs": [
        {
          "output_type": "stream",
          "name": "stdout",
          "text": [
            "\n",
            "Downloading 6 months historical data for stock..\n",
            "[*********************100%***********************]  50 of 50 completed\n",
            "(129, 300)\n"
          ]
        }
      ]
    },
    {
      "cell_type": "code",
      "metadata": {
        "id": "xtI-lgq0v14K"
      },
      "source": [
        "def get_user_selected_stocks():\n",
        "  u = input(\"Enter ticker of stocks seperated by space..\")\n",
        "  return u.split(' ');\n",
        "\n",
        "def get_user_selected_weightage(no_stocks):\n",
        "  w = input(\"Enter weightage per stocks seperated by space..\\n Eg: 80 20 \\n\")\n",
        "  resp = False\n",
        "  while not resp:\n",
        "    try:\n",
        "      proportion = w.split(' ')\n",
        "      if no_stocks != len(proportion):\n",
        "        print('Incorrect weightage')\n",
        "        raise ValueError\n",
        "      if  sum(map(int, proportion)) < 0 or sum(map(int, proportion)) > 100 :\n",
        "        print('sum of weightages are incorrect :', proportion)\n",
        "        raise ValueError\n",
        "      resp = True\n",
        "    except:\n",
        "      w = input(\"Enter weightage per stocks seperated by space..\\n Eg: 80 20 \\n\")\n",
        "  return w.split(' ');\n",
        "\n",
        "def get_user_strategy():\n",
        "  print('\\nSelect your strategy: ') \n",
        "  s= get_correct_input_from_user(\"\\t1. Market Capital Weighted\\n\\t2. Equal Weighted\\n\\t3. User defined proportion\\n\")\n",
        "  while not (s > 0 and s <=3):\n",
        "    print(\"Enter correct option 1-3\")\n",
        "    s=get_correct_input_from_user(\"\\t1. Market Capital Weighted\\n\\t2. Equal Weighted\\n\\t3. User defined proportion\\n\")\n",
        "  return s\n",
        "\n",
        "def user_selected_analysis(income):\n",
        "  selected = get_user_selected_stocks()\n",
        "  strategy = get_user_strategy()\n",
        "  market_cap = []\n",
        "  close_price = []\n",
        "  for sym in selected:\n",
        "    try:\n",
        "      current_data = yf.download(sym, period='1d', progress=False)\n",
        "      close_price.append(current_data.Close[0])\n",
        "      market_cap.append(current_data.Close[0] * current_data.Volume[0])\n",
        "    except:\n",
        "      selected.remove(sym)\n",
        "      print('Data not found for symbol :: ', sym)\n",
        "  s = sum(market_cap)\n",
        "  price = []\n",
        "  if strategy == 1:\n",
        "    print ('Calculating Market Cap Weighted portfolio')\n",
        "  elif strategy == 2:\n",
        "    print('Calculating Equal Weighted portfolio') \n",
        "  else:\n",
        "    proportion = get_user_selected_weightage(len(selected))\n",
        "    print('Calculating user defined Weighted portfolio :: ', proportion)\n",
        "    \n",
        "  port_list = []\n",
        "  for i, cap in enumerate(market_cap):\n",
        "    d = {}\n",
        "    if strategy == 3 and proportion != None:\n",
        "      weight = int(proportion[i])\n",
        "      portion = (weight/100)*income\n",
        "    elif strategy == 1:\n",
        "      portion = (income* cap)/s\n",
        "    else:\n",
        "      weight = (1/len(selected))\n",
        "      portion = weight*income\n",
        "    \n",
        "    no_stocks = math.floor(portion/close_price[i])\n",
        "    price.append(round(no_stocks * close_price[i],2))\n",
        "    d['ticker'] = selected[i]\n",
        "    d['stocks_to_purchase'] = no_stocks\n",
        "    d['price'] = round(close_price[i],2)\n",
        "    d['market_val'] = round(close_price[i] * no_stocks, 2)\n",
        "    d['planned_portion'] = str(round((portion/income) * 100, 2)) +'%'\n",
        "    d['portfoloio_portion'] = str(round((d['market_val']/income) * 100, 2)) +'%'\n",
        "    port_list.append(d)\n",
        "  c={}\n",
        "  c['ticker'] = 'CASH'\n",
        "  c['stocks_to_purchase'] = income - sum(price)\n",
        "  c['price'] = 1\n",
        "  c['market_val'] = income - sum(price)\n",
        "  c['planned_portion'] = '-'\n",
        "  c['portfoloio_portion'] = str(round((c['market_val']/income) * 100, 2)) +'%'\n",
        "  port_list.append(c)\n",
        "  #return pd.DataFrame({'ticker': selected, 'stocks_to_purchase': stocks_to_purchase, 'price': price})\n",
        "  return pd.DataFrame(port_list)\n",
        "\n",
        "#w = user_selected_analysis(10000)\n",
        "#gft = user_selected_analysis(['ABBV', 'GOOG', 'AMZN'], 10000)\n",
        "#eft = user_selected_analysis(['ABBV', 'GOOG', 'AMZN' ], 10000, 'equal')\n",
        "#uft = user_selected_analysis(['ABBV', 'GOOG', 'AMZN' ], 10000, proportion=w)\n",
        "#print(gft[['market_val', 'planned_portion', 'portfoloio_portion']])\n",
        "#print(eft[['market_val', 'planned_portion', 'portfoloio_portion']])\n",
        "#print(uft[['market_val', 'planned_portion', 'portfoloio_portion']])"
      ],
      "execution_count": 18,
      "outputs": []
    },
    {
      "cell_type": "code",
      "metadata": {
        "id": "1kcwoDzwD26-"
      },
      "source": [
        "def get_correct_input_from_user(text):\n",
        "  i = input(text)\n",
        "  resp = False\n",
        "  while not resp:\n",
        "    try:\n",
        "      a= int(i)\n",
        "      resp = True\n",
        "    except ValueError:\n",
        "      print(\"Unable to parse number. Enter correct number..\")\n",
        "      i = input(text)\n",
        "  return a\n"
      ],
      "execution_count": 19,
      "outputs": []
    },
    {
      "cell_type": "code",
      "metadata": {
        "id": "9Ff-hIqgYNX9"
      },
      "source": [
        "#create feature and dependent variable for regression\n",
        "def make_X_and_Y(close_prices, period):\n",
        "  X = []\n",
        "  y = []\n",
        "  for i in range(len(close_prices)- period):\n",
        "    X.append(close_prices[i:i+period])\n",
        "    y.append(close_prices[i+period])\n",
        "  return X,y\n",
        "\n",
        "def return_model(X, y):\n",
        "  clf = RandomForestRegressor(n_estimators = 200)\n",
        "  clf.fit(X,y)\n",
        "  return clf\n",
        "\n",
        "def clean_data(data):\n",
        "    return data.dropna(how='all', axis=0)\n",
        "    \n",
        "# test train split data\n",
        "#X,y=make_X_and_Y(list(df.close))\n",
        "#train_x, test_x, train_y, test_y = train_test_split(X, y, test_size=0.15 , shuffle=False,random_state = 0)\n",
        "#Regression for predicting given stock symbol\n",
        "def predict_price(symbol, period, data=None):\n",
        "  print(\"\\rAnalysing :: \", symbol, end=\"\" )\n",
        "  if(data is None):\n",
        "    data = yf.download(symbol, period='6mo', progress=False, )\n",
        "  data = clean_data(data)\n",
        "  price = data.Close\n",
        "  features, dep_var = make_X_and_Y(list(price), period)\n",
        "  features = np.array(features)\n",
        "  dep_var = np.array(dep_var)\n",
        "  # Get Regression model\n",
        "  clf=return_model(features, dep_var) \n",
        "  \n",
        "  latest_feature = np.array(list(price)[-period:]).reshape((1,-1))\n",
        "  s_dict = {}\n",
        "  s_dict['symbol'] = symbol\n",
        "  s_dict['volatility'] = round(price.std(), 2)\n",
        "  s_dict['tomorrow'] = round(clf.predict(latest_feature)[0], 2)\n",
        "  s_dict['today'] = round(price[-1],2)\n",
        "  return s_dict"
      ],
      "execution_count": 22,
      "outputs": []
    },
    {
      "cell_type": "code",
      "metadata": {
        "colab": {
          "base_uri": "https://localhost:8080/"
        },
        "id": "aTdH0rhOYpsy",
        "outputId": "2f607894-808f-432f-c01f-527e7780661c"
      },
      "source": [
        "predict_price('AAIN', 6)"
      ],
      "execution_count": 23,
      "outputs": [
        {
          "output_type": "stream",
          "name": "stdout",
          "text": [
            "\rAnalysing ::  AAIN"
          ]
        },
        {
          "output_type": "execute_result",
          "data": {
            "text/plain": [
              "{'symbol': 'AAIN', 'today': 24.96, 'tomorrow': 25.0, 'volatility': 0.16}"
            ]
          },
          "metadata": {},
          "execution_count": 23
        }
      ]
    },
    {
      "cell_type": "code",
      "metadata": {
        "id": "MVuK-W6EPUAz"
      },
      "source": [
        "#Regressor\n",
        "def prepare_recomm(data, how_many_stocks = None, period = None):\n",
        "  if(data is None):\n",
        "    print(\"No stock data found..\")\n",
        "    return\n",
        "  list_of_symbols = data.columns.get_level_values(0).unique().tolist()\n",
        "  if period == None:\n",
        "    period = 6\n",
        "  stk_data = []\n",
        "  if how_many_stocks == None:\n",
        "    how_many_stocks = ask_user()\n",
        "  if how_many_stocks > len(list_of_symbols):\n",
        "    print(\"No. of stocks set to max\")  \n",
        "    how_many_stocks = len(data)\n",
        "  for sym in list_of_symbols[0:how_many_stocks]:\n",
        "    stk_data.append(predict_price(sym, period,data[sym]))\n",
        "  print(\"\\nAnalyzed \"+str(len(stk_data)) + \" stocks..\" )\n",
        "  return pd.DataFrame(stk_data)\n",
        "\n",
        " #return aggressive or conservative recommendations \n",
        "def get_recomm(s_data, ascending):\n",
        "  cat = 'conservative' if ascending else 'aggressive'\n",
        "  print(\"Top 5 \" + cat +\" stocks are.. \")\n",
        "  tmp = s_data.sort_values(by='volatility', ascending=ascending)\n",
        "  tmp = tmp[tmp['tomorrow'] > tmp['today']]\n",
        "  return tmp.head() \n",
        "\n",
        "#Main Regressor\n",
        "def regressor():\n",
        "  data_df, ticker_list = get_stock_data(type='NYSE', limit=50)\n",
        "  pred_df = prepare_recomm(data_df, 500, 6)\n",
        "  has_given_resp = False\n",
        "  strategy = input(\"Enter Strategy : \\n Enter 1 for Conservative\\n Enter 2 for Aggresive\\n\")\n",
        "  while not has_given_resp:\n",
        "    if strategy == '1' or strategy.lower() == 'c' or strategy.lower() == 'conservative':\n",
        "      has_given_resp = True\n",
        "      print(get_recomm(pred_df, True))\n",
        "    elif strategy == '2' or strategy.lower() == 'a' or strategy.lower() == 'aggresive':\n",
        "      has_given_resp = True\n",
        "      print(get_recomm(pred_df, False))\n",
        "    else:\n",
        "      print(\"Please enter correct number\")\n",
        "      strategy = input(\"Enter Strategy : \\n Enter 1 for Conservative\\n Enter 2 for Aggresive\\n\")"
      ],
      "execution_count": 25,
      "outputs": []
    },
    {
      "cell_type": "code",
      "metadata": {
        "colab": {
          "base_uri": "https://localhost:8080/"
        },
        "id": "Opcg2R34FoRO",
        "outputId": "6c799e42-abde-420b-e597-eadbce396f51"
      },
      "source": [
        " income = get_correct_input_from_user(\"How much money do you want to invest?  \")\n",
        "print('\\nDo you wish to add you own stocks or want ML to recommend you? ')\n",
        "user_port_option = get_correct_input_from_user(\"\\tEnter 1 for adding you own stock\\n\\tEnter 2 for ML recommendations.  \")\n",
        "if user_port_option == 1:\n",
        "  x=user_selected_analysis(income)\n",
        "  print(x[['ticker', 'stocks_to_purchase', 'planned_portion', 'price']])\n",
        "elif user_port_option ==2:\n",
        "  regressor()\n",
        "else:\n",
        "  print(\"Enter only 1 or 2, No other numbers are accepted.\")\n",
        "\n",
        "\n"
      ],
      "execution_count": 26,
      "outputs": [
        {
          "output_type": "stream",
          "name": "stdout",
          "text": [
            "How much money do you want to invest?  10000\n",
            "\n",
            "Do you wish to add you own stocks or want ML to recommend you? \n",
            "\tEnter 1 for adding you own stock\n",
            "\tEnter 2 for ML recommendations.  2\n",
            "\n",
            "Downloading 6 months historical data for stock..\n",
            "[*********************100%***********************]  50 of 50 completed\n",
            "\n",
            "17 Failed downloads:\n",
            "- ACR$C: No data found, symbol may be delisted\n",
            "- AAIC$B: No data found, symbol may be delisted\n",
            "- ABR$E: No data found, symbol may be delisted\n",
            "- ACR$D: No data found, symbol may be delisted\n",
            "- ABR$F: No data found, symbol may be delisted\n",
            "- AAQC.U: No data found, symbol may be delisted\n",
            "- ACDI.U: No data found, symbol may be delisted\n",
            "- ACII.U: No data found, symbol may be delisted\n",
            "- ACAQ.U: No data found, symbol may be delisted\n",
            "- AAC.U: No data found, symbol may be delisted\n",
            "- AAIC$C: No data found, symbol may be delisted\n",
            "- ABR$D: No data found, symbol may be delisted\n",
            "- AAQC.W: No data found, symbol may be delisted\n",
            "- ACP$A: No data found, symbol may be delisted\n",
            "- ACII.W: No data found, symbol may be delisted\n",
            "- ACHR.W: No data found, symbol may be delisted\n",
            "- AAC.W: No data found, symbol may be delisted\n",
            "(129, 198)\n",
            "No. of stocks set to max\n",
            "Analysing ::  ACH\n",
            "Analyzed 33 stocks..\n",
            "Enter Strategy : \n",
            " Enter 1 for Conservative\n",
            " Enter 2 for Aggresive\n",
            "2\n",
            "Top 5 aggressive stocks are.. \n",
            "   symbol  volatility  tomorrow   today\n",
            "20    ABT        6.11    128.68  128.62\n",
            "14     AA        5.98     48.23   47.92\n",
            "25     AB        3.84     56.19   55.22\n",
            "9     AAN        3.54     25.42   25.08\n",
            "16    ACM        2.75     72.62   72.46\n"
          ]
        }
      ]
    },
    {
      "cell_type": "code",
      "metadata": {
        "id": "UgV3i1nZitt2"
      },
      "source": [
        ""
      ],
      "execution_count": null,
      "outputs": []
    }
  ]
}