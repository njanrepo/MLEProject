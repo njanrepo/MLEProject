{
  "nbformat": 4,
  "nbformat_minor": 0,
  "metadata": {
    "colab": {
      "name": "task.ipynb",
      "provenance": [],
      "collapsed_sections": [],
      "authorship_tag": "ABX9TyNO51/yg1ikxtD84oUphgko",
      "include_colab_link": true
    },
    "kernelspec": {
      "name": "python3",
      "display_name": "Python 3"
    },
    "language_info": {
      "name": "python"
    }
  },
  "cells": [
    {
      "cell_type": "markdown",
      "metadata": {
        "id": "view-in-github",
        "colab_type": "text"
      },
      "source": [
        "<a href=\"https://colab.research.google.com/github/njanrepo/MLEProject/blob/main/task.ipynb\" target=\"_parent\"><img src=\"https://colab.research.google.com/assets/colab-badge.svg\" alt=\"Open In Colab\"/></a>"
      ]
    },
    {
      "cell_type": "code",
      "metadata": {
        "id": "DGRkxerfuYly"
      },
      "source": [
        "import pandas as pd\n",
        "import numpy as np\n",
        "import matplotlib.pyplot as plt\n",
        "import seaborn as sns\n",
        "from datetime import datetime\n",
        "from sklearn.model_selection import train_test_split\n",
        "\n",
        "from sklearn.ensemble import ExtraTreesRegressor, RandomForestRegressor, RandomForestClassifier\n",
        "from sklearn.tree import DecisionTreeRegressor, DecisionTreeClassifier\n",
        "import math"
      ],
      "execution_count": 1,
      "outputs": []
    },
    {
      "cell_type": "code",
      "metadata": {
        "colab": {
          "base_uri": "https://localhost:8080/"
        },
        "id": "QSqoVWOmFKqY",
        "outputId": "f64f7363-3726-49b6-eccf-a1cd8f9a3947"
      },
      "source": [
        "!pip install yfinance"
      ],
      "execution_count": 2,
      "outputs": [
        {
          "output_type": "stream",
          "name": "stdout",
          "text": [
            "Collecting yfinance\n",
            "  Downloading yfinance-0.1.67-py2.py3-none-any.whl (25 kB)\n",
            "Collecting lxml>=4.5.1\n",
            "  Downloading lxml-4.6.4-cp37-cp37m-manylinux_2_17_x86_64.manylinux2014_x86_64.manylinux_2_24_x86_64.whl (6.3 MB)\n",
            "\u001b[K     |████████████████████████████████| 6.3 MB 6.3 MB/s \n",
            "\u001b[?25hRequirement already satisfied: pandas>=0.24 in /usr/local/lib/python3.7/dist-packages (from yfinance) (1.1.5)\n",
            "Requirement already satisfied: requests>=2.20 in /usr/local/lib/python3.7/dist-packages (from yfinance) (2.23.0)\n",
            "Requirement already satisfied: multitasking>=0.0.7 in /usr/local/lib/python3.7/dist-packages (from yfinance) (0.0.10)\n",
            "Requirement already satisfied: numpy>=1.15 in /usr/local/lib/python3.7/dist-packages (from yfinance) (1.19.5)\n",
            "Requirement already satisfied: pytz>=2017.2 in /usr/local/lib/python3.7/dist-packages (from pandas>=0.24->yfinance) (2018.9)\n",
            "Requirement already satisfied: python-dateutil>=2.7.3 in /usr/local/lib/python3.7/dist-packages (from pandas>=0.24->yfinance) (2.8.2)\n",
            "Requirement already satisfied: six>=1.5 in /usr/local/lib/python3.7/dist-packages (from python-dateutil>=2.7.3->pandas>=0.24->yfinance) (1.15.0)\n",
            "Requirement already satisfied: urllib3!=1.25.0,!=1.25.1,<1.26,>=1.21.1 in /usr/local/lib/python3.7/dist-packages (from requests>=2.20->yfinance) (1.24.3)\n",
            "Requirement already satisfied: idna<3,>=2.5 in /usr/local/lib/python3.7/dist-packages (from requests>=2.20->yfinance) (2.10)\n",
            "Requirement already satisfied: chardet<4,>=3.0.2 in /usr/local/lib/python3.7/dist-packages (from requests>=2.20->yfinance) (3.0.4)\n",
            "Requirement already satisfied: certifi>=2017.4.17 in /usr/local/lib/python3.7/dist-packages (from requests>=2.20->yfinance) (2021.10.8)\n",
            "Installing collected packages: lxml, yfinance\n",
            "  Attempting uninstall: lxml\n",
            "    Found existing installation: lxml 4.2.6\n",
            "    Uninstalling lxml-4.2.6:\n",
            "      Successfully uninstalled lxml-4.2.6\n",
            "Successfully installed lxml-4.6.4 yfinance-0.1.67\n"
          ]
        }
      ]
    },
    {
      "cell_type": "code",
      "metadata": {
        "id": "u6OqPzxZulv5"
      },
      "source": [
        "import yfinance as yf"
      ],
      "execution_count": 3,
      "outputs": []
    },
    {
      "cell_type": "markdown",
      "metadata": {
        "id": "uxT1Ud6uB7nh"
      },
      "source": [
        "### Get companies"
      ]
    },
    {
      "cell_type": "code",
      "metadata": {
        "id": "8-L6Yhhryv_E"
      },
      "source": [
        "def get_nyse_ticker_list():\n",
        "  return load_nyse_csv()\n",
        "  \n",
        "def get_nyse_ticker_list_int():\n",
        "  others_list = 'ftp://ftp.nasdaqtrader.com/symboldirectory/otherlisted.txt'\n",
        "  ticker_df = pd.read_csv(others_list, sep='|')\n",
        "  company_nyse = ticker_df[ticker_df['Exchange'] == 'N']\n",
        "  return company_nyse['ACT Symbol'].values.tolist()\n",
        "\n",
        "def get_sp500_list():\n",
        "  payload=pd.read_html('https://en.wikipedia.org/wiki/List_of_S%26P_500_companies')\n",
        "  first_table = payload[0]\n",
        "  sp500df = first_table\n",
        "  sp500_list = sp500df.Symbol.values.tolist()\n",
        "  return sp500_list\n",
        "\n",
        "def load_nyse_csv():\n",
        "  ticker_df = pd.read_csv('NYSE_SYMBOLS.csv')\n",
        "  return ticker_df['Symbol'].values.tolist()\n",
        "\n",
        "def load_sp500_csv():\n",
        "  ticker_df = pd.read_csv('constituents_csv.csv')\n",
        "  return ticker_df['Symbol'].values.tolist()"
      ],
      "execution_count": 4,
      "outputs": []
    },
    {
      "cell_type": "markdown",
      "metadata": {
        "id": "0UD_Z5SXzfRo"
      },
      "source": [
        "### Get historical data"
      ]
    },
    {
      "cell_type": "code",
      "metadata": {
        "id": "rZ8r4LEm0zdg"
      },
      "source": [
        "def get_stock_data(type='SP500', limit=100):\n",
        "  print(\"\\nDownloading 6 months historical data for stock..\")\n",
        "  ticker_list = get_nyse_ticker_list() if type == 'NYSE' else load_sp500_csv()\n",
        "  if(limit > len(ticker_list)):\n",
        "    limit = len(ticker_list)\n",
        "  ticker_data  = yf.download(ticker_list[0:limit], period='6mo', progress=False, group_by='symbol')\n",
        "  #try:\n",
        "   # ticker_data.drop('BF.B', axis=1, inplace=True)\n",
        "    #ticker_data.drop('BRK.B', axis=1, inplace=True)\n",
        "  #except:\n",
        "   # print(\"its fine!!\")\n",
        "  ticker_data.dropna(how='all', axis=1, inplace=True)\n",
        "  \n",
        "  print(ticker_data.shape)\n",
        "  #my_new_df = test_transposed.reset_index().dropna().set_index(old_idx)\n",
        "  #new_dataset = my_new_df.T\n",
        "  ticks = ticker_data.columns.get_level_values(0).unique().tolist()\n",
        "  return (ticker_data, ticks)"
      ],
      "execution_count": 5,
      "outputs": []
    },
    {
      "cell_type": "code",
      "metadata": {
        "id": "XHkg4VH31SzV",
        "colab": {
          "base_uri": "https://localhost:8080/"
        },
        "outputId": "3f39ab04-e350-485a-89c5-a7491e5e7396"
      },
      "source": [
        "x= get_stock_data(type='NYSE', limit=5)"
      ],
      "execution_count": 7,
      "outputs": [
        {
          "output_type": "stream",
          "name": "stdout",
          "text": [
            "\n",
            "Downloading 6 months historical data for stock..\n",
            "(128, 30)\n"
          ]
        }
      ]
    },
    {
      "cell_type": "code",
      "metadata": {
        "id": "yC_CnimDDjP_"
      },
      "source": [
        "def ask_user(stocks = None):\n",
        "  if(stocks != None):\n",
        "    return stocks;\n",
        "  how_many_stocks = input('How many stocks you want to analyse? \\n Enter atleast 10 and max 500 \\n')\n",
        "  correct = False\n",
        "  while not correct:\n",
        "    try:\n",
        "      how_many_stocks = int(how_many_stocks)\n",
        "      if(how_many_stocks > 500 or how_many_stocks < 10):\n",
        "        raise ValueError\n",
        "      correct = True\n",
        "    except:\n",
        "      print(\"Please enter correct number 10 to 500\")\n",
        "      how_many_stocks = input('How many stocks you want to analyse? \\n Enter atleast 10 and max 500 \\n')\n",
        "  return how_many_stocks    "
      ],
      "execution_count": 6,
      "outputs": []
    },
    {
      "cell_type": "markdown",
      "metadata": {
        "id": "h7rx9qSxD5Wi"
      },
      "source": [
        "\n",
        "\n",
        "#Calculate Market Capitalization\n"
      ]
    },
    {
      "cell_type": "code",
      "metadata": {
        "id": "pkVenRAK-TAj"
      },
      "source": [
        "ticker='JPM'\n",
        "def calc_market_capitalization(symbol):\n",
        "  symbol_data = yf.download(symbol, period='1d', progress=True)\n",
        "  if(len(symbol_data) == 0):\n",
        "    return []\n",
        "  m_dict = {}\n",
        "  m_dict['symbol']=symbol\n",
        "  m_dict['volume'] = symbol_data['Volume'][0]\n",
        "  m_dict['close'] = symbol_data['Close'][0]\n",
        "  m_dict['open'] = symbol_data['Open'][0]\n",
        "  m_dict['market_cap'] = round((symbol_data['Volume'][0] * symbol_data['Close'][0]),2)\n",
        "  return m_dict\n",
        "\n",
        "def market_capitalization(type, limit):\n",
        "  symbols =   get_nyse_ticker_list() if type == 'NYSE' else get_sp500_list()\n",
        "  m_list = []\n",
        "  if(limit > len(symbols)):\n",
        "    limit = len(symbols)\n",
        "  for symb in symbols[0:limit]:\n",
        "    tmp = calc_market_capitalization(symb)\n",
        "    if tmp:\n",
        "      m_list.append(tmp)\n",
        "  m_df = pd.DataFrame(m_list)\n",
        "  return m_df\n",
        "\n",
        "def get_top_market_stocks(type='SP500', limit=500):\n",
        "  m_df = market_capitalization(type, limit)\n",
        "  sorted = m_df.sort_values(by='market_cap', ascending=False)\n",
        "  print(sorted.head())\n"
      ],
      "execution_count": 7,
      "outputs": []
    },
    {
      "cell_type": "code",
      "metadata": {
        "id": "JxBBvknbztyr",
        "colab": {
          "base_uri": "https://localhost:8080/"
        },
        "outputId": "9c00dcab-53ff-4380-99b1-50b6d9499a79"
      },
      "source": [
        "x=calc_market_capitalization('TSLA')"
      ],
      "execution_count": 9,
      "outputs": [
        {
          "output_type": "stream",
          "name": "stdout",
          "text": [
            "\r[*********************100%***********************]  1 of 1 completed\n"
          ]
        }
      ]
    },
    {
      "cell_type": "markdown",
      "metadata": {
        "id": "L0egTt2ti7Iv"
      },
      "source": [
        "## Predict Top Aggressive/Conservative stocks using regressor"
      ]
    },
    {
      "cell_type": "code",
      "metadata": {
        "id": "MVuK-W6EPUAz"
      },
      "source": [
        "#Regressor\n",
        "#create feature and dependent variable for regression\n",
        "def make_X_and_Y(close_prices, period):\n",
        "  X = []\n",
        "  y = []\n",
        "  for i in range(len(close_prices)- period):\n",
        "    X.append(close_prices[i:i+period])\n",
        "    y.append(close_prices[i+period])\n",
        "  return X,y\n",
        "\n",
        "#create model with 200 n_estimators\n",
        "def return_model(X, y):\n",
        "  clf = RandomForestRegressor(n_estimators = 200)\n",
        "  clf.fit(X,y)\n",
        "  return clf\n",
        "#clean data, drop Nan\n",
        "def clean_data(data):\n",
        "    return data.dropna(how='all', axis=0)\n",
        "    \n",
        "# test train split data\n",
        "#X,y=make_X_and_Y(list(df.close))\n",
        "#train_x, test_x, train_y, test_y = train_test_split(X, y, test_size=0.15 , shuffle=False,random_state = 0)\n",
        "#Regression for predicting given stock symbol\n",
        "def predict_price(symbol, period, data=None):\n",
        "  print(\"\\rAnalysing :: \", symbol, end=\"\" )\n",
        "  if(data is None):\n",
        "    data = yf.download(symbol, period='6mo', progress=False, )\n",
        "  data = clean_data(data)\n",
        "  price = data.Close\n",
        "  features, dep_var = make_X_and_Y(list(price), period)\n",
        "  features = np.array(features)\n",
        "  dep_var = np.array(dep_var)\n",
        "  # Get Regression model\n",
        "  clf=return_model(features, dep_var) \n",
        "  \n",
        "  latest_feature = np.array(list(price)[-period:]).reshape((1,-1))\n",
        "  s_dict = {}\n",
        "  s_dict['symbol'] = symbol\n",
        "  s_dict['volatility'] = round(price.std(), 2)\n",
        "  s_dict['tomorrow'] = round(clf.predict(latest_feature)[0], 2)\n",
        "  s_dict['today'] = round(price[-1],2)\n",
        "  return s_dict\n",
        "\n",
        "def prepare_recomm(data, how_many_stocks, period):\n",
        "  if(data is None):\n",
        "    print(\"No stock data found..\")\n",
        "    return\n",
        "  stk_data = []\n",
        "  list_of_symbols = data.columns.get_level_values(0).unique().tolist()\n",
        "  if how_many_stocks > len(list_of_symbols):\n",
        "    print(\"No. of stocks set to max\")  \n",
        "    how_many_stocks = len(data)\n",
        "  for sym in list_of_symbols[0:how_many_stocks]:\n",
        "    stk_data.append(predict_price(sym, period,data[sym]))\n",
        "  print(\"\\nAnalyzed \"+str(len(stk_data)) + \" stocks..\" )\n",
        "  return pd.DataFrame(stk_data)\n",
        "\n",
        " #return aggressive or conservative recommendations \n",
        "def get_recomm(s_data, ascending):\n",
        "  cat = 'conservative' if ascending else 'aggressive'\n",
        "  print(\"Top 5 \" + cat +\" stocks are.. \")\n",
        "  tmp = s_data.sort_values(by='volatility', ascending=ascending)\n",
        "  tmp = tmp[tmp['tomorrow'] > tmp['today']]\n",
        "  return tmp.head() \n",
        "\n",
        "#Main Regressor\n",
        "def regressor(how_many_stocks = None, period = None):\n",
        "  if period == None:\n",
        "    period = 6\n",
        "  if how_many_stocks == None:\n",
        "    how_many_stocks = ask_user()\n",
        "  data_df, ticker_list = get_stock_data(type='NYSE', limit=how_many_stocks)\n",
        "  pred_df = prepare_recomm(data_df, how_many_stocks, period)\n",
        "  has_given_resp = False\n",
        "  strategy = input(\"Enter Strategy : \\n Enter 1 for Conservative\\n Enter 2 for Aggresive\\n\")\n",
        "  while not has_given_resp:\n",
        "    if strategy == '1' or strategy.lower() == 'c' or strategy.lower() == 'conservative':\n",
        "      has_given_resp = True\n",
        "      print(get_recomm(pred_df, True))\n",
        "    elif strategy == '2' or strategy.lower() == 'a' or strategy.lower() == 'aggresive':\n",
        "      has_given_resp = True\n",
        "      print(get_recomm(pred_df, False))\n",
        "    else:\n",
        "      print(\"Please enter correct number\")\n",
        "      strategy = input(\"Enter Strategy : \\n Enter 1 for Conservative\\n Enter 2 for Aggresive\\n\")"
      ],
      "execution_count": 10,
      "outputs": []
    },
    {
      "cell_type": "code",
      "metadata": {
        "id": "zYSVYU7PQIU5",
        "colab": {
          "base_uri": "https://localhost:8080/"
        },
        "outputId": "1c1302c3-23be-4d1e-dfde-aa08e3770bb3"
      },
      "source": [
        "regressor()"
      ],
      "execution_count": 15,
      "outputs": [
        {
          "output_type": "stream",
          "name": "stdout",
          "text": [
            "How many stocks you want to analyse? \n",
            " Enter atleast 10 and max 500 \n",
            "10\n",
            "\n",
            "Downloading 6 months historical data for stock..\n",
            "(128, 60)\n",
            "Analysing ::  HSC\n",
            "Analyzed 10 stocks..\n",
            "Enter Strategy : \n",
            " Enter 1 for Conservative\n",
            " Enter 2 for Aggresive\n",
            "1\n",
            "Top 5 conservative stocks are.. \n",
            "  symbol  volatility  tomorrow  today\n",
            "1    RZA        0.39     25.78  25.75\n",
            "2    AHH        0.62     14.24  14.22\n",
            "6   CANO        1.56      9.25   8.45\n",
            "8   BRDG        1.81     20.40  19.99\n",
            "0    TNL        3.62     50.89  49.42\n"
          ]
        }
      ]
    },
    {
      "cell_type": "markdown",
      "metadata": {
        "id": "E4OrLFghNlmC"
      },
      "source": [
        "## classification"
      ]
    },
    {
      "cell_type": "code",
      "metadata": {
        "id": "mk7YGrlgXzd0"
      },
      "source": [
        "def cl_make_X_and_Y(close_prices, period, in_future):\n",
        "  X = []\n",
        "  y = []\n",
        "  for i in range(len(close_prices)- period-in_future):\n",
        "    X.append(close_prices[i:i+period])\n",
        "    l = close_prices[i+period:i+period+in_future]\n",
        "    y.append(calculate_label(l))\n",
        "  return X,y\n",
        "\n",
        "def calculate_label(params):\n",
        "  changes = []\n",
        "  for j in range(len(params)-1):\n",
        "    changes.append(params[j+1] - params[j]) \n",
        "  if changes[0] > 0:\n",
        "    return 1;\n",
        "  elif changes[0] <= 0:\n",
        "     return -1;\n",
        "\n",
        "def get_cl_model(model, X, y):\n",
        "  #clf = DecisionTreeClassifier()\n",
        "  model.fit(X,y)\n",
        "  return model\n",
        "\n",
        "def test_model(symbol):\n",
        "  data = yf.download(symbol, period='6mo', progress=False, )\n",
        "  data = data.dropna(how='all', axis=0)\n",
        "  price = data.Close\n",
        "  X, y = cl_make_X_and_Y(list(price), period, in_future)\n",
        "  dfr = pd.DataFrame({'actual': X, 'predicted': y})\n",
        "  train, test= train_test_split(dfr,test_size=0.15 , shuffle=False,random_state = 0)\n",
        "  X_train = train['actual'].to_list()\n",
        "  y_train = train['predicted'].to_list()\n",
        "  X_test = train['actual'].to_list()\n",
        "  y_test = train['predicted'].to_list()\n",
        "\n",
        "def clean_data(data):\n",
        "    return data.dropna(how='all', axis=0)\n"
      ],
      "execution_count": 39,
      "outputs": []
    },
    {
      "cell_type": "code",
      "metadata": {
        "id": "ZrTnEMIULpry"
      },
      "source": [
        "data = yf.download('AAPL', period='6mo', progress=False, )\n",
        "data = data.dropna(how='all', axis=0)\n",
        "price = data.Close\n",
        "X, y = cl_make_X_and_Y(list(price), 6, 2)\n",
        "dfr = pd.DataFrame({'actual': X, 'predicted': y})\n",
        "train, test= train_test_split(dfr,test_size=0.15 , shuffle=False,random_state = 0)\n",
        "X_train = train['actual'].to_list()\n",
        "y_train = train['predicted'].to_list()\n",
        "X_test = train['actual'].to_list()\n",
        "y_test = train['predicted'].to_list()"
      ],
      "execution_count": 40,
      "outputs": []
    },
    {
      "cell_type": "code",
      "metadata": {
        "id": "E4XNr4zsLggn",
        "outputId": "5ee50f12-95c5-4bf0-fe5a-b3e9b2e887a9",
        "colab": {
          "base_uri": "https://localhost:8080/",
          "height": 702
        }
      },
      "source": [
        "#Model Compare\n",
        "# Compare Algorithms\n",
        "from sklearn.metrics import roc_auc_score\n",
        "from time import time\n",
        "from sklearn.metrics import explained_variance_score,mean_absolute_error,r2_score\n",
        "from sklearn.metrics import classification_report\n",
        "from pandas import read_csv\n",
        "from matplotlib import pyplot\n",
        "from sklearn.model_selection import KFold\n",
        "from sklearn.model_selection import cross_val_score\n",
        "from sklearn.linear_model import LogisticRegression\n",
        "from sklearn.tree import DecisionTreeClassifier\n",
        "from sklearn.neighbors import KNeighborsClassifier\n",
        "from sklearn.discriminant_analysis import LinearDiscriminantAnalysis\n",
        "from sklearn.naive_bayes import GaussianNB\n",
        "from sklearn.ensemble import RandomForestClassifier\n",
        "\n",
        "from sklearn.svm import SVC\n",
        "models = []\n",
        "#models.append(('LR', LogisticRegression(solver='liblinear')))\n",
        "#models.append(('LDA', LinearDiscriminantAnalysis()))\n",
        "models.append(('KNN', KNeighborsClassifier()))\n",
        "models.append(('CART', DecisionTreeClassifier()))\n",
        "#models.append(('NB', GaussianNB()))\n",
        "models.append(('RFC', RandomForestClassifier()))\n",
        "#models.append(('SVM', SVC(gamma='auto')))\n",
        "# evaluate each model in turn\n",
        "results = []\n",
        "names = []\n",
        "scoring = 'accuracy'\n",
        "for name, model in models:\n",
        "    start = time()\n",
        "    kfold = KFold(n_splits=10, random_state=7, shuffle=True)\n",
        "    model.fit(X_train, y_train)\n",
        "    train_time = time() - start\n",
        "    cv_results = cross_val_score(model, X_train, y_train, cv=kfold, scoring=scoring)\n",
        "    predict_time = time()-start \n",
        "    results.append(cv_results)\n",
        "    names.append(name)\n",
        "    msg = \"%s: %f (%f)\" % (name, cv_results.mean(), cv_results.std())\n",
        "    y_pred = model.predict_proba(X_train)[:, 1]\n",
        "    auc = roc_auc_score(y_train, y_pred)\n",
        "    print(msg)\n",
        "    print(\"Score for each of the 10 K-fold tests: \",cv_results)\n",
        "    print(model)\n",
        "    print(\"\\tTraining time: %0.3fs\" % train_time)\n",
        "    print(\"\\tPrediction time: %0.3fs\" % predict_time)\n",
        "    print(\"\\tAUC: %0.3fs\" % auc)\n",
        "    #y_pred = model.predict(X_test)\n",
        "    #print(\"\\tExplained variance:\", explained_variance_score(y_test, y_pred))\n",
        "    print()\n",
        "    \n",
        "    \n",
        "    \n",
        "# boxplot algorithm comparison\n",
        "fig = pyplot.figure()\n",
        "fig.suptitle('Algorithm Comparison')\n",
        "ax = fig.add_subplot(111)\n",
        "pyplot.boxplot(results)\n",
        "ax.set_xticklabels(names)\n",
        "pyplot.show()"
      ],
      "execution_count": 47,
      "outputs": [
        {
          "output_type": "stream",
          "name": "stdout",
          "text": [
            "KNN: 0.594545 (0.156046)\n",
            "Score for each of the 10 K-fold tests:  [0.81818182 0.72727273 0.6        0.3        0.7        0.5\n",
            " 0.5        0.5        0.5        0.8       ]\n",
            "KNeighborsClassifier()\n",
            "\tTraining time: 0.001s\n",
            "\tPrediction time: 0.024s\n",
            "0.801364522417154\n",
            "\n",
            "CART: 0.597273 (0.104451)\n",
            "Score for each of the 10 K-fold tests:  [0.54545455 0.72727273 0.6        0.7        0.7        0.5\n",
            " 0.6        0.4        0.5        0.7       ]\n",
            "DecisionTreeClassifier()\n",
            "\tTraining time: 0.001s\n",
            "\tPrediction time: 0.016s\n",
            "1.0\n",
            "\n",
            "RFC: 0.613636 (0.155996)\n",
            "Score for each of the 10 K-fold tests:  [0.81818182 0.81818182 0.5        0.5        0.6        0.4\n",
            " 0.8        0.6        0.4        0.7       ]\n",
            "RandomForestClassifier()\n",
            "\tTraining time: 0.147s\n",
            "\tPrediction time: 1.635s\n",
            "1.0\n",
            "\n"
          ]
        },
        {
          "output_type": "display_data",
          "data": {
            "image/png": "[encoded data removed]",
            "text/plain": [
              "<Figure size 432x288 with 1 Axes>"
            ]
          },
          "metadata": {
            "needs_background": "light"
          }
        }
      ]
    },
    {
      "cell_type": "code",
      "metadata": {
        "id": "xM80UjvaPOfO",
        "outputId": "6ce70ea7-b494-4742-a113-47f00547cc02",
        "colab": {
          "base_uri": "https://localhost:8080/",
          "height": 358
        }
      },
      "source": [
        "#confusion matrix\n",
        "from sklearn.metrics import confusion_matrix\n",
        "from sklearn.metrics import precision_score, recall_score, f1_score, accuracy_score\n",
        "import matplotlib.pyplot as plt\n",
        "\n",
        "rf = DecisionTreeClassifier()\n",
        "rf.fit(X_train, y_train)\n",
        "\n",
        "y_pred = rf.predict_proba(X_test)[:, 1]\n",
        "conf_matrix = confusion_matrix(y_true=y_test, y_pred=y_pred)\n",
        "#\n",
        "# Print the confusion matrix using Matplotlib\n",
        "#\n",
        "fig, ax = plt.subplots(figsize=(5, 5))\n",
        "ax.matshow(conf_matrix, cmap=plt.cm.Oranges, alpha=0.3)\n",
        "for i in range(conf_matrix.shape[0]):\n",
        "    for j in range(conf_matrix.shape[1]):\n",
        "        ax.text(x=j, y=i,s=conf_matrix[i, j], va='center', ha='center', size='xx-large')\n",
        " \n",
        "plt.xlabel('Predictions', fontsize=18)\n",
        "plt.ylabel('Actuals', fontsize=18)\n",
        "plt.title('Confusion Matrix', fontsize=18)\n",
        "plt.show()"
      ],
      "execution_count": 65,
      "outputs": [
        {
          "output_type": "display_data",
          "data": {
            "image/png": "[encoded data removed]",
            "text/plain": [
              "<Figure size 360x360 with 1 Axes>"
            ]
          },
          "metadata": {
            "needs_background": "light"
          }
        }
      ]
    },
    {
      "cell_type": "code",
      "metadata": {
        "id": "c9N8em7AEF3Q"
      },
      "source": [
        "def classification_predict_price(symbol, period, in_future, data=None):\n",
        "  print(\"\\rAnalysing :: \", symbol, end=\"\" )\n",
        "  if(data is None):\n",
        "    data = yf.download(symbol, period='6mo', progress=False, )\n",
        "    data = clean_data(data)\n",
        "  price = data.Close\n",
        "  volume =data.Volume\n",
        "  features, dep_var = cl_make_X_and_Y(list(price), period, in_future)\n",
        "  features = np.array(features)\n",
        "  dep_var = np.array(dep_var)\n",
        "  # Get Classification model\n",
        "  clf=get_cl_model(RandomForestClassifier(), features, dep_var) \n",
        "  \n",
        "  latest_feature = np.array(list(price)[-period:]).reshape((1,-1))\n",
        "  q=clf.predict(latest_feature)\n",
        "  tomorrow = 'HOLD'\n",
        "  if q[0] == 1:\n",
        "    tomorrow = \"BUY\"\n",
        "  elif q[0] == -1:\n",
        "    tomorrow = \"SELL\"\n",
        "  s_dict = {}\n",
        "  s_dict['symbol'] = symbol\n",
        "  s_dict['volatility'] = round(price.std(), 2)\n",
        "  s_dict['tomorrow'] = tomorrow\n",
        "  s_dict['price'] = round(price[-1],2)\n",
        "  s_dict['volume'] = volume[-1]\n",
        "  return s_dict\n",
        "\n",
        "def prepare_cl_recomm(data, how_many_stocks, period, in_future):\n",
        "  if(data is None):\n",
        "    print(\"No stock data found..\")\n",
        "    return\n",
        "  stk_data = []\n",
        "  list_of_symbols = data.columns.get_level_values(0).unique().tolist()\n",
        "  if how_many_stocks > len(list_of_symbols):\n",
        "    print(\"No. of stocks set to max\")  \n",
        "    how_many_stocks = len(data)\n",
        "  for sym in list_of_symbols:\n",
        "    stk_df = clean_data(data[sym])\n",
        "    # if stocka has records more than 30 \n",
        "    if len(stk_df) >30 :\n",
        "      stk_data.append(classification_predict_price(sym, period, in_future, stk_df))\n",
        "  print(\"\\nAnalyzed \"+str(len(stk_data)) + \" stocks..\" )\n",
        "  p_data = pd.DataFrame(stk_data)\n",
        "  p_data.volume = p_data.volume.astype(int)\n",
        "  return p_data\n",
        "\n",
        "def classify(how_many_stocks = None, period = None, in_future=None):\n",
        "  if period == None:\n",
        "    period = 6\n",
        "  if in_future == None:\n",
        "    in_future = 3\n",
        "  if how_many_stocks == None:\n",
        "    how_many_stocks = ask_user()\n",
        "  data_df, ticker_list = get_stock_data(type='NYSE', limit=how_many_stocks)\n",
        "  pred_df = prepare_cl_recomm(data_df, how_many_stocks, period, in_future)\n",
        "  return pred_df\n",
        "\n",
        "def allot_funds(cl_data, income):\n",
        "  if cl_data.shape[0] > 5:\n",
        "    data = cl_data.head(5)\n",
        "  else:\n",
        "    data = cl_data\n",
        "  vols = data.volume\n",
        "  price = data.price\n",
        "  mar_cap = vols * price\n",
        "  portion = mar_cap/sum(mar_cap)\n",
        "  income_dist = portion * income\n",
        "  stocks_to_buy = income_dist / price\n",
        "  stocks_to_buy = [math.floor(i) for i in stocks_to_buy]\n",
        "  data = data.assign(number_of_stocks_to_buy = stocks_to_buy)\n",
        "  #data['number_of_stocks_to_buy'] = np.array(stocks_to_buy).tolist()\n",
        "  return data"
      ],
      "execution_count": 26,
      "outputs": []
    },
    {
      "cell_type": "code",
      "metadata": {
        "id": "I3noY8O9L_FX",
        "outputId": "af04f3b1-9ed3-4063-a0d3-96f9a0d5dda1",
        "colab": {
          "base_uri": "https://localhost:8080/"
        }
      },
      "source": [
        "classification_predict_price('AAPL', 6, 3)"
      ],
      "execution_count": 48,
      "outputs": [
        {
          "output_type": "stream",
          "name": "stdout",
          "text": [
            "\rAnalysing ::  AAPL"
          ]
        },
        {
          "output_type": "execute_result",
          "data": {
            "text/plain": [
              "{'price': 161.84,\n",
              " 'symbol': 'AAPL',\n",
              " 'tomorrow': 'BUY',\n",
              " 'volatility': 8.31,\n",
              " 'volume': 117938300}"
            ]
          },
          "metadata": {},
          "execution_count": 48
        }
      ]
    },
    {
      "cell_type": "markdown",
      "metadata": {
        "id": "SaL4k2jbNr9i"
      },
      "source": [
        "## User defined portfolio"
      ]
    },
    {
      "cell_type": "code",
      "metadata": {
        "id": "1kcwoDzwD26-"
      },
      "source": [
        "def get_correct_input_from_user(text):\n",
        "  i = input(text)\n",
        "  resp = False\n",
        "  while not resp:\n",
        "    try:\n",
        "      a= int(i)\n",
        "      resp = True\n",
        "    except ValueError:\n",
        "      print(\"Unable to parse number. Enter correct number..\")\n",
        "      i = input(text)\n",
        "  return a\n"
      ],
      "execution_count": 17,
      "outputs": []
    },
    {
      "cell_type": "code",
      "metadata": {
        "id": "xtI-lgq0v14K",
        "outputId": "1fc747c4-2e98-4e0c-fc32-7bbc2e9c2177",
        "colab": {
          "base_uri": "https://localhost:8080/",
          "height": 329
        }
      },
      "source": [
        "def get_user_selected_stocks():\n",
        "  u = input(\"Enter ticker of stocks seperated by space..\")\n",
        "  return u.split(' ');\n",
        "\n",
        "def get_user_selected_weightage(no_stocks):\n",
        "  w = input(\"Enter weightage per stocks seperated by space..\\n Eg: 80 20 \\n\")\n",
        "  resp = False\n",
        "  while not resp:\n",
        "    try:\n",
        "      proportion = w.split(' ')\n",
        "      if no_stocks != len(proportion):\n",
        "        print('Incorrect weightage')\n",
        "        raise ValueError\n",
        "      if  sum(map(int, proportion)) < 0 or sum(map(int, proportion)) > 100 :\n",
        "        print('sum of weightages are incorrect :', proportion)\n",
        "        raise ValueError\n",
        "      resp = True\n",
        "    except:\n",
        "      w = input(\"Enter weightage per stocks seperated by space..\\n Eg: 80 20 \\n\")\n",
        "  return w.split(' ');\n",
        "\n",
        "def get_user_strategy():\n",
        "  print('\\nSelect your strategy: ') \n",
        "  s= get_correct_input_from_user(\"\\t1. Market Capital Weighted\\n\\t2. Equal Weighted\\n\\t3. User defined proportion\\n\")\n",
        "  while not (s > 0 and s <=3):\n",
        "    print(\"Enter correct option 1-3\")\n",
        "    s=get_correct_input_from_user(\"\\t1. Market Capital Weighted\\n\\t2. Equal Weighted\\n\\t3. User defined proportion\\n\")\n",
        "  return s\n",
        "\n",
        "def get_mcap_and_close_price(selected):\n",
        "  market_cap = []\n",
        "  close_price = []\n",
        "  for sym in selected:\n",
        "    try:\n",
        "      current_data = yf.download(sym, period='1d', progress=False)\n",
        "      close_price.append(current_data.Close[0])\n",
        "      market_cap.append(current_data.Close[0] * current_data.Volume[0])\n",
        "    except:\n",
        "      selected.remove(sym)\n",
        "      print('Data not found for symbol :: ', sym)\n",
        "  return market_cap, close_price, selected\n",
        "\n",
        "def user_selected_analysis(income):\n",
        "  selected = get_user_selected_stocks()\n",
        "  strategy = get_user_strategy()\n",
        "  market_cap, close_price, selected = get_mcap_and_close_price(selected)\n",
        "  s = sum(market_cap)\n",
        "  price = []\n",
        "  if strategy == 1:\n",
        "    print ('Calculating Market Cap Weighted portfolio')\n",
        "  elif strategy == 2:\n",
        "    print('Calculating Equal Weighted portfolio') \n",
        "  else:\n",
        "    proportion = get_user_selected_weightage(len(selected))\n",
        "    print('Calculating user defined Weighted portfolio :: ', proportion)\n",
        "    \n",
        "  port_list = []\n",
        "  for i, cap in enumerate(market_cap):\n",
        "    d = {}\n",
        "    if strategy == 1:\n",
        "      portion = (income* cap)/s\n",
        "    elif strategy == 2:\n",
        "      weight = (1/len(selected))\n",
        "      portion = weight*income\n",
        "    else:\n",
        "      weight = int(proportion[i])\n",
        "      portion = (weight/100)*income\n",
        "    \n",
        "    no_stocks = math.floor(portion/close_price[i])\n",
        "    price.append(round(no_stocks * close_price[i],2))\n",
        "    d['ticker'] = selected[i]\n",
        "    d['stocks_to_purchase'] = no_stocks\n",
        "    d['price'] = round(close_price[i],2)\n",
        "    d['market_val'] = round(close_price[i] * no_stocks, 2)\n",
        "    d['planned_portion'] = str(round((portion/income) * 100, 2)) +'%'\n",
        "    d['portfoloio_portion'] = str(round((d['market_val']/income) * 100, 2)) +'%'\n",
        "    port_list.append(d)\n",
        "  c={}\n",
        "  c['ticker'] = 'CASH'\n",
        "  c['stocks_to_purchase'] = income - sum(price)\n",
        "  c['price'] = 1\n",
        "  c['market_val'] = income - sum(price)\n",
        "  c['planned_portion'] = '-'\n",
        "  c['portfoloio_portion'] = str(round((c['market_val']/income) * 100, 2)) +'%'\n",
        "  port_list.append(c)\n",
        "  return pd.DataFrame(port_list)\n",
        "\n",
        "user_selected_analysis(10000)\n",
        "#gft = user_selected_analysis(['ABBV', 'GOOG', 'AMZN'], 10000)\n",
        "#eft = user_selected_analysis(['ABBV', 'GOOG', 'AMZN' ], 10000, 'equal')\n",
        "#uft = user_selected_analysis(['ABBV', 'GOOG', 'AMZN' ], 10000, proportion=w)\n",
        "#print(gft[['market_val', 'planned_portion', 'portfoloio_portion']])\n",
        "#print(eft[['market_val', 'planned_portion', 'portfoloio_portion']])\n",
        "#print(uft[['market_val', 'planned_portion', 'portfoloio_portion']])"
      ],
      "execution_count": 36,
      "outputs": [
        {
          "output_type": "stream",
          "name": "stdout",
          "text": [
            "Enter ticker of stocks seperated by space..AAPL MSFT\n",
            "\n",
            "Select your strategy: \n",
            "\t1. Market Capital Weighted\n",
            "\t2. Equal Weighted\n",
            "\t3. User defined proportion\n",
            "3\n",
            "Enter weightage per stocks seperated by space..\n",
            " Eg: 80 20 \n",
            "30 70\n",
            "Calculating user defined Weighted portfolio ::  ['30', '70']\n"
          ]
        },
        {
          "output_type": "execute_result",
          "data": {
            "text/html": [
              "<div>\n",
              "<style scoped>\n",
              "    .dataframe tbody tr th:only-of-type {\n",
              "        vertical-align: middle;\n",
              "    }\n",
              "\n",
              "    .dataframe tbody tr th {\n",
              "        vertical-align: top;\n",
              "    }\n",
              "\n",
              "    .dataframe thead th {\n",
              "        text-align: right;\n",
              "    }\n",
              "</style>\n",
              "<table border=\"1\" class=\"dataframe\">\n",
              "  <thead>\n",
              "    <tr style=\"text-align: right;\">\n",
              "      <th></th>\n",
              "      <th>ticker</th>\n",
              "      <th>stocks_to_purchase</th>\n",
              "      <th>price</th>\n",
              "      <th>market_val</th>\n",
              "      <th>planned_portion</th>\n",
              "      <th>portfoloio_portion</th>\n",
              "    </tr>\n",
              "  </thead>\n",
              "  <tbody>\n",
              "    <tr>\n",
              "      <th>0</th>\n",
              "      <td>AAPL</td>\n",
              "      <td>18.00</td>\n",
              "      <td>161.84</td>\n",
              "      <td>2913.12</td>\n",
              "      <td>30.0%</td>\n",
              "      <td>29.13%</td>\n",
              "    </tr>\n",
              "    <tr>\n",
              "      <th>1</th>\n",
              "      <td>MSFT</td>\n",
              "      <td>21.00</td>\n",
              "      <td>323.01</td>\n",
              "      <td>6783.21</td>\n",
              "      <td>70.0%</td>\n",
              "      <td>67.83%</td>\n",
              "    </tr>\n",
              "    <tr>\n",
              "      <th>2</th>\n",
              "      <td>CASH</td>\n",
              "      <td>303.67</td>\n",
              "      <td>1.00</td>\n",
              "      <td>303.67</td>\n",
              "      <td>-</td>\n",
              "      <td>3.04%</td>\n",
              "    </tr>\n",
              "  </tbody>\n",
              "</table>\n",
              "</div>"
            ],
            "text/plain": [
              "  ticker  stocks_to_purchase  ...  planned_portion  portfoloio_portion\n",
              "0   AAPL               18.00  ...            30.0%              29.13%\n",
              "1   MSFT               21.00  ...            70.0%              67.83%\n",
              "2   CASH              303.67  ...                -               3.04%\n",
              "\n",
              "[3 rows x 6 columns]"
            ]
          },
          "metadata": {},
          "execution_count": 36
        }
      ]
    },
    {
      "cell_type": "code",
      "metadata": {
        "colab": {
          "base_uri": "https://localhost:8080/",
          "height": 142
        },
        "id": "aTdH0rhOYpsy",
        "outputId": "558039b2-a101-4044-8b84-dab7b80d3359"
      },
      "source": [
        "w"
      ],
      "execution_count": 21,
      "outputs": [
        {
          "output_type": "execute_result",
          "data": {
            "text/html": [
              "<div>\n",
              "<style scoped>\n",
              "    .dataframe tbody tr th:only-of-type {\n",
              "        vertical-align: middle;\n",
              "    }\n",
              "\n",
              "    .dataframe tbody tr th {\n",
              "        vertical-align: top;\n",
              "    }\n",
              "\n",
              "    .dataframe thead th {\n",
              "        text-align: right;\n",
              "    }\n",
              "</style>\n",
              "<table border=\"1\" class=\"dataframe\">\n",
              "  <thead>\n",
              "    <tr style=\"text-align: right;\">\n",
              "      <th></th>\n",
              "      <th>ticker</th>\n",
              "      <th>stocks_to_purchase</th>\n",
              "      <th>price</th>\n",
              "      <th>market_val</th>\n",
              "      <th>planned_portion</th>\n",
              "      <th>portfoloio_portion</th>\n",
              "    </tr>\n",
              "  </thead>\n",
              "  <tbody>\n",
              "    <tr>\n",
              "      <th>0</th>\n",
              "      <td>AAPL</td>\n",
              "      <td>4.00</td>\n",
              "      <td>161.84</td>\n",
              "      <td>647.36</td>\n",
              "      <td>70.0%</td>\n",
              "      <td>64.74%</td>\n",
              "    </tr>\n",
              "    <tr>\n",
              "      <th>1</th>\n",
              "      <td>MSFT</td>\n",
              "      <td>0.00</td>\n",
              "      <td>323.01</td>\n",
              "      <td>0.00</td>\n",
              "      <td>30.0%</td>\n",
              "      <td>0.0%</td>\n",
              "    </tr>\n",
              "    <tr>\n",
              "      <th>2</th>\n",
              "      <td>CASH</td>\n",
              "      <td>352.64</td>\n",
              "      <td>1.00</td>\n",
              "      <td>352.64</td>\n",
              "      <td>-</td>\n",
              "      <td>35.26%</td>\n",
              "    </tr>\n",
              "  </tbody>\n",
              "</table>\n",
              "</div>"
            ],
            "text/plain": [
              "  ticker  stocks_to_purchase  ...  planned_portion  portfoloio_portion\n",
              "0   AAPL                4.00  ...            70.0%              64.74%\n",
              "1   MSFT                0.00  ...            30.0%                0.0%\n",
              "2   CASH              352.64  ...                -              35.26%\n",
              "\n",
              "[3 rows x 6 columns]"
            ]
          },
          "metadata": {},
          "execution_count": 21
        }
      ]
    },
    {
      "cell_type": "code",
      "metadata": {
        "id": "JYH7ynCSm-oR"
      },
      "source": [
        "def fancy_print(msg, df):\n",
        "  if df.shape[0] > 0:\n",
        "    print(\"\")\n",
        "    print(\"-\"*50)\n",
        "    print(msg)\n",
        "    print(\"-\"*50)\n",
        "    print(df)\n",
        "    print(\"\")"
      ],
      "execution_count": 22,
      "outputs": []
    },
    {
      "cell_type": "markdown",
      "metadata": {
        "id": "1_v6HdVxNxdo"
      },
      "source": [
        "# Main App"
      ]
    },
    {
      "cell_type": "code",
      "metadata": {
        "colab": {
          "base_uri": "https://localhost:8080/"
        },
        "id": "Opcg2R34FoRO",
        "outputId": "0a378496-46aa-4607-8dcb-55cce1b70cdb"
      },
      "source": [
        "\n",
        "income = get_correct_input_from_user(\"How much money do you want to invest?  \")\n",
        "print('\\nDo you wish to add you own stocks or want ML to recommend you? ')\n",
        "user_port_option = get_correct_input_from_user(\"\\tEnter 1 for adding you own stock\\n\\tEnter 2 for ML recommendations.  \")\n",
        "if user_port_option == 1:\n",
        "  x=user_selected_analysis(income)\n",
        "  fancy_print(\"Portfolio ...\", x)\n",
        "elif user_port_option ==2:\n",
        "  n_data = classify()\n",
        "  fancy_print(\"Stocks you should consider BUYING today.. \", n_data[n_data['tomorrow'] == \"BUY\"])\n",
        "  fancy_print(\"Stocks you should consider SELLING today.. \", n_data[n_data['tomorrow'] == \"SELL\"])\n",
        "  buy_df = n_data[n_data['tomorrow'] == 'BUY']\n",
        "  a_data = allot_funds(buy_df, income)\n",
        "  fancy_print(\"Stocks Recommendations..\", a_data.head())\n",
        "else:\n",
        "  print(\"Enter only 1 or 2, No other numbers are accepted.\")\n",
        "\n",
        "\n"
      ],
      "execution_count": 31,
      "outputs": [
        {
          "output_type": "stream",
          "name": "stdout",
          "text": [
            "How much money do you want to invest?  10000\n",
            "\n",
            "Do you wish to add you own stocks or want ML to recommend you? \n",
            "\tEnter 1 for adding you own stock\n",
            "\tEnter 2 for ML recommendations.  2\n",
            "How many stocks you want to analyse? \n",
            " Enter atleast 10 and max 500 \n",
            "10\n",
            "\n",
            "Downloading 6 months historical data for stock..\n",
            "(128, 60)\n",
            "Analysing ::  CANO\n",
            "Analyzed 10 stocks..\n",
            "\n",
            "--------------------------------------------------\n",
            "Stocks you should consider BUYING today.. \n",
            "--------------------------------------------------\n",
            "  symbol  volatility tomorrow  price   volume\n",
            "0   BRDG        1.81      BUY  19.99    95400\n",
            "1    TNL        3.62      BUY  49.42   685700\n",
            "6    RZA        0.39      BUY  25.75    29100\n",
            "7     SM        5.97      BUY  28.08  2506000\n",
            "8    PCQ        0.27      BUY  18.96     4300\n",
            "\n",
            "\n",
            "--------------------------------------------------\n",
            "Stocks you should consider SELLING today.. \n",
            "--------------------------------------------------\n",
            "  symbol  volatility tomorrow  price   volume\n",
            "2    AHH        0.62     SELL  14.22   279500\n",
            "3    NGL        0.33     SELL   2.00   627800\n",
            "4   SAND        0.90     SELL   5.78  2776700\n",
            "5    HSC        2.30     SELL  15.48   337100\n",
            "9   CANO        1.56     SELL   8.45  3177800\n",
            "\n",
            "\n",
            "--------------------------------------------------\n",
            "Stocks Recommendations..\n",
            "--------------------------------------------------\n",
            "  symbol  volatility tomorrow  price   volume  number_of_stocks_to_buy\n",
            "0   BRDG        1.81      BUY  19.99    95400                        8\n",
            "1    TNL        3.62      BUY  49.42   685700                       64\n",
            "6    RZA        0.39      BUY  25.75    29100                        2\n",
            "7     SM        5.97      BUY  28.08  2506000                      234\n",
            "8    PCQ        0.27      BUY  18.96     4300                        0\n",
            "\n"
          ]
        }
      ]
    },
    {
      "cell_type": "code",
      "metadata": {
        "id": "UgV3i1nZitt2"
      },
      "source": [
        ""
      ],
      "execution_count": null,
      "outputs": []
    }
  ]
}