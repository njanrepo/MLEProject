{
  "nbformat": 4,
  "nbformat_minor": 0,
  "metadata": {
    "colab": {
      "name": "task.ipynb",
      "provenance": [],
      "collapsed_sections": [],
      "authorship_tag": "ABX9TyNyo7IEKJnDKQe6ctscNwbO",
      "include_colab_link": true
    },
    "kernelspec": {
      "name": "python3",
      "display_name": "Python 3"
    },
    "language_info": {
      "name": "python"
    }
  },
  "cells": [
    {
      "cell_type": "markdown",
      "metadata": {
        "id": "view-in-github",
        "colab_type": "text"
      },
      "source": [
        "<a href=\"https://colab.research.google.com/github/njanrepo/MLEProject/blob/main/task.ipynb\" target=\"_parent\"><img src=\"https://colab.research.google.com/assets/colab-badge.svg\" alt=\"Open In Colab\"/></a>"
      ]
    },
    {
      "cell_type": "code",
      "metadata": {
        "id": "DGRkxerfuYly"
      },
      "source": [
        "import pandas as pd\n",
        "import numpy as np\n",
        "import matplotlib.pyplot as plt\n",
        "import seaborn as sns\n",
        "from datetime import datetime\n",
        "from sklearn.ensemble import ExtraTreesRegressor, RandomForestRegressor\n"
      ],
      "execution_count": 80,
      "outputs": []
    },
    {
      "cell_type": "code",
      "metadata": {
        "colab": {
          "base_uri": "https://localhost:8080/"
        },
        "id": "QSqoVWOmFKqY",
        "outputId": "aea58c2e-54eb-45ee-c59b-8cf85157ca6b"
      },
      "source": [
        "!pip install yfinance"
      ],
      "execution_count": 2,
      "outputs": [
        {
          "output_type": "stream",
          "name": "stdout",
          "text": [
            "Collecting yfinance\n",
            "  Downloading yfinance-0.1.64.tar.gz (26 kB)\n",
            "Requirement already satisfied: pandas>=0.24 in /usr/local/lib/python3.7/dist-packages (from yfinance) (1.1.5)\n",
            "Requirement already satisfied: numpy>=1.15 in /usr/local/lib/python3.7/dist-packages (from yfinance) (1.19.5)\n",
            "Requirement already satisfied: requests>=2.20 in /usr/local/lib/python3.7/dist-packages (from yfinance) (2.23.0)\n",
            "Requirement already satisfied: multitasking>=0.0.7 in /usr/local/lib/python3.7/dist-packages (from yfinance) (0.0.9)\n",
            "Collecting lxml>=4.5.1\n",
            "  Downloading lxml-4.6.4-cp37-cp37m-manylinux_2_17_x86_64.manylinux2014_x86_64.manylinux_2_24_x86_64.whl (6.3 MB)\n",
            "\u001b[K     |████████████████████████████████| 6.3 MB 7.5 MB/s \n",
            "\u001b[?25hRequirement already satisfied: python-dateutil>=2.7.3 in /usr/local/lib/python3.7/dist-packages (from pandas>=0.24->yfinance) (2.8.2)\n",
            "Requirement already satisfied: pytz>=2017.2 in /usr/local/lib/python3.7/dist-packages (from pandas>=0.24->yfinance) (2018.9)\n",
            "Requirement already satisfied: six>=1.5 in /usr/local/lib/python3.7/dist-packages (from python-dateutil>=2.7.3->pandas>=0.24->yfinance) (1.15.0)\n",
            "Requirement already satisfied: chardet<4,>=3.0.2 in /usr/local/lib/python3.7/dist-packages (from requests>=2.20->yfinance) (3.0.4)\n",
            "Requirement already satisfied: certifi>=2017.4.17 in /usr/local/lib/python3.7/dist-packages (from requests>=2.20->yfinance) (2021.10.8)\n",
            "Requirement already satisfied: idna<3,>=2.5 in /usr/local/lib/python3.7/dist-packages (from requests>=2.20->yfinance) (2.10)\n",
            "Requirement already satisfied: urllib3!=1.25.0,!=1.25.1,<1.26,>=1.21.1 in /usr/local/lib/python3.7/dist-packages (from requests>=2.20->yfinance) (1.24.3)\n",
            "Building wheels for collected packages: yfinance\n",
            "  Building wheel for yfinance (setup.py) ... \u001b[?25l\u001b[?25hdone\n",
            "  Created wheel for yfinance: filename=yfinance-0.1.64-py2.py3-none-any.whl size=24109 sha256=e3031929274ba09dd539adb2158de70bd976d2ed65b8927dce60acf65c6dd898\n",
            "  Stored in directory: /root/.cache/pip/wheels/86/fe/9b/a4d3d78796b699e37065e5b6c27b75cff448ddb8b24943c288\n",
            "Successfully built yfinance\n",
            "Installing collected packages: lxml, yfinance\n",
            "  Attempting uninstall: lxml\n",
            "    Found existing installation: lxml 4.2.6\n",
            "    Uninstalling lxml-4.2.6:\n",
            "      Successfully uninstalled lxml-4.2.6\n",
            "Successfully installed lxml-4.6.4 yfinance-0.1.64\n"
          ]
        }
      ]
    },
    {
      "cell_type": "code",
      "metadata": {
        "id": "u6OqPzxZulv5"
      },
      "source": [
        "import yfinance as yf"
      ],
      "execution_count": 3,
      "outputs": []
    },
    {
      "cell_type": "markdown",
      "metadata": {
        "id": "uxT1Ud6uB7nh"
      },
      "source": [
        "#Get data\n"
      ]
    },
    {
      "cell_type": "code",
      "metadata": {
        "colab": {
          "base_uri": "https://localhost:8080/"
        },
        "id": "8-L6Yhhryv_E",
        "outputId": "509bcd36-c30b-4761-8a0b-e0ea4b3a5820"
      },
      "source": [
        "def get_nyse_ticker_list():\n",
        "  others_list = 'ftp://ftp.nasdaqtrader.com/symboldirectory/otherlisted.txt'\n",
        "  ticker_df = pd.read_csv(others_list, sep='|')\n",
        "  company_nyse = ticker_df[ticker_df['Exchange'] == 'N']\n",
        "  return company_nyse['ACT Symbol'].values.tolist()\n",
        "\n",
        "s=get_nyse_ticker_list()\n",
        "len(s)"
      ],
      "execution_count": 4,
      "outputs": [
        {
          "output_type": "execute_result",
          "data": {
            "text/plain": [
              "3642"
            ]
          },
          "metadata": {},
          "execution_count": 4
        }
      ]
    },
    {
      "cell_type": "code",
      "metadata": {
        "id": "XQahVk7m-R4q"
      },
      "source": [
        "def get_sp500_list():\n",
        "  payload=pd.read_html('https://en.wikipedia.org/wiki/List_of_S%26P_500_companies')\n",
        "  first_table = payload[0]\n",
        "  sp500df = first_table\n",
        "  sp500_list = sp500df.Symbol.values.tolist()\n",
        "  return sp500_list"
      ],
      "execution_count": 5,
      "outputs": []
    },
    {
      "cell_type": "markdown",
      "metadata": {
        "id": "h7rx9qSxD5Wi"
      },
      "source": [
        "\n",
        "\n",
        "#Calculate Market Capitalization\n"
      ]
    },
    {
      "cell_type": "code",
      "metadata": {
        "colab": {
          "base_uri": "https://localhost:8080/"
        },
        "id": "pkVenRAK-TAj",
        "outputId": "872fe531-6d94-465c-fa58-73f31bd8b312"
      },
      "source": [
        "ticker='JPM'\n",
        "def calc_market_capitalization(symbol):\n",
        "  symbol_data = yf.download(symbol, period='1d')\n",
        "  print(symbol_data)\n",
        "  return round((symbol_data['Volume'][0] * symbol_data['Close'][0]),2)\n",
        "print(calc_market_capitalization(ticker))"
      ],
      "execution_count": 28,
      "outputs": [
        {
          "output_type": "stream",
          "name": "stdout",
          "text": [
            "\r[*********************100%***********************]  1 of 1 completed\n",
            "                  Open        High         Low       Close   Adj Close   Volume\n",
            "Date                                                                           \n",
            "2021-11-11  167.520004  168.679993  166.899994  167.610001  167.610001  5811400\n",
            "974048757.55\n"
          ]
        }
      ]
    },
    {
      "cell_type": "code",
      "metadata": {
        "id": "251m8p-A-Tu5"
      },
      "source": [
        "sp_list = get_sp500_list()\n",
        "s_info = []\n",
        "i =0\n",
        "for t in sp_list:\n",
        "  print(t)\n",
        "  i +=1\n",
        "  print(i)\n",
        "  inn = yf.Ticker(t).info\n",
        "  s_info.append(inn)"
      ],
      "execution_count": null,
      "outputs": []
    },
    {
      "cell_type": "code",
      "metadata": {
        "id": "ZiKOHG5Wu-sG"
      },
      "source": [
        "sp_df = pd.DataFrame(s_info)"
      ],
      "execution_count": 47,
      "outputs": []
    },
    {
      "cell_type": "code",
      "metadata": {
        "colab": {
          "base_uri": "https://localhost:8080/"
        },
        "id": "VVlunwlgIRTf",
        "outputId": "3e3a020a-2fbf-4b43-9f1c-db2177aace49"
      },
      "source": [
        "df=yf.download(tickers='JPM', period='180d')"
      ],
      "execution_count": 74,
      "outputs": [
        {
          "output_type": "stream",
          "name": "stdout",
          "text": [
            "\r[*********************100%***********************]  1 of 1 completed\n"
          ]
        }
      ]
    },
    {
      "cell_type": "code",
      "metadata": {
        "id": "yC_CnimDDjP_"
      },
      "source": [
        "def ask_user(stocks = None):\n",
        "  if(stocks != None):\n",
        "    return stocks;\n",
        "  how_many_stocks = input('How many stocks you want to analyse? \\n Enter atleast 10 and max 500 \\n')\n",
        "  correct = False\n",
        "  while not correct:\n",
        "    try:\n",
        "      how_many_stocks = int(how_many_stocks)\n",
        "      if(how_many_stocks > 500 or how_many_stocks < 10):\n",
        "        raise ValueError\n",
        "      correct = True\n",
        "    except:\n",
        "      print(\"Please enter correct number 10 to 500\")\n",
        "      how_many_stocks = input('How many stocks you want to analyse? \\n Enter atleast 10 and max 500 \\n')\n",
        "  return how_many_stocks    "
      ],
      "execution_count": 85,
      "outputs": []
    },
    {
      "cell_type": "code",
      "metadata": {
        "id": "zYSVYU7PQIU5"
      },
      "source": [
        "def make_X_and_Y(close_prices, period=6):\n",
        "  X = []\n",
        "  y = []\n",
        "  for i in range(len(close_prices)- period):\n",
        "    X.append(close_prices[i:i+period])\n",
        "    y.append(close_prices[i+period])\n",
        "  return X,y"
      ],
      "execution_count": 86,
      "outputs": []
    },
    {
      "cell_type": "code",
      "metadata": {
        "id": "WCjnAAKwQTV5"
      },
      "source": [
        "def return_model(X, y):\n",
        "  clf = RandomForestRegressor()\n",
        "  clf.fit(X,y)\n",
        "  return clf"
      ],
      "execution_count": 82,
      "outputs": []
    },
    {
      "cell_type": "code",
      "metadata": {
        "id": "9Ff-hIqgYNX9"
      },
      "source": [
        "def predict_price(symbol, period=6):\n",
        "  print(\"Analysing :: \", symbol )\n",
        "  data = yf.download(symbol, period='6mo')\n",
        "  price = data.Close\n",
        "  features, dep_var = make_X_and_Y(list(price))\n",
        "  features = np.array(features)\n",
        "  dep_var = np.array(dep_var)\n",
        "  clf=return_model(features, dep_var)\n",
        "  latest_feature = np.array(list(price)[-period:]).reshape((1,-1))\n",
        "  s_dict['symbol'] = symbol\n",
        "  s_dict['volatility'] = round(price.std(), 2)\n",
        "  s_dict['tomorrow'] = round(clf.predict(latest_feature)[0], 2)\n",
        "  s_dict['today'] = round(price[-1],2)\n",
        "  return s_dict"
      ],
      "execution_count": 114,
      "outputs": []
    },
    {
      "cell_type": "code",
      "metadata": {
        "colab": {
          "base_uri": "https://localhost:8080/"
        },
        "id": "aTdH0rhOYpsy",
        "outputId": "176539f3-27f8-4a65-bbab-9d13973fb48a"
      },
      "source": [
        "predict_price('TSLA')"
      ],
      "execution_count": 117,
      "outputs": [
        {
          "output_type": "stream",
          "name": "stdout",
          "text": [
            "Analysing ::  TSLA\n",
            "\r[*********************100%***********************]  1 of 1 completed\n",
            "                  Open         High  ...    Adj Close    Volume\n",
            "Date                                 ...                       \n",
            "2021-11-11  1102.77002  1104.969971  ...  1063.510010  22176100\n",
            "2021-11-12  1047.50000  1054.389893  ...  1022.190125  16530163\n",
            "\n",
            "[2 rows x 6 columns]\n"
          ]
        },
        {
          "output_type": "execute_result",
          "data": {
            "text/plain": [
              "{'symbol': 'TSLA', 'today': 1022.19, 'tomorrow': 1058.86, 'volatility': 154.18}"
            ]
          },
          "metadata": {},
          "execution_count": 117
        }
      ]
    },
    {
      "cell_type": "code",
      "metadata": {
        "colab": {
          "base_uri": "https://localhost:8080/"
        },
        "id": "eBUunW3bHhCZ",
        "outputId": "f6e44e9d-06a3-42ee-d655-e33405b7b670"
      },
      "source": [
        "\n",
        "\n",
        "list_of_symbols = get_sp500_list()\n",
        "symbols_not_found = ['BRK.B', 'BF.B']\n",
        "period = 6\n",
        "stk_data = []\n",
        "how_many_stocks = ask_user(12)\n",
        "for sym in list_of_symbols[0:how_many_stocks]:\n",
        "  if sym not in symbols_not_found:\n",
        "    s_dict = predict_price(sym)\n",
        "    print(s_dict)"
      ],
      "execution_count": 100,
      "outputs": [
        {
          "output_type": "stream",
          "name": "stdout",
          "text": [
            "Analysing ::  MMM\n",
            "\r[*********************100%***********************]  1 of 1 completed\n",
            "{'symbol': 'MMM', 'volatility': 9.49, 'tomorrow': 180.39, 'today': 183.35}\n",
            "Analysing ::  ABT\n",
            "[*********************100%***********************]  1 of 1 completed\n",
            "{'symbol': 'ABT', 'volatility': 5.94, 'tomorrow': 128.33, 'today': 127.91}\n",
            "Analysing ::  ABBV\n",
            "[*********************100%***********************]  1 of 1 completed\n",
            "{'symbol': 'ABBV', 'volatility': 3.96, 'tomorrow': 117.2, 'today': 116.91}\n",
            "Analysing ::  ABMD\n",
            "[*********************100%***********************]  1 of 1 completed\n",
            "{'symbol': 'ABMD', 'volatility': 27.27, 'tomorrow': 361.97, 'today': 363.3}\n",
            "Analysing ::  ACN\n",
            "[*********************100%***********************]  1 of 1 completed\n",
            "{'symbol': 'ACN', 'volatility': 25.8, 'tomorrow': 367.08, 'today': 370.46}\n",
            "Analysing ::  ATVI\n",
            "[*********************100%***********************]  1 of 1 completed\n",
            "{'symbol': 'ATVI', 'volatility': 8.67, 'tomorrow': 68.06, 'today': 69.5}\n",
            "Analysing ::  ADBE\n",
            "[*********************100%***********************]  1 of 1 completed\n",
            "{'symbol': 'ADBE', 'volatility': 55.4, 'tomorrow': 651.25, 'today': 654.55}\n",
            "Analysing ::  AMD\n",
            "[*********************100%***********************]  1 of 1 completed\n",
            "{'symbol': 'AMD', 'volatility': 17.27, 'tomorrow': 144.94, 'today': 147.88}\n",
            "Analysing ::  AAP\n",
            "[*********************100%***********************]  1 of 1 completed\n",
            "{'symbol': 'AAP', 'volatility': 11.32, 'tomorrow': 237.31, 'today': 239.08}\n",
            "Analysing ::  AES\n",
            "[*********************100%***********************]  1 of 1 completed\n",
            "{'symbol': 'AES', 'volatility': 0.86, 'tomorrow': 24.38, 'today': 24.68}\n",
            "Analysing ::  AFL\n",
            "[*********************100%***********************]  1 of 1 completed\n",
            "{'symbol': 'AFL', 'volatility': 1.59, 'tomorrow': 56.69, 'today': 56.72}\n",
            "Analysing ::  A\n",
            "[*********************100%***********************]  1 of 1 completed\n",
            "{'symbol': 'A', 'volatility': 12.72, 'tomorrow': 160.71, 'today': 159.54}\n"
          ]
        }
      ]
    },
    {
      "cell_type": "code",
      "metadata": {
        "colab": {
          "base_uri": "https://localhost:8080/"
        },
        "id": "suiYThGFFkIN",
        "outputId": "21ff0a26-f8f4-427c-ca97-121995db79fc"
      },
      "source": [
        "def predict_price():\n",
        "  "
      ],
      "execution_count": 54,
      "outputs": [
        {
          "output_type": "execute_result",
          "data": {
            "text/plain": [
              "12"
            ]
          },
          "metadata": {},
          "execution_count": 54
        }
      ]
    },
    {
      "cell_type": "code",
      "metadata": {
        "id": "Opcg2R34FoRO"
      },
      "source": [
        ""
      ],
      "execution_count": null,
      "outputs": []
    }
  ]
}