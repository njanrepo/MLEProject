{
  "nbformat": 4,
  "nbformat_minor": 0,
  "metadata": {
    "colab": {
      "name": "task.ipynb",
      "provenance": [],
      "collapsed_sections": [],
      "authorship_tag": "ABX9TyOG/YzbWPDi5Lf1MKXgrbYi",
      "include_colab_link": true
    },
    "kernelspec": {
      "name": "python3",
      "display_name": "Python 3"
    },
    "language_info": {
      "name": "python"
    }
  },
  "cells": [
    {
      "cell_type": "markdown",
      "metadata": {
        "id": "view-in-github",
        "colab_type": "text"
      },
      "source": [
        "<a href=\"https://colab.research.google.com/github/njanrepo/MLEProject/blob/main/task.ipynb\" target=\"_parent\"><img src=\"https://colab.research.google.com/assets/colab-badge.svg\" alt=\"Open In Colab\"/></a>"
      ]
    },
    {
      "cell_type": "code",
      "metadata": {
        "id": "DGRkxerfuYly"
      },
      "source": [
        "import pandas as pd\n",
        "import numpy as np\n",
        "import matplotlib.pyplot as plt\n",
        "import seaborn as sns\n",
        "from datetime import datetime\n",
        "from sklearn.ensemble import ExtraTreesRegressor, RandomForestRegressor\n",
        "from sklearn.tree import DecisionTreeRegressor\n",
        "import math"
      ],
      "execution_count": 72,
      "outputs": []
    },
    {
      "cell_type": "code",
      "metadata": {
        "colab": {
          "base_uri": "https://localhost:8080/"
        },
        "id": "QSqoVWOmFKqY",
        "outputId": "4ff83158-84b0-4528-d94e-db29d67f5af2"
      },
      "source": [
        "!pip install yfinance"
      ],
      "execution_count": 2,
      "outputs": [
        {
          "output_type": "stream",
          "name": "stdout",
          "text": [
            "Collecting yfinance\n",
            "  Downloading yfinance-0.1.66-py2.py3-none-any.whl (25 kB)\n",
            "Requirement already satisfied: pandas>=0.24 in /usr/local/lib/python3.7/dist-packages (from yfinance) (1.1.5)\n",
            "Requirement already satisfied: multitasking>=0.0.7 in /usr/local/lib/python3.7/dist-packages (from yfinance) (0.0.9)\n",
            "Collecting lxml>=4.5.1\n",
            "  Downloading lxml-4.6.4-cp37-cp37m-manylinux_2_17_x86_64.manylinux2014_x86_64.manylinux_2_24_x86_64.whl (6.3 MB)\n",
            "\u001b[K     |████████████████████████████████| 6.3 MB 35.0 MB/s \n",
            "\u001b[?25hRequirement already satisfied: numpy>=1.15 in /usr/local/lib/python3.7/dist-packages (from yfinance) (1.19.5)\n",
            "Requirement already satisfied: requests>=2.20 in /usr/local/lib/python3.7/dist-packages (from yfinance) (2.23.0)\n",
            "Requirement already satisfied: pytz>=2017.2 in /usr/local/lib/python3.7/dist-packages (from pandas>=0.24->yfinance) (2018.9)\n",
            "Requirement already satisfied: python-dateutil>=2.7.3 in /usr/local/lib/python3.7/dist-packages (from pandas>=0.24->yfinance) (2.8.2)\n",
            "Requirement already satisfied: six>=1.5 in /usr/local/lib/python3.7/dist-packages (from python-dateutil>=2.7.3->pandas>=0.24->yfinance) (1.15.0)\n",
            "Requirement already satisfied: urllib3!=1.25.0,!=1.25.1,<1.26,>=1.21.1 in /usr/local/lib/python3.7/dist-packages (from requests>=2.20->yfinance) (1.24.3)\n",
            "Requirement already satisfied: chardet<4,>=3.0.2 in /usr/local/lib/python3.7/dist-packages (from requests>=2.20->yfinance) (3.0.4)\n",
            "Requirement already satisfied: idna<3,>=2.5 in /usr/local/lib/python3.7/dist-packages (from requests>=2.20->yfinance) (2.10)\n",
            "Requirement already satisfied: certifi>=2017.4.17 in /usr/local/lib/python3.7/dist-packages (from requests>=2.20->yfinance) (2021.10.8)\n",
            "Installing collected packages: lxml, yfinance\n",
            "  Attempting uninstall: lxml\n",
            "    Found existing installation: lxml 4.2.6\n",
            "    Uninstalling lxml-4.2.6:\n",
            "      Successfully uninstalled lxml-4.2.6\n",
            "Successfully installed lxml-4.6.4 yfinance-0.1.66\n"
          ]
        }
      ]
    },
    {
      "cell_type": "code",
      "metadata": {
        "id": "u6OqPzxZulv5"
      },
      "source": [
        "import yfinance as yf"
      ],
      "execution_count": 44,
      "outputs": []
    },
    {
      "cell_type": "markdown",
      "metadata": {
        "id": "uxT1Ud6uB7nh"
      },
      "source": [
        "### Task1 :: Get companies"
      ]
    },
    {
      "cell_type": "code",
      "metadata": {
        "id": "8-L6Yhhryv_E"
      },
      "source": [
        "def get_nyse_ticker_list():\n",
        "  others_list = 'ftp://ftp.nasdaqtrader.com/symboldirectory/otherlisted.txt'\n",
        "  ticker_df = pd.read_csv(others_list, sep='|')\n",
        "  company_nyse = ticker_df[ticker_df['Exchange'] == 'N']\n",
        "  return company_nyse['ACT Symbol'].values.tolist()"
      ],
      "execution_count": 45,
      "outputs": []
    },
    {
      "cell_type": "code",
      "metadata": {
        "id": "XQahVk7m-R4q"
      },
      "source": [
        "def get_sp500_list():\n",
        "  payload=pd.read_html('https://en.wikipedia.org/wiki/List_of_S%26P_500_companies')\n",
        "  first_table = payload[0]\n",
        "  sp500df = first_table\n",
        "  sp500_list = sp500df.Symbol.values.tolist()\n",
        "  return sp500_list"
      ],
      "execution_count": 46,
      "outputs": []
    },
    {
      "cell_type": "code",
      "metadata": {
        "id": "rZ8r4LEm0zdg"
      },
      "source": [
        "def get_stock_data(type='S&P500', limit=100):\n",
        "  ticker_list = get_nyse_ticker_list() if type == 'NYSE' else get_sp500_list()\n",
        "  if(limit > len(ticker_list)):\n",
        "    limit = len(ticker_list)\n",
        "  ticker_data  = yf.download(ticker_list[0:limit], period='6mo', progress=True, group_by='symbol')\n",
        "  try:\n",
        "    ticker_data.drop('BF.B', axis=1, inplace=True)\n",
        "    ticker_data.drop('BRK.B', axis=1, inplace=True)\n",
        "  except:\n",
        "    print(\"its fine!!\")\n",
        "  ticks = ticker_data.columns.get_level_values(0).unique().tolist()\n",
        "  return (ticker_data, ticks)\n"
      ],
      "execution_count": 48,
      "outputs": []
    },
    {
      "cell_type": "markdown",
      "metadata": {
        "id": "h7rx9qSxD5Wi"
      },
      "source": [
        "\n",
        "\n",
        "#Calculate Market Capitalization\n"
      ]
    },
    {
      "cell_type": "code",
      "metadata": {
        "colab": {
          "base_uri": "https://localhost:8080/"
        },
        "id": "pkVenRAK-TAj",
        "outputId": "fcbe8486-c82d-4894-b607-fb6518df4fd7"
      },
      "source": [
        "#wrong, it is just volum, not total outstanding shares\n",
        "ticker='JPM'\n",
        "def calc_market_capitalization(symbol):\n",
        "  symbol_data = yf.download(symbol, period='1d')\n",
        "  print(symbol_data)\n",
        "  return round((symbol_data['Volume'][0] * symbol_data['Close'][0]),2)\n",
        "print(calc_market_capitalization(ticker))"
      ],
      "execution_count": 7,
      "outputs": [
        {
          "output_type": "stream",
          "name": "stdout",
          "text": [
            "\r[*********************100%***********************]  1 of 1 completed\n",
            "                  Open        High         Low       Close   Adj Close   Volume\n",
            "Date                                                                           \n",
            "2021-11-12  167.649994  167.740005  165.720001  166.860001  166.860001  8111600\n",
            "1353501580.95\n"
          ]
        }
      ]
    },
    {
      "cell_type": "code",
      "metadata": {
        "id": "yC_CnimDDjP_"
      },
      "source": [
        "def ask_user(stocks = None):\n",
        "  if(stocks != None):\n",
        "    return stocks;\n",
        "  how_many_stocks = input('How many stocks you want to analyse? \\n Enter atleast 10 and max 500 \\n')\n",
        "  correct = False\n",
        "  while not correct:\n",
        "    try:\n",
        "      how_many_stocks = int(how_many_stocks)\n",
        "      if(how_many_stocks > 500 or how_many_stocks < 10):\n",
        "        raise ValueError\n",
        "      correct = True\n",
        "    except:\n",
        "      print(\"Please enter correct number 10 to 500\")\n",
        "      how_many_stocks = input('How many stocks you want to analyse? \\n Enter atleast 10 and max 500 \\n')\n",
        "  return how_many_stocks    "
      ],
      "execution_count": 8,
      "outputs": []
    },
    {
      "cell_type": "code",
      "metadata": {
        "id": "zYSVYU7PQIU5"
      },
      "source": [
        "def make_X_and_Y(close_prices, period):\n",
        "  X = []\n",
        "  y = []\n",
        "  for i in range(len(close_prices)- period):\n",
        "    X.append(close_prices[i:i+period])\n",
        "    y.append(close_prices[i+period])\n",
        "  return X,y"
      ],
      "execution_count": 9,
      "outputs": []
    },
    {
      "cell_type": "code",
      "metadata": {
        "id": "mk7YGrlgXzd0"
      },
      "source": [
        "def cl_make_X_and_Y(close_prices, period, in_future):\n",
        "  X = []\n",
        "  y = []\n",
        "  for i in range(len(close_prices)- period-in_future):\n",
        "    X.append(close_prices[i:i+period])\n",
        "    l = close_prices[i+period:i+period+in_future]\n",
        "    y.append(calculate_label(l))\n",
        "  return X,y\n",
        "\n",
        "def calculate_label(params):\n",
        "  changes = []\n",
        "  for j in range(len(params)-1):\n",
        "    changes.append(params[j+1] - params[j])\n",
        "  tot = sum(changes)\n",
        "  if tot > 0:\n",
        "    return 1;\n",
        "  elif tot < 0:\n",
        "     return -1;\n",
        "  else:\n",
        "     return 0;\n"
      ],
      "execution_count": 61,
      "outputs": []
    },
    {
      "cell_type": "code",
      "metadata": {
        "colab": {
          "base_uri": "https://localhost:8080/"
        },
        "id": "wpj1rq80a6OH",
        "outputId": "eb2a5820-f94d-4e39-baf0-aa2231d04fb3"
      },
      "source": [
        "dt, tick = get_stock_data(limit=50)\n",
        "\n",
        "x,y=cl_make_X_and_Y(dt['ABBV'].Close, 6, 5)\n"
      ],
      "execution_count": 64,
      "outputs": [
        {
          "output_type": "stream",
          "name": "stdout",
          "text": [
            "[*********************100%***********************]  50 of 50 completed\n",
            "its fine!!\n"
          ]
        }
      ]
    },
    {
      "cell_type": "code",
      "metadata": {
        "colab": {
          "base_uri": "https://localhost:8080/"
        },
        "id": "wtsoU1zMzSEv",
        "outputId": "2c7c56c3-a779-4ea6-d93b-76410d0baaad"
      },
      "source": [
        "tick"
      ],
      "execution_count": 68,
      "outputs": [
        {
          "output_type": "execute_result",
          "data": {
            "text/plain": [
              "['APTV',\n",
              " 'ABBV',\n",
              " 'AEE',\n",
              " 'AAPL',\n",
              " 'AMAT',\n",
              " 'ARE',\n",
              " 'GOOG',\n",
              " 'ALGN',\n",
              " 'ALB',\n",
              " 'AMZN',\n",
              " 'AMCR',\n",
              " 'ANTM',\n",
              " 'ABT',\n",
              " 'AWK',\n",
              " 'ANSS',\n",
              " 'AXP',\n",
              " 'AFL',\n",
              " 'LNT',\n",
              " 'ATVI',\n",
              " 'AEP',\n",
              " 'AIG',\n",
              " 'AMGN',\n",
              " 'AKAM',\n",
              " 'GOOGL',\n",
              " 'MMM',\n",
              " 'AJG',\n",
              " 'AME',\n",
              " 'AMP',\n",
              " 'A',\n",
              " 'APA',\n",
              " 'ADBE',\n",
              " 'AMT',\n",
              " 'APH',\n",
              " 'AAL',\n",
              " 'ABMD',\n",
              " 'ALLE',\n",
              " 'AON',\n",
              " 'ANET',\n",
              " 'AOS',\n",
              " 'AAP',\n",
              " 'ABC',\n",
              " 'AES',\n",
              " 'AMD',\n",
              " 'ALK',\n",
              " 'ADM',\n",
              " 'MO',\n",
              " 'ALL',\n",
              " 'ADI',\n",
              " 'ACN',\n",
              " 'APD']"
            ]
          },
          "metadata": {},
          "execution_count": 68
        }
      ]
    },
    {
      "cell_type": "code",
      "metadata": {
        "colab": {
          "base_uri": "https://localhost:8080/"
        },
        "id": "xtI-lgq0v14K",
        "outputId": "36e03365-54c6-45d0-f8ca-bd6d7574ac05"
      },
      "source": [
        "def get_user_selected_stocks():\n",
        "  u = input(\"Enter ticker of stocks seperated by space..\")\n",
        "  return u.split(' ');\n",
        "def user_selected_analysis(selected, income):\n",
        "  market_cap = []\n",
        "  close_price = []\n",
        "  for sym in selected:\n",
        "    try:\n",
        "      current_data = yf.download(sym, period='1d')\n",
        "      close_price.append(current_data.Close[0])\n",
        "      market_cap.append(current_data.Close[0] * current_data.Volume[0])\n",
        "    except:\n",
        "      print('Data not found for symbol :: ', sym)\n",
        "  s = sum(market_cap)\n",
        "  print(s)\n",
        "  stocks_to_purchase = []\n",
        "  for i, cap in enumerate(market_cap):\n",
        "    portion = (income* cap)/s\n",
        "    print(portion)\n",
        "    print(close_price[i])\n",
        "    stocks_to_purchase.append(math.floor(portion/close_price[i]))\n",
        "  return pd.DataFrame({'ticker': selected, 'stocks_to_purchase': stocks_to_purchase})\n",
        "\n",
        "gft = user_selected_analysis(['ABBV', 'GOOG', 'AMZN'], 5000)\n",
        "print(gft)"
      ],
      "execution_count": 83,
      "outputs": [
        {
          "output_type": "stream",
          "name": "stdout",
          "text": [
            "[*********************100%***********************]  1 of 1 completed\n",
            "[*********************100%***********************]  1 of 1 completed\n",
            "[*********************100%***********************]  1 of 1 completed\n",
            "12347857651.913452\n",
            "129.79291767889075\n",
            "116.97000122070312\n",
            "1032.5512801494112\n",
            "2992.909912109375\n",
            "3837.6558021716983\n",
            "3525.14990234375\n",
            "  ticker  stocks_to_purchase\n",
            "0   ABBV                   1\n",
            "1   GOOG                   0\n",
            "2   AMZN                   1\n"
          ]
        }
      ]
    },
    {
      "cell_type": "code",
      "metadata": {
        "id": "WCjnAAKwQTV5"
      },
      "source": [
        "def return_model(X, y):\n",
        "  clf = RandomForestRegressor(n_estimators = 200)\n",
        "  clf.fit(X,y)\n",
        "  return clf"
      ],
      "execution_count": 33,
      "outputs": []
    },
    {
      "cell_type": "code",
      "metadata": {
        "id": "9Ff-hIqgYNX9"
      },
      "source": [
        "def predict_price(symbol, period, data=None):\n",
        "  print(\"Analysing :: \", symbol )\n",
        "  if(data is None):\n",
        "    data = yf.download(symbol, period='6mo', progress=False, )\n",
        "  price = data.Close\n",
        "  features, dep_var = make_X_and_Y(list(price), period)\n",
        "  features = np.array(features)\n",
        "  dep_var = np.array(dep_var)\n",
        "  clf=return_model(features, dep_var) \n",
        "  \n",
        "  latest_feature = np.array(list(price)[-period:]).reshape((1,-1))\n",
        "  s_dict = {}\n",
        "  s_dict['symbol'] = symbol\n",
        "  s_dict['volatility'] = round(price.std(), 2)\n",
        "  s_dict['tomorrow'] = round(clf.predict(latest_feature)[0], 2)\n",
        "  s_dict['today'] = round(price[-1],2)\n",
        "  return s_dict"
      ],
      "execution_count": 11,
      "outputs": []
    },
    {
      "cell_type": "code",
      "metadata": {
        "colab": {
          "base_uri": "https://localhost:8080/"
        },
        "id": "aTdH0rhOYpsy",
        "outputId": "550c8141-87ed-41c2-b4be-3fa37545b229"
      },
      "source": [
        "predict_price('MMM', 4)"
      ],
      "execution_count": 14,
      "outputs": [
        {
          "output_type": "stream",
          "name": "stdout",
          "text": [
            "Analysing ::  MMM\n"
          ]
        },
        {
          "output_type": "execute_result",
          "data": {
            "text/plain": [
              "{'symbol': 'MMM', 'today': 183.66, 'tomorrow': 180.42, 'volatility': 9.51}"
            ]
          },
          "metadata": {},
          "execution_count": 14
        }
      ]
    },
    {
      "cell_type": "code",
      "metadata": {
        "id": "eBUunW3bHhCZ"
      },
      "source": [
        "def prepare_recomm(data, how_many_stocks = None, period = None):\n",
        "  #list_of_symbols = get_sp500_list()\n",
        "  if(data is None):\n",
        "    print(\"No stock data found..\")\n",
        "    return\n",
        "  list_of_symbols = data.columns.get_level_values(0).unique().tolist()\n",
        "  if period == None:\n",
        "    period = 6\n",
        "  stk_data = []\n",
        "  if how_many_stocks == None:\n",
        "    how_many_stocks = ask_user()\n",
        "  if how_many_stocks > len(list_of_symbols):\n",
        "    print(\"No. of stocks set to max\")  \n",
        "    how_many_stocks = len(data)\n",
        "  for sym in list_of_symbols[0:how_many_stocks]:\n",
        "    stk_data.append(predict_price(sym, period,data[sym]))\n",
        "  return pd.DataFrame(stk_data)\n"
      ],
      "execution_count": 23,
      "outputs": []
    },
    {
      "cell_type": "code",
      "metadata": {
        "id": "suiYThGFFkIN"
      },
      "source": [
        "def get_recomm(s_data, ascending):\n",
        "  cat = 'conservative' if ascending else 'aggressive'\n",
        "  print(\"Top 5 \" + cat +\" stocks are.. \")\n",
        "  tmp = s_data.sort_values(by='volatility', ascending=ascending)\n",
        "  tmp = tmp[tmp['tomorrow'] > tmp['today']]\n",
        "  return tmp.head()  "
      ],
      "execution_count": 16,
      "outputs": []
    },
    {
      "cell_type": "code",
      "metadata": {
        "colab": {
          "base_uri": "https://localhost:8080/"
        },
        "id": "MVuK-W6EPUAz",
        "outputId": "93c4885c-58a3-436a-d22f-9fa9068b3802"
      },
      "source": [
        "#get_stock_data takes two param, \n",
        "  #type: S&P500(default) or 'NYSE, \n",
        "  #limit: default 100\n",
        "data_df, ticker_list = get_stock_data()"
      ],
      "execution_count": 20,
      "outputs": [
        {
          "output_type": "stream",
          "name": "stdout",
          "text": [
            "[*********************100%***********************]  100 of 100 completed\n",
            "\n",
            "2 Failed downloads:\n",
            "- BRK.B: No data found, symbol may be delisted\n",
            "- BF.B: No data found for this date range, symbol may be delisted\n"
          ]
        },
        {
          "output_type": "stream",
          "name": "stderr",
          "text": [
            "/usr/local/lib/python3.7/dist-packages/pandas/core/generic.py:3889: PerformanceWarning: dropping on a non-lexsorted multi-index without a level parameter may impact performance.\n",
            "  obj = obj._drop_axis(labels, axis, level=level, errors=errors)\n"
          ]
        }
      ]
    },
    {
      "cell_type": "code",
      "metadata": {
        "colab": {
          "base_uri": "https://localhost:8080/"
        },
        "id": "kPqK6mu1PnKK",
        "outputId": "80c2b79f-867f-4453-a0c8-54aa6a988028"
      },
      "source": [
        "pred_df = prepare_recomm(data_df, 500, 6)"
      ],
      "execution_count": 37,
      "outputs": [
        {
          "output_type": "stream",
          "name": "stdout",
          "text": [
            "No. of stocks set to max\n",
            "Analysing ::  APTV\n",
            "Analysing ::  AAPL\n",
            "Analysing ::  CDNS\n",
            "Analysing ::  ARE\n",
            "Analysing ::  ALB\n",
            "Analysing ::  ANTM\n",
            "Analysing ::  AWK\n",
            "Analysing ::  ABT\n",
            "Analysing ::  AFL\n",
            "Analysing ::  ATVI\n",
            "Analysing ::  BA\n",
            "Analysing ::  CZR\n",
            "Analysing ::  BMY\n",
            "Analysing ::  CDW\n",
            "Analysing ::  AKAM\n",
            "Analysing ::  BXP\n",
            "Analysing ::  AVGO\n",
            "Analysing ::  A\n",
            "Analysing ::  AME\n",
            "Analysing ::  BWA\n",
            "Analysing ::  BRO\n",
            "Analysing ::  AON\n",
            "Analysing ::  CHRW\n",
            "Analysing ::  COF\n",
            "Analysing ::  ABC\n",
            "Analysing ::  AES\n",
            "Analysing ::  AVY\n",
            "Analysing ::  ADSK\n",
            "Analysing ::  CNC\n",
            "Analysing ::  APD\n",
            "Analysing ::  ABBV\n",
            "Analysing ::  AIZ\n",
            "Analysing ::  ACN\n",
            "Analysing ::  AEE\n",
            "Analysing ::  BAC\n",
            "Analysing ::  AZO\n",
            "Analysing ::  BK\n",
            "Analysing ::  AMZN\n",
            "Analysing ::  AXP\n",
            "Analysing ::  AEP\n",
            "Analysing ::  AVB\n",
            "Analysing ::  CARR\n",
            "Analysing ::  T\n",
            "Analysing ::  TECH\n",
            "Analysing ::  CTLT\n",
            "Analysing ::  AMP\n",
            "Analysing ::  ATO\n",
            "Analysing ::  BSX\n",
            "Analysing ::  BAX\n",
            "Analysing ::  BR\n",
            "Analysing ::  BIO\n",
            "Analysing ::  ANET\n",
            "Analysing ::  AAP\n",
            "Analysing ::  MO\n",
            "Analysing ::  ADM\n",
            "Analysing ::  CBOE\n",
            "Analysing ::  ALGN\n",
            "Analysing ::  CPB\n",
            "Analysing ::  CAT\n",
            "Analysing ::  LNT\n",
            "Analysing ::  AMGN\n",
            "Analysing ::  BKNG\n",
            "Analysing ::  GOOGL\n",
            "Analysing ::  AJG\n",
            "Analysing ::  MMM\n",
            "Analysing ::  APA\n",
            "Analysing ::  CDAY\n",
            "Analysing ::  ADBE\n",
            "Analysing ::  AAL\n",
            "Analysing ::  ALLE\n",
            "Analysing ::  CNP\n",
            "Analysing ::  CERN\n",
            "Analysing ::  AOS\n",
            "Analysing ::  CBRE\n",
            "Analysing ::  ADI\n",
            "Analysing ::  BBWI\n",
            "Analysing ::  BIIB\n",
            "Analysing ::  ALL\n",
            "Analysing ::  AMAT\n",
            "Analysing ::  BDX\n",
            "Analysing ::  GOOG\n",
            "Analysing ::  AMCR\n",
            "Analysing ::  KMX\n",
            "Analysing ::  ANSS\n",
            "Analysing ::  BLK\n",
            "Analysing ::  AIG\n",
            "Analysing ::  ADP\n",
            "Analysing ::  CCL\n",
            "Analysing ::  AMT\n",
            "Analysing ::  BLL\n",
            "Analysing ::  ABMD\n",
            "Analysing ::  APH\n",
            "Analysing ::  CE\n",
            "Analysing ::  BKR\n",
            "Analysing ::  ALK\n",
            "Analysing ::  AMD\n",
            "Analysing ::  BBY\n",
            "Analysing ::  CAH\n"
          ]
        }
      ]
    },
    {
      "cell_type": "code",
      "metadata": {
        "colab": {
          "base_uri": "https://localhost:8080/"
        },
        "id": "Opcg2R34FoRO",
        "outputId": "82cbc3eb-54f0-467d-c709-413f85c45c00"
      },
      "source": [
        "has_given_resp = False\n",
        "strategy = input(\"Enter Strategy : \\n Enter 1 for Conservative\\n Enter 2 for Aggresive\\n\")\n",
        "while not has_given_resp:\n",
        "  if strategy == '1' or strategy.lower() == 'c' or strategy.lower() == 'conservative':\n",
        "    has_given_resp = True\n",
        "    print(get_recomm(pred_df, True))\n",
        "  elif strategy == '2' or strategy.lower() == 'a' or strategy.lower() == 'aggresive':\n",
        "    has_given_resp = True\n",
        "    print(get_recomm(pred_df, False))\n",
        "  else:\n",
        "    print(\"Please enter correct number\")\n",
        "    strategy = input(\"Enter Strategy : \\n Enter 1 for Conservative\\n Enter 2 for Aggresive\\n\")\n"
      ],
      "execution_count": 38,
      "outputs": [
        {
          "output_type": "stream",
          "name": "stdout",
          "text": [
            "Enter Strategy : \n",
            " Enter 1 for Conservative\n",
            " Enter 2 for Aggresive\n",
            "2\n",
            "Top 5 aggressive stocks are.. \n",
            "   symbol  volatility  tomorrow   today\n",
            "50    BIO       75.79    758.55  756.28\n",
            "67   ADBE       54.47    658.36  657.60\n",
            "56   ALGN       49.87    689.42  687.80\n",
            "43   TECH       36.34    506.51  504.50\n",
            "21    AON       26.82    304.50  300.34\n"
          ]
        }
      ]
    },
    {
      "cell_type": "code",
      "metadata": {
        "id": "UgV3i1nZitt2"
      },
      "source": [
        ""
      ],
      "execution_count": null,
      "outputs": []
    }
  ]
}